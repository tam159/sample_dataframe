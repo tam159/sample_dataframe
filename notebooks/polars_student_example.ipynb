{
 "cells": [
  {
   "cell_type": "code",
   "execution_count": 1,
   "metadata": {
    "ExecuteTime": {
     "end_time": "2023-06-13T04:14:55.561374Z",
     "start_time": "2023-06-13T04:14:55.516020Z"
    },
    "collapsed": true
   },
   "outputs": [],
   "source": [
    "import polars as pl"
   ]
  },
  {
   "cell_type": "code",
   "execution_count": 2,
   "metadata": {
    "ExecuteTime": {
     "end_time": "2023-06-13T04:14:57.800266Z",
     "start_time": "2023-06-13T04:14:57.795684Z"
    }
   },
   "outputs": [],
   "source": [
    "from polars import col, concat"
   ]
  },
  {
   "cell_type": "code",
   "execution_count": 3,
   "metadata": {
    "ExecuteTime": {
     "end_time": "2023-06-13T04:14:58.467034Z",
     "start_time": "2023-06-13T04:14:58.431280Z"
    }
   },
   "outputs": [],
   "source": [
    "df = pl.read_csv(\"data/StudentsPerformance.csv\")"
   ]
  },
  {
   "cell_type": "code",
   "execution_count": 4,
   "metadata": {
    "ExecuteTime": {
     "end_time": "2023-06-13T04:15:00.324520Z",
     "start_time": "2023-06-13T04:15:00.316337Z"
    }
   },
   "outputs": [
    {
     "data": {
      "text/html": [
       "<div><style>\n",
       ".dataframe > thead > tr > th,\n",
       ".dataframe > tbody > tr > td {\n",
       "  text-align: right;\n",
       "}\n",
       "</style>\n",
       "<small>shape: (9, 10)</small><table border=\"1\" class=\"dataframe\"><thead><tr><th>describe</th><th>id</th><th>gender</th><th>race/ethnicity</th><th>parental level of education</th><th>lunch</th><th>test preparation course</th><th>math score</th><th>reading score</th><th>writing score</th></tr><tr><td>str</td><td>f64</td><td>str</td><td>str</td><td>str</td><td>str</td><td>str</td><td>f64</td><td>f64</td><td>f64</td></tr></thead><tbody><tr><td>&quot;count&quot;</td><td>1000.0</td><td>&quot;1000&quot;</td><td>&quot;1000&quot;</td><td>&quot;1000&quot;</td><td>&quot;1000&quot;</td><td>&quot;1000&quot;</td><td>1000.0</td><td>1000.0</td><td>1000.0</td></tr><tr><td>&quot;null_count&quot;</td><td>0.0</td><td>&quot;0&quot;</td><td>&quot;0&quot;</td><td>&quot;0&quot;</td><td>&quot;0&quot;</td><td>&quot;0&quot;</td><td>0.0</td><td>0.0</td><td>0.0</td></tr><tr><td>&quot;mean&quot;</td><td>500.5</td><td>null</td><td>null</td><td>null</td><td>null</td><td>null</td><td>66.089</td><td>69.169</td><td>68.054</td></tr><tr><td>&quot;std&quot;</td><td>288.819436</td><td>null</td><td>null</td><td>null</td><td>null</td><td>null</td><td>15.16308</td><td>14.600192</td><td>15.195657</td></tr><tr><td>&quot;min&quot;</td><td>1.0</td><td>&quot;female&quot;</td><td>&quot;group A&quot;</td><td>&quot;associate&#x27;s de…</td><td>&quot;free/reduced&quot;</td><td>&quot;completed&quot;</td><td>0.0</td><td>17.0</td><td>10.0</td></tr><tr><td>&quot;max&quot;</td><td>1000.0</td><td>&quot;male&quot;</td><td>&quot;group E&quot;</td><td>&quot;some high scho…</td><td>&quot;standard&quot;</td><td>&quot;none&quot;</td><td>100.0</td><td>100.0</td><td>100.0</td></tr><tr><td>&quot;median&quot;</td><td>500.5</td><td>null</td><td>null</td><td>null</td><td>null</td><td>null</td><td>66.0</td><td>70.0</td><td>69.0</td></tr><tr><td>&quot;25%&quot;</td><td>251.0</td><td>null</td><td>null</td><td>null</td><td>null</td><td>null</td><td>57.0</td><td>59.0</td><td>58.0</td></tr><tr><td>&quot;75%&quot;</td><td>751.0</td><td>null</td><td>null</td><td>null</td><td>null</td><td>null</td><td>77.0</td><td>79.0</td><td>79.0</td></tr></tbody></table></div>"
      ],
      "text/plain": [
       "shape: (9, 10)\n",
       "┌───────────┬──────────┬────────┬────────────┬───┬────────────┬──────────┬────────────┬────────────┐\n",
       "│ describe  ┆ id       ┆ gender ┆ race/ethni ┆ … ┆ test prepa ┆ math     ┆ reading    ┆ writing    │\n",
       "│ ---       ┆ ---      ┆ ---    ┆ city       ┆   ┆ ration     ┆ score    ┆ score      ┆ score      │\n",
       "│ str       ┆ f64      ┆ str    ┆ ---        ┆   ┆ course     ┆ ---      ┆ ---        ┆ ---        │\n",
       "│           ┆          ┆        ┆ str        ┆   ┆ ---        ┆ f64      ┆ f64        ┆ f64        │\n",
       "│           ┆          ┆        ┆            ┆   ┆ str        ┆          ┆            ┆            │\n",
       "╞═══════════╪══════════╪════════╪════════════╪═══╪════════════╪══════════╪════════════╪════════════╡\n",
       "│ count     ┆ 1000.0   ┆ 1000   ┆ 1000       ┆ … ┆ 1000       ┆ 1000.0   ┆ 1000.0     ┆ 1000.0     │\n",
       "│ null_coun ┆ 0.0      ┆ 0      ┆ 0          ┆ … ┆ 0          ┆ 0.0      ┆ 0.0        ┆ 0.0        │\n",
       "│ t         ┆          ┆        ┆            ┆   ┆            ┆          ┆            ┆            │\n",
       "│ mean      ┆ 500.5    ┆ null   ┆ null       ┆ … ┆ null       ┆ 66.089   ┆ 69.169     ┆ 68.054     │\n",
       "│ std       ┆ 288.8194 ┆ null   ┆ null       ┆ … ┆ null       ┆ 15.16308 ┆ 14.600192  ┆ 15.195657  │\n",
       "│           ┆ 36       ┆        ┆            ┆   ┆            ┆          ┆            ┆            │\n",
       "│ min       ┆ 1.0      ┆ female ┆ group A    ┆ … ┆ completed  ┆ 0.0      ┆ 17.0       ┆ 10.0       │\n",
       "│ max       ┆ 1000.0   ┆ male   ┆ group E    ┆ … ┆ none       ┆ 100.0    ┆ 100.0      ┆ 100.0      │\n",
       "│ median    ┆ 500.5    ┆ null   ┆ null       ┆ … ┆ null       ┆ 66.0     ┆ 70.0       ┆ 69.0       │\n",
       "│ 25%       ┆ 251.0    ┆ null   ┆ null       ┆ … ┆ null       ┆ 57.0     ┆ 59.0       ┆ 58.0       │\n",
       "│ 75%       ┆ 751.0    ┆ null   ┆ null       ┆ … ┆ null       ┆ 77.0     ┆ 79.0       ┆ 79.0       │\n",
       "└───────────┴──────────┴────────┴────────────┴───┴────────────┴──────────┴────────────┴────────────┘"
      ]
     },
     "execution_count": 4,
     "metadata": {},
     "output_type": "execute_result"
    }
   ],
   "source": [
    "df.describe()"
   ]
  },
  {
   "cell_type": "code",
   "execution_count": 5,
   "metadata": {
    "ExecuteTime": {
     "end_time": "2023-06-13T04:15:02.546601Z",
     "start_time": "2023-06-13T04:15:02.533979Z"
    }
   },
   "outputs": [
    {
     "data": {
      "text/plain": [
       "['id',\n",
       " 'gender',\n",
       " 'race/ethnicity',\n",
       " 'parental level of education',\n",
       " 'lunch',\n",
       " 'test preparation course',\n",
       " 'math score',\n",
       " 'reading score',\n",
       " 'writing score']"
      ]
     },
     "execution_count": 5,
     "metadata": {},
     "output_type": "execute_result"
    }
   ],
   "source": [
    "df.columns"
   ]
  },
  {
   "cell_type": "code",
   "execution_count": 6,
   "metadata": {
    "ExecuteTime": {
     "end_time": "2023-06-13T04:15:03.237687Z",
     "start_time": "2023-06-13T04:15:03.231066Z"
    }
   },
   "outputs": [
    {
     "data": {
      "text/plain": [
       "{'id': Int64,\n",
       " 'gender': Utf8,\n",
       " 'race/ethnicity': Utf8,\n",
       " 'parental level of education': Utf8,\n",
       " 'lunch': Utf8,\n",
       " 'test preparation course': Utf8,\n",
       " 'math score': Int64,\n",
       " 'reading score': Int64,\n",
       " 'writing score': Int64}"
      ]
     },
     "execution_count": 6,
     "metadata": {},
     "output_type": "execute_result"
    }
   ],
   "source": [
    "df.schema"
   ]
  },
  {
   "cell_type": "code",
   "execution_count": 7,
   "metadata": {
    "ExecuteTime": {
     "end_time": "2023-06-13T04:15:05.363608Z",
     "start_time": "2023-06-13T04:15:05.354720Z"
    }
   },
   "outputs": [
    {
     "data": {
      "text/html": [
       "<div><style>\n",
       ".dataframe > thead > tr > th,\n",
       ".dataframe > tbody > tr > td {\n",
       "  text-align: right;\n",
       "}\n",
       "</style>\n",
       "<small>shape: (1_000, 2)</small><table border=\"1\" class=\"dataframe\"><thead><tr><th>gender</th><th>math score</th></tr><tr><td>str</td><td>i64</td></tr></thead><tbody><tr><td>&quot;female&quot;</td><td>72</td></tr><tr><td>&quot;female&quot;</td><td>69</td></tr><tr><td>&quot;female&quot;</td><td>90</td></tr><tr><td>&quot;male&quot;</td><td>47</td></tr><tr><td>&quot;male&quot;</td><td>76</td></tr><tr><td>&quot;female&quot;</td><td>71</td></tr><tr><td>&quot;female&quot;</td><td>88</td></tr><tr><td>&quot;male&quot;</td><td>40</td></tr><tr><td>&quot;male&quot;</td><td>64</td></tr><tr><td>&quot;female&quot;</td><td>38</td></tr><tr><td>&quot;male&quot;</td><td>58</td></tr><tr><td>&quot;male&quot;</td><td>40</td></tr><tr><td>&hellip;</td><td>&hellip;</td></tr><tr><td>&quot;female&quot;</td><td>44</td></tr><tr><td>&quot;female&quot;</td><td>67</td></tr><tr><td>&quot;male&quot;</td><td>86</td></tr><tr><td>&quot;female&quot;</td><td>65</td></tr><tr><td>&quot;female&quot;</td><td>55</td></tr><tr><td>&quot;female&quot;</td><td>62</td></tr><tr><td>&quot;male&quot;</td><td>63</td></tr><tr><td>&quot;female&quot;</td><td>88</td></tr><tr><td>&quot;male&quot;</td><td>62</td></tr><tr><td>&quot;female&quot;</td><td>59</td></tr><tr><td>&quot;female&quot;</td><td>68</td></tr><tr><td>&quot;female&quot;</td><td>77</td></tr></tbody></table></div>"
      ],
      "text/plain": [
       "shape: (1_000, 2)\n",
       "┌────────┬────────────┐\n",
       "│ gender ┆ math score │\n",
       "│ ---    ┆ ---        │\n",
       "│ str    ┆ i64        │\n",
       "╞════════╪════════════╡\n",
       "│ female ┆ 72         │\n",
       "│ female ┆ 69         │\n",
       "│ female ┆ 90         │\n",
       "│ male   ┆ 47         │\n",
       "│ …      ┆ …          │\n",
       "│ male   ┆ 62         │\n",
       "│ female ┆ 59         │\n",
       "│ female ┆ 68         │\n",
       "│ female ┆ 77         │\n",
       "└────────┴────────────┘"
      ]
     },
     "execution_count": 7,
     "metadata": {},
     "output_type": "execute_result"
    }
   ],
   "source": [
    "df.select(\"gender\", \"math score\")"
   ]
  },
  {
   "cell_type": "code",
   "execution_count": 13,
   "metadata": {
    "ExecuteTime": {
     "end_time": "2023-06-13T04:15:32.453179Z",
     "start_time": "2023-06-13T04:15:32.444381Z"
    }
   },
   "outputs": [
    {
     "data": {
      "text/html": [
       "<div><style>\n",
       ".dataframe > thead > tr > th,\n",
       ".dataframe > tbody > tr > td {\n",
       "  text-align: right;\n",
       "}\n",
       "</style>\n",
       "<small>shape: (1_000, 9)</small><table border=\"1\" class=\"dataframe\"><thead><tr><th>id</th><th>gender</th><th>race/ethnicity</th><th>parental level of education</th><th>lunch</th><th>test preparation course</th><th>math score</th><th>reading score</th><th>writing score</th></tr><tr><td>i64</td><td>str</td><td>str</td><td>str</td><td>str</td><td>str</td><td>i64</td><td>i64</td><td>i64</td></tr></thead><tbody><tr><td>1</td><td>&quot;female&quot;</td><td>&quot;group B&quot;</td><td>&quot;bachelor&#x27;s deg…</td><td>&quot;standard&quot;</td><td>&quot;none&quot;</td><td>72</td><td>72</td><td>74</td></tr><tr><td>2</td><td>&quot;female&quot;</td><td>&quot;group C&quot;</td><td>&quot;some college&quot;</td><td>&quot;standard&quot;</td><td>&quot;completed&quot;</td><td>69</td><td>90</td><td>88</td></tr><tr><td>3</td><td>&quot;female&quot;</td><td>&quot;group B&quot;</td><td>&quot;master&#x27;s degre…</td><td>&quot;standard&quot;</td><td>&quot;none&quot;</td><td>90</td><td>95</td><td>93</td></tr><tr><td>4</td><td>&quot;male&quot;</td><td>&quot;group A&quot;</td><td>&quot;associate&#x27;s de…</td><td>&quot;free/reduced&quot;</td><td>&quot;none&quot;</td><td>47</td><td>57</td><td>44</td></tr><tr><td>5</td><td>&quot;male&quot;</td><td>&quot;group C&quot;</td><td>&quot;some college&quot;</td><td>&quot;standard&quot;</td><td>&quot;none&quot;</td><td>76</td><td>78</td><td>75</td></tr><tr><td>6</td><td>&quot;female&quot;</td><td>&quot;group B&quot;</td><td>&quot;associate&#x27;s de…</td><td>&quot;standard&quot;</td><td>&quot;none&quot;</td><td>71</td><td>83</td><td>78</td></tr><tr><td>7</td><td>&quot;female&quot;</td><td>&quot;group B&quot;</td><td>&quot;some college&quot;</td><td>&quot;standard&quot;</td><td>&quot;completed&quot;</td><td>88</td><td>95</td><td>92</td></tr><tr><td>8</td><td>&quot;male&quot;</td><td>&quot;group B&quot;</td><td>&quot;some college&quot;</td><td>&quot;free/reduced&quot;</td><td>&quot;none&quot;</td><td>40</td><td>43</td><td>39</td></tr><tr><td>9</td><td>&quot;male&quot;</td><td>&quot;group D&quot;</td><td>&quot;high school&quot;</td><td>&quot;free/reduced&quot;</td><td>&quot;completed&quot;</td><td>64</td><td>64</td><td>67</td></tr><tr><td>10</td><td>&quot;female&quot;</td><td>&quot;group B&quot;</td><td>&quot;high school&quot;</td><td>&quot;free/reduced&quot;</td><td>&quot;none&quot;</td><td>38</td><td>60</td><td>50</td></tr><tr><td>11</td><td>&quot;male&quot;</td><td>&quot;group C&quot;</td><td>&quot;associate&#x27;s de…</td><td>&quot;standard&quot;</td><td>&quot;none&quot;</td><td>58</td><td>54</td><td>52</td></tr><tr><td>12</td><td>&quot;male&quot;</td><td>&quot;group D&quot;</td><td>&quot;associate&#x27;s de…</td><td>&quot;standard&quot;</td><td>&quot;none&quot;</td><td>40</td><td>52</td><td>43</td></tr><tr><td>&hellip;</td><td>&hellip;</td><td>&hellip;</td><td>&hellip;</td><td>&hellip;</td><td>&hellip;</td><td>&hellip;</td><td>&hellip;</td><td>&hellip;</td></tr><tr><td>989</td><td>&quot;female&quot;</td><td>&quot;group A&quot;</td><td>&quot;some high scho…</td><td>&quot;free/reduced&quot;</td><td>&quot;none&quot;</td><td>44</td><td>45</td><td>45</td></tr><tr><td>990</td><td>&quot;female&quot;</td><td>&quot;group D&quot;</td><td>&quot;some college&quot;</td><td>&quot;free/reduced&quot;</td><td>&quot;completed&quot;</td><td>67</td><td>86</td><td>83</td></tr><tr><td>991</td><td>&quot;male&quot;</td><td>&quot;group E&quot;</td><td>&quot;high school&quot;</td><td>&quot;free/reduced&quot;</td><td>&quot;completed&quot;</td><td>86</td><td>81</td><td>75</td></tr><tr><td>992</td><td>&quot;female&quot;</td><td>&quot;group B&quot;</td><td>&quot;some high scho…</td><td>&quot;standard&quot;</td><td>&quot;completed&quot;</td><td>65</td><td>82</td><td>78</td></tr><tr><td>993</td><td>&quot;female&quot;</td><td>&quot;group D&quot;</td><td>&quot;associate&#x27;s de…</td><td>&quot;free/reduced&quot;</td><td>&quot;none&quot;</td><td>55</td><td>76</td><td>76</td></tr><tr><td>994</td><td>&quot;female&quot;</td><td>&quot;group D&quot;</td><td>&quot;bachelor&#x27;s deg…</td><td>&quot;free/reduced&quot;</td><td>&quot;none&quot;</td><td>62</td><td>72</td><td>74</td></tr><tr><td>995</td><td>&quot;male&quot;</td><td>&quot;group A&quot;</td><td>&quot;high school&quot;</td><td>&quot;standard&quot;</td><td>&quot;none&quot;</td><td>63</td><td>63</td><td>62</td></tr><tr><td>996</td><td>&quot;female&quot;</td><td>&quot;group E&quot;</td><td>&quot;master&#x27;s degre…</td><td>&quot;standard&quot;</td><td>&quot;completed&quot;</td><td>88</td><td>99</td><td>95</td></tr><tr><td>997</td><td>&quot;male&quot;</td><td>&quot;group C&quot;</td><td>&quot;high school&quot;</td><td>&quot;free/reduced&quot;</td><td>&quot;none&quot;</td><td>62</td><td>55</td><td>55</td></tr><tr><td>998</td><td>&quot;female&quot;</td><td>&quot;group C&quot;</td><td>&quot;high school&quot;</td><td>&quot;free/reduced&quot;</td><td>&quot;completed&quot;</td><td>59</td><td>71</td><td>65</td></tr><tr><td>999</td><td>&quot;female&quot;</td><td>&quot;group D&quot;</td><td>&quot;some college&quot;</td><td>&quot;standard&quot;</td><td>&quot;completed&quot;</td><td>68</td><td>78</td><td>77</td></tr><tr><td>1000</td><td>&quot;female&quot;</td><td>&quot;group D&quot;</td><td>&quot;some college&quot;</td><td>&quot;free/reduced&quot;</td><td>&quot;none&quot;</td><td>77</td><td>86</td><td>86</td></tr></tbody></table></div>"
      ],
      "text/plain": [
       "shape: (1_000, 9)\n",
       "┌──────┬────────┬────────────┬────────────┬───┬────────────┬────────────┬────────────┬────────────┐\n",
       "│ id   ┆ gender ┆ race/ethni ┆ parental   ┆ … ┆ test prepa ┆ math score ┆ reading    ┆ writing    │\n",
       "│ ---  ┆ ---    ┆ city       ┆ level of   ┆   ┆ ration     ┆ ---        ┆ score      ┆ score      │\n",
       "│ i64  ┆ str    ┆ ---        ┆ education  ┆   ┆ course     ┆ i64        ┆ ---        ┆ ---        │\n",
       "│      ┆        ┆ str        ┆ ---        ┆   ┆ ---        ┆            ┆ i64        ┆ i64        │\n",
       "│      ┆        ┆            ┆ str        ┆   ┆ str        ┆            ┆            ┆            │\n",
       "╞══════╪════════╪════════════╪════════════╪═══╪════════════╪════════════╪════════════╪════════════╡\n",
       "│ 1    ┆ female ┆ group B    ┆ bachelor's ┆ … ┆ none       ┆ 72         ┆ 72         ┆ 74         │\n",
       "│      ┆        ┆            ┆ degree     ┆   ┆            ┆            ┆            ┆            │\n",
       "│ 2    ┆ female ┆ group C    ┆ some       ┆ … ┆ completed  ┆ 69         ┆ 90         ┆ 88         │\n",
       "│      ┆        ┆            ┆ college    ┆   ┆            ┆            ┆            ┆            │\n",
       "│ 3    ┆ female ┆ group B    ┆ master's   ┆ … ┆ none       ┆ 90         ┆ 95         ┆ 93         │\n",
       "│      ┆        ┆            ┆ degree     ┆   ┆            ┆            ┆            ┆            │\n",
       "│ 4    ┆ male   ┆ group A    ┆ associate' ┆ … ┆ none       ┆ 47         ┆ 57         ┆ 44         │\n",
       "│      ┆        ┆            ┆ s degree   ┆   ┆            ┆            ┆            ┆            │\n",
       "│ …    ┆ …      ┆ …          ┆ …          ┆ … ┆ …          ┆ …          ┆ …          ┆ …          │\n",
       "│ 997  ┆ male   ┆ group C    ┆ high       ┆ … ┆ none       ┆ 62         ┆ 55         ┆ 55         │\n",
       "│      ┆        ┆            ┆ school     ┆   ┆            ┆            ┆            ┆            │\n",
       "│ 998  ┆ female ┆ group C    ┆ high       ┆ … ┆ completed  ┆ 59         ┆ 71         ┆ 65         │\n",
       "│      ┆        ┆            ┆ school     ┆   ┆            ┆            ┆            ┆            │\n",
       "│ 999  ┆ female ┆ group D    ┆ some       ┆ … ┆ completed  ┆ 68         ┆ 78         ┆ 77         │\n",
       "│      ┆        ┆            ┆ college    ┆   ┆            ┆            ┆            ┆            │\n",
       "│ 1000 ┆ female ┆ group D    ┆ some       ┆ … ┆ none       ┆ 77         ┆ 86         ┆ 86         │\n",
       "│      ┆        ┆            ┆ college    ┆   ┆            ┆            ┆            ┆            │\n",
       "└──────┴────────┴────────────┴────────────┴───┴────────────┴────────────┴────────────┴────────────┘"
      ]
     },
     "execution_count": 13,
     "metadata": {},
     "output_type": "execute_result"
    }
   ],
   "source": [
    "df.select(\"*\")"
   ]
  },
  {
   "cell_type": "code",
   "execution_count": 14,
   "metadata": {
    "ExecuteTime": {
     "end_time": "2023-06-13T04:15:33.580190Z",
     "start_time": "2023-06-13T04:15:33.572532Z"
    }
   },
   "outputs": [
    {
     "data": {
      "text/html": [
       "<div><style>\n",
       ".dataframe > thead > tr > th,\n",
       ".dataframe > tbody > tr > td {\n",
       "  text-align: right;\n",
       "}\n",
       "</style>\n",
       "<small>shape: (1_000, 2)</small><table border=\"1\" class=\"dataframe\"><thead><tr><th>gender</th><th>math score</th></tr><tr><td>str</td><td>i64</td></tr></thead><tbody><tr><td>&quot;female&quot;</td><td>72</td></tr><tr><td>&quot;female&quot;</td><td>69</td></tr><tr><td>&quot;female&quot;</td><td>90</td></tr><tr><td>&quot;male&quot;</td><td>47</td></tr><tr><td>&quot;male&quot;</td><td>76</td></tr><tr><td>&quot;female&quot;</td><td>71</td></tr><tr><td>&quot;female&quot;</td><td>88</td></tr><tr><td>&quot;male&quot;</td><td>40</td></tr><tr><td>&quot;male&quot;</td><td>64</td></tr><tr><td>&quot;female&quot;</td><td>38</td></tr><tr><td>&quot;male&quot;</td><td>58</td></tr><tr><td>&quot;male&quot;</td><td>40</td></tr><tr><td>&hellip;</td><td>&hellip;</td></tr><tr><td>&quot;female&quot;</td><td>44</td></tr><tr><td>&quot;female&quot;</td><td>67</td></tr><tr><td>&quot;male&quot;</td><td>86</td></tr><tr><td>&quot;female&quot;</td><td>65</td></tr><tr><td>&quot;female&quot;</td><td>55</td></tr><tr><td>&quot;female&quot;</td><td>62</td></tr><tr><td>&quot;male&quot;</td><td>63</td></tr><tr><td>&quot;female&quot;</td><td>88</td></tr><tr><td>&quot;male&quot;</td><td>62</td></tr><tr><td>&quot;female&quot;</td><td>59</td></tr><tr><td>&quot;female&quot;</td><td>68</td></tr><tr><td>&quot;female&quot;</td><td>77</td></tr></tbody></table></div>"
      ],
      "text/plain": [
       "shape: (1_000, 2)\n",
       "┌────────┬────────────┐\n",
       "│ gender ┆ math score │\n",
       "│ ---    ┆ ---        │\n",
       "│ str    ┆ i64        │\n",
       "╞════════╪════════════╡\n",
       "│ female ┆ 72         │\n",
       "│ female ┆ 69         │\n",
       "│ female ┆ 90         │\n",
       "│ male   ┆ 47         │\n",
       "│ …      ┆ …          │\n",
       "│ male   ┆ 62         │\n",
       "│ female ┆ 59         │\n",
       "│ female ┆ 68         │\n",
       "│ female ┆ 77         │\n",
       "└────────┴────────────┘"
      ]
     },
     "execution_count": 14,
     "metadata": {},
     "output_type": "execute_result"
    }
   ],
   "source": [
    "df.select(col([\"gender\", \"math score\"]))"
   ]
  },
  {
   "cell_type": "code",
   "execution_count": 15,
   "metadata": {
    "ExecuteTime": {
     "end_time": "2023-06-13T04:15:34.200013Z",
     "start_time": "2023-06-13T04:15:34.192043Z"
    }
   },
   "outputs": [
    {
     "data": {
      "text/html": [
       "<div><style>\n",
       ".dataframe > thead > tr > th,\n",
       ".dataframe > tbody > tr > td {\n",
       "  text-align: right;\n",
       "}\n",
       "</style>\n",
       "<small>shape: (1_000, 9)</small><table border=\"1\" class=\"dataframe\"><thead><tr><th>id</th><th>gender</th><th>race/ethnicity</th><th>parental level of education</th><th>lunch</th><th>test preparation course</th><th>math score</th><th>reading score</th><th>writing score</th></tr><tr><td>i64</td><td>str</td><td>str</td><td>str</td><td>str</td><td>str</td><td>i64</td><td>i64</td><td>i64</td></tr></thead><tbody><tr><td>1</td><td>&quot;female&quot;</td><td>&quot;group B&quot;</td><td>&quot;bachelor&#x27;s deg…</td><td>&quot;standard&quot;</td><td>&quot;none&quot;</td><td>72</td><td>72</td><td>74</td></tr><tr><td>2</td><td>&quot;female&quot;</td><td>&quot;group C&quot;</td><td>&quot;some college&quot;</td><td>&quot;standard&quot;</td><td>&quot;completed&quot;</td><td>69</td><td>90</td><td>88</td></tr><tr><td>3</td><td>&quot;female&quot;</td><td>&quot;group B&quot;</td><td>&quot;master&#x27;s degre…</td><td>&quot;standard&quot;</td><td>&quot;none&quot;</td><td>90</td><td>95</td><td>93</td></tr><tr><td>4</td><td>&quot;male&quot;</td><td>&quot;group A&quot;</td><td>&quot;associate&#x27;s de…</td><td>&quot;free/reduced&quot;</td><td>&quot;none&quot;</td><td>47</td><td>57</td><td>44</td></tr><tr><td>5</td><td>&quot;male&quot;</td><td>&quot;group C&quot;</td><td>&quot;some college&quot;</td><td>&quot;standard&quot;</td><td>&quot;none&quot;</td><td>76</td><td>78</td><td>75</td></tr><tr><td>6</td><td>&quot;female&quot;</td><td>&quot;group B&quot;</td><td>&quot;associate&#x27;s de…</td><td>&quot;standard&quot;</td><td>&quot;none&quot;</td><td>71</td><td>83</td><td>78</td></tr><tr><td>7</td><td>&quot;female&quot;</td><td>&quot;group B&quot;</td><td>&quot;some college&quot;</td><td>&quot;standard&quot;</td><td>&quot;completed&quot;</td><td>88</td><td>95</td><td>92</td></tr><tr><td>8</td><td>&quot;male&quot;</td><td>&quot;group B&quot;</td><td>&quot;some college&quot;</td><td>&quot;free/reduced&quot;</td><td>&quot;none&quot;</td><td>40</td><td>43</td><td>39</td></tr><tr><td>9</td><td>&quot;male&quot;</td><td>&quot;group D&quot;</td><td>&quot;high school&quot;</td><td>&quot;free/reduced&quot;</td><td>&quot;completed&quot;</td><td>64</td><td>64</td><td>67</td></tr><tr><td>10</td><td>&quot;female&quot;</td><td>&quot;group B&quot;</td><td>&quot;high school&quot;</td><td>&quot;free/reduced&quot;</td><td>&quot;none&quot;</td><td>38</td><td>60</td><td>50</td></tr><tr><td>11</td><td>&quot;male&quot;</td><td>&quot;group C&quot;</td><td>&quot;associate&#x27;s de…</td><td>&quot;standard&quot;</td><td>&quot;none&quot;</td><td>58</td><td>54</td><td>52</td></tr><tr><td>12</td><td>&quot;male&quot;</td><td>&quot;group D&quot;</td><td>&quot;associate&#x27;s de…</td><td>&quot;standard&quot;</td><td>&quot;none&quot;</td><td>40</td><td>52</td><td>43</td></tr><tr><td>&hellip;</td><td>&hellip;</td><td>&hellip;</td><td>&hellip;</td><td>&hellip;</td><td>&hellip;</td><td>&hellip;</td><td>&hellip;</td><td>&hellip;</td></tr><tr><td>989</td><td>&quot;female&quot;</td><td>&quot;group A&quot;</td><td>&quot;some high scho…</td><td>&quot;free/reduced&quot;</td><td>&quot;none&quot;</td><td>44</td><td>45</td><td>45</td></tr><tr><td>990</td><td>&quot;female&quot;</td><td>&quot;group D&quot;</td><td>&quot;some college&quot;</td><td>&quot;free/reduced&quot;</td><td>&quot;completed&quot;</td><td>67</td><td>86</td><td>83</td></tr><tr><td>991</td><td>&quot;male&quot;</td><td>&quot;group E&quot;</td><td>&quot;high school&quot;</td><td>&quot;free/reduced&quot;</td><td>&quot;completed&quot;</td><td>86</td><td>81</td><td>75</td></tr><tr><td>992</td><td>&quot;female&quot;</td><td>&quot;group B&quot;</td><td>&quot;some high scho…</td><td>&quot;standard&quot;</td><td>&quot;completed&quot;</td><td>65</td><td>82</td><td>78</td></tr><tr><td>993</td><td>&quot;female&quot;</td><td>&quot;group D&quot;</td><td>&quot;associate&#x27;s de…</td><td>&quot;free/reduced&quot;</td><td>&quot;none&quot;</td><td>55</td><td>76</td><td>76</td></tr><tr><td>994</td><td>&quot;female&quot;</td><td>&quot;group D&quot;</td><td>&quot;bachelor&#x27;s deg…</td><td>&quot;free/reduced&quot;</td><td>&quot;none&quot;</td><td>62</td><td>72</td><td>74</td></tr><tr><td>995</td><td>&quot;male&quot;</td><td>&quot;group A&quot;</td><td>&quot;high school&quot;</td><td>&quot;standard&quot;</td><td>&quot;none&quot;</td><td>63</td><td>63</td><td>62</td></tr><tr><td>996</td><td>&quot;female&quot;</td><td>&quot;group E&quot;</td><td>&quot;master&#x27;s degre…</td><td>&quot;standard&quot;</td><td>&quot;completed&quot;</td><td>88</td><td>99</td><td>95</td></tr><tr><td>997</td><td>&quot;male&quot;</td><td>&quot;group C&quot;</td><td>&quot;high school&quot;</td><td>&quot;free/reduced&quot;</td><td>&quot;none&quot;</td><td>62</td><td>55</td><td>55</td></tr><tr><td>998</td><td>&quot;female&quot;</td><td>&quot;group C&quot;</td><td>&quot;high school&quot;</td><td>&quot;free/reduced&quot;</td><td>&quot;completed&quot;</td><td>59</td><td>71</td><td>65</td></tr><tr><td>999</td><td>&quot;female&quot;</td><td>&quot;group D&quot;</td><td>&quot;some college&quot;</td><td>&quot;standard&quot;</td><td>&quot;completed&quot;</td><td>68</td><td>78</td><td>77</td></tr><tr><td>1000</td><td>&quot;female&quot;</td><td>&quot;group D&quot;</td><td>&quot;some college&quot;</td><td>&quot;free/reduced&quot;</td><td>&quot;none&quot;</td><td>77</td><td>86</td><td>86</td></tr></tbody></table></div>"
      ],
      "text/plain": [
       "shape: (1_000, 9)\n",
       "┌──────┬────────┬────────────┬────────────┬───┬────────────┬────────────┬────────────┬────────────┐\n",
       "│ id   ┆ gender ┆ race/ethni ┆ parental   ┆ … ┆ test prepa ┆ math score ┆ reading    ┆ writing    │\n",
       "│ ---  ┆ ---    ┆ city       ┆ level of   ┆   ┆ ration     ┆ ---        ┆ score      ┆ score      │\n",
       "│ i64  ┆ str    ┆ ---        ┆ education  ┆   ┆ course     ┆ i64        ┆ ---        ┆ ---        │\n",
       "│      ┆        ┆ str        ┆ ---        ┆   ┆ ---        ┆            ┆ i64        ┆ i64        │\n",
       "│      ┆        ┆            ┆ str        ┆   ┆ str        ┆            ┆            ┆            │\n",
       "╞══════╪════════╪════════════╪════════════╪═══╪════════════╪════════════╪════════════╪════════════╡\n",
       "│ 1    ┆ female ┆ group B    ┆ bachelor's ┆ … ┆ none       ┆ 72         ┆ 72         ┆ 74         │\n",
       "│      ┆        ┆            ┆ degree     ┆   ┆            ┆            ┆            ┆            │\n",
       "│ 2    ┆ female ┆ group C    ┆ some       ┆ … ┆ completed  ┆ 69         ┆ 90         ┆ 88         │\n",
       "│      ┆        ┆            ┆ college    ┆   ┆            ┆            ┆            ┆            │\n",
       "│ 3    ┆ female ┆ group B    ┆ master's   ┆ … ┆ none       ┆ 90         ┆ 95         ┆ 93         │\n",
       "│      ┆        ┆            ┆ degree     ┆   ┆            ┆            ┆            ┆            │\n",
       "│ 4    ┆ male   ┆ group A    ┆ associate' ┆ … ┆ none       ┆ 47         ┆ 57         ┆ 44         │\n",
       "│      ┆        ┆            ┆ s degree   ┆   ┆            ┆            ┆            ┆            │\n",
       "│ …    ┆ …      ┆ …          ┆ …          ┆ … ┆ …          ┆ …          ┆ …          ┆ …          │\n",
       "│ 997  ┆ male   ┆ group C    ┆ high       ┆ … ┆ none       ┆ 62         ┆ 55         ┆ 55         │\n",
       "│      ┆        ┆            ┆ school     ┆   ┆            ┆            ┆            ┆            │\n",
       "│ 998  ┆ female ┆ group C    ┆ high       ┆ … ┆ completed  ┆ 59         ┆ 71         ┆ 65         │\n",
       "│      ┆        ┆            ┆ school     ┆   ┆            ┆            ┆            ┆            │\n",
       "│ 999  ┆ female ┆ group D    ┆ some       ┆ … ┆ completed  ┆ 68         ┆ 78         ┆ 77         │\n",
       "│      ┆        ┆            ┆ college    ┆   ┆            ┆            ┆            ┆            │\n",
       "│ 1000 ┆ female ┆ group D    ┆ some       ┆ … ┆ none       ┆ 77         ┆ 86         ┆ 86         │\n",
       "│      ┆        ┆            ┆ college    ┆   ┆            ┆            ┆            ┆            │\n",
       "└──────┴────────┴────────────┴────────────┴───┴────────────┴────────────┴────────────┴────────────┘"
      ]
     },
     "execution_count": 15,
     "metadata": {},
     "output_type": "execute_result"
    }
   ],
   "source": [
    "df.select(col(\"*\"))"
   ]
  },
  {
   "cell_type": "code",
   "execution_count": 16,
   "metadata": {
    "ExecuteTime": {
     "end_time": "2023-06-13T04:15:34.934997Z",
     "start_time": "2023-06-13T04:15:34.927868Z"
    }
   },
   "outputs": [
    {
     "data": {
      "text/html": [
       "<div><style>\n",
       ".dataframe > thead > tr > th,\n",
       ".dataframe > tbody > tr > td {\n",
       "  text-align: right;\n",
       "}\n",
       "</style>\n",
       "<small>shape: (1_000, 10)</small><table border=\"1\" class=\"dataframe\"><thead><tr><th>id</th><th>gender</th><th>race/ethnicity</th><th>parental level of education</th><th>lunch</th><th>test preparation course</th><th>math score</th><th>reading score</th><th>writing score</th><th>total score</th></tr><tr><td>i64</td><td>str</td><td>str</td><td>str</td><td>str</td><td>str</td><td>i64</td><td>i64</td><td>i64</td><td>i64</td></tr></thead><tbody><tr><td>1</td><td>&quot;female&quot;</td><td>&quot;group B&quot;</td><td>&quot;bachelor&#x27;s deg…</td><td>&quot;standard&quot;</td><td>&quot;none&quot;</td><td>72</td><td>72</td><td>74</td><td>144</td></tr><tr><td>2</td><td>&quot;female&quot;</td><td>&quot;group C&quot;</td><td>&quot;some college&quot;</td><td>&quot;standard&quot;</td><td>&quot;completed&quot;</td><td>69</td><td>90</td><td>88</td><td>159</td></tr><tr><td>3</td><td>&quot;female&quot;</td><td>&quot;group B&quot;</td><td>&quot;master&#x27;s degre…</td><td>&quot;standard&quot;</td><td>&quot;none&quot;</td><td>90</td><td>95</td><td>93</td><td>185</td></tr><tr><td>4</td><td>&quot;male&quot;</td><td>&quot;group A&quot;</td><td>&quot;associate&#x27;s de…</td><td>&quot;free/reduced&quot;</td><td>&quot;none&quot;</td><td>47</td><td>57</td><td>44</td><td>104</td></tr><tr><td>5</td><td>&quot;male&quot;</td><td>&quot;group C&quot;</td><td>&quot;some college&quot;</td><td>&quot;standard&quot;</td><td>&quot;none&quot;</td><td>76</td><td>78</td><td>75</td><td>154</td></tr><tr><td>6</td><td>&quot;female&quot;</td><td>&quot;group B&quot;</td><td>&quot;associate&#x27;s de…</td><td>&quot;standard&quot;</td><td>&quot;none&quot;</td><td>71</td><td>83</td><td>78</td><td>154</td></tr><tr><td>7</td><td>&quot;female&quot;</td><td>&quot;group B&quot;</td><td>&quot;some college&quot;</td><td>&quot;standard&quot;</td><td>&quot;completed&quot;</td><td>88</td><td>95</td><td>92</td><td>183</td></tr><tr><td>8</td><td>&quot;male&quot;</td><td>&quot;group B&quot;</td><td>&quot;some college&quot;</td><td>&quot;free/reduced&quot;</td><td>&quot;none&quot;</td><td>40</td><td>43</td><td>39</td><td>83</td></tr><tr><td>9</td><td>&quot;male&quot;</td><td>&quot;group D&quot;</td><td>&quot;high school&quot;</td><td>&quot;free/reduced&quot;</td><td>&quot;completed&quot;</td><td>64</td><td>64</td><td>67</td><td>128</td></tr><tr><td>10</td><td>&quot;female&quot;</td><td>&quot;group B&quot;</td><td>&quot;high school&quot;</td><td>&quot;free/reduced&quot;</td><td>&quot;none&quot;</td><td>38</td><td>60</td><td>50</td><td>98</td></tr><tr><td>11</td><td>&quot;male&quot;</td><td>&quot;group C&quot;</td><td>&quot;associate&#x27;s de…</td><td>&quot;standard&quot;</td><td>&quot;none&quot;</td><td>58</td><td>54</td><td>52</td><td>112</td></tr><tr><td>12</td><td>&quot;male&quot;</td><td>&quot;group D&quot;</td><td>&quot;associate&#x27;s de…</td><td>&quot;standard&quot;</td><td>&quot;none&quot;</td><td>40</td><td>52</td><td>43</td><td>92</td></tr><tr><td>&hellip;</td><td>&hellip;</td><td>&hellip;</td><td>&hellip;</td><td>&hellip;</td><td>&hellip;</td><td>&hellip;</td><td>&hellip;</td><td>&hellip;</td><td>&hellip;</td></tr><tr><td>989</td><td>&quot;female&quot;</td><td>&quot;group A&quot;</td><td>&quot;some high scho…</td><td>&quot;free/reduced&quot;</td><td>&quot;none&quot;</td><td>44</td><td>45</td><td>45</td><td>89</td></tr><tr><td>990</td><td>&quot;female&quot;</td><td>&quot;group D&quot;</td><td>&quot;some college&quot;</td><td>&quot;free/reduced&quot;</td><td>&quot;completed&quot;</td><td>67</td><td>86</td><td>83</td><td>153</td></tr><tr><td>991</td><td>&quot;male&quot;</td><td>&quot;group E&quot;</td><td>&quot;high school&quot;</td><td>&quot;free/reduced&quot;</td><td>&quot;completed&quot;</td><td>86</td><td>81</td><td>75</td><td>167</td></tr><tr><td>992</td><td>&quot;female&quot;</td><td>&quot;group B&quot;</td><td>&quot;some high scho…</td><td>&quot;standard&quot;</td><td>&quot;completed&quot;</td><td>65</td><td>82</td><td>78</td><td>147</td></tr><tr><td>993</td><td>&quot;female&quot;</td><td>&quot;group D&quot;</td><td>&quot;associate&#x27;s de…</td><td>&quot;free/reduced&quot;</td><td>&quot;none&quot;</td><td>55</td><td>76</td><td>76</td><td>131</td></tr><tr><td>994</td><td>&quot;female&quot;</td><td>&quot;group D&quot;</td><td>&quot;bachelor&#x27;s deg…</td><td>&quot;free/reduced&quot;</td><td>&quot;none&quot;</td><td>62</td><td>72</td><td>74</td><td>134</td></tr><tr><td>995</td><td>&quot;male&quot;</td><td>&quot;group A&quot;</td><td>&quot;high school&quot;</td><td>&quot;standard&quot;</td><td>&quot;none&quot;</td><td>63</td><td>63</td><td>62</td><td>126</td></tr><tr><td>996</td><td>&quot;female&quot;</td><td>&quot;group E&quot;</td><td>&quot;master&#x27;s degre…</td><td>&quot;standard&quot;</td><td>&quot;completed&quot;</td><td>88</td><td>99</td><td>95</td><td>187</td></tr><tr><td>997</td><td>&quot;male&quot;</td><td>&quot;group C&quot;</td><td>&quot;high school&quot;</td><td>&quot;free/reduced&quot;</td><td>&quot;none&quot;</td><td>62</td><td>55</td><td>55</td><td>117</td></tr><tr><td>998</td><td>&quot;female&quot;</td><td>&quot;group C&quot;</td><td>&quot;high school&quot;</td><td>&quot;free/reduced&quot;</td><td>&quot;completed&quot;</td><td>59</td><td>71</td><td>65</td><td>130</td></tr><tr><td>999</td><td>&quot;female&quot;</td><td>&quot;group D&quot;</td><td>&quot;some college&quot;</td><td>&quot;standard&quot;</td><td>&quot;completed&quot;</td><td>68</td><td>78</td><td>77</td><td>146</td></tr><tr><td>1000</td><td>&quot;female&quot;</td><td>&quot;group D&quot;</td><td>&quot;some college&quot;</td><td>&quot;free/reduced&quot;</td><td>&quot;none&quot;</td><td>77</td><td>86</td><td>86</td><td>163</td></tr></tbody></table></div>"
      ],
      "text/plain": [
       "shape: (1_000, 10)\n",
       "┌──────┬────────┬────────────┬────────────┬───┬────────────┬────────────┬────────────┬─────────────┐\n",
       "│ id   ┆ gender ┆ race/ethni ┆ parental   ┆ … ┆ math score ┆ reading    ┆ writing    ┆ total score │\n",
       "│ ---  ┆ ---    ┆ city       ┆ level of   ┆   ┆ ---        ┆ score      ┆ score      ┆ ---         │\n",
       "│ i64  ┆ str    ┆ ---        ┆ education  ┆   ┆ i64        ┆ ---        ┆ ---        ┆ i64         │\n",
       "│      ┆        ┆ str        ┆ ---        ┆   ┆            ┆ i64        ┆ i64        ┆             │\n",
       "│      ┆        ┆            ┆ str        ┆   ┆            ┆            ┆            ┆             │\n",
       "╞══════╪════════╪════════════╪════════════╪═══╪════════════╪════════════╪════════════╪═════════════╡\n",
       "│ 1    ┆ female ┆ group B    ┆ bachelor's ┆ … ┆ 72         ┆ 72         ┆ 74         ┆ 144         │\n",
       "│      ┆        ┆            ┆ degree     ┆   ┆            ┆            ┆            ┆             │\n",
       "│ 2    ┆ female ┆ group C    ┆ some       ┆ … ┆ 69         ┆ 90         ┆ 88         ┆ 159         │\n",
       "│      ┆        ┆            ┆ college    ┆   ┆            ┆            ┆            ┆             │\n",
       "│ 3    ┆ female ┆ group B    ┆ master's   ┆ … ┆ 90         ┆ 95         ┆ 93         ┆ 185         │\n",
       "│      ┆        ┆            ┆ degree     ┆   ┆            ┆            ┆            ┆             │\n",
       "│ 4    ┆ male   ┆ group A    ┆ associate' ┆ … ┆ 47         ┆ 57         ┆ 44         ┆ 104         │\n",
       "│      ┆        ┆            ┆ s degree   ┆   ┆            ┆            ┆            ┆             │\n",
       "│ …    ┆ …      ┆ …          ┆ …          ┆ … ┆ …          ┆ …          ┆ …          ┆ …           │\n",
       "│ 997  ┆ male   ┆ group C    ┆ high       ┆ … ┆ 62         ┆ 55         ┆ 55         ┆ 117         │\n",
       "│      ┆        ┆            ┆ school     ┆   ┆            ┆            ┆            ┆             │\n",
       "│ 998  ┆ female ┆ group C    ┆ high       ┆ … ┆ 59         ┆ 71         ┆ 65         ┆ 130         │\n",
       "│      ┆        ┆            ┆ school     ┆   ┆            ┆            ┆            ┆             │\n",
       "│ 999  ┆ female ┆ group D    ┆ some       ┆ … ┆ 68         ┆ 78         ┆ 77         ┆ 146         │\n",
       "│      ┆        ┆            ┆ college    ┆   ┆            ┆            ┆            ┆             │\n",
       "│ 1000 ┆ female ┆ group D    ┆ some       ┆ … ┆ 77         ┆ 86         ┆ 86         ┆ 163         │\n",
       "│      ┆        ┆            ┆ college    ┆   ┆            ┆            ┆            ┆             │\n",
       "└──────┴────────┴────────────┴────────────┴───┴────────────┴────────────┴────────────┴─────────────┘"
      ]
     },
     "execution_count": 16,
     "metadata": {},
     "output_type": "execute_result"
    }
   ],
   "source": [
    "df.with_columns((col(\"math score\") + col(\"reading score\")).alias(\"total score\"))"
   ]
  },
  {
   "cell_type": "code",
   "execution_count": 17,
   "metadata": {
    "ExecuteTime": {
     "end_time": "2023-06-13T04:15:35.815326Z",
     "start_time": "2023-06-13T04:15:35.808032Z"
    }
   },
   "outputs": [
    {
     "data": {
      "text/html": [
       "<div><style>\n",
       ".dataframe > thead > tr > th,\n",
       ".dataframe > tbody > tr > td {\n",
       "  text-align: right;\n",
       "}\n",
       "</style>\n",
       "<small>shape: (1_000, 10)</small><table border=\"1\" class=\"dataframe\"><thead><tr><th>id</th><th>gender</th><th>race/ethnicity</th><th>parental level of education</th><th>lunch</th><th>test preparation course</th><th>math score</th><th>reading score</th><th>writing score</th><th>average score</th></tr><tr><td>i64</td><td>str</td><td>str</td><td>str</td><td>str</td><td>str</td><td>i64</td><td>i64</td><td>i64</td><td>f64</td></tr></thead><tbody><tr><td>1</td><td>&quot;female&quot;</td><td>&quot;group B&quot;</td><td>&quot;bachelor&#x27;s deg…</td><td>&quot;standard&quot;</td><td>&quot;none&quot;</td><td>72</td><td>72</td><td>74</td><td>203.312</td></tr><tr><td>2</td><td>&quot;female&quot;</td><td>&quot;group C&quot;</td><td>&quot;some college&quot;</td><td>&quot;standard&quot;</td><td>&quot;completed&quot;</td><td>69</td><td>90</td><td>88</td><td>203.312</td></tr><tr><td>3</td><td>&quot;female&quot;</td><td>&quot;group B&quot;</td><td>&quot;master&#x27;s degre…</td><td>&quot;standard&quot;</td><td>&quot;none&quot;</td><td>90</td><td>95</td><td>93</td><td>203.312</td></tr><tr><td>4</td><td>&quot;male&quot;</td><td>&quot;group A&quot;</td><td>&quot;associate&#x27;s de…</td><td>&quot;free/reduced&quot;</td><td>&quot;none&quot;</td><td>47</td><td>57</td><td>44</td><td>203.312</td></tr><tr><td>5</td><td>&quot;male&quot;</td><td>&quot;group C&quot;</td><td>&quot;some college&quot;</td><td>&quot;standard&quot;</td><td>&quot;none&quot;</td><td>76</td><td>78</td><td>75</td><td>203.312</td></tr><tr><td>6</td><td>&quot;female&quot;</td><td>&quot;group B&quot;</td><td>&quot;associate&#x27;s de…</td><td>&quot;standard&quot;</td><td>&quot;none&quot;</td><td>71</td><td>83</td><td>78</td><td>203.312</td></tr><tr><td>7</td><td>&quot;female&quot;</td><td>&quot;group B&quot;</td><td>&quot;some college&quot;</td><td>&quot;standard&quot;</td><td>&quot;completed&quot;</td><td>88</td><td>95</td><td>92</td><td>203.312</td></tr><tr><td>8</td><td>&quot;male&quot;</td><td>&quot;group B&quot;</td><td>&quot;some college&quot;</td><td>&quot;free/reduced&quot;</td><td>&quot;none&quot;</td><td>40</td><td>43</td><td>39</td><td>203.312</td></tr><tr><td>9</td><td>&quot;male&quot;</td><td>&quot;group D&quot;</td><td>&quot;high school&quot;</td><td>&quot;free/reduced&quot;</td><td>&quot;completed&quot;</td><td>64</td><td>64</td><td>67</td><td>203.312</td></tr><tr><td>10</td><td>&quot;female&quot;</td><td>&quot;group B&quot;</td><td>&quot;high school&quot;</td><td>&quot;free/reduced&quot;</td><td>&quot;none&quot;</td><td>38</td><td>60</td><td>50</td><td>203.312</td></tr><tr><td>11</td><td>&quot;male&quot;</td><td>&quot;group C&quot;</td><td>&quot;associate&#x27;s de…</td><td>&quot;standard&quot;</td><td>&quot;none&quot;</td><td>58</td><td>54</td><td>52</td><td>203.312</td></tr><tr><td>12</td><td>&quot;male&quot;</td><td>&quot;group D&quot;</td><td>&quot;associate&#x27;s de…</td><td>&quot;standard&quot;</td><td>&quot;none&quot;</td><td>40</td><td>52</td><td>43</td><td>203.312</td></tr><tr><td>&hellip;</td><td>&hellip;</td><td>&hellip;</td><td>&hellip;</td><td>&hellip;</td><td>&hellip;</td><td>&hellip;</td><td>&hellip;</td><td>&hellip;</td><td>&hellip;</td></tr><tr><td>989</td><td>&quot;female&quot;</td><td>&quot;group A&quot;</td><td>&quot;some high scho…</td><td>&quot;free/reduced&quot;</td><td>&quot;none&quot;</td><td>44</td><td>45</td><td>45</td><td>203.312</td></tr><tr><td>990</td><td>&quot;female&quot;</td><td>&quot;group D&quot;</td><td>&quot;some college&quot;</td><td>&quot;free/reduced&quot;</td><td>&quot;completed&quot;</td><td>67</td><td>86</td><td>83</td><td>203.312</td></tr><tr><td>991</td><td>&quot;male&quot;</td><td>&quot;group E&quot;</td><td>&quot;high school&quot;</td><td>&quot;free/reduced&quot;</td><td>&quot;completed&quot;</td><td>86</td><td>81</td><td>75</td><td>203.312</td></tr><tr><td>992</td><td>&quot;female&quot;</td><td>&quot;group B&quot;</td><td>&quot;some high scho…</td><td>&quot;standard&quot;</td><td>&quot;completed&quot;</td><td>65</td><td>82</td><td>78</td><td>203.312</td></tr><tr><td>993</td><td>&quot;female&quot;</td><td>&quot;group D&quot;</td><td>&quot;associate&#x27;s de…</td><td>&quot;free/reduced&quot;</td><td>&quot;none&quot;</td><td>55</td><td>76</td><td>76</td><td>203.312</td></tr><tr><td>994</td><td>&quot;female&quot;</td><td>&quot;group D&quot;</td><td>&quot;bachelor&#x27;s deg…</td><td>&quot;free/reduced&quot;</td><td>&quot;none&quot;</td><td>62</td><td>72</td><td>74</td><td>203.312</td></tr><tr><td>995</td><td>&quot;male&quot;</td><td>&quot;group A&quot;</td><td>&quot;high school&quot;</td><td>&quot;standard&quot;</td><td>&quot;none&quot;</td><td>63</td><td>63</td><td>62</td><td>203.312</td></tr><tr><td>996</td><td>&quot;female&quot;</td><td>&quot;group E&quot;</td><td>&quot;master&#x27;s degre…</td><td>&quot;standard&quot;</td><td>&quot;completed&quot;</td><td>88</td><td>99</td><td>95</td><td>203.312</td></tr><tr><td>997</td><td>&quot;male&quot;</td><td>&quot;group C&quot;</td><td>&quot;high school&quot;</td><td>&quot;free/reduced&quot;</td><td>&quot;none&quot;</td><td>62</td><td>55</td><td>55</td><td>203.312</td></tr><tr><td>998</td><td>&quot;female&quot;</td><td>&quot;group C&quot;</td><td>&quot;high school&quot;</td><td>&quot;free/reduced&quot;</td><td>&quot;completed&quot;</td><td>59</td><td>71</td><td>65</td><td>203.312</td></tr><tr><td>999</td><td>&quot;female&quot;</td><td>&quot;group D&quot;</td><td>&quot;some college&quot;</td><td>&quot;standard&quot;</td><td>&quot;completed&quot;</td><td>68</td><td>78</td><td>77</td><td>203.312</td></tr><tr><td>1000</td><td>&quot;female&quot;</td><td>&quot;group D&quot;</td><td>&quot;some college&quot;</td><td>&quot;free/reduced&quot;</td><td>&quot;none&quot;</td><td>77</td><td>86</td><td>86</td><td>203.312</td></tr></tbody></table></div>"
      ],
      "text/plain": [
       "shape: (1_000, 10)\n",
       "┌──────┬────────┬────────────┬────────────┬───┬────────────┬────────────┬────────────┬────────────┐\n",
       "│ id   ┆ gender ┆ race/ethni ┆ parental   ┆ … ┆ math score ┆ reading    ┆ writing    ┆ average    │\n",
       "│ ---  ┆ ---    ┆ city       ┆ level of   ┆   ┆ ---        ┆ score      ┆ score      ┆ score      │\n",
       "│ i64  ┆ str    ┆ ---        ┆ education  ┆   ┆ i64        ┆ ---        ┆ ---        ┆ ---        │\n",
       "│      ┆        ┆ str        ┆ ---        ┆   ┆            ┆ i64        ┆ i64        ┆ f64        │\n",
       "│      ┆        ┆            ┆ str        ┆   ┆            ┆            ┆            ┆            │\n",
       "╞══════╪════════╪════════════╪════════════╪═══╪════════════╪════════════╪════════════╪════════════╡\n",
       "│ 1    ┆ female ┆ group B    ┆ bachelor's ┆ … ┆ 72         ┆ 72         ┆ 74         ┆ 203.312    │\n",
       "│      ┆        ┆            ┆ degree     ┆   ┆            ┆            ┆            ┆            │\n",
       "│ 2    ┆ female ┆ group C    ┆ some       ┆ … ┆ 69         ┆ 90         ┆ 88         ┆ 203.312    │\n",
       "│      ┆        ┆            ┆ college    ┆   ┆            ┆            ┆            ┆            │\n",
       "│ 3    ┆ female ┆ group B    ┆ master's   ┆ … ┆ 90         ┆ 95         ┆ 93         ┆ 203.312    │\n",
       "│      ┆        ┆            ┆ degree     ┆   ┆            ┆            ┆            ┆            │\n",
       "│ 4    ┆ male   ┆ group A    ┆ associate' ┆ … ┆ 47         ┆ 57         ┆ 44         ┆ 203.312    │\n",
       "│      ┆        ┆            ┆ s degree   ┆   ┆            ┆            ┆            ┆            │\n",
       "│ …    ┆ …      ┆ …          ┆ …          ┆ … ┆ …          ┆ …          ┆ …          ┆ …          │\n",
       "│ 997  ┆ male   ┆ group C    ┆ high       ┆ … ┆ 62         ┆ 55         ┆ 55         ┆ 203.312    │\n",
       "│      ┆        ┆            ┆ school     ┆   ┆            ┆            ┆            ┆            │\n",
       "│ 998  ┆ female ┆ group C    ┆ high       ┆ … ┆ 59         ┆ 71         ┆ 65         ┆ 203.312    │\n",
       "│      ┆        ┆            ┆ school     ┆   ┆            ┆            ┆            ┆            │\n",
       "│ 999  ┆ female ┆ group D    ┆ some       ┆ … ┆ 68         ┆ 78         ┆ 77         ┆ 203.312    │\n",
       "│      ┆        ┆            ┆ college    ┆   ┆            ┆            ┆            ┆            │\n",
       "│ 1000 ┆ female ┆ group D    ┆ some       ┆ … ┆ 77         ┆ 86         ┆ 86         ┆ 203.312    │\n",
       "│      ┆        ┆            ┆ college    ┆   ┆            ┆            ┆            ┆            │\n",
       "└──────┴────────┴────────────┴────────────┴───┴────────────┴────────────┴────────────┴────────────┘"
      ]
     },
     "execution_count": 17,
     "metadata": {},
     "output_type": "execute_result"
    }
   ],
   "source": [
    "df.with_columns(\n",
    "    (col(\"math score\") + col(\"reading score\") + col(\"writing score\"))\n",
    "    .mean()\n",
    "    .alias(\"average score\")\n",
    ")"
   ]
  },
  {
   "cell_type": "code",
   "execution_count": 18,
   "metadata": {
    "ExecuteTime": {
     "end_time": "2023-06-13T04:15:36.574487Z",
     "start_time": "2023-06-13T04:15:36.564259Z"
    }
   },
   "outputs": [
    {
     "data": {
      "text/html": [
       "<div><style>\n",
       ".dataframe > thead > tr > th,\n",
       ".dataframe > tbody > tr > td {\n",
       "  text-align: right;\n",
       "}\n",
       "</style>\n",
       "<small>shape: (518, 9)</small><table border=\"1\" class=\"dataframe\"><thead><tr><th>id</th><th>gender</th><th>race/ethnicity</th><th>parental level of education</th><th>lunch</th><th>test preparation course</th><th>math score</th><th>reading score</th><th>writing score</th></tr><tr><td>i64</td><td>str</td><td>str</td><td>str</td><td>str</td><td>str</td><td>i64</td><td>i64</td><td>i64</td></tr></thead><tbody><tr><td>1</td><td>&quot;female&quot;</td><td>&quot;group B&quot;</td><td>&quot;bachelor&#x27;s deg…</td><td>&quot;standard&quot;</td><td>&quot;none&quot;</td><td>72</td><td>72</td><td>74</td></tr><tr><td>2</td><td>&quot;female&quot;</td><td>&quot;group C&quot;</td><td>&quot;some college&quot;</td><td>&quot;standard&quot;</td><td>&quot;completed&quot;</td><td>69</td><td>90</td><td>88</td></tr><tr><td>3</td><td>&quot;female&quot;</td><td>&quot;group B&quot;</td><td>&quot;master&#x27;s degre…</td><td>&quot;standard&quot;</td><td>&quot;none&quot;</td><td>90</td><td>95</td><td>93</td></tr><tr><td>6</td><td>&quot;female&quot;</td><td>&quot;group B&quot;</td><td>&quot;associate&#x27;s de…</td><td>&quot;standard&quot;</td><td>&quot;none&quot;</td><td>71</td><td>83</td><td>78</td></tr><tr><td>7</td><td>&quot;female&quot;</td><td>&quot;group B&quot;</td><td>&quot;some college&quot;</td><td>&quot;standard&quot;</td><td>&quot;completed&quot;</td><td>88</td><td>95</td><td>92</td></tr><tr><td>10</td><td>&quot;female&quot;</td><td>&quot;group B&quot;</td><td>&quot;high school&quot;</td><td>&quot;free/reduced&quot;</td><td>&quot;none&quot;</td><td>38</td><td>60</td><td>50</td></tr><tr><td>13</td><td>&quot;female&quot;</td><td>&quot;group B&quot;</td><td>&quot;high school&quot;</td><td>&quot;standard&quot;</td><td>&quot;none&quot;</td><td>65</td><td>81</td><td>73</td></tr><tr><td>15</td><td>&quot;female&quot;</td><td>&quot;group A&quot;</td><td>&quot;master&#x27;s degre…</td><td>&quot;standard&quot;</td><td>&quot;none&quot;</td><td>50</td><td>53</td><td>58</td></tr><tr><td>16</td><td>&quot;female&quot;</td><td>&quot;group C&quot;</td><td>&quot;some high scho…</td><td>&quot;standard&quot;</td><td>&quot;none&quot;</td><td>69</td><td>75</td><td>78</td></tr><tr><td>18</td><td>&quot;female&quot;</td><td>&quot;group B&quot;</td><td>&quot;some high scho…</td><td>&quot;free/reduced&quot;</td><td>&quot;none&quot;</td><td>18</td><td>32</td><td>28</td></tr><tr><td>20</td><td>&quot;female&quot;</td><td>&quot;group C&quot;</td><td>&quot;associate&#x27;s de…</td><td>&quot;free/reduced&quot;</td><td>&quot;none&quot;</td><td>54</td><td>58</td><td>61</td></tr><tr><td>22</td><td>&quot;female&quot;</td><td>&quot;group B&quot;</td><td>&quot;some college&quot;</td><td>&quot;free/reduced&quot;</td><td>&quot;completed&quot;</td><td>65</td><td>75</td><td>70</td></tr><tr><td>&hellip;</td><td>&hellip;</td><td>&hellip;</td><td>&hellip;</td><td>&hellip;</td><td>&hellip;</td><td>&hellip;</td><td>&hellip;</td><td>&hellip;</td></tr><tr><td>984</td><td>&quot;female&quot;</td><td>&quot;group A&quot;</td><td>&quot;some college&quot;</td><td>&quot;standard&quot;</td><td>&quot;completed&quot;</td><td>78</td><td>87</td><td>91</td></tr><tr><td>985</td><td>&quot;female&quot;</td><td>&quot;group C&quot;</td><td>&quot;some high scho…</td><td>&quot;standard&quot;</td><td>&quot;none&quot;</td><td>74</td><td>75</td><td>82</td></tr><tr><td>987</td><td>&quot;female&quot;</td><td>&quot;group C&quot;</td><td>&quot;associate&#x27;s de…</td><td>&quot;standard&quot;</td><td>&quot;none&quot;</td><td>40</td><td>59</td><td>51</td></tr><tr><td>989</td><td>&quot;female&quot;</td><td>&quot;group A&quot;</td><td>&quot;some high scho…</td><td>&quot;free/reduced&quot;</td><td>&quot;none&quot;</td><td>44</td><td>45</td><td>45</td></tr><tr><td>990</td><td>&quot;female&quot;</td><td>&quot;group D&quot;</td><td>&quot;some college&quot;</td><td>&quot;free/reduced&quot;</td><td>&quot;completed&quot;</td><td>67</td><td>86</td><td>83</td></tr><tr><td>992</td><td>&quot;female&quot;</td><td>&quot;group B&quot;</td><td>&quot;some high scho…</td><td>&quot;standard&quot;</td><td>&quot;completed&quot;</td><td>65</td><td>82</td><td>78</td></tr><tr><td>993</td><td>&quot;female&quot;</td><td>&quot;group D&quot;</td><td>&quot;associate&#x27;s de…</td><td>&quot;free/reduced&quot;</td><td>&quot;none&quot;</td><td>55</td><td>76</td><td>76</td></tr><tr><td>994</td><td>&quot;female&quot;</td><td>&quot;group D&quot;</td><td>&quot;bachelor&#x27;s deg…</td><td>&quot;free/reduced&quot;</td><td>&quot;none&quot;</td><td>62</td><td>72</td><td>74</td></tr><tr><td>996</td><td>&quot;female&quot;</td><td>&quot;group E&quot;</td><td>&quot;master&#x27;s degre…</td><td>&quot;standard&quot;</td><td>&quot;completed&quot;</td><td>88</td><td>99</td><td>95</td></tr><tr><td>998</td><td>&quot;female&quot;</td><td>&quot;group C&quot;</td><td>&quot;high school&quot;</td><td>&quot;free/reduced&quot;</td><td>&quot;completed&quot;</td><td>59</td><td>71</td><td>65</td></tr><tr><td>999</td><td>&quot;female&quot;</td><td>&quot;group D&quot;</td><td>&quot;some college&quot;</td><td>&quot;standard&quot;</td><td>&quot;completed&quot;</td><td>68</td><td>78</td><td>77</td></tr><tr><td>1000</td><td>&quot;female&quot;</td><td>&quot;group D&quot;</td><td>&quot;some college&quot;</td><td>&quot;free/reduced&quot;</td><td>&quot;none&quot;</td><td>77</td><td>86</td><td>86</td></tr></tbody></table></div>"
      ],
      "text/plain": [
       "shape: (518, 9)\n",
       "┌──────┬────────┬────────────┬────────────┬───┬────────────┬────────────┬────────────┬────────────┐\n",
       "│ id   ┆ gender ┆ race/ethni ┆ parental   ┆ … ┆ test prepa ┆ math score ┆ reading    ┆ writing    │\n",
       "│ ---  ┆ ---    ┆ city       ┆ level of   ┆   ┆ ration     ┆ ---        ┆ score      ┆ score      │\n",
       "│ i64  ┆ str    ┆ ---        ┆ education  ┆   ┆ course     ┆ i64        ┆ ---        ┆ ---        │\n",
       "│      ┆        ┆ str        ┆ ---        ┆   ┆ ---        ┆            ┆ i64        ┆ i64        │\n",
       "│      ┆        ┆            ┆ str        ┆   ┆ str        ┆            ┆            ┆            │\n",
       "╞══════╪════════╪════════════╪════════════╪═══╪════════════╪════════════╪════════════╪════════════╡\n",
       "│ 1    ┆ female ┆ group B    ┆ bachelor's ┆ … ┆ none       ┆ 72         ┆ 72         ┆ 74         │\n",
       "│      ┆        ┆            ┆ degree     ┆   ┆            ┆            ┆            ┆            │\n",
       "│ 2    ┆ female ┆ group C    ┆ some       ┆ … ┆ completed  ┆ 69         ┆ 90         ┆ 88         │\n",
       "│      ┆        ┆            ┆ college    ┆   ┆            ┆            ┆            ┆            │\n",
       "│ 3    ┆ female ┆ group B    ┆ master's   ┆ … ┆ none       ┆ 90         ┆ 95         ┆ 93         │\n",
       "│      ┆        ┆            ┆ degree     ┆   ┆            ┆            ┆            ┆            │\n",
       "│ 6    ┆ female ┆ group B    ┆ associate' ┆ … ┆ none       ┆ 71         ┆ 83         ┆ 78         │\n",
       "│      ┆        ┆            ┆ s degree   ┆   ┆            ┆            ┆            ┆            │\n",
       "│ …    ┆ …      ┆ …          ┆ …          ┆ … ┆ …          ┆ …          ┆ …          ┆ …          │\n",
       "│ 996  ┆ female ┆ group E    ┆ master's   ┆ … ┆ completed  ┆ 88         ┆ 99         ┆ 95         │\n",
       "│      ┆        ┆            ┆ degree     ┆   ┆            ┆            ┆            ┆            │\n",
       "│ 998  ┆ female ┆ group C    ┆ high       ┆ … ┆ completed  ┆ 59         ┆ 71         ┆ 65         │\n",
       "│      ┆        ┆            ┆ school     ┆   ┆            ┆            ┆            ┆            │\n",
       "│ 999  ┆ female ┆ group D    ┆ some       ┆ … ┆ completed  ┆ 68         ┆ 78         ┆ 77         │\n",
       "│      ┆        ┆            ┆ college    ┆   ┆            ┆            ┆            ┆            │\n",
       "│ 1000 ┆ female ┆ group D    ┆ some       ┆ … ┆ none       ┆ 77         ┆ 86         ┆ 86         │\n",
       "│      ┆        ┆            ┆ college    ┆   ┆            ┆            ┆            ┆            │\n",
       "└──────┴────────┴────────────┴────────────┴───┴────────────┴────────────┴────────────┴────────────┘"
      ]
     },
     "execution_count": 18,
     "metadata": {},
     "output_type": "execute_result"
    }
   ],
   "source": [
    "df.filter(col(\"gender\") == \"female\")"
   ]
  },
  {
   "cell_type": "code",
   "execution_count": 19,
   "metadata": {
    "ExecuteTime": {
     "end_time": "2023-06-13T04:15:38.036083Z",
     "start_time": "2023-06-13T04:15:38.024467Z"
    }
   },
   "outputs": [
    {
     "data": {
      "text/html": [
       "<div><style>\n",
       ".dataframe > thead > tr > th,\n",
       ".dataframe > tbody > tr > td {\n",
       "  text-align: right;\n",
       "}\n",
       "</style>\n",
       "<small>shape: (104, 9)</small><table border=\"1\" class=\"dataframe\"><thead><tr><th>id</th><th>gender</th><th>race/ethnicity</th><th>parental level of education</th><th>lunch</th><th>test preparation course</th><th>math score</th><th>reading score</th><th>writing score</th></tr><tr><td>i64</td><td>str</td><td>str</td><td>str</td><td>str</td><td>str</td><td>i64</td><td>i64</td><td>i64</td></tr></thead><tbody><tr><td>1</td><td>&quot;female&quot;</td><td>&quot;group B&quot;</td><td>&quot;bachelor&#x27;s deg…</td><td>&quot;standard&quot;</td><td>&quot;none&quot;</td><td>72</td><td>72</td><td>74</td></tr><tr><td>3</td><td>&quot;female&quot;</td><td>&quot;group B&quot;</td><td>&quot;master&#x27;s degre…</td><td>&quot;standard&quot;</td><td>&quot;none&quot;</td><td>90</td><td>95</td><td>93</td></tr><tr><td>6</td><td>&quot;female&quot;</td><td>&quot;group B&quot;</td><td>&quot;associate&#x27;s de…</td><td>&quot;standard&quot;</td><td>&quot;none&quot;</td><td>71</td><td>83</td><td>78</td></tr><tr><td>7</td><td>&quot;female&quot;</td><td>&quot;group B&quot;</td><td>&quot;some college&quot;</td><td>&quot;standard&quot;</td><td>&quot;completed&quot;</td><td>88</td><td>95</td><td>92</td></tr><tr><td>10</td><td>&quot;female&quot;</td><td>&quot;group B&quot;</td><td>&quot;high school&quot;</td><td>&quot;free/reduced&quot;</td><td>&quot;none&quot;</td><td>38</td><td>60</td><td>50</td></tr><tr><td>13</td><td>&quot;female&quot;</td><td>&quot;group B&quot;</td><td>&quot;high school&quot;</td><td>&quot;standard&quot;</td><td>&quot;none&quot;</td><td>65</td><td>81</td><td>73</td></tr><tr><td>18</td><td>&quot;female&quot;</td><td>&quot;group B&quot;</td><td>&quot;some high scho…</td><td>&quot;free/reduced&quot;</td><td>&quot;none&quot;</td><td>18</td><td>32</td><td>28</td></tr><tr><td>22</td><td>&quot;female&quot;</td><td>&quot;group B&quot;</td><td>&quot;some college&quot;</td><td>&quot;free/reduced&quot;</td><td>&quot;completed&quot;</td><td>65</td><td>75</td><td>70</td></tr><tr><td>32</td><td>&quot;female&quot;</td><td>&quot;group B&quot;</td><td>&quot;some college&quot;</td><td>&quot;standard&quot;</td><td>&quot;none&quot;</td><td>63</td><td>65</td><td>61</td></tr><tr><td>43</td><td>&quot;female&quot;</td><td>&quot;group B&quot;</td><td>&quot;associate&#x27;s de…</td><td>&quot;standard&quot;</td><td>&quot;none&quot;</td><td>53</td><td>58</td><td>65</td></tr><tr><td>81</td><td>&quot;female&quot;</td><td>&quot;group B&quot;</td><td>&quot;associate&#x27;s de…</td><td>&quot;standard&quot;</td><td>&quot;none&quot;</td><td>47</td><td>49</td><td>50</td></tr><tr><td>95</td><td>&quot;female&quot;</td><td>&quot;group B&quot;</td><td>&quot;some college&quot;</td><td>&quot;standard&quot;</td><td>&quot;none&quot;</td><td>79</td><td>86</td><td>92</td></tr><tr><td>&hellip;</td><td>&hellip;</td><td>&hellip;</td><td>&hellip;</td><td>&hellip;</td><td>&hellip;</td><td>&hellip;</td><td>&hellip;</td><td>&hellip;</td></tr><tr><td>824</td><td>&quot;female&quot;</td><td>&quot;group B&quot;</td><td>&quot;high school&quot;</td><td>&quot;free/reduced&quot;</td><td>&quot;none&quot;</td><td>71</td><td>87</td><td>82</td></tr><tr><td>834</td><td>&quot;female&quot;</td><td>&quot;group B&quot;</td><td>&quot;high school&quot;</td><td>&quot;standard&quot;</td><td>&quot;completed&quot;</td><td>77</td><td>82</td><td>89</td></tr><tr><td>843</td><td>&quot;female&quot;</td><td>&quot;group B&quot;</td><td>&quot;high school&quot;</td><td>&quot;free/reduced&quot;</td><td>&quot;completed&quot;</td><td>23</td><td>44</td><td>36</td></tr><tr><td>856</td><td>&quot;female&quot;</td><td>&quot;group B&quot;</td><td>&quot;bachelor&#x27;s deg…</td><td>&quot;standard&quot;</td><td>&quot;none&quot;</td><td>97</td><td>97</td><td>96</td></tr><tr><td>883</td><td>&quot;female&quot;</td><td>&quot;group B&quot;</td><td>&quot;high school&quot;</td><td>&quot;free/reduced&quot;</td><td>&quot;none&quot;</td><td>64</td><td>73</td><td>71</td></tr><tr><td>898</td><td>&quot;female&quot;</td><td>&quot;group B&quot;</td><td>&quot;some high scho…</td><td>&quot;free/reduced&quot;</td><td>&quot;completed&quot;</td><td>63</td><td>78</td><td>79</td></tr><tr><td>915</td><td>&quot;female&quot;</td><td>&quot;group B&quot;</td><td>&quot;associate&#x27;s de…</td><td>&quot;free/reduced&quot;</td><td>&quot;none&quot;</td><td>46</td><td>61</td><td>55</td></tr><tr><td>924</td><td>&quot;female&quot;</td><td>&quot;group B&quot;</td><td>&quot;associate&#x27;s de…</td><td>&quot;free/reduced&quot;</td><td>&quot;none&quot;</td><td>54</td><td>65</td><td>65</td></tr><tr><td>945</td><td>&quot;female&quot;</td><td>&quot;group B&quot;</td><td>&quot;high school&quot;</td><td>&quot;standard&quot;</td><td>&quot;none&quot;</td><td>58</td><td>68</td><td>61</td></tr><tr><td>970</td><td>&quot;female&quot;</td><td>&quot;group B&quot;</td><td>&quot;bachelor&#x27;s deg…</td><td>&quot;standard&quot;</td><td>&quot;none&quot;</td><td>75</td><td>84</td><td>80</td></tr><tr><td>981</td><td>&quot;female&quot;</td><td>&quot;group B&quot;</td><td>&quot;high school&quot;</td><td>&quot;free/reduced&quot;</td><td>&quot;none&quot;</td><td>8</td><td>24</td><td>23</td></tr><tr><td>992</td><td>&quot;female&quot;</td><td>&quot;group B&quot;</td><td>&quot;some high scho…</td><td>&quot;standard&quot;</td><td>&quot;completed&quot;</td><td>65</td><td>82</td><td>78</td></tr></tbody></table></div>"
      ],
      "text/plain": [
       "shape: (104, 9)\n",
       "┌─────┬────────┬────────────┬────────────┬───┬────────────┬────────────┬────────────┬─────────┐\n",
       "│ id  ┆ gender ┆ race/ethni ┆ parental   ┆ … ┆ test prepa ┆ math score ┆ reading    ┆ writing │\n",
       "│ --- ┆ ---    ┆ city       ┆ level of   ┆   ┆ ration     ┆ ---        ┆ score      ┆ score   │\n",
       "│ i64 ┆ str    ┆ ---        ┆ education  ┆   ┆ course     ┆ i64        ┆ ---        ┆ ---     │\n",
       "│     ┆        ┆ str        ┆ ---        ┆   ┆ ---        ┆            ┆ i64        ┆ i64     │\n",
       "│     ┆        ┆            ┆ str        ┆   ┆ str        ┆            ┆            ┆         │\n",
       "╞═════╪════════╪════════════╪════════════╪═══╪════════════╪════════════╪════════════╪═════════╡\n",
       "│ 1   ┆ female ┆ group B    ┆ bachelor's ┆ … ┆ none       ┆ 72         ┆ 72         ┆ 74      │\n",
       "│     ┆        ┆            ┆ degree     ┆   ┆            ┆            ┆            ┆         │\n",
       "│ 3   ┆ female ┆ group B    ┆ master's   ┆ … ┆ none       ┆ 90         ┆ 95         ┆ 93      │\n",
       "│     ┆        ┆            ┆ degree     ┆   ┆            ┆            ┆            ┆         │\n",
       "│ 6   ┆ female ┆ group B    ┆ associate' ┆ … ┆ none       ┆ 71         ┆ 83         ┆ 78      │\n",
       "│     ┆        ┆            ┆ s degree   ┆   ┆            ┆            ┆            ┆         │\n",
       "│ 7   ┆ female ┆ group B    ┆ some       ┆ … ┆ completed  ┆ 88         ┆ 95         ┆ 92      │\n",
       "│     ┆        ┆            ┆ college    ┆   ┆            ┆            ┆            ┆         │\n",
       "│ …   ┆ …      ┆ …          ┆ …          ┆ … ┆ …          ┆ …          ┆ …          ┆ …       │\n",
       "│ 945 ┆ female ┆ group B    ┆ high       ┆ … ┆ none       ┆ 58         ┆ 68         ┆ 61      │\n",
       "│     ┆        ┆            ┆ school     ┆   ┆            ┆            ┆            ┆         │\n",
       "│ 970 ┆ female ┆ group B    ┆ bachelor's ┆ … ┆ none       ┆ 75         ┆ 84         ┆ 80      │\n",
       "│     ┆        ┆            ┆ degree     ┆   ┆            ┆            ┆            ┆         │\n",
       "│ 981 ┆ female ┆ group B    ┆ high       ┆ … ┆ none       ┆ 8          ┆ 24         ┆ 23      │\n",
       "│     ┆        ┆            ┆ school     ┆   ┆            ┆            ┆            ┆         │\n",
       "│ 992 ┆ female ┆ group B    ┆ some high  ┆ … ┆ completed  ┆ 65         ┆ 82         ┆ 78      │\n",
       "│     ┆        ┆            ┆ school     ┆   ┆            ┆            ┆            ┆         │\n",
       "└─────┴────────┴────────────┴────────────┴───┴────────────┴────────────┴────────────┴─────────┘"
      ]
     },
     "execution_count": 19,
     "metadata": {},
     "output_type": "execute_result"
    }
   ],
   "source": [
    "df.filter((col(\"gender\") == \"female\") & (col(\"race/ethnicity\") == \"group B\"))"
   ]
  },
  {
   "cell_type": "code",
   "execution_count": 20,
   "metadata": {
    "ExecuteTime": {
     "end_time": "2023-06-13T04:15:38.699627Z",
     "start_time": "2023-06-13T04:15:38.688394Z"
    }
   },
   "outputs": [
    {
     "data": {
      "text/html": [
       "<div><style>\n",
       ".dataframe > thead > tr > th,\n",
       ".dataframe > tbody > tr > td {\n",
       "  text-align: right;\n",
       "}\n",
       "</style>\n",
       "<small>shape: (5, 2)</small><table border=\"1\" class=\"dataframe\"><thead><tr><th>race/ethnicity</th><th>count</th></tr><tr><td>str</td><td>u32</td></tr></thead><tbody><tr><td>&quot;group B&quot;</td><td>190</td></tr><tr><td>&quot;group E&quot;</td><td>140</td></tr><tr><td>&quot;group C&quot;</td><td>319</td></tr><tr><td>&quot;group D&quot;</td><td>262</td></tr><tr><td>&quot;group A&quot;</td><td>89</td></tr></tbody></table></div>"
      ],
      "text/plain": [
       "shape: (5, 2)\n",
       "┌────────────────┬───────┐\n",
       "│ race/ethnicity ┆ count │\n",
       "│ ---            ┆ ---   │\n",
       "│ str            ┆ u32   │\n",
       "╞════════════════╪═══════╡\n",
       "│ group B        ┆ 190   │\n",
       "│ group E        ┆ 140   │\n",
       "│ group C        ┆ 319   │\n",
       "│ group D        ┆ 262   │\n",
       "│ group A        ┆ 89    │\n",
       "└────────────────┴───────┘"
      ]
     },
     "execution_count": 20,
     "metadata": {},
     "output_type": "execute_result"
    }
   ],
   "source": [
    "df.groupby(col(\"race/ethnicity\")).count()"
   ]
  },
  {
   "cell_type": "code",
   "execution_count": 21,
   "metadata": {
    "ExecuteTime": {
     "end_time": "2023-06-13T04:15:39.507157Z",
     "start_time": "2023-06-13T04:15:39.496627Z"
    }
   },
   "outputs": [
    {
     "data": {
      "text/html": [
       "<div><style>\n",
       ".dataframe > thead > tr > th,\n",
       ".dataframe > tbody > tr > td {\n",
       "  text-align: right;\n",
       "}\n",
       "</style>\n",
       "<small>shape: (3, 2)</small><table border=\"1\" class=\"dataframe\"><thead><tr><th>race/ethnicity</th><th>sum_math_score</th></tr><tr><td>str</td><td>i64</td></tr></thead><tbody><tr><td>&quot;group C&quot;</td><td>20564</td></tr><tr><td>&quot;group D&quot;</td><td>17649</td></tr><tr><td>&quot;group B&quot;</td><td>12056</td></tr></tbody></table></div>"
      ],
      "text/plain": [
       "shape: (3, 2)\n",
       "┌────────────────┬────────────────┐\n",
       "│ race/ethnicity ┆ sum_math_score │\n",
       "│ ---            ┆ ---            │\n",
       "│ str            ┆ i64            │\n",
       "╞════════════════╪════════════════╡\n",
       "│ group C        ┆ 20564          │\n",
       "│ group D        ┆ 17649          │\n",
       "│ group B        ┆ 12056          │\n",
       "└────────────────┴────────────────┘"
      ]
     },
     "execution_count": 21,
     "metadata": {},
     "output_type": "execute_result"
    }
   ],
   "source": [
    "df.groupby(\"race/ethnicity\").agg(pl.sum(\"math score\").alias(\"sum_math_score\")).filter(\n",
    "    col(\"sum_math_score\") > 10000\n",
    ").sort(col(\"sum_math_score\"), descending=True).limit(3)"
   ]
  },
  {
   "cell_type": "code",
   "execution_count": 21,
   "metadata": {
    "ExecuteTime": {
     "end_time": "2023-06-13T04:15:40.027056Z",
     "start_time": "2023-06-13T04:15:40.021283Z"
    }
   },
   "outputs": [],
   "source": []
  },
  {
   "cell_type": "code",
   "execution_count": 22,
   "metadata": {
    "ExecuteTime": {
     "end_time": "2023-06-13T04:15:40.387018Z",
     "start_time": "2023-06-13T04:15:40.379856Z"
    }
   },
   "outputs": [],
   "source": [
    "df2 = pl.read_csv(\"data/LanguageScore.csv\")"
   ]
  },
  {
   "cell_type": "code",
   "execution_count": 23,
   "metadata": {
    "ExecuteTime": {
     "end_time": "2023-06-13T04:15:40.872549Z",
     "start_time": "2023-06-13T04:15:40.866540Z"
    }
   },
   "outputs": [
    {
     "data": {
      "text/plain": [
       "['id', 'language score']"
      ]
     },
     "execution_count": 23,
     "metadata": {},
     "output_type": "execute_result"
    }
   ],
   "source": [
    "df2.columns"
   ]
  },
  {
   "cell_type": "code",
   "execution_count": 24,
   "metadata": {
    "ExecuteTime": {
     "end_time": "2023-06-13T04:15:41.334187Z",
     "start_time": "2023-06-13T04:15:41.328660Z"
    }
   },
   "outputs": [
    {
     "data": {
      "text/plain": [
       "{'id': Int64, 'language score': Int64}"
      ]
     },
     "execution_count": 24,
     "metadata": {},
     "output_type": "execute_result"
    }
   ],
   "source": [
    "df2.schema"
   ]
  },
  {
   "cell_type": "code",
   "execution_count": 25,
   "metadata": {
    "ExecuteTime": {
     "end_time": "2023-06-13T04:15:41.707284Z",
     "start_time": "2023-06-13T04:15:41.702375Z"
    }
   },
   "outputs": [
    {
     "data": {
      "text/html": [
       "<div><style>\n",
       ".dataframe > thead > tr > th,\n",
       ".dataframe > tbody > tr > td {\n",
       "  text-align: right;\n",
       "}\n",
       "</style>\n",
       "<small>shape: (9, 3)</small><table border=\"1\" class=\"dataframe\"><thead><tr><th>describe</th><th>id</th><th>language score</th></tr><tr><td>str</td><td>f64</td><td>f64</td></tr></thead><tbody><tr><td>&quot;count&quot;</td><td>100.0</td><td>100.0</td></tr><tr><td>&quot;null_count&quot;</td><td>0.0</td><td>0.0</td></tr><tr><td>&quot;mean&quot;</td><td>50.5</td><td>65.36</td></tr><tr><td>&quot;std&quot;</td><td>29.011492</td><td>21.356294</td></tr><tr><td>&quot;min&quot;</td><td>1.0</td><td>30.0</td></tr><tr><td>&quot;max&quot;</td><td>100.0</td><td>100.0</td></tr><tr><td>&quot;median&quot;</td><td>50.5</td><td>66.5</td></tr><tr><td>&quot;25%&quot;</td><td>26.0</td><td>47.0</td></tr><tr><td>&quot;75%&quot;</td><td>76.0</td><td>84.0</td></tr></tbody></table></div>"
      ],
      "text/plain": [
       "shape: (9, 3)\n",
       "┌────────────┬───────────┬────────────────┐\n",
       "│ describe   ┆ id        ┆ language score │\n",
       "│ ---        ┆ ---       ┆ ---            │\n",
       "│ str        ┆ f64       ┆ f64            │\n",
       "╞════════════╪═══════════╪════════════════╡\n",
       "│ count      ┆ 100.0     ┆ 100.0          │\n",
       "│ null_count ┆ 0.0       ┆ 0.0            │\n",
       "│ mean       ┆ 50.5      ┆ 65.36          │\n",
       "│ std        ┆ 29.011492 ┆ 21.356294      │\n",
       "│ min        ┆ 1.0       ┆ 30.0           │\n",
       "│ max        ┆ 100.0     ┆ 100.0          │\n",
       "│ median     ┆ 50.5      ┆ 66.5           │\n",
       "│ 25%        ┆ 26.0      ┆ 47.0           │\n",
       "│ 75%        ┆ 76.0      ┆ 84.0           │\n",
       "└────────────┴───────────┴────────────────┘"
      ]
     },
     "execution_count": 25,
     "metadata": {},
     "output_type": "execute_result"
    }
   ],
   "source": [
    "df2.describe()"
   ]
  },
  {
   "cell_type": "code",
   "execution_count": 26,
   "metadata": {
    "ExecuteTime": {
     "end_time": "2023-06-13T04:15:41.986441Z",
     "start_time": "2023-06-13T04:15:41.975389Z"
    }
   },
   "outputs": [
    {
     "data": {
      "text/html": [
       "<div><style>\n",
       ".dataframe > thead > tr > th,\n",
       ".dataframe > tbody > tr > td {\n",
       "  text-align: right;\n",
       "}\n",
       "</style>\n",
       "<small>shape: (100, 2)</small><table border=\"1\" class=\"dataframe\"><thead><tr><th>id</th><th>language score</th></tr><tr><td>i64</td><td>i64</td></tr></thead><tbody><tr><td>1</td><td>74</td></tr><tr><td>2</td><td>67</td></tr><tr><td>3</td><td>34</td></tr><tr><td>4</td><td>33</td></tr><tr><td>5</td><td>75</td></tr><tr><td>6</td><td>51</td></tr><tr><td>7</td><td>95</td></tr><tr><td>8</td><td>92</td></tr><tr><td>9</td><td>56</td></tr><tr><td>10</td><td>60</td></tr><tr><td>11</td><td>76</td></tr><tr><td>12</td><td>41</td></tr><tr><td>&hellip;</td><td>&hellip;</td></tr><tr><td>89</td><td>32</td></tr><tr><td>90</td><td>77</td></tr><tr><td>91</td><td>65</td></tr><tr><td>92</td><td>84</td></tr><tr><td>93</td><td>67</td></tr><tr><td>94</td><td>65</td></tr><tr><td>95</td><td>99</td></tr><tr><td>96</td><td>67</td></tr><tr><td>97</td><td>87</td></tr><tr><td>98</td><td>66</td></tr><tr><td>99</td><td>94</td></tr><tr><td>100</td><td>75</td></tr></tbody></table></div>"
      ],
      "text/plain": [
       "shape: (100, 2)\n",
       "┌─────┬────────────────┐\n",
       "│ id  ┆ language score │\n",
       "│ --- ┆ ---            │\n",
       "│ i64 ┆ i64            │\n",
       "╞═════╪════════════════╡\n",
       "│ 1   ┆ 74             │\n",
       "│ 2   ┆ 67             │\n",
       "│ 3   ┆ 34             │\n",
       "│ 4   ┆ 33             │\n",
       "│ …   ┆ …              │\n",
       "│ 97  ┆ 87             │\n",
       "│ 98  ┆ 66             │\n",
       "│ 99  ┆ 94             │\n",
       "│ 100 ┆ 75             │\n",
       "└─────┴────────────────┘"
      ]
     },
     "execution_count": 26,
     "metadata": {},
     "output_type": "execute_result"
    }
   ],
   "source": [
    "df2.select(\"*\")"
   ]
  },
  {
   "cell_type": "code",
   "execution_count": 27,
   "metadata": {
    "ExecuteTime": {
     "end_time": "2023-06-13T04:15:42.367707Z",
     "start_time": "2023-06-13T04:15:42.351752Z"
    }
   },
   "outputs": [
    {
     "data": {
      "text/html": [
       "<div><style>\n",
       ".dataframe > thead > tr > th,\n",
       ".dataframe > tbody > tr > td {\n",
       "  text-align: right;\n",
       "}\n",
       "</style>\n",
       "<small>shape: (1_000, 10)</small><table border=\"1\" class=\"dataframe\"><thead><tr><th>id</th><th>gender</th><th>race/ethnicity</th><th>parental level of education</th><th>lunch</th><th>test preparation course</th><th>math score</th><th>reading score</th><th>writing score</th><th>language score</th></tr><tr><td>i64</td><td>str</td><td>str</td><td>str</td><td>str</td><td>str</td><td>i64</td><td>i64</td><td>i64</td><td>i64</td></tr></thead><tbody><tr><td>1</td><td>&quot;female&quot;</td><td>&quot;group B&quot;</td><td>&quot;bachelor&#x27;s deg…</td><td>&quot;standard&quot;</td><td>&quot;none&quot;</td><td>72</td><td>72</td><td>74</td><td>74</td></tr><tr><td>2</td><td>&quot;female&quot;</td><td>&quot;group C&quot;</td><td>&quot;some college&quot;</td><td>&quot;standard&quot;</td><td>&quot;completed&quot;</td><td>69</td><td>90</td><td>88</td><td>67</td></tr><tr><td>3</td><td>&quot;female&quot;</td><td>&quot;group B&quot;</td><td>&quot;master&#x27;s degre…</td><td>&quot;standard&quot;</td><td>&quot;none&quot;</td><td>90</td><td>95</td><td>93</td><td>34</td></tr><tr><td>4</td><td>&quot;male&quot;</td><td>&quot;group A&quot;</td><td>&quot;associate&#x27;s de…</td><td>&quot;free/reduced&quot;</td><td>&quot;none&quot;</td><td>47</td><td>57</td><td>44</td><td>33</td></tr><tr><td>5</td><td>&quot;male&quot;</td><td>&quot;group C&quot;</td><td>&quot;some college&quot;</td><td>&quot;standard&quot;</td><td>&quot;none&quot;</td><td>76</td><td>78</td><td>75</td><td>75</td></tr><tr><td>6</td><td>&quot;female&quot;</td><td>&quot;group B&quot;</td><td>&quot;associate&#x27;s de…</td><td>&quot;standard&quot;</td><td>&quot;none&quot;</td><td>71</td><td>83</td><td>78</td><td>51</td></tr><tr><td>7</td><td>&quot;female&quot;</td><td>&quot;group B&quot;</td><td>&quot;some college&quot;</td><td>&quot;standard&quot;</td><td>&quot;completed&quot;</td><td>88</td><td>95</td><td>92</td><td>95</td></tr><tr><td>8</td><td>&quot;male&quot;</td><td>&quot;group B&quot;</td><td>&quot;some college&quot;</td><td>&quot;free/reduced&quot;</td><td>&quot;none&quot;</td><td>40</td><td>43</td><td>39</td><td>92</td></tr><tr><td>9</td><td>&quot;male&quot;</td><td>&quot;group D&quot;</td><td>&quot;high school&quot;</td><td>&quot;free/reduced&quot;</td><td>&quot;completed&quot;</td><td>64</td><td>64</td><td>67</td><td>56</td></tr><tr><td>10</td><td>&quot;female&quot;</td><td>&quot;group B&quot;</td><td>&quot;high school&quot;</td><td>&quot;free/reduced&quot;</td><td>&quot;none&quot;</td><td>38</td><td>60</td><td>50</td><td>60</td></tr><tr><td>11</td><td>&quot;male&quot;</td><td>&quot;group C&quot;</td><td>&quot;associate&#x27;s de…</td><td>&quot;standard&quot;</td><td>&quot;none&quot;</td><td>58</td><td>54</td><td>52</td><td>76</td></tr><tr><td>12</td><td>&quot;male&quot;</td><td>&quot;group D&quot;</td><td>&quot;associate&#x27;s de…</td><td>&quot;standard&quot;</td><td>&quot;none&quot;</td><td>40</td><td>52</td><td>43</td><td>41</td></tr><tr><td>&hellip;</td><td>&hellip;</td><td>&hellip;</td><td>&hellip;</td><td>&hellip;</td><td>&hellip;</td><td>&hellip;</td><td>&hellip;</td><td>&hellip;</td><td>&hellip;</td></tr><tr><td>989</td><td>&quot;female&quot;</td><td>&quot;group A&quot;</td><td>&quot;some high scho…</td><td>&quot;free/reduced&quot;</td><td>&quot;none&quot;</td><td>44</td><td>45</td><td>45</td><td>null</td></tr><tr><td>990</td><td>&quot;female&quot;</td><td>&quot;group D&quot;</td><td>&quot;some college&quot;</td><td>&quot;free/reduced&quot;</td><td>&quot;completed&quot;</td><td>67</td><td>86</td><td>83</td><td>null</td></tr><tr><td>991</td><td>&quot;male&quot;</td><td>&quot;group E&quot;</td><td>&quot;high school&quot;</td><td>&quot;free/reduced&quot;</td><td>&quot;completed&quot;</td><td>86</td><td>81</td><td>75</td><td>null</td></tr><tr><td>992</td><td>&quot;female&quot;</td><td>&quot;group B&quot;</td><td>&quot;some high scho…</td><td>&quot;standard&quot;</td><td>&quot;completed&quot;</td><td>65</td><td>82</td><td>78</td><td>null</td></tr><tr><td>993</td><td>&quot;female&quot;</td><td>&quot;group D&quot;</td><td>&quot;associate&#x27;s de…</td><td>&quot;free/reduced&quot;</td><td>&quot;none&quot;</td><td>55</td><td>76</td><td>76</td><td>null</td></tr><tr><td>994</td><td>&quot;female&quot;</td><td>&quot;group D&quot;</td><td>&quot;bachelor&#x27;s deg…</td><td>&quot;free/reduced&quot;</td><td>&quot;none&quot;</td><td>62</td><td>72</td><td>74</td><td>null</td></tr><tr><td>995</td><td>&quot;male&quot;</td><td>&quot;group A&quot;</td><td>&quot;high school&quot;</td><td>&quot;standard&quot;</td><td>&quot;none&quot;</td><td>63</td><td>63</td><td>62</td><td>null</td></tr><tr><td>996</td><td>&quot;female&quot;</td><td>&quot;group E&quot;</td><td>&quot;master&#x27;s degre…</td><td>&quot;standard&quot;</td><td>&quot;completed&quot;</td><td>88</td><td>99</td><td>95</td><td>null</td></tr><tr><td>997</td><td>&quot;male&quot;</td><td>&quot;group C&quot;</td><td>&quot;high school&quot;</td><td>&quot;free/reduced&quot;</td><td>&quot;none&quot;</td><td>62</td><td>55</td><td>55</td><td>null</td></tr><tr><td>998</td><td>&quot;female&quot;</td><td>&quot;group C&quot;</td><td>&quot;high school&quot;</td><td>&quot;free/reduced&quot;</td><td>&quot;completed&quot;</td><td>59</td><td>71</td><td>65</td><td>null</td></tr><tr><td>999</td><td>&quot;female&quot;</td><td>&quot;group D&quot;</td><td>&quot;some college&quot;</td><td>&quot;standard&quot;</td><td>&quot;completed&quot;</td><td>68</td><td>78</td><td>77</td><td>null</td></tr><tr><td>1000</td><td>&quot;female&quot;</td><td>&quot;group D&quot;</td><td>&quot;some college&quot;</td><td>&quot;free/reduced&quot;</td><td>&quot;none&quot;</td><td>77</td><td>86</td><td>86</td><td>null</td></tr></tbody></table></div>"
      ],
      "text/plain": [
       "shape: (1_000, 10)\n",
       "┌──────┬────────┬────────────┬────────────┬───┬────────────┬────────────┬────────────┬────────────┐\n",
       "│ id   ┆ gender ┆ race/ethni ┆ parental   ┆ … ┆ math score ┆ reading    ┆ writing    ┆ language   │\n",
       "│ ---  ┆ ---    ┆ city       ┆ level of   ┆   ┆ ---        ┆ score      ┆ score      ┆ score      │\n",
       "│ i64  ┆ str    ┆ ---        ┆ education  ┆   ┆ i64        ┆ ---        ┆ ---        ┆ ---        │\n",
       "│      ┆        ┆ str        ┆ ---        ┆   ┆            ┆ i64        ┆ i64        ┆ i64        │\n",
       "│      ┆        ┆            ┆ str        ┆   ┆            ┆            ┆            ┆            │\n",
       "╞══════╪════════╪════════════╪════════════╪═══╪════════════╪════════════╪════════════╪════════════╡\n",
       "│ 1    ┆ female ┆ group B    ┆ bachelor's ┆ … ┆ 72         ┆ 72         ┆ 74         ┆ 74         │\n",
       "│      ┆        ┆            ┆ degree     ┆   ┆            ┆            ┆            ┆            │\n",
       "│ 2    ┆ female ┆ group C    ┆ some       ┆ … ┆ 69         ┆ 90         ┆ 88         ┆ 67         │\n",
       "│      ┆        ┆            ┆ college    ┆   ┆            ┆            ┆            ┆            │\n",
       "│ 3    ┆ female ┆ group B    ┆ master's   ┆ … ┆ 90         ┆ 95         ┆ 93         ┆ 34         │\n",
       "│      ┆        ┆            ┆ degree     ┆   ┆            ┆            ┆            ┆            │\n",
       "│ 4    ┆ male   ┆ group A    ┆ associate' ┆ … ┆ 47         ┆ 57         ┆ 44         ┆ 33         │\n",
       "│      ┆        ┆            ┆ s degree   ┆   ┆            ┆            ┆            ┆            │\n",
       "│ …    ┆ …      ┆ …          ┆ …          ┆ … ┆ …          ┆ …          ┆ …          ┆ …          │\n",
       "│ 997  ┆ male   ┆ group C    ┆ high       ┆ … ┆ 62         ┆ 55         ┆ 55         ┆ null       │\n",
       "│      ┆        ┆            ┆ school     ┆   ┆            ┆            ┆            ┆            │\n",
       "│ 998  ┆ female ┆ group C    ┆ high       ┆ … ┆ 59         ┆ 71         ┆ 65         ┆ null       │\n",
       "│      ┆        ┆            ┆ school     ┆   ┆            ┆            ┆            ┆            │\n",
       "│ 999  ┆ female ┆ group D    ┆ some       ┆ … ┆ 68         ┆ 78         ┆ 77         ┆ null       │\n",
       "│      ┆        ┆            ┆ college    ┆   ┆            ┆            ┆            ┆            │\n",
       "│ 1000 ┆ female ┆ group D    ┆ some       ┆ … ┆ 77         ┆ 86         ┆ 86         ┆ null       │\n",
       "│      ┆        ┆            ┆ college    ┆   ┆            ┆            ┆            ┆            │\n",
       "└──────┴────────┴────────────┴────────────┴───┴────────────┴────────────┴────────────┴────────────┘"
      ]
     },
     "execution_count": 27,
     "metadata": {},
     "output_type": "execute_result"
    }
   ],
   "source": [
    "df.join(df2, on=\"id\", how=\"left\")"
   ]
  },
  {
   "cell_type": "code",
   "execution_count": 28,
   "metadata": {
    "ExecuteTime": {
     "end_time": "2023-06-13T04:15:43.289212Z",
     "start_time": "2023-06-13T04:15:43.280651Z"
    }
   },
   "outputs": [
    {
     "data": {
      "text/html": [
       "<div><style>\n",
       ".dataframe > thead > tr > th,\n",
       ".dataframe > tbody > tr > td {\n",
       "  text-align: right;\n",
       "}\n",
       "</style>\n",
       "<small>shape: (1_000, 10)</small><table border=\"1\" class=\"dataframe\"><thead><tr><th>id</th><th>gender</th><th>race/ethnicity</th><th>parental level of education</th><th>lunch</th><th>test preparation course</th><th>math score</th><th>reading score</th><th>writing score</th><th>language score</th></tr><tr><td>i64</td><td>str</td><td>str</td><td>str</td><td>str</td><td>str</td><td>i64</td><td>i64</td><td>i64</td><td>i64</td></tr></thead><tbody><tr><td>1</td><td>&quot;female&quot;</td><td>&quot;group B&quot;</td><td>&quot;bachelor&#x27;s deg…</td><td>&quot;standard&quot;</td><td>&quot;none&quot;</td><td>72</td><td>72</td><td>74</td><td>74</td></tr><tr><td>2</td><td>&quot;female&quot;</td><td>&quot;group C&quot;</td><td>&quot;some college&quot;</td><td>&quot;standard&quot;</td><td>&quot;completed&quot;</td><td>69</td><td>90</td><td>88</td><td>67</td></tr><tr><td>3</td><td>&quot;female&quot;</td><td>&quot;group B&quot;</td><td>&quot;master&#x27;s degre…</td><td>&quot;standard&quot;</td><td>&quot;none&quot;</td><td>90</td><td>95</td><td>93</td><td>34</td></tr><tr><td>4</td><td>&quot;male&quot;</td><td>&quot;group A&quot;</td><td>&quot;associate&#x27;s de…</td><td>&quot;free/reduced&quot;</td><td>&quot;none&quot;</td><td>47</td><td>57</td><td>44</td><td>33</td></tr><tr><td>5</td><td>&quot;male&quot;</td><td>&quot;group C&quot;</td><td>&quot;some college&quot;</td><td>&quot;standard&quot;</td><td>&quot;none&quot;</td><td>76</td><td>78</td><td>75</td><td>75</td></tr><tr><td>6</td><td>&quot;female&quot;</td><td>&quot;group B&quot;</td><td>&quot;associate&#x27;s de…</td><td>&quot;standard&quot;</td><td>&quot;none&quot;</td><td>71</td><td>83</td><td>78</td><td>51</td></tr><tr><td>7</td><td>&quot;female&quot;</td><td>&quot;group B&quot;</td><td>&quot;some college&quot;</td><td>&quot;standard&quot;</td><td>&quot;completed&quot;</td><td>88</td><td>95</td><td>92</td><td>95</td></tr><tr><td>8</td><td>&quot;male&quot;</td><td>&quot;group B&quot;</td><td>&quot;some college&quot;</td><td>&quot;free/reduced&quot;</td><td>&quot;none&quot;</td><td>40</td><td>43</td><td>39</td><td>92</td></tr><tr><td>9</td><td>&quot;male&quot;</td><td>&quot;group D&quot;</td><td>&quot;high school&quot;</td><td>&quot;free/reduced&quot;</td><td>&quot;completed&quot;</td><td>64</td><td>64</td><td>67</td><td>56</td></tr><tr><td>10</td><td>&quot;female&quot;</td><td>&quot;group B&quot;</td><td>&quot;high school&quot;</td><td>&quot;free/reduced&quot;</td><td>&quot;none&quot;</td><td>38</td><td>60</td><td>50</td><td>60</td></tr><tr><td>11</td><td>&quot;male&quot;</td><td>&quot;group C&quot;</td><td>&quot;associate&#x27;s de…</td><td>&quot;standard&quot;</td><td>&quot;none&quot;</td><td>58</td><td>54</td><td>52</td><td>76</td></tr><tr><td>12</td><td>&quot;male&quot;</td><td>&quot;group D&quot;</td><td>&quot;associate&#x27;s de…</td><td>&quot;standard&quot;</td><td>&quot;none&quot;</td><td>40</td><td>52</td><td>43</td><td>41</td></tr><tr><td>&hellip;</td><td>&hellip;</td><td>&hellip;</td><td>&hellip;</td><td>&hellip;</td><td>&hellip;</td><td>&hellip;</td><td>&hellip;</td><td>&hellip;</td><td>&hellip;</td></tr><tr><td>989</td><td>&quot;female&quot;</td><td>&quot;group A&quot;</td><td>&quot;some high scho…</td><td>&quot;free/reduced&quot;</td><td>&quot;none&quot;</td><td>44</td><td>45</td><td>45</td><td>null</td></tr><tr><td>990</td><td>&quot;female&quot;</td><td>&quot;group D&quot;</td><td>&quot;some college&quot;</td><td>&quot;free/reduced&quot;</td><td>&quot;completed&quot;</td><td>67</td><td>86</td><td>83</td><td>null</td></tr><tr><td>991</td><td>&quot;male&quot;</td><td>&quot;group E&quot;</td><td>&quot;high school&quot;</td><td>&quot;free/reduced&quot;</td><td>&quot;completed&quot;</td><td>86</td><td>81</td><td>75</td><td>null</td></tr><tr><td>992</td><td>&quot;female&quot;</td><td>&quot;group B&quot;</td><td>&quot;some high scho…</td><td>&quot;standard&quot;</td><td>&quot;completed&quot;</td><td>65</td><td>82</td><td>78</td><td>null</td></tr><tr><td>993</td><td>&quot;female&quot;</td><td>&quot;group D&quot;</td><td>&quot;associate&#x27;s de…</td><td>&quot;free/reduced&quot;</td><td>&quot;none&quot;</td><td>55</td><td>76</td><td>76</td><td>null</td></tr><tr><td>994</td><td>&quot;female&quot;</td><td>&quot;group D&quot;</td><td>&quot;bachelor&#x27;s deg…</td><td>&quot;free/reduced&quot;</td><td>&quot;none&quot;</td><td>62</td><td>72</td><td>74</td><td>null</td></tr><tr><td>995</td><td>&quot;male&quot;</td><td>&quot;group A&quot;</td><td>&quot;high school&quot;</td><td>&quot;standard&quot;</td><td>&quot;none&quot;</td><td>63</td><td>63</td><td>62</td><td>null</td></tr><tr><td>996</td><td>&quot;female&quot;</td><td>&quot;group E&quot;</td><td>&quot;master&#x27;s degre…</td><td>&quot;standard&quot;</td><td>&quot;completed&quot;</td><td>88</td><td>99</td><td>95</td><td>null</td></tr><tr><td>997</td><td>&quot;male&quot;</td><td>&quot;group C&quot;</td><td>&quot;high school&quot;</td><td>&quot;free/reduced&quot;</td><td>&quot;none&quot;</td><td>62</td><td>55</td><td>55</td><td>null</td></tr><tr><td>998</td><td>&quot;female&quot;</td><td>&quot;group C&quot;</td><td>&quot;high school&quot;</td><td>&quot;free/reduced&quot;</td><td>&quot;completed&quot;</td><td>59</td><td>71</td><td>65</td><td>null</td></tr><tr><td>999</td><td>&quot;female&quot;</td><td>&quot;group D&quot;</td><td>&quot;some college&quot;</td><td>&quot;standard&quot;</td><td>&quot;completed&quot;</td><td>68</td><td>78</td><td>77</td><td>null</td></tr><tr><td>1000</td><td>&quot;female&quot;</td><td>&quot;group D&quot;</td><td>&quot;some college&quot;</td><td>&quot;free/reduced&quot;</td><td>&quot;none&quot;</td><td>77</td><td>86</td><td>86</td><td>null</td></tr></tbody></table></div>"
      ],
      "text/plain": [
       "shape: (1_000, 10)\n",
       "┌──────┬────────┬────────────┬────────────┬───┬────────────┬────────────┬────────────┬────────────┐\n",
       "│ id   ┆ gender ┆ race/ethni ┆ parental   ┆ … ┆ math score ┆ reading    ┆ writing    ┆ language   │\n",
       "│ ---  ┆ ---    ┆ city       ┆ level of   ┆   ┆ ---        ┆ score      ┆ score      ┆ score      │\n",
       "│ i64  ┆ str    ┆ ---        ┆ education  ┆   ┆ i64        ┆ ---        ┆ ---        ┆ ---        │\n",
       "│      ┆        ┆ str        ┆ ---        ┆   ┆            ┆ i64        ┆ i64        ┆ i64        │\n",
       "│      ┆        ┆            ┆ str        ┆   ┆            ┆            ┆            ┆            │\n",
       "╞══════╪════════╪════════════╪════════════╪═══╪════════════╪════════════╪════════════╪════════════╡\n",
       "│ 1    ┆ female ┆ group B    ┆ bachelor's ┆ … ┆ 72         ┆ 72         ┆ 74         ┆ 74         │\n",
       "│      ┆        ┆            ┆ degree     ┆   ┆            ┆            ┆            ┆            │\n",
       "│ 2    ┆ female ┆ group C    ┆ some       ┆ … ┆ 69         ┆ 90         ┆ 88         ┆ 67         │\n",
       "│      ┆        ┆            ┆ college    ┆   ┆            ┆            ┆            ┆            │\n",
       "│ 3    ┆ female ┆ group B    ┆ master's   ┆ … ┆ 90         ┆ 95         ┆ 93         ┆ 34         │\n",
       "│      ┆        ┆            ┆ degree     ┆   ┆            ┆            ┆            ┆            │\n",
       "│ 4    ┆ male   ┆ group A    ┆ associate' ┆ … ┆ 47         ┆ 57         ┆ 44         ┆ 33         │\n",
       "│      ┆        ┆            ┆ s degree   ┆   ┆            ┆            ┆            ┆            │\n",
       "│ …    ┆ …      ┆ …          ┆ …          ┆ … ┆ …          ┆ …          ┆ …          ┆ …          │\n",
       "│ 997  ┆ male   ┆ group C    ┆ high       ┆ … ┆ 62         ┆ 55         ┆ 55         ┆ null       │\n",
       "│      ┆        ┆            ┆ school     ┆   ┆            ┆            ┆            ┆            │\n",
       "│ 998  ┆ female ┆ group C    ┆ high       ┆ … ┆ 59         ┆ 71         ┆ 65         ┆ null       │\n",
       "│      ┆        ┆            ┆ school     ┆   ┆            ┆            ┆            ┆            │\n",
       "│ 999  ┆ female ┆ group D    ┆ some       ┆ … ┆ 68         ┆ 78         ┆ 77         ┆ null       │\n",
       "│      ┆        ┆            ┆ college    ┆   ┆            ┆            ┆            ┆            │\n",
       "│ 1000 ┆ female ┆ group D    ┆ some       ┆ … ┆ 77         ┆ 86         ┆ 86         ┆ null       │\n",
       "│      ┆        ┆            ┆ college    ┆   ┆            ┆            ┆            ┆            │\n",
       "└──────┴────────┴────────────┴────────────┴───┴────────────┴────────────┴────────────┴────────────┘"
      ]
     },
     "execution_count": 28,
     "metadata": {},
     "output_type": "execute_result"
    }
   ],
   "source": [
    "concat([df, df2.drop(\"id\")], how=\"horizontal\")"
   ]
  },
  {
   "cell_type": "code",
   "execution_count": 29,
   "metadata": {
    "ExecuteTime": {
     "end_time": "2023-06-13T04:15:43.882063Z",
     "start_time": "2023-06-13T04:15:43.871602Z"
    }
   },
   "outputs": [
    {
     "data": {
      "text/html": [
       "<div><style>\n",
       ".dataframe > thead > tr > th,\n",
       ".dataframe > tbody > tr > td {\n",
       "  text-align: right;\n",
       "}\n",
       "</style>\n",
       "<small>shape: (645, 9)</small><table border=\"1\" class=\"dataframe\"><thead><tr><th>id</th><th>gender</th><th>race/ethnicity</th><th>parental level of education</th><th>lunch</th><th>test preparation course</th><th>math score</th><th>reading score</th><th>writing score</th></tr><tr><td>i64</td><td>str</td><td>str</td><td>str</td><td>str</td><td>str</td><td>i64</td><td>i64</td><td>i64</td></tr></thead><tbody><tr><td>1</td><td>&quot;female&quot;</td><td>&quot;group B&quot;</td><td>&quot;bachelor&#x27;s deg…</td><td>&quot;standard&quot;</td><td>&quot;none&quot;</td><td>72</td><td>72</td><td>74</td></tr><tr><td>2</td><td>&quot;female&quot;</td><td>&quot;group C&quot;</td><td>&quot;some college&quot;</td><td>&quot;standard&quot;</td><td>&quot;completed&quot;</td><td>69</td><td>90</td><td>88</td></tr><tr><td>3</td><td>&quot;female&quot;</td><td>&quot;group B&quot;</td><td>&quot;master&#x27;s degre…</td><td>&quot;standard&quot;</td><td>&quot;none&quot;</td><td>90</td><td>95</td><td>93</td></tr><tr><td>5</td><td>&quot;male&quot;</td><td>&quot;group C&quot;</td><td>&quot;some college&quot;</td><td>&quot;standard&quot;</td><td>&quot;none&quot;</td><td>76</td><td>78</td><td>75</td></tr><tr><td>6</td><td>&quot;female&quot;</td><td>&quot;group B&quot;</td><td>&quot;associate&#x27;s de…</td><td>&quot;standard&quot;</td><td>&quot;none&quot;</td><td>71</td><td>83</td><td>78</td></tr><tr><td>7</td><td>&quot;female&quot;</td><td>&quot;group B&quot;</td><td>&quot;some college&quot;</td><td>&quot;standard&quot;</td><td>&quot;completed&quot;</td><td>88</td><td>95</td><td>92</td></tr><tr><td>11</td><td>&quot;male&quot;</td><td>&quot;group C&quot;</td><td>&quot;associate&#x27;s de…</td><td>&quot;standard&quot;</td><td>&quot;none&quot;</td><td>58</td><td>54</td><td>52</td></tr><tr><td>12</td><td>&quot;male&quot;</td><td>&quot;group D&quot;</td><td>&quot;associate&#x27;s de…</td><td>&quot;standard&quot;</td><td>&quot;none&quot;</td><td>40</td><td>52</td><td>43</td></tr><tr><td>13</td><td>&quot;female&quot;</td><td>&quot;group B&quot;</td><td>&quot;high school&quot;</td><td>&quot;standard&quot;</td><td>&quot;none&quot;</td><td>65</td><td>81</td><td>73</td></tr><tr><td>14</td><td>&quot;male&quot;</td><td>&quot;group A&quot;</td><td>&quot;some college&quot;</td><td>&quot;standard&quot;</td><td>&quot;completed&quot;</td><td>78</td><td>72</td><td>70</td></tr><tr><td>15</td><td>&quot;female&quot;</td><td>&quot;group A&quot;</td><td>&quot;master&#x27;s degre…</td><td>&quot;standard&quot;</td><td>&quot;none&quot;</td><td>50</td><td>53</td><td>58</td></tr><tr><td>16</td><td>&quot;female&quot;</td><td>&quot;group C&quot;</td><td>&quot;some high scho…</td><td>&quot;standard&quot;</td><td>&quot;none&quot;</td><td>69</td><td>75</td><td>78</td></tr><tr><td>&hellip;</td><td>&hellip;</td><td>&hellip;</td><td>&hellip;</td><td>&hellip;</td><td>&hellip;</td><td>&hellip;</td><td>&hellip;</td><td>&hellip;</td></tr><tr><td>980</td><td>&quot;female&quot;</td><td>&quot;group C&quot;</td><td>&quot;associate&#x27;s de…</td><td>&quot;standard&quot;</td><td>&quot;none&quot;</td><td>91</td><td>95</td><td>94</td></tr><tr><td>982</td><td>&quot;male&quot;</td><td>&quot;group D&quot;</td><td>&quot;some high scho…</td><td>&quot;standard&quot;</td><td>&quot;none&quot;</td><td>81</td><td>78</td><td>78</td></tr><tr><td>983</td><td>&quot;male&quot;</td><td>&quot;group B&quot;</td><td>&quot;some high scho…</td><td>&quot;standard&quot;</td><td>&quot;completed&quot;</td><td>79</td><td>85</td><td>86</td></tr><tr><td>984</td><td>&quot;female&quot;</td><td>&quot;group A&quot;</td><td>&quot;some college&quot;</td><td>&quot;standard&quot;</td><td>&quot;completed&quot;</td><td>78</td><td>87</td><td>91</td></tr><tr><td>985</td><td>&quot;female&quot;</td><td>&quot;group C&quot;</td><td>&quot;some high scho…</td><td>&quot;standard&quot;</td><td>&quot;none&quot;</td><td>74</td><td>75</td><td>82</td></tr><tr><td>986</td><td>&quot;male&quot;</td><td>&quot;group A&quot;</td><td>&quot;high school&quot;</td><td>&quot;standard&quot;</td><td>&quot;none&quot;</td><td>57</td><td>51</td><td>54</td></tr><tr><td>987</td><td>&quot;female&quot;</td><td>&quot;group C&quot;</td><td>&quot;associate&#x27;s de…</td><td>&quot;standard&quot;</td><td>&quot;none&quot;</td><td>40</td><td>59</td><td>51</td></tr><tr><td>988</td><td>&quot;male&quot;</td><td>&quot;group E&quot;</td><td>&quot;some high scho…</td><td>&quot;standard&quot;</td><td>&quot;completed&quot;</td><td>81</td><td>75</td><td>76</td></tr><tr><td>992</td><td>&quot;female&quot;</td><td>&quot;group B&quot;</td><td>&quot;some high scho…</td><td>&quot;standard&quot;</td><td>&quot;completed&quot;</td><td>65</td><td>82</td><td>78</td></tr><tr><td>995</td><td>&quot;male&quot;</td><td>&quot;group A&quot;</td><td>&quot;high school&quot;</td><td>&quot;standard&quot;</td><td>&quot;none&quot;</td><td>63</td><td>63</td><td>62</td></tr><tr><td>996</td><td>&quot;female&quot;</td><td>&quot;group E&quot;</td><td>&quot;master&#x27;s degre…</td><td>&quot;standard&quot;</td><td>&quot;completed&quot;</td><td>88</td><td>99</td><td>95</td></tr><tr><td>999</td><td>&quot;female&quot;</td><td>&quot;group D&quot;</td><td>&quot;some college&quot;</td><td>&quot;standard&quot;</td><td>&quot;completed&quot;</td><td>68</td><td>78</td><td>77</td></tr></tbody></table></div>"
      ],
      "text/plain": [
       "shape: (645, 9)\n",
       "┌─────┬────────┬────────────┬────────────┬───┬────────────┬────────────┬────────────┬─────────┐\n",
       "│ id  ┆ gender ┆ race/ethni ┆ parental   ┆ … ┆ test prepa ┆ math score ┆ reading    ┆ writing │\n",
       "│ --- ┆ ---    ┆ city       ┆ level of   ┆   ┆ ration     ┆ ---        ┆ score      ┆ score   │\n",
       "│ i64 ┆ str    ┆ ---        ┆ education  ┆   ┆ course     ┆ i64        ┆ ---        ┆ ---     │\n",
       "│     ┆        ┆ str        ┆ ---        ┆   ┆ ---        ┆            ┆ i64        ┆ i64     │\n",
       "│     ┆        ┆            ┆ str        ┆   ┆ str        ┆            ┆            ┆         │\n",
       "╞═════╪════════╪════════════╪════════════╪═══╪════════════╪════════════╪════════════╪═════════╡\n",
       "│ 1   ┆ female ┆ group B    ┆ bachelor's ┆ … ┆ none       ┆ 72         ┆ 72         ┆ 74      │\n",
       "│     ┆        ┆            ┆ degree     ┆   ┆            ┆            ┆            ┆         │\n",
       "│ 2   ┆ female ┆ group C    ┆ some       ┆ … ┆ completed  ┆ 69         ┆ 90         ┆ 88      │\n",
       "│     ┆        ┆            ┆ college    ┆   ┆            ┆            ┆            ┆         │\n",
       "│ 3   ┆ female ┆ group B    ┆ master's   ┆ … ┆ none       ┆ 90         ┆ 95         ┆ 93      │\n",
       "│     ┆        ┆            ┆ degree     ┆   ┆            ┆            ┆            ┆         │\n",
       "│ 5   ┆ male   ┆ group C    ┆ some       ┆ … ┆ none       ┆ 76         ┆ 78         ┆ 75      │\n",
       "│     ┆        ┆            ┆ college    ┆   ┆            ┆            ┆            ┆         │\n",
       "│ …   ┆ …      ┆ …          ┆ …          ┆ … ┆ …          ┆ …          ┆ …          ┆ …       │\n",
       "│ 992 ┆ female ┆ group B    ┆ some high  ┆ … ┆ completed  ┆ 65         ┆ 82         ┆ 78      │\n",
       "│     ┆        ┆            ┆ school     ┆   ┆            ┆            ┆            ┆         │\n",
       "│ 995 ┆ male   ┆ group A    ┆ high       ┆ … ┆ none       ┆ 63         ┆ 63         ┆ 62      │\n",
       "│     ┆        ┆            ┆ school     ┆   ┆            ┆            ┆            ┆         │\n",
       "│ 996 ┆ female ┆ group E    ┆ master's   ┆ … ┆ completed  ┆ 88         ┆ 99         ┆ 95      │\n",
       "│     ┆        ┆            ┆ degree     ┆   ┆            ┆            ┆            ┆         │\n",
       "│ 999 ┆ female ┆ group D    ┆ some       ┆ … ┆ completed  ┆ 68         ┆ 78         ┆ 77      │\n",
       "│     ┆        ┆            ┆ college    ┆   ┆            ┆            ┆            ┆         │\n",
       "└─────┴────────┴────────────┴────────────┴───┴────────────┴────────────┴────────────┴─────────┘"
      ]
     },
     "execution_count": 29,
     "metadata": {},
     "output_type": "execute_result"
    }
   ],
   "source": [
    "df.filter(col(\"lunch\") == \"standard\")"
   ]
  },
  {
   "cell_type": "code",
   "execution_count": null,
   "metadata": {},
   "outputs": [],
   "source": []
  }
 ],
 "metadata": {
  "kernelspec": {
   "display_name": "Python 3 (ipykernel)",
   "language": "python",
   "name": "python3"
  },
  "language_info": {
   "codemirror_mode": {
    "name": "ipython",
    "version": 3
   },
   "file_extension": ".py",
   "mimetype": "text/x-python",
   "name": "python",
   "nbconvert_exporter": "python",
   "pygments_lexer": "ipython3",
   "version": "3.11.4"
  }
 },
 "nbformat": 4,
 "nbformat_minor": 1
}
