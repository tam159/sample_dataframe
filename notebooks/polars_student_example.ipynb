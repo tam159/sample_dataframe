{
 "cells": [
  {
   "cell_type": "code",
   "metadata": {
    "collapsed": true,
    "ExecuteTime": {
     "end_time": "2024-09-02T08:48:41.108972Z",
     "start_time": "2024-09-02T08:48:41.052562Z"
    }
   },
   "source": [
    "import polars as pl"
   ],
   "outputs": [],
   "execution_count": 2
  },
  {
   "cell_type": "code",
   "metadata": {
    "ExecuteTime": {
     "end_time": "2024-09-02T08:48:41.651460Z",
     "start_time": "2024-09-02T08:48:41.647366Z"
    }
   },
   "source": [
    "from polars import col, concat"
   ],
   "outputs": [],
   "execution_count": 3
  },
  {
   "cell_type": "code",
   "metadata": {
    "ExecuteTime": {
     "end_time": "2024-09-01T15:47:36.232273Z",
     "start_time": "2024-09-01T15:47:36.216634Z"
    }
   },
   "source": [
    "df = pl.read_csv(\"data/StudentsPerformance.csv\")"
   ],
   "outputs": [],
   "execution_count": 3
  },
  {
   "cell_type": "code",
   "metadata": {
    "ExecuteTime": {
     "end_time": "2024-09-01T15:47:36.946154Z",
     "start_time": "2024-09-01T15:47:36.920059Z"
    }
   },
   "source": [
    "df.describe()"
   ],
   "outputs": [
    {
     "data": {
      "text/plain": [
       "shape: (9, 10)\n",
       "┌───────────┬──────────┬────────┬────────────┬───┬────────────┬──────────┬────────────┬────────────┐\n",
       "│ describe  ┆ id       ┆ gender ┆ race/ethni ┆ … ┆ test prepa ┆ math     ┆ reading    ┆ writing    │\n",
       "│ ---       ┆ ---      ┆ ---    ┆ city       ┆   ┆ ration     ┆ score    ┆ score      ┆ score      │\n",
       "│ str       ┆ f64      ┆ str    ┆ ---        ┆   ┆ course     ┆ ---      ┆ ---        ┆ ---        │\n",
       "│           ┆          ┆        ┆ str        ┆   ┆ ---        ┆ f64      ┆ f64        ┆ f64        │\n",
       "│           ┆          ┆        ┆            ┆   ┆ str        ┆          ┆            ┆            │\n",
       "╞═══════════╪══════════╪════════╪════════════╪═══╪════════════╪══════════╪════════════╪════════════╡\n",
       "│ count     ┆ 1000.0   ┆ 1000   ┆ 1000       ┆ … ┆ 1000       ┆ 1000.0   ┆ 1000.0     ┆ 1000.0     │\n",
       "│ null_coun ┆ 0.0      ┆ 0      ┆ 0          ┆ … ┆ 0          ┆ 0.0      ┆ 0.0        ┆ 0.0        │\n",
       "│ t         ┆          ┆        ┆            ┆   ┆            ┆          ┆            ┆            │\n",
       "│ mean      ┆ 500.5    ┆ null   ┆ null       ┆ … ┆ null       ┆ 66.089   ┆ 69.169     ┆ 68.054     │\n",
       "│ std       ┆ 288.8194 ┆ null   ┆ null       ┆ … ┆ null       ┆ 15.16308 ┆ 14.600192  ┆ 15.195657  │\n",
       "│           ┆ 36       ┆        ┆            ┆   ┆            ┆          ┆            ┆            │\n",
       "│ min       ┆ 1.0      ┆ female ┆ group A    ┆ … ┆ completed  ┆ 0.0      ┆ 17.0       ┆ 10.0       │\n",
       "│ max       ┆ 1000.0   ┆ male   ┆ group E    ┆ … ┆ none       ┆ 100.0    ┆ 100.0      ┆ 100.0      │\n",
       "│ median    ┆ 500.5    ┆ null   ┆ null       ┆ … ┆ null       ┆ 66.0     ┆ 70.0       ┆ 69.0       │\n",
       "│ 25%       ┆ 251.0    ┆ null   ┆ null       ┆ … ┆ null       ┆ 57.0     ┆ 59.0       ┆ 58.0       │\n",
       "│ 75%       ┆ 751.0    ┆ null   ┆ null       ┆ … ┆ null       ┆ 77.0     ┆ 79.0       ┆ 79.0       │\n",
       "└───────────┴──────────┴────────┴────────────┴───┴────────────┴──────────┴────────────┴────────────┘"
      ],
      "text/html": [
       "<div><style>\n",
       ".dataframe > thead > tr > th,\n",
       ".dataframe > tbody > tr > td {\n",
       "  text-align: right;\n",
       "}\n",
       "</style>\n",
       "<small>shape: (9, 10)</small><table border=\"1\" class=\"dataframe\"><thead><tr><th>describe</th><th>id</th><th>gender</th><th>race/ethnicity</th><th>parental level of education</th><th>lunch</th><th>test preparation course</th><th>math score</th><th>reading score</th><th>writing score</th></tr><tr><td>str</td><td>f64</td><td>str</td><td>str</td><td>str</td><td>str</td><td>str</td><td>f64</td><td>f64</td><td>f64</td></tr></thead><tbody><tr><td>&quot;count&quot;</td><td>1000.0</td><td>&quot;1000&quot;</td><td>&quot;1000&quot;</td><td>&quot;1000&quot;</td><td>&quot;1000&quot;</td><td>&quot;1000&quot;</td><td>1000.0</td><td>1000.0</td><td>1000.0</td></tr><tr><td>&quot;null_count&quot;</td><td>0.0</td><td>&quot;0&quot;</td><td>&quot;0&quot;</td><td>&quot;0&quot;</td><td>&quot;0&quot;</td><td>&quot;0&quot;</td><td>0.0</td><td>0.0</td><td>0.0</td></tr><tr><td>&quot;mean&quot;</td><td>500.5</td><td>null</td><td>null</td><td>null</td><td>null</td><td>null</td><td>66.089</td><td>69.169</td><td>68.054</td></tr><tr><td>&quot;std&quot;</td><td>288.819436</td><td>null</td><td>null</td><td>null</td><td>null</td><td>null</td><td>15.16308</td><td>14.600192</td><td>15.195657</td></tr><tr><td>&quot;min&quot;</td><td>1.0</td><td>&quot;female&quot;</td><td>&quot;group A&quot;</td><td>&quot;associate&#x27;s de…</td><td>&quot;free/reduced&quot;</td><td>&quot;completed&quot;</td><td>0.0</td><td>17.0</td><td>10.0</td></tr><tr><td>&quot;max&quot;</td><td>1000.0</td><td>&quot;male&quot;</td><td>&quot;group E&quot;</td><td>&quot;some high scho…</td><td>&quot;standard&quot;</td><td>&quot;none&quot;</td><td>100.0</td><td>100.0</td><td>100.0</td></tr><tr><td>&quot;median&quot;</td><td>500.5</td><td>null</td><td>null</td><td>null</td><td>null</td><td>null</td><td>66.0</td><td>70.0</td><td>69.0</td></tr><tr><td>&quot;25%&quot;</td><td>251.0</td><td>null</td><td>null</td><td>null</td><td>null</td><td>null</td><td>57.0</td><td>59.0</td><td>58.0</td></tr><tr><td>&quot;75%&quot;</td><td>751.0</td><td>null</td><td>null</td><td>null</td><td>null</td><td>null</td><td>77.0</td><td>79.0</td><td>79.0</td></tr></tbody></table></div>"
      ]
     },
     "execution_count": 4,
     "metadata": {},
     "output_type": "execute_result"
    }
   ],
   "execution_count": 4
  },
  {
   "cell_type": "code",
   "metadata": {
    "ExecuteTime": {
     "end_time": "2024-09-01T15:47:38.023155Z",
     "start_time": "2024-09-01T15:47:38.020187Z"
    }
   },
   "source": [
    "df.columns"
   ],
   "outputs": [
    {
     "data": {
      "text/plain": [
       "['id',\n",
       " 'gender',\n",
       " 'race/ethnicity',\n",
       " 'parental level of education',\n",
       " 'lunch',\n",
       " 'test preparation course',\n",
       " 'math score',\n",
       " 'reading score',\n",
       " 'writing score']"
      ]
     },
     "execution_count": 5,
     "metadata": {},
     "output_type": "execute_result"
    }
   ],
   "execution_count": 5
  },
  {
   "cell_type": "code",
   "metadata": {
    "ExecuteTime": {
     "end_time": "2024-09-01T15:47:38.757390Z",
     "start_time": "2024-09-01T15:47:38.753502Z"
    }
   },
   "source": [
    "df.schema"
   ],
   "outputs": [
    {
     "data": {
      "text/plain": [
       "{'id': Int64,\n",
       " 'gender': Utf8,\n",
       " 'race/ethnicity': Utf8,\n",
       " 'parental level of education': Utf8,\n",
       " 'lunch': Utf8,\n",
       " 'test preparation course': Utf8,\n",
       " 'math score': Int64,\n",
       " 'reading score': Int64,\n",
       " 'writing score': Int64}"
      ]
     },
     "execution_count": 6,
     "metadata": {},
     "output_type": "execute_result"
    }
   ],
   "execution_count": 6
  },
  {
   "cell_type": "code",
   "metadata": {
    "ExecuteTime": {
     "end_time": "2024-09-01T15:47:39.374661Z",
     "start_time": "2024-09-01T15:47:39.370152Z"
    }
   },
   "source": [
    "df.select(\"gender\", \"math score\")"
   ],
   "outputs": [
    {
     "data": {
      "text/plain": [
       "shape: (1_000, 2)\n",
       "┌────────┬────────────┐\n",
       "│ gender ┆ math score │\n",
       "│ ---    ┆ ---        │\n",
       "│ str    ┆ i64        │\n",
       "╞════════╪════════════╡\n",
       "│ female ┆ 72         │\n",
       "│ female ┆ 69         │\n",
       "│ female ┆ 90         │\n",
       "│ male   ┆ 47         │\n",
       "│ …      ┆ …          │\n",
       "│ male   ┆ 62         │\n",
       "│ female ┆ 59         │\n",
       "│ female ┆ 68         │\n",
       "│ female ┆ 77         │\n",
       "└────────┴────────────┘"
      ],
      "text/html": [
       "<div><style>\n",
       ".dataframe > thead > tr > th,\n",
       ".dataframe > tbody > tr > td {\n",
       "  text-align: right;\n",
       "}\n",
       "</style>\n",
       "<small>shape: (1_000, 2)</small><table border=\"1\" class=\"dataframe\"><thead><tr><th>gender</th><th>math score</th></tr><tr><td>str</td><td>i64</td></tr></thead><tbody><tr><td>&quot;female&quot;</td><td>72</td></tr><tr><td>&quot;female&quot;</td><td>69</td></tr><tr><td>&quot;female&quot;</td><td>90</td></tr><tr><td>&quot;male&quot;</td><td>47</td></tr><tr><td>&quot;male&quot;</td><td>76</td></tr><tr><td>&quot;female&quot;</td><td>71</td></tr><tr><td>&quot;female&quot;</td><td>88</td></tr><tr><td>&quot;male&quot;</td><td>40</td></tr><tr><td>&quot;male&quot;</td><td>64</td></tr><tr><td>&quot;female&quot;</td><td>38</td></tr><tr><td>&quot;male&quot;</td><td>58</td></tr><tr><td>&quot;male&quot;</td><td>40</td></tr><tr><td>&hellip;</td><td>&hellip;</td></tr><tr><td>&quot;female&quot;</td><td>44</td></tr><tr><td>&quot;female&quot;</td><td>67</td></tr><tr><td>&quot;male&quot;</td><td>86</td></tr><tr><td>&quot;female&quot;</td><td>65</td></tr><tr><td>&quot;female&quot;</td><td>55</td></tr><tr><td>&quot;female&quot;</td><td>62</td></tr><tr><td>&quot;male&quot;</td><td>63</td></tr><tr><td>&quot;female&quot;</td><td>88</td></tr><tr><td>&quot;male&quot;</td><td>62</td></tr><tr><td>&quot;female&quot;</td><td>59</td></tr><tr><td>&quot;female&quot;</td><td>68</td></tr><tr><td>&quot;female&quot;</td><td>77</td></tr></tbody></table></div>"
      ]
     },
     "execution_count": 7,
     "metadata": {},
     "output_type": "execute_result"
    }
   ],
   "execution_count": 7
  },
  {
   "cell_type": "code",
   "metadata": {
    "ExecuteTime": {
     "end_time": "2024-09-01T15:47:40.086723Z",
     "start_time": "2024-09-01T15:47:40.081896Z"
    }
   },
   "source": [
    "df.select(\"*\")"
   ],
   "outputs": [
    {
     "data": {
      "text/plain": [
       "shape: (1_000, 9)\n",
       "┌──────┬────────┬────────────┬────────────┬───┬────────────┬────────────┬────────────┬────────────┐\n",
       "│ id   ┆ gender ┆ race/ethni ┆ parental   ┆ … ┆ test prepa ┆ math score ┆ reading    ┆ writing    │\n",
       "│ ---  ┆ ---    ┆ city       ┆ level of   ┆   ┆ ration     ┆ ---        ┆ score      ┆ score      │\n",
       "│ i64  ┆ str    ┆ ---        ┆ education  ┆   ┆ course     ┆ i64        ┆ ---        ┆ ---        │\n",
       "│      ┆        ┆ str        ┆ ---        ┆   ┆ ---        ┆            ┆ i64        ┆ i64        │\n",
       "│      ┆        ┆            ┆ str        ┆   ┆ str        ┆            ┆            ┆            │\n",
       "╞══════╪════════╪════════════╪════════════╪═══╪════════════╪════════════╪════════════╪════════════╡\n",
       "│ 1    ┆ female ┆ group B    ┆ bachelor's ┆ … ┆ none       ┆ 72         ┆ 72         ┆ 74         │\n",
       "│      ┆        ┆            ┆ degree     ┆   ┆            ┆            ┆            ┆            │\n",
       "│ 2    ┆ female ┆ group C    ┆ some       ┆ … ┆ completed  ┆ 69         ┆ 90         ┆ 88         │\n",
       "│      ┆        ┆            ┆ college    ┆   ┆            ┆            ┆            ┆            │\n",
       "│ 3    ┆ female ┆ group B    ┆ master's   ┆ … ┆ none       ┆ 90         ┆ 95         ┆ 93         │\n",
       "│      ┆        ┆            ┆ degree     ┆   ┆            ┆            ┆            ┆            │\n",
       "│ 4    ┆ male   ┆ group A    ┆ associate' ┆ … ┆ none       ┆ 47         ┆ 57         ┆ 44         │\n",
       "│      ┆        ┆            ┆ s degree   ┆   ┆            ┆            ┆            ┆            │\n",
       "│ …    ┆ …      ┆ …          ┆ …          ┆ … ┆ …          ┆ …          ┆ …          ┆ …          │\n",
       "│ 997  ┆ male   ┆ group C    ┆ high       ┆ … ┆ none       ┆ 62         ┆ 55         ┆ 55         │\n",
       "│      ┆        ┆            ┆ school     ┆   ┆            ┆            ┆            ┆            │\n",
       "│ 998  ┆ female ┆ group C    ┆ high       ┆ … ┆ completed  ┆ 59         ┆ 71         ┆ 65         │\n",
       "│      ┆        ┆            ┆ school     ┆   ┆            ┆            ┆            ┆            │\n",
       "│ 999  ┆ female ┆ group D    ┆ some       ┆ … ┆ completed  ┆ 68         ┆ 78         ┆ 77         │\n",
       "│      ┆        ┆            ┆ college    ┆   ┆            ┆            ┆            ┆            │\n",
       "│ 1000 ┆ female ┆ group D    ┆ some       ┆ … ┆ none       ┆ 77         ┆ 86         ┆ 86         │\n",
       "│      ┆        ┆            ┆ college    ┆   ┆            ┆            ┆            ┆            │\n",
       "└──────┴────────┴────────────┴────────────┴───┴────────────┴────────────┴────────────┴────────────┘"
      ],
      "text/html": [
       "<div><style>\n",
       ".dataframe > thead > tr > th,\n",
       ".dataframe > tbody > tr > td {\n",
       "  text-align: right;\n",
       "}\n",
       "</style>\n",
       "<small>shape: (1_000, 9)</small><table border=\"1\" class=\"dataframe\"><thead><tr><th>id</th><th>gender</th><th>race/ethnicity</th><th>parental level of education</th><th>lunch</th><th>test preparation course</th><th>math score</th><th>reading score</th><th>writing score</th></tr><tr><td>i64</td><td>str</td><td>str</td><td>str</td><td>str</td><td>str</td><td>i64</td><td>i64</td><td>i64</td></tr></thead><tbody><tr><td>1</td><td>&quot;female&quot;</td><td>&quot;group B&quot;</td><td>&quot;bachelor&#x27;s deg…</td><td>&quot;standard&quot;</td><td>&quot;none&quot;</td><td>72</td><td>72</td><td>74</td></tr><tr><td>2</td><td>&quot;female&quot;</td><td>&quot;group C&quot;</td><td>&quot;some college&quot;</td><td>&quot;standard&quot;</td><td>&quot;completed&quot;</td><td>69</td><td>90</td><td>88</td></tr><tr><td>3</td><td>&quot;female&quot;</td><td>&quot;group B&quot;</td><td>&quot;master&#x27;s degre…</td><td>&quot;standard&quot;</td><td>&quot;none&quot;</td><td>90</td><td>95</td><td>93</td></tr><tr><td>4</td><td>&quot;male&quot;</td><td>&quot;group A&quot;</td><td>&quot;associate&#x27;s de…</td><td>&quot;free/reduced&quot;</td><td>&quot;none&quot;</td><td>47</td><td>57</td><td>44</td></tr><tr><td>5</td><td>&quot;male&quot;</td><td>&quot;group C&quot;</td><td>&quot;some college&quot;</td><td>&quot;standard&quot;</td><td>&quot;none&quot;</td><td>76</td><td>78</td><td>75</td></tr><tr><td>6</td><td>&quot;female&quot;</td><td>&quot;group B&quot;</td><td>&quot;associate&#x27;s de…</td><td>&quot;standard&quot;</td><td>&quot;none&quot;</td><td>71</td><td>83</td><td>78</td></tr><tr><td>7</td><td>&quot;female&quot;</td><td>&quot;group B&quot;</td><td>&quot;some college&quot;</td><td>&quot;standard&quot;</td><td>&quot;completed&quot;</td><td>88</td><td>95</td><td>92</td></tr><tr><td>8</td><td>&quot;male&quot;</td><td>&quot;group B&quot;</td><td>&quot;some college&quot;</td><td>&quot;free/reduced&quot;</td><td>&quot;none&quot;</td><td>40</td><td>43</td><td>39</td></tr><tr><td>9</td><td>&quot;male&quot;</td><td>&quot;group D&quot;</td><td>&quot;high school&quot;</td><td>&quot;free/reduced&quot;</td><td>&quot;completed&quot;</td><td>64</td><td>64</td><td>67</td></tr><tr><td>10</td><td>&quot;female&quot;</td><td>&quot;group B&quot;</td><td>&quot;high school&quot;</td><td>&quot;free/reduced&quot;</td><td>&quot;none&quot;</td><td>38</td><td>60</td><td>50</td></tr><tr><td>11</td><td>&quot;male&quot;</td><td>&quot;group C&quot;</td><td>&quot;associate&#x27;s de…</td><td>&quot;standard&quot;</td><td>&quot;none&quot;</td><td>58</td><td>54</td><td>52</td></tr><tr><td>12</td><td>&quot;male&quot;</td><td>&quot;group D&quot;</td><td>&quot;associate&#x27;s de…</td><td>&quot;standard&quot;</td><td>&quot;none&quot;</td><td>40</td><td>52</td><td>43</td></tr><tr><td>&hellip;</td><td>&hellip;</td><td>&hellip;</td><td>&hellip;</td><td>&hellip;</td><td>&hellip;</td><td>&hellip;</td><td>&hellip;</td><td>&hellip;</td></tr><tr><td>989</td><td>&quot;female&quot;</td><td>&quot;group A&quot;</td><td>&quot;some high scho…</td><td>&quot;free/reduced&quot;</td><td>&quot;none&quot;</td><td>44</td><td>45</td><td>45</td></tr><tr><td>990</td><td>&quot;female&quot;</td><td>&quot;group D&quot;</td><td>&quot;some college&quot;</td><td>&quot;free/reduced&quot;</td><td>&quot;completed&quot;</td><td>67</td><td>86</td><td>83</td></tr><tr><td>991</td><td>&quot;male&quot;</td><td>&quot;group E&quot;</td><td>&quot;high school&quot;</td><td>&quot;free/reduced&quot;</td><td>&quot;completed&quot;</td><td>86</td><td>81</td><td>75</td></tr><tr><td>992</td><td>&quot;female&quot;</td><td>&quot;group B&quot;</td><td>&quot;some high scho…</td><td>&quot;standard&quot;</td><td>&quot;completed&quot;</td><td>65</td><td>82</td><td>78</td></tr><tr><td>993</td><td>&quot;female&quot;</td><td>&quot;group D&quot;</td><td>&quot;associate&#x27;s de…</td><td>&quot;free/reduced&quot;</td><td>&quot;none&quot;</td><td>55</td><td>76</td><td>76</td></tr><tr><td>994</td><td>&quot;female&quot;</td><td>&quot;group D&quot;</td><td>&quot;bachelor&#x27;s deg…</td><td>&quot;free/reduced&quot;</td><td>&quot;none&quot;</td><td>62</td><td>72</td><td>74</td></tr><tr><td>995</td><td>&quot;male&quot;</td><td>&quot;group A&quot;</td><td>&quot;high school&quot;</td><td>&quot;standard&quot;</td><td>&quot;none&quot;</td><td>63</td><td>63</td><td>62</td></tr><tr><td>996</td><td>&quot;female&quot;</td><td>&quot;group E&quot;</td><td>&quot;master&#x27;s degre…</td><td>&quot;standard&quot;</td><td>&quot;completed&quot;</td><td>88</td><td>99</td><td>95</td></tr><tr><td>997</td><td>&quot;male&quot;</td><td>&quot;group C&quot;</td><td>&quot;high school&quot;</td><td>&quot;free/reduced&quot;</td><td>&quot;none&quot;</td><td>62</td><td>55</td><td>55</td></tr><tr><td>998</td><td>&quot;female&quot;</td><td>&quot;group C&quot;</td><td>&quot;high school&quot;</td><td>&quot;free/reduced&quot;</td><td>&quot;completed&quot;</td><td>59</td><td>71</td><td>65</td></tr><tr><td>999</td><td>&quot;female&quot;</td><td>&quot;group D&quot;</td><td>&quot;some college&quot;</td><td>&quot;standard&quot;</td><td>&quot;completed&quot;</td><td>68</td><td>78</td><td>77</td></tr><tr><td>1000</td><td>&quot;female&quot;</td><td>&quot;group D&quot;</td><td>&quot;some college&quot;</td><td>&quot;free/reduced&quot;</td><td>&quot;none&quot;</td><td>77</td><td>86</td><td>86</td></tr></tbody></table></div>"
      ]
     },
     "execution_count": 8,
     "metadata": {},
     "output_type": "execute_result"
    }
   ],
   "execution_count": 8
  },
  {
   "cell_type": "code",
   "metadata": {
    "ExecuteTime": {
     "end_time": "2024-09-01T15:47:40.651970Z",
     "start_time": "2024-09-01T15:47:40.648968Z"
    }
   },
   "source": [
    "df.select(col([\"gender\", \"math score\"]))"
   ],
   "outputs": [
    {
     "data": {
      "text/plain": [
       "shape: (1_000, 2)\n",
       "┌────────┬────────────┐\n",
       "│ gender ┆ math score │\n",
       "│ ---    ┆ ---        │\n",
       "│ str    ┆ i64        │\n",
       "╞════════╪════════════╡\n",
       "│ female ┆ 72         │\n",
       "│ female ┆ 69         │\n",
       "│ female ┆ 90         │\n",
       "│ male   ┆ 47         │\n",
       "│ …      ┆ …          │\n",
       "│ male   ┆ 62         │\n",
       "│ female ┆ 59         │\n",
       "│ female ┆ 68         │\n",
       "│ female ┆ 77         │\n",
       "└────────┴────────────┘"
      ],
      "text/html": [
       "<div><style>\n",
       ".dataframe > thead > tr > th,\n",
       ".dataframe > tbody > tr > td {\n",
       "  text-align: right;\n",
       "}\n",
       "</style>\n",
       "<small>shape: (1_000, 2)</small><table border=\"1\" class=\"dataframe\"><thead><tr><th>gender</th><th>math score</th></tr><tr><td>str</td><td>i64</td></tr></thead><tbody><tr><td>&quot;female&quot;</td><td>72</td></tr><tr><td>&quot;female&quot;</td><td>69</td></tr><tr><td>&quot;female&quot;</td><td>90</td></tr><tr><td>&quot;male&quot;</td><td>47</td></tr><tr><td>&quot;male&quot;</td><td>76</td></tr><tr><td>&quot;female&quot;</td><td>71</td></tr><tr><td>&quot;female&quot;</td><td>88</td></tr><tr><td>&quot;male&quot;</td><td>40</td></tr><tr><td>&quot;male&quot;</td><td>64</td></tr><tr><td>&quot;female&quot;</td><td>38</td></tr><tr><td>&quot;male&quot;</td><td>58</td></tr><tr><td>&quot;male&quot;</td><td>40</td></tr><tr><td>&hellip;</td><td>&hellip;</td></tr><tr><td>&quot;female&quot;</td><td>44</td></tr><tr><td>&quot;female&quot;</td><td>67</td></tr><tr><td>&quot;male&quot;</td><td>86</td></tr><tr><td>&quot;female&quot;</td><td>65</td></tr><tr><td>&quot;female&quot;</td><td>55</td></tr><tr><td>&quot;female&quot;</td><td>62</td></tr><tr><td>&quot;male&quot;</td><td>63</td></tr><tr><td>&quot;female&quot;</td><td>88</td></tr><tr><td>&quot;male&quot;</td><td>62</td></tr><tr><td>&quot;female&quot;</td><td>59</td></tr><tr><td>&quot;female&quot;</td><td>68</td></tr><tr><td>&quot;female&quot;</td><td>77</td></tr></tbody></table></div>"
      ]
     },
     "execution_count": 9,
     "metadata": {},
     "output_type": "execute_result"
    }
   ],
   "execution_count": 9
  },
  {
   "cell_type": "code",
   "metadata": {
    "ExecuteTime": {
     "end_time": "2024-09-01T15:47:41.134139Z",
     "start_time": "2024-09-01T15:47:41.130712Z"
    }
   },
   "source": [
    "df.select(col(\"*\"))"
   ],
   "outputs": [
    {
     "data": {
      "text/plain": [
       "shape: (1_000, 9)\n",
       "┌──────┬────────┬────────────┬────────────┬───┬────────────┬────────────┬────────────┬────────────┐\n",
       "│ id   ┆ gender ┆ race/ethni ┆ parental   ┆ … ┆ test prepa ┆ math score ┆ reading    ┆ writing    │\n",
       "│ ---  ┆ ---    ┆ city       ┆ level of   ┆   ┆ ration     ┆ ---        ┆ score      ┆ score      │\n",
       "│ i64  ┆ str    ┆ ---        ┆ education  ┆   ┆ course     ┆ i64        ┆ ---        ┆ ---        │\n",
       "│      ┆        ┆ str        ┆ ---        ┆   ┆ ---        ┆            ┆ i64        ┆ i64        │\n",
       "│      ┆        ┆            ┆ str        ┆   ┆ str        ┆            ┆            ┆            │\n",
       "╞══════╪════════╪════════════╪════════════╪═══╪════════════╪════════════╪════════════╪════════════╡\n",
       "│ 1    ┆ female ┆ group B    ┆ bachelor's ┆ … ┆ none       ┆ 72         ┆ 72         ┆ 74         │\n",
       "│      ┆        ┆            ┆ degree     ┆   ┆            ┆            ┆            ┆            │\n",
       "│ 2    ┆ female ┆ group C    ┆ some       ┆ … ┆ completed  ┆ 69         ┆ 90         ┆ 88         │\n",
       "│      ┆        ┆            ┆ college    ┆   ┆            ┆            ┆            ┆            │\n",
       "│ 3    ┆ female ┆ group B    ┆ master's   ┆ … ┆ none       ┆ 90         ┆ 95         ┆ 93         │\n",
       "│      ┆        ┆            ┆ degree     ┆   ┆            ┆            ┆            ┆            │\n",
       "│ 4    ┆ male   ┆ group A    ┆ associate' ┆ … ┆ none       ┆ 47         ┆ 57         ┆ 44         │\n",
       "│      ┆        ┆            ┆ s degree   ┆   ┆            ┆            ┆            ┆            │\n",
       "│ …    ┆ …      ┆ …          ┆ …          ┆ … ┆ …          ┆ …          ┆ …          ┆ …          │\n",
       "│ 997  ┆ male   ┆ group C    ┆ high       ┆ … ┆ none       ┆ 62         ┆ 55         ┆ 55         │\n",
       "│      ┆        ┆            ┆ school     ┆   ┆            ┆            ┆            ┆            │\n",
       "│ 998  ┆ female ┆ group C    ┆ high       ┆ … ┆ completed  ┆ 59         ┆ 71         ┆ 65         │\n",
       "│      ┆        ┆            ┆ school     ┆   ┆            ┆            ┆            ┆            │\n",
       "│ 999  ┆ female ┆ group D    ┆ some       ┆ … ┆ completed  ┆ 68         ┆ 78         ┆ 77         │\n",
       "│      ┆        ┆            ┆ college    ┆   ┆            ┆            ┆            ┆            │\n",
       "│ 1000 ┆ female ┆ group D    ┆ some       ┆ … ┆ none       ┆ 77         ┆ 86         ┆ 86         │\n",
       "│      ┆        ┆            ┆ college    ┆   ┆            ┆            ┆            ┆            │\n",
       "└──────┴────────┴────────────┴────────────┴───┴────────────┴────────────┴────────────┴────────────┘"
      ],
      "text/html": [
       "<div><style>\n",
       ".dataframe > thead > tr > th,\n",
       ".dataframe > tbody > tr > td {\n",
       "  text-align: right;\n",
       "}\n",
       "</style>\n",
       "<small>shape: (1_000, 9)</small><table border=\"1\" class=\"dataframe\"><thead><tr><th>id</th><th>gender</th><th>race/ethnicity</th><th>parental level of education</th><th>lunch</th><th>test preparation course</th><th>math score</th><th>reading score</th><th>writing score</th></tr><tr><td>i64</td><td>str</td><td>str</td><td>str</td><td>str</td><td>str</td><td>i64</td><td>i64</td><td>i64</td></tr></thead><tbody><tr><td>1</td><td>&quot;female&quot;</td><td>&quot;group B&quot;</td><td>&quot;bachelor&#x27;s deg…</td><td>&quot;standard&quot;</td><td>&quot;none&quot;</td><td>72</td><td>72</td><td>74</td></tr><tr><td>2</td><td>&quot;female&quot;</td><td>&quot;group C&quot;</td><td>&quot;some college&quot;</td><td>&quot;standard&quot;</td><td>&quot;completed&quot;</td><td>69</td><td>90</td><td>88</td></tr><tr><td>3</td><td>&quot;female&quot;</td><td>&quot;group B&quot;</td><td>&quot;master&#x27;s degre…</td><td>&quot;standard&quot;</td><td>&quot;none&quot;</td><td>90</td><td>95</td><td>93</td></tr><tr><td>4</td><td>&quot;male&quot;</td><td>&quot;group A&quot;</td><td>&quot;associate&#x27;s de…</td><td>&quot;free/reduced&quot;</td><td>&quot;none&quot;</td><td>47</td><td>57</td><td>44</td></tr><tr><td>5</td><td>&quot;male&quot;</td><td>&quot;group C&quot;</td><td>&quot;some college&quot;</td><td>&quot;standard&quot;</td><td>&quot;none&quot;</td><td>76</td><td>78</td><td>75</td></tr><tr><td>6</td><td>&quot;female&quot;</td><td>&quot;group B&quot;</td><td>&quot;associate&#x27;s de…</td><td>&quot;standard&quot;</td><td>&quot;none&quot;</td><td>71</td><td>83</td><td>78</td></tr><tr><td>7</td><td>&quot;female&quot;</td><td>&quot;group B&quot;</td><td>&quot;some college&quot;</td><td>&quot;standard&quot;</td><td>&quot;completed&quot;</td><td>88</td><td>95</td><td>92</td></tr><tr><td>8</td><td>&quot;male&quot;</td><td>&quot;group B&quot;</td><td>&quot;some college&quot;</td><td>&quot;free/reduced&quot;</td><td>&quot;none&quot;</td><td>40</td><td>43</td><td>39</td></tr><tr><td>9</td><td>&quot;male&quot;</td><td>&quot;group D&quot;</td><td>&quot;high school&quot;</td><td>&quot;free/reduced&quot;</td><td>&quot;completed&quot;</td><td>64</td><td>64</td><td>67</td></tr><tr><td>10</td><td>&quot;female&quot;</td><td>&quot;group B&quot;</td><td>&quot;high school&quot;</td><td>&quot;free/reduced&quot;</td><td>&quot;none&quot;</td><td>38</td><td>60</td><td>50</td></tr><tr><td>11</td><td>&quot;male&quot;</td><td>&quot;group C&quot;</td><td>&quot;associate&#x27;s de…</td><td>&quot;standard&quot;</td><td>&quot;none&quot;</td><td>58</td><td>54</td><td>52</td></tr><tr><td>12</td><td>&quot;male&quot;</td><td>&quot;group D&quot;</td><td>&quot;associate&#x27;s de…</td><td>&quot;standard&quot;</td><td>&quot;none&quot;</td><td>40</td><td>52</td><td>43</td></tr><tr><td>&hellip;</td><td>&hellip;</td><td>&hellip;</td><td>&hellip;</td><td>&hellip;</td><td>&hellip;</td><td>&hellip;</td><td>&hellip;</td><td>&hellip;</td></tr><tr><td>989</td><td>&quot;female&quot;</td><td>&quot;group A&quot;</td><td>&quot;some high scho…</td><td>&quot;free/reduced&quot;</td><td>&quot;none&quot;</td><td>44</td><td>45</td><td>45</td></tr><tr><td>990</td><td>&quot;female&quot;</td><td>&quot;group D&quot;</td><td>&quot;some college&quot;</td><td>&quot;free/reduced&quot;</td><td>&quot;completed&quot;</td><td>67</td><td>86</td><td>83</td></tr><tr><td>991</td><td>&quot;male&quot;</td><td>&quot;group E&quot;</td><td>&quot;high school&quot;</td><td>&quot;free/reduced&quot;</td><td>&quot;completed&quot;</td><td>86</td><td>81</td><td>75</td></tr><tr><td>992</td><td>&quot;female&quot;</td><td>&quot;group B&quot;</td><td>&quot;some high scho…</td><td>&quot;standard&quot;</td><td>&quot;completed&quot;</td><td>65</td><td>82</td><td>78</td></tr><tr><td>993</td><td>&quot;female&quot;</td><td>&quot;group D&quot;</td><td>&quot;associate&#x27;s de…</td><td>&quot;free/reduced&quot;</td><td>&quot;none&quot;</td><td>55</td><td>76</td><td>76</td></tr><tr><td>994</td><td>&quot;female&quot;</td><td>&quot;group D&quot;</td><td>&quot;bachelor&#x27;s deg…</td><td>&quot;free/reduced&quot;</td><td>&quot;none&quot;</td><td>62</td><td>72</td><td>74</td></tr><tr><td>995</td><td>&quot;male&quot;</td><td>&quot;group A&quot;</td><td>&quot;high school&quot;</td><td>&quot;standard&quot;</td><td>&quot;none&quot;</td><td>63</td><td>63</td><td>62</td></tr><tr><td>996</td><td>&quot;female&quot;</td><td>&quot;group E&quot;</td><td>&quot;master&#x27;s degre…</td><td>&quot;standard&quot;</td><td>&quot;completed&quot;</td><td>88</td><td>99</td><td>95</td></tr><tr><td>997</td><td>&quot;male&quot;</td><td>&quot;group C&quot;</td><td>&quot;high school&quot;</td><td>&quot;free/reduced&quot;</td><td>&quot;none&quot;</td><td>62</td><td>55</td><td>55</td></tr><tr><td>998</td><td>&quot;female&quot;</td><td>&quot;group C&quot;</td><td>&quot;high school&quot;</td><td>&quot;free/reduced&quot;</td><td>&quot;completed&quot;</td><td>59</td><td>71</td><td>65</td></tr><tr><td>999</td><td>&quot;female&quot;</td><td>&quot;group D&quot;</td><td>&quot;some college&quot;</td><td>&quot;standard&quot;</td><td>&quot;completed&quot;</td><td>68</td><td>78</td><td>77</td></tr><tr><td>1000</td><td>&quot;female&quot;</td><td>&quot;group D&quot;</td><td>&quot;some college&quot;</td><td>&quot;free/reduced&quot;</td><td>&quot;none&quot;</td><td>77</td><td>86</td><td>86</td></tr></tbody></table></div>"
      ]
     },
     "execution_count": 10,
     "metadata": {},
     "output_type": "execute_result"
    }
   ],
   "execution_count": 10
  },
  {
   "cell_type": "code",
   "metadata": {
    "ExecuteTime": {
     "end_time": "2024-09-01T15:47:41.497028Z",
     "start_time": "2024-09-01T15:47:41.490492Z"
    }
   },
   "source": [
    "df.with_columns((col(\"math score\") + col(\"reading score\")).alias(\"total score\"))"
   ],
   "outputs": [
    {
     "data": {
      "text/plain": [
       "shape: (1_000, 10)\n",
       "┌──────┬────────┬────────────┬────────────┬───┬────────────┬────────────┬────────────┬─────────────┐\n",
       "│ id   ┆ gender ┆ race/ethni ┆ parental   ┆ … ┆ math score ┆ reading    ┆ writing    ┆ total score │\n",
       "│ ---  ┆ ---    ┆ city       ┆ level of   ┆   ┆ ---        ┆ score      ┆ score      ┆ ---         │\n",
       "│ i64  ┆ str    ┆ ---        ┆ education  ┆   ┆ i64        ┆ ---        ┆ ---        ┆ i64         │\n",
       "│      ┆        ┆ str        ┆ ---        ┆   ┆            ┆ i64        ┆ i64        ┆             │\n",
       "│      ┆        ┆            ┆ str        ┆   ┆            ┆            ┆            ┆             │\n",
       "╞══════╪════════╪════════════╪════════════╪═══╪════════════╪════════════╪════════════╪═════════════╡\n",
       "│ 1    ┆ female ┆ group B    ┆ bachelor's ┆ … ┆ 72         ┆ 72         ┆ 74         ┆ 144         │\n",
       "│      ┆        ┆            ┆ degree     ┆   ┆            ┆            ┆            ┆             │\n",
       "│ 2    ┆ female ┆ group C    ┆ some       ┆ … ┆ 69         ┆ 90         ┆ 88         ┆ 159         │\n",
       "│      ┆        ┆            ┆ college    ┆   ┆            ┆            ┆            ┆             │\n",
       "│ 3    ┆ female ┆ group B    ┆ master's   ┆ … ┆ 90         ┆ 95         ┆ 93         ┆ 185         │\n",
       "│      ┆        ┆            ┆ degree     ┆   ┆            ┆            ┆            ┆             │\n",
       "│ 4    ┆ male   ┆ group A    ┆ associate' ┆ … ┆ 47         ┆ 57         ┆ 44         ┆ 104         │\n",
       "│      ┆        ┆            ┆ s degree   ┆   ┆            ┆            ┆            ┆             │\n",
       "│ …    ┆ …      ┆ …          ┆ …          ┆ … ┆ …          ┆ …          ┆ …          ┆ …           │\n",
       "│ 997  ┆ male   ┆ group C    ┆ high       ┆ … ┆ 62         ┆ 55         ┆ 55         ┆ 117         │\n",
       "│      ┆        ┆            ┆ school     ┆   ┆            ┆            ┆            ┆             │\n",
       "│ 998  ┆ female ┆ group C    ┆ high       ┆ … ┆ 59         ┆ 71         ┆ 65         ┆ 130         │\n",
       "│      ┆        ┆            ┆ school     ┆   ┆            ┆            ┆            ┆             │\n",
       "│ 999  ┆ female ┆ group D    ┆ some       ┆ … ┆ 68         ┆ 78         ┆ 77         ┆ 146         │\n",
       "│      ┆        ┆            ┆ college    ┆   ┆            ┆            ┆            ┆             │\n",
       "│ 1000 ┆ female ┆ group D    ┆ some       ┆ … ┆ 77         ┆ 86         ┆ 86         ┆ 163         │\n",
       "│      ┆        ┆            ┆ college    ┆   ┆            ┆            ┆            ┆             │\n",
       "└──────┴────────┴────────────┴────────────┴───┴────────────┴────────────┴────────────┴─────────────┘"
      ],
      "text/html": [
       "<div><style>\n",
       ".dataframe > thead > tr > th,\n",
       ".dataframe > tbody > tr > td {\n",
       "  text-align: right;\n",
       "}\n",
       "</style>\n",
       "<small>shape: (1_000, 10)</small><table border=\"1\" class=\"dataframe\"><thead><tr><th>id</th><th>gender</th><th>race/ethnicity</th><th>parental level of education</th><th>lunch</th><th>test preparation course</th><th>math score</th><th>reading score</th><th>writing score</th><th>total score</th></tr><tr><td>i64</td><td>str</td><td>str</td><td>str</td><td>str</td><td>str</td><td>i64</td><td>i64</td><td>i64</td><td>i64</td></tr></thead><tbody><tr><td>1</td><td>&quot;female&quot;</td><td>&quot;group B&quot;</td><td>&quot;bachelor&#x27;s deg…</td><td>&quot;standard&quot;</td><td>&quot;none&quot;</td><td>72</td><td>72</td><td>74</td><td>144</td></tr><tr><td>2</td><td>&quot;female&quot;</td><td>&quot;group C&quot;</td><td>&quot;some college&quot;</td><td>&quot;standard&quot;</td><td>&quot;completed&quot;</td><td>69</td><td>90</td><td>88</td><td>159</td></tr><tr><td>3</td><td>&quot;female&quot;</td><td>&quot;group B&quot;</td><td>&quot;master&#x27;s degre…</td><td>&quot;standard&quot;</td><td>&quot;none&quot;</td><td>90</td><td>95</td><td>93</td><td>185</td></tr><tr><td>4</td><td>&quot;male&quot;</td><td>&quot;group A&quot;</td><td>&quot;associate&#x27;s de…</td><td>&quot;free/reduced&quot;</td><td>&quot;none&quot;</td><td>47</td><td>57</td><td>44</td><td>104</td></tr><tr><td>5</td><td>&quot;male&quot;</td><td>&quot;group C&quot;</td><td>&quot;some college&quot;</td><td>&quot;standard&quot;</td><td>&quot;none&quot;</td><td>76</td><td>78</td><td>75</td><td>154</td></tr><tr><td>6</td><td>&quot;female&quot;</td><td>&quot;group B&quot;</td><td>&quot;associate&#x27;s de…</td><td>&quot;standard&quot;</td><td>&quot;none&quot;</td><td>71</td><td>83</td><td>78</td><td>154</td></tr><tr><td>7</td><td>&quot;female&quot;</td><td>&quot;group B&quot;</td><td>&quot;some college&quot;</td><td>&quot;standard&quot;</td><td>&quot;completed&quot;</td><td>88</td><td>95</td><td>92</td><td>183</td></tr><tr><td>8</td><td>&quot;male&quot;</td><td>&quot;group B&quot;</td><td>&quot;some college&quot;</td><td>&quot;free/reduced&quot;</td><td>&quot;none&quot;</td><td>40</td><td>43</td><td>39</td><td>83</td></tr><tr><td>9</td><td>&quot;male&quot;</td><td>&quot;group D&quot;</td><td>&quot;high school&quot;</td><td>&quot;free/reduced&quot;</td><td>&quot;completed&quot;</td><td>64</td><td>64</td><td>67</td><td>128</td></tr><tr><td>10</td><td>&quot;female&quot;</td><td>&quot;group B&quot;</td><td>&quot;high school&quot;</td><td>&quot;free/reduced&quot;</td><td>&quot;none&quot;</td><td>38</td><td>60</td><td>50</td><td>98</td></tr><tr><td>11</td><td>&quot;male&quot;</td><td>&quot;group C&quot;</td><td>&quot;associate&#x27;s de…</td><td>&quot;standard&quot;</td><td>&quot;none&quot;</td><td>58</td><td>54</td><td>52</td><td>112</td></tr><tr><td>12</td><td>&quot;male&quot;</td><td>&quot;group D&quot;</td><td>&quot;associate&#x27;s de…</td><td>&quot;standard&quot;</td><td>&quot;none&quot;</td><td>40</td><td>52</td><td>43</td><td>92</td></tr><tr><td>&hellip;</td><td>&hellip;</td><td>&hellip;</td><td>&hellip;</td><td>&hellip;</td><td>&hellip;</td><td>&hellip;</td><td>&hellip;</td><td>&hellip;</td><td>&hellip;</td></tr><tr><td>989</td><td>&quot;female&quot;</td><td>&quot;group A&quot;</td><td>&quot;some high scho…</td><td>&quot;free/reduced&quot;</td><td>&quot;none&quot;</td><td>44</td><td>45</td><td>45</td><td>89</td></tr><tr><td>990</td><td>&quot;female&quot;</td><td>&quot;group D&quot;</td><td>&quot;some college&quot;</td><td>&quot;free/reduced&quot;</td><td>&quot;completed&quot;</td><td>67</td><td>86</td><td>83</td><td>153</td></tr><tr><td>991</td><td>&quot;male&quot;</td><td>&quot;group E&quot;</td><td>&quot;high school&quot;</td><td>&quot;free/reduced&quot;</td><td>&quot;completed&quot;</td><td>86</td><td>81</td><td>75</td><td>167</td></tr><tr><td>992</td><td>&quot;female&quot;</td><td>&quot;group B&quot;</td><td>&quot;some high scho…</td><td>&quot;standard&quot;</td><td>&quot;completed&quot;</td><td>65</td><td>82</td><td>78</td><td>147</td></tr><tr><td>993</td><td>&quot;female&quot;</td><td>&quot;group D&quot;</td><td>&quot;associate&#x27;s de…</td><td>&quot;free/reduced&quot;</td><td>&quot;none&quot;</td><td>55</td><td>76</td><td>76</td><td>131</td></tr><tr><td>994</td><td>&quot;female&quot;</td><td>&quot;group D&quot;</td><td>&quot;bachelor&#x27;s deg…</td><td>&quot;free/reduced&quot;</td><td>&quot;none&quot;</td><td>62</td><td>72</td><td>74</td><td>134</td></tr><tr><td>995</td><td>&quot;male&quot;</td><td>&quot;group A&quot;</td><td>&quot;high school&quot;</td><td>&quot;standard&quot;</td><td>&quot;none&quot;</td><td>63</td><td>63</td><td>62</td><td>126</td></tr><tr><td>996</td><td>&quot;female&quot;</td><td>&quot;group E&quot;</td><td>&quot;master&#x27;s degre…</td><td>&quot;standard&quot;</td><td>&quot;completed&quot;</td><td>88</td><td>99</td><td>95</td><td>187</td></tr><tr><td>997</td><td>&quot;male&quot;</td><td>&quot;group C&quot;</td><td>&quot;high school&quot;</td><td>&quot;free/reduced&quot;</td><td>&quot;none&quot;</td><td>62</td><td>55</td><td>55</td><td>117</td></tr><tr><td>998</td><td>&quot;female&quot;</td><td>&quot;group C&quot;</td><td>&quot;high school&quot;</td><td>&quot;free/reduced&quot;</td><td>&quot;completed&quot;</td><td>59</td><td>71</td><td>65</td><td>130</td></tr><tr><td>999</td><td>&quot;female&quot;</td><td>&quot;group D&quot;</td><td>&quot;some college&quot;</td><td>&quot;standard&quot;</td><td>&quot;completed&quot;</td><td>68</td><td>78</td><td>77</td><td>146</td></tr><tr><td>1000</td><td>&quot;female&quot;</td><td>&quot;group D&quot;</td><td>&quot;some college&quot;</td><td>&quot;free/reduced&quot;</td><td>&quot;none&quot;</td><td>77</td><td>86</td><td>86</td><td>163</td></tr></tbody></table></div>"
      ]
     },
     "execution_count": 11,
     "metadata": {},
     "output_type": "execute_result"
    }
   ],
   "execution_count": 11
  },
  {
   "cell_type": "code",
   "metadata": {
    "ExecuteTime": {
     "end_time": "2024-09-01T15:47:41.857030Z",
     "start_time": "2024-09-01T15:47:41.851673Z"
    }
   },
   "source": [
    "df.with_columns(\n",
    "    (col(\"math score\") + col(\"reading score\") + col(\"writing score\"))\n",
    "    .mean()\n",
    "    .alias(\"average score\")\n",
    ")"
   ],
   "outputs": [
    {
     "data": {
      "text/plain": [
       "shape: (1_000, 10)\n",
       "┌──────┬────────┬────────────┬────────────┬───┬────────────┬────────────┬────────────┬────────────┐\n",
       "│ id   ┆ gender ┆ race/ethni ┆ parental   ┆ … ┆ math score ┆ reading    ┆ writing    ┆ average    │\n",
       "│ ---  ┆ ---    ┆ city       ┆ level of   ┆   ┆ ---        ┆ score      ┆ score      ┆ score      │\n",
       "│ i64  ┆ str    ┆ ---        ┆ education  ┆   ┆ i64        ┆ ---        ┆ ---        ┆ ---        │\n",
       "│      ┆        ┆ str        ┆ ---        ┆   ┆            ┆ i64        ┆ i64        ┆ f64        │\n",
       "│      ┆        ┆            ┆ str        ┆   ┆            ┆            ┆            ┆            │\n",
       "╞══════╪════════╪════════════╪════════════╪═══╪════════════╪════════════╪════════════╪════════════╡\n",
       "│ 1    ┆ female ┆ group B    ┆ bachelor's ┆ … ┆ 72         ┆ 72         ┆ 74         ┆ 203.312    │\n",
       "│      ┆        ┆            ┆ degree     ┆   ┆            ┆            ┆            ┆            │\n",
       "│ 2    ┆ female ┆ group C    ┆ some       ┆ … ┆ 69         ┆ 90         ┆ 88         ┆ 203.312    │\n",
       "│      ┆        ┆            ┆ college    ┆   ┆            ┆            ┆            ┆            │\n",
       "│ 3    ┆ female ┆ group B    ┆ master's   ┆ … ┆ 90         ┆ 95         ┆ 93         ┆ 203.312    │\n",
       "│      ┆        ┆            ┆ degree     ┆   ┆            ┆            ┆            ┆            │\n",
       "│ 4    ┆ male   ┆ group A    ┆ associate' ┆ … ┆ 47         ┆ 57         ┆ 44         ┆ 203.312    │\n",
       "│      ┆        ┆            ┆ s degree   ┆   ┆            ┆            ┆            ┆            │\n",
       "│ …    ┆ …      ┆ …          ┆ …          ┆ … ┆ …          ┆ …          ┆ …          ┆ …          │\n",
       "│ 997  ┆ male   ┆ group C    ┆ high       ┆ … ┆ 62         ┆ 55         ┆ 55         ┆ 203.312    │\n",
       "│      ┆        ┆            ┆ school     ┆   ┆            ┆            ┆            ┆            │\n",
       "│ 998  ┆ female ┆ group C    ┆ high       ┆ … ┆ 59         ┆ 71         ┆ 65         ┆ 203.312    │\n",
       "│      ┆        ┆            ┆ school     ┆   ┆            ┆            ┆            ┆            │\n",
       "│ 999  ┆ female ┆ group D    ┆ some       ┆ … ┆ 68         ┆ 78         ┆ 77         ┆ 203.312    │\n",
       "│      ┆        ┆            ┆ college    ┆   ┆            ┆            ┆            ┆            │\n",
       "│ 1000 ┆ female ┆ group D    ┆ some       ┆ … ┆ 77         ┆ 86         ┆ 86         ┆ 203.312    │\n",
       "│      ┆        ┆            ┆ college    ┆   ┆            ┆            ┆            ┆            │\n",
       "└──────┴────────┴────────────┴────────────┴───┴────────────┴────────────┴────────────┴────────────┘"
      ],
      "text/html": [
       "<div><style>\n",
       ".dataframe > thead > tr > th,\n",
       ".dataframe > tbody > tr > td {\n",
       "  text-align: right;\n",
       "}\n",
       "</style>\n",
       "<small>shape: (1_000, 10)</small><table border=\"1\" class=\"dataframe\"><thead><tr><th>id</th><th>gender</th><th>race/ethnicity</th><th>parental level of education</th><th>lunch</th><th>test preparation course</th><th>math score</th><th>reading score</th><th>writing score</th><th>average score</th></tr><tr><td>i64</td><td>str</td><td>str</td><td>str</td><td>str</td><td>str</td><td>i64</td><td>i64</td><td>i64</td><td>f64</td></tr></thead><tbody><tr><td>1</td><td>&quot;female&quot;</td><td>&quot;group B&quot;</td><td>&quot;bachelor&#x27;s deg…</td><td>&quot;standard&quot;</td><td>&quot;none&quot;</td><td>72</td><td>72</td><td>74</td><td>203.312</td></tr><tr><td>2</td><td>&quot;female&quot;</td><td>&quot;group C&quot;</td><td>&quot;some college&quot;</td><td>&quot;standard&quot;</td><td>&quot;completed&quot;</td><td>69</td><td>90</td><td>88</td><td>203.312</td></tr><tr><td>3</td><td>&quot;female&quot;</td><td>&quot;group B&quot;</td><td>&quot;master&#x27;s degre…</td><td>&quot;standard&quot;</td><td>&quot;none&quot;</td><td>90</td><td>95</td><td>93</td><td>203.312</td></tr><tr><td>4</td><td>&quot;male&quot;</td><td>&quot;group A&quot;</td><td>&quot;associate&#x27;s de…</td><td>&quot;free/reduced&quot;</td><td>&quot;none&quot;</td><td>47</td><td>57</td><td>44</td><td>203.312</td></tr><tr><td>5</td><td>&quot;male&quot;</td><td>&quot;group C&quot;</td><td>&quot;some college&quot;</td><td>&quot;standard&quot;</td><td>&quot;none&quot;</td><td>76</td><td>78</td><td>75</td><td>203.312</td></tr><tr><td>6</td><td>&quot;female&quot;</td><td>&quot;group B&quot;</td><td>&quot;associate&#x27;s de…</td><td>&quot;standard&quot;</td><td>&quot;none&quot;</td><td>71</td><td>83</td><td>78</td><td>203.312</td></tr><tr><td>7</td><td>&quot;female&quot;</td><td>&quot;group B&quot;</td><td>&quot;some college&quot;</td><td>&quot;standard&quot;</td><td>&quot;completed&quot;</td><td>88</td><td>95</td><td>92</td><td>203.312</td></tr><tr><td>8</td><td>&quot;male&quot;</td><td>&quot;group B&quot;</td><td>&quot;some college&quot;</td><td>&quot;free/reduced&quot;</td><td>&quot;none&quot;</td><td>40</td><td>43</td><td>39</td><td>203.312</td></tr><tr><td>9</td><td>&quot;male&quot;</td><td>&quot;group D&quot;</td><td>&quot;high school&quot;</td><td>&quot;free/reduced&quot;</td><td>&quot;completed&quot;</td><td>64</td><td>64</td><td>67</td><td>203.312</td></tr><tr><td>10</td><td>&quot;female&quot;</td><td>&quot;group B&quot;</td><td>&quot;high school&quot;</td><td>&quot;free/reduced&quot;</td><td>&quot;none&quot;</td><td>38</td><td>60</td><td>50</td><td>203.312</td></tr><tr><td>11</td><td>&quot;male&quot;</td><td>&quot;group C&quot;</td><td>&quot;associate&#x27;s de…</td><td>&quot;standard&quot;</td><td>&quot;none&quot;</td><td>58</td><td>54</td><td>52</td><td>203.312</td></tr><tr><td>12</td><td>&quot;male&quot;</td><td>&quot;group D&quot;</td><td>&quot;associate&#x27;s de…</td><td>&quot;standard&quot;</td><td>&quot;none&quot;</td><td>40</td><td>52</td><td>43</td><td>203.312</td></tr><tr><td>&hellip;</td><td>&hellip;</td><td>&hellip;</td><td>&hellip;</td><td>&hellip;</td><td>&hellip;</td><td>&hellip;</td><td>&hellip;</td><td>&hellip;</td><td>&hellip;</td></tr><tr><td>989</td><td>&quot;female&quot;</td><td>&quot;group A&quot;</td><td>&quot;some high scho…</td><td>&quot;free/reduced&quot;</td><td>&quot;none&quot;</td><td>44</td><td>45</td><td>45</td><td>203.312</td></tr><tr><td>990</td><td>&quot;female&quot;</td><td>&quot;group D&quot;</td><td>&quot;some college&quot;</td><td>&quot;free/reduced&quot;</td><td>&quot;completed&quot;</td><td>67</td><td>86</td><td>83</td><td>203.312</td></tr><tr><td>991</td><td>&quot;male&quot;</td><td>&quot;group E&quot;</td><td>&quot;high school&quot;</td><td>&quot;free/reduced&quot;</td><td>&quot;completed&quot;</td><td>86</td><td>81</td><td>75</td><td>203.312</td></tr><tr><td>992</td><td>&quot;female&quot;</td><td>&quot;group B&quot;</td><td>&quot;some high scho…</td><td>&quot;standard&quot;</td><td>&quot;completed&quot;</td><td>65</td><td>82</td><td>78</td><td>203.312</td></tr><tr><td>993</td><td>&quot;female&quot;</td><td>&quot;group D&quot;</td><td>&quot;associate&#x27;s de…</td><td>&quot;free/reduced&quot;</td><td>&quot;none&quot;</td><td>55</td><td>76</td><td>76</td><td>203.312</td></tr><tr><td>994</td><td>&quot;female&quot;</td><td>&quot;group D&quot;</td><td>&quot;bachelor&#x27;s deg…</td><td>&quot;free/reduced&quot;</td><td>&quot;none&quot;</td><td>62</td><td>72</td><td>74</td><td>203.312</td></tr><tr><td>995</td><td>&quot;male&quot;</td><td>&quot;group A&quot;</td><td>&quot;high school&quot;</td><td>&quot;standard&quot;</td><td>&quot;none&quot;</td><td>63</td><td>63</td><td>62</td><td>203.312</td></tr><tr><td>996</td><td>&quot;female&quot;</td><td>&quot;group E&quot;</td><td>&quot;master&#x27;s degre…</td><td>&quot;standard&quot;</td><td>&quot;completed&quot;</td><td>88</td><td>99</td><td>95</td><td>203.312</td></tr><tr><td>997</td><td>&quot;male&quot;</td><td>&quot;group C&quot;</td><td>&quot;high school&quot;</td><td>&quot;free/reduced&quot;</td><td>&quot;none&quot;</td><td>62</td><td>55</td><td>55</td><td>203.312</td></tr><tr><td>998</td><td>&quot;female&quot;</td><td>&quot;group C&quot;</td><td>&quot;high school&quot;</td><td>&quot;free/reduced&quot;</td><td>&quot;completed&quot;</td><td>59</td><td>71</td><td>65</td><td>203.312</td></tr><tr><td>999</td><td>&quot;female&quot;</td><td>&quot;group D&quot;</td><td>&quot;some college&quot;</td><td>&quot;standard&quot;</td><td>&quot;completed&quot;</td><td>68</td><td>78</td><td>77</td><td>203.312</td></tr><tr><td>1000</td><td>&quot;female&quot;</td><td>&quot;group D&quot;</td><td>&quot;some college&quot;</td><td>&quot;free/reduced&quot;</td><td>&quot;none&quot;</td><td>77</td><td>86</td><td>86</td><td>203.312</td></tr></tbody></table></div>"
      ]
     },
     "execution_count": 12,
     "metadata": {},
     "output_type": "execute_result"
    }
   ],
   "execution_count": 12
  },
  {
   "cell_type": "code",
   "metadata": {
    "ExecuteTime": {
     "end_time": "2024-09-01T15:47:42.575193Z",
     "start_time": "2024-09-01T15:47:42.568237Z"
    }
   },
   "source": [
    "df.filter(col(\"gender\") == \"female\")"
   ],
   "outputs": [
    {
     "data": {
      "text/plain": [
       "shape: (518, 9)\n",
       "┌──────┬────────┬────────────┬────────────┬───┬────────────┬────────────┬────────────┬────────────┐\n",
       "│ id   ┆ gender ┆ race/ethni ┆ parental   ┆ … ┆ test prepa ┆ math score ┆ reading    ┆ writing    │\n",
       "│ ---  ┆ ---    ┆ city       ┆ level of   ┆   ┆ ration     ┆ ---        ┆ score      ┆ score      │\n",
       "│ i64  ┆ str    ┆ ---        ┆ education  ┆   ┆ course     ┆ i64        ┆ ---        ┆ ---        │\n",
       "│      ┆        ┆ str        ┆ ---        ┆   ┆ ---        ┆            ┆ i64        ┆ i64        │\n",
       "│      ┆        ┆            ┆ str        ┆   ┆ str        ┆            ┆            ┆            │\n",
       "╞══════╪════════╪════════════╪════════════╪═══╪════════════╪════════════╪════════════╪════════════╡\n",
       "│ 1    ┆ female ┆ group B    ┆ bachelor's ┆ … ┆ none       ┆ 72         ┆ 72         ┆ 74         │\n",
       "│      ┆        ┆            ┆ degree     ┆   ┆            ┆            ┆            ┆            │\n",
       "│ 2    ┆ female ┆ group C    ┆ some       ┆ … ┆ completed  ┆ 69         ┆ 90         ┆ 88         │\n",
       "│      ┆        ┆            ┆ college    ┆   ┆            ┆            ┆            ┆            │\n",
       "│ 3    ┆ female ┆ group B    ┆ master's   ┆ … ┆ none       ┆ 90         ┆ 95         ┆ 93         │\n",
       "│      ┆        ┆            ┆ degree     ┆   ┆            ┆            ┆            ┆            │\n",
       "│ 6    ┆ female ┆ group B    ┆ associate' ┆ … ┆ none       ┆ 71         ┆ 83         ┆ 78         │\n",
       "│      ┆        ┆            ┆ s degree   ┆   ┆            ┆            ┆            ┆            │\n",
       "│ …    ┆ …      ┆ …          ┆ …          ┆ … ┆ …          ┆ …          ┆ …          ┆ …          │\n",
       "│ 996  ┆ female ┆ group E    ┆ master's   ┆ … ┆ completed  ┆ 88         ┆ 99         ┆ 95         │\n",
       "│      ┆        ┆            ┆ degree     ┆   ┆            ┆            ┆            ┆            │\n",
       "│ 998  ┆ female ┆ group C    ┆ high       ┆ … ┆ completed  ┆ 59         ┆ 71         ┆ 65         │\n",
       "│      ┆        ┆            ┆ school     ┆   ┆            ┆            ┆            ┆            │\n",
       "│ 999  ┆ female ┆ group D    ┆ some       ┆ … ┆ completed  ┆ 68         ┆ 78         ┆ 77         │\n",
       "│      ┆        ┆            ┆ college    ┆   ┆            ┆            ┆            ┆            │\n",
       "│ 1000 ┆ female ┆ group D    ┆ some       ┆ … ┆ none       ┆ 77         ┆ 86         ┆ 86         │\n",
       "│      ┆        ┆            ┆ college    ┆   ┆            ┆            ┆            ┆            │\n",
       "└──────┴────────┴────────────┴────────────┴───┴────────────┴────────────┴────────────┴────────────┘"
      ],
      "text/html": [
       "<div><style>\n",
       ".dataframe > thead > tr > th,\n",
       ".dataframe > tbody > tr > td {\n",
       "  text-align: right;\n",
       "}\n",
       "</style>\n",
       "<small>shape: (518, 9)</small><table border=\"1\" class=\"dataframe\"><thead><tr><th>id</th><th>gender</th><th>race/ethnicity</th><th>parental level of education</th><th>lunch</th><th>test preparation course</th><th>math score</th><th>reading score</th><th>writing score</th></tr><tr><td>i64</td><td>str</td><td>str</td><td>str</td><td>str</td><td>str</td><td>i64</td><td>i64</td><td>i64</td></tr></thead><tbody><tr><td>1</td><td>&quot;female&quot;</td><td>&quot;group B&quot;</td><td>&quot;bachelor&#x27;s deg…</td><td>&quot;standard&quot;</td><td>&quot;none&quot;</td><td>72</td><td>72</td><td>74</td></tr><tr><td>2</td><td>&quot;female&quot;</td><td>&quot;group C&quot;</td><td>&quot;some college&quot;</td><td>&quot;standard&quot;</td><td>&quot;completed&quot;</td><td>69</td><td>90</td><td>88</td></tr><tr><td>3</td><td>&quot;female&quot;</td><td>&quot;group B&quot;</td><td>&quot;master&#x27;s degre…</td><td>&quot;standard&quot;</td><td>&quot;none&quot;</td><td>90</td><td>95</td><td>93</td></tr><tr><td>6</td><td>&quot;female&quot;</td><td>&quot;group B&quot;</td><td>&quot;associate&#x27;s de…</td><td>&quot;standard&quot;</td><td>&quot;none&quot;</td><td>71</td><td>83</td><td>78</td></tr><tr><td>7</td><td>&quot;female&quot;</td><td>&quot;group B&quot;</td><td>&quot;some college&quot;</td><td>&quot;standard&quot;</td><td>&quot;completed&quot;</td><td>88</td><td>95</td><td>92</td></tr><tr><td>10</td><td>&quot;female&quot;</td><td>&quot;group B&quot;</td><td>&quot;high school&quot;</td><td>&quot;free/reduced&quot;</td><td>&quot;none&quot;</td><td>38</td><td>60</td><td>50</td></tr><tr><td>13</td><td>&quot;female&quot;</td><td>&quot;group B&quot;</td><td>&quot;high school&quot;</td><td>&quot;standard&quot;</td><td>&quot;none&quot;</td><td>65</td><td>81</td><td>73</td></tr><tr><td>15</td><td>&quot;female&quot;</td><td>&quot;group A&quot;</td><td>&quot;master&#x27;s degre…</td><td>&quot;standard&quot;</td><td>&quot;none&quot;</td><td>50</td><td>53</td><td>58</td></tr><tr><td>16</td><td>&quot;female&quot;</td><td>&quot;group C&quot;</td><td>&quot;some high scho…</td><td>&quot;standard&quot;</td><td>&quot;none&quot;</td><td>69</td><td>75</td><td>78</td></tr><tr><td>18</td><td>&quot;female&quot;</td><td>&quot;group B&quot;</td><td>&quot;some high scho…</td><td>&quot;free/reduced&quot;</td><td>&quot;none&quot;</td><td>18</td><td>32</td><td>28</td></tr><tr><td>20</td><td>&quot;female&quot;</td><td>&quot;group C&quot;</td><td>&quot;associate&#x27;s de…</td><td>&quot;free/reduced&quot;</td><td>&quot;none&quot;</td><td>54</td><td>58</td><td>61</td></tr><tr><td>22</td><td>&quot;female&quot;</td><td>&quot;group B&quot;</td><td>&quot;some college&quot;</td><td>&quot;free/reduced&quot;</td><td>&quot;completed&quot;</td><td>65</td><td>75</td><td>70</td></tr><tr><td>&hellip;</td><td>&hellip;</td><td>&hellip;</td><td>&hellip;</td><td>&hellip;</td><td>&hellip;</td><td>&hellip;</td><td>&hellip;</td><td>&hellip;</td></tr><tr><td>984</td><td>&quot;female&quot;</td><td>&quot;group A&quot;</td><td>&quot;some college&quot;</td><td>&quot;standard&quot;</td><td>&quot;completed&quot;</td><td>78</td><td>87</td><td>91</td></tr><tr><td>985</td><td>&quot;female&quot;</td><td>&quot;group C&quot;</td><td>&quot;some high scho…</td><td>&quot;standard&quot;</td><td>&quot;none&quot;</td><td>74</td><td>75</td><td>82</td></tr><tr><td>987</td><td>&quot;female&quot;</td><td>&quot;group C&quot;</td><td>&quot;associate&#x27;s de…</td><td>&quot;standard&quot;</td><td>&quot;none&quot;</td><td>40</td><td>59</td><td>51</td></tr><tr><td>989</td><td>&quot;female&quot;</td><td>&quot;group A&quot;</td><td>&quot;some high scho…</td><td>&quot;free/reduced&quot;</td><td>&quot;none&quot;</td><td>44</td><td>45</td><td>45</td></tr><tr><td>990</td><td>&quot;female&quot;</td><td>&quot;group D&quot;</td><td>&quot;some college&quot;</td><td>&quot;free/reduced&quot;</td><td>&quot;completed&quot;</td><td>67</td><td>86</td><td>83</td></tr><tr><td>992</td><td>&quot;female&quot;</td><td>&quot;group B&quot;</td><td>&quot;some high scho…</td><td>&quot;standard&quot;</td><td>&quot;completed&quot;</td><td>65</td><td>82</td><td>78</td></tr><tr><td>993</td><td>&quot;female&quot;</td><td>&quot;group D&quot;</td><td>&quot;associate&#x27;s de…</td><td>&quot;free/reduced&quot;</td><td>&quot;none&quot;</td><td>55</td><td>76</td><td>76</td></tr><tr><td>994</td><td>&quot;female&quot;</td><td>&quot;group D&quot;</td><td>&quot;bachelor&#x27;s deg…</td><td>&quot;free/reduced&quot;</td><td>&quot;none&quot;</td><td>62</td><td>72</td><td>74</td></tr><tr><td>996</td><td>&quot;female&quot;</td><td>&quot;group E&quot;</td><td>&quot;master&#x27;s degre…</td><td>&quot;standard&quot;</td><td>&quot;completed&quot;</td><td>88</td><td>99</td><td>95</td></tr><tr><td>998</td><td>&quot;female&quot;</td><td>&quot;group C&quot;</td><td>&quot;high school&quot;</td><td>&quot;free/reduced&quot;</td><td>&quot;completed&quot;</td><td>59</td><td>71</td><td>65</td></tr><tr><td>999</td><td>&quot;female&quot;</td><td>&quot;group D&quot;</td><td>&quot;some college&quot;</td><td>&quot;standard&quot;</td><td>&quot;completed&quot;</td><td>68</td><td>78</td><td>77</td></tr><tr><td>1000</td><td>&quot;female&quot;</td><td>&quot;group D&quot;</td><td>&quot;some college&quot;</td><td>&quot;free/reduced&quot;</td><td>&quot;none&quot;</td><td>77</td><td>86</td><td>86</td></tr></tbody></table></div>"
      ]
     },
     "execution_count": 13,
     "metadata": {},
     "output_type": "execute_result"
    }
   ],
   "execution_count": 13
  },
  {
   "cell_type": "code",
   "metadata": {
    "ExecuteTime": {
     "end_time": "2024-09-01T15:47:43.025184Z",
     "start_time": "2024-09-01T15:47:43.018923Z"
    }
   },
   "source": [
    "df.filter((col(\"gender\") == \"female\") & (col(\"race/ethnicity\") == \"group B\"))"
   ],
   "outputs": [
    {
     "data": {
      "text/plain": [
       "shape: (104, 9)\n",
       "┌─────┬────────┬────────────┬────────────┬───┬────────────┬────────────┬────────────┬─────────┐\n",
       "│ id  ┆ gender ┆ race/ethni ┆ parental   ┆ … ┆ test prepa ┆ math score ┆ reading    ┆ writing │\n",
       "│ --- ┆ ---    ┆ city       ┆ level of   ┆   ┆ ration     ┆ ---        ┆ score      ┆ score   │\n",
       "│ i64 ┆ str    ┆ ---        ┆ education  ┆   ┆ course     ┆ i64        ┆ ---        ┆ ---     │\n",
       "│     ┆        ┆ str        ┆ ---        ┆   ┆ ---        ┆            ┆ i64        ┆ i64     │\n",
       "│     ┆        ┆            ┆ str        ┆   ┆ str        ┆            ┆            ┆         │\n",
       "╞═════╪════════╪════════════╪════════════╪═══╪════════════╪════════════╪════════════╪═════════╡\n",
       "│ 1   ┆ female ┆ group B    ┆ bachelor's ┆ … ┆ none       ┆ 72         ┆ 72         ┆ 74      │\n",
       "│     ┆        ┆            ┆ degree     ┆   ┆            ┆            ┆            ┆         │\n",
       "│ 3   ┆ female ┆ group B    ┆ master's   ┆ … ┆ none       ┆ 90         ┆ 95         ┆ 93      │\n",
       "│     ┆        ┆            ┆ degree     ┆   ┆            ┆            ┆            ┆         │\n",
       "│ 6   ┆ female ┆ group B    ┆ associate' ┆ … ┆ none       ┆ 71         ┆ 83         ┆ 78      │\n",
       "│     ┆        ┆            ┆ s degree   ┆   ┆            ┆            ┆            ┆         │\n",
       "│ 7   ┆ female ┆ group B    ┆ some       ┆ … ┆ completed  ┆ 88         ┆ 95         ┆ 92      │\n",
       "│     ┆        ┆            ┆ college    ┆   ┆            ┆            ┆            ┆         │\n",
       "│ …   ┆ …      ┆ …          ┆ …          ┆ … ┆ …          ┆ …          ┆ …          ┆ …       │\n",
       "│ 945 ┆ female ┆ group B    ┆ high       ┆ … ┆ none       ┆ 58         ┆ 68         ┆ 61      │\n",
       "│     ┆        ┆            ┆ school     ┆   ┆            ┆            ┆            ┆         │\n",
       "│ 970 ┆ female ┆ group B    ┆ bachelor's ┆ … ┆ none       ┆ 75         ┆ 84         ┆ 80      │\n",
       "│     ┆        ┆            ┆ degree     ┆   ┆            ┆            ┆            ┆         │\n",
       "│ 981 ┆ female ┆ group B    ┆ high       ┆ … ┆ none       ┆ 8          ┆ 24         ┆ 23      │\n",
       "│     ┆        ┆            ┆ school     ┆   ┆            ┆            ┆            ┆         │\n",
       "│ 992 ┆ female ┆ group B    ┆ some high  ┆ … ┆ completed  ┆ 65         ┆ 82         ┆ 78      │\n",
       "│     ┆        ┆            ┆ school     ┆   ┆            ┆            ┆            ┆         │\n",
       "└─────┴────────┴────────────┴────────────┴───┴────────────┴────────────┴────────────┴─────────┘"
      ],
      "text/html": [
       "<div><style>\n",
       ".dataframe > thead > tr > th,\n",
       ".dataframe > tbody > tr > td {\n",
       "  text-align: right;\n",
       "}\n",
       "</style>\n",
       "<small>shape: (104, 9)</small><table border=\"1\" class=\"dataframe\"><thead><tr><th>id</th><th>gender</th><th>race/ethnicity</th><th>parental level of education</th><th>lunch</th><th>test preparation course</th><th>math score</th><th>reading score</th><th>writing score</th></tr><tr><td>i64</td><td>str</td><td>str</td><td>str</td><td>str</td><td>str</td><td>i64</td><td>i64</td><td>i64</td></tr></thead><tbody><tr><td>1</td><td>&quot;female&quot;</td><td>&quot;group B&quot;</td><td>&quot;bachelor&#x27;s deg…</td><td>&quot;standard&quot;</td><td>&quot;none&quot;</td><td>72</td><td>72</td><td>74</td></tr><tr><td>3</td><td>&quot;female&quot;</td><td>&quot;group B&quot;</td><td>&quot;master&#x27;s degre…</td><td>&quot;standard&quot;</td><td>&quot;none&quot;</td><td>90</td><td>95</td><td>93</td></tr><tr><td>6</td><td>&quot;female&quot;</td><td>&quot;group B&quot;</td><td>&quot;associate&#x27;s de…</td><td>&quot;standard&quot;</td><td>&quot;none&quot;</td><td>71</td><td>83</td><td>78</td></tr><tr><td>7</td><td>&quot;female&quot;</td><td>&quot;group B&quot;</td><td>&quot;some college&quot;</td><td>&quot;standard&quot;</td><td>&quot;completed&quot;</td><td>88</td><td>95</td><td>92</td></tr><tr><td>10</td><td>&quot;female&quot;</td><td>&quot;group B&quot;</td><td>&quot;high school&quot;</td><td>&quot;free/reduced&quot;</td><td>&quot;none&quot;</td><td>38</td><td>60</td><td>50</td></tr><tr><td>13</td><td>&quot;female&quot;</td><td>&quot;group B&quot;</td><td>&quot;high school&quot;</td><td>&quot;standard&quot;</td><td>&quot;none&quot;</td><td>65</td><td>81</td><td>73</td></tr><tr><td>18</td><td>&quot;female&quot;</td><td>&quot;group B&quot;</td><td>&quot;some high scho…</td><td>&quot;free/reduced&quot;</td><td>&quot;none&quot;</td><td>18</td><td>32</td><td>28</td></tr><tr><td>22</td><td>&quot;female&quot;</td><td>&quot;group B&quot;</td><td>&quot;some college&quot;</td><td>&quot;free/reduced&quot;</td><td>&quot;completed&quot;</td><td>65</td><td>75</td><td>70</td></tr><tr><td>32</td><td>&quot;female&quot;</td><td>&quot;group B&quot;</td><td>&quot;some college&quot;</td><td>&quot;standard&quot;</td><td>&quot;none&quot;</td><td>63</td><td>65</td><td>61</td></tr><tr><td>43</td><td>&quot;female&quot;</td><td>&quot;group B&quot;</td><td>&quot;associate&#x27;s de…</td><td>&quot;standard&quot;</td><td>&quot;none&quot;</td><td>53</td><td>58</td><td>65</td></tr><tr><td>81</td><td>&quot;female&quot;</td><td>&quot;group B&quot;</td><td>&quot;associate&#x27;s de…</td><td>&quot;standard&quot;</td><td>&quot;none&quot;</td><td>47</td><td>49</td><td>50</td></tr><tr><td>95</td><td>&quot;female&quot;</td><td>&quot;group B&quot;</td><td>&quot;some college&quot;</td><td>&quot;standard&quot;</td><td>&quot;none&quot;</td><td>79</td><td>86</td><td>92</td></tr><tr><td>&hellip;</td><td>&hellip;</td><td>&hellip;</td><td>&hellip;</td><td>&hellip;</td><td>&hellip;</td><td>&hellip;</td><td>&hellip;</td><td>&hellip;</td></tr><tr><td>824</td><td>&quot;female&quot;</td><td>&quot;group B&quot;</td><td>&quot;high school&quot;</td><td>&quot;free/reduced&quot;</td><td>&quot;none&quot;</td><td>71</td><td>87</td><td>82</td></tr><tr><td>834</td><td>&quot;female&quot;</td><td>&quot;group B&quot;</td><td>&quot;high school&quot;</td><td>&quot;standard&quot;</td><td>&quot;completed&quot;</td><td>77</td><td>82</td><td>89</td></tr><tr><td>843</td><td>&quot;female&quot;</td><td>&quot;group B&quot;</td><td>&quot;high school&quot;</td><td>&quot;free/reduced&quot;</td><td>&quot;completed&quot;</td><td>23</td><td>44</td><td>36</td></tr><tr><td>856</td><td>&quot;female&quot;</td><td>&quot;group B&quot;</td><td>&quot;bachelor&#x27;s deg…</td><td>&quot;standard&quot;</td><td>&quot;none&quot;</td><td>97</td><td>97</td><td>96</td></tr><tr><td>883</td><td>&quot;female&quot;</td><td>&quot;group B&quot;</td><td>&quot;high school&quot;</td><td>&quot;free/reduced&quot;</td><td>&quot;none&quot;</td><td>64</td><td>73</td><td>71</td></tr><tr><td>898</td><td>&quot;female&quot;</td><td>&quot;group B&quot;</td><td>&quot;some high scho…</td><td>&quot;free/reduced&quot;</td><td>&quot;completed&quot;</td><td>63</td><td>78</td><td>79</td></tr><tr><td>915</td><td>&quot;female&quot;</td><td>&quot;group B&quot;</td><td>&quot;associate&#x27;s de…</td><td>&quot;free/reduced&quot;</td><td>&quot;none&quot;</td><td>46</td><td>61</td><td>55</td></tr><tr><td>924</td><td>&quot;female&quot;</td><td>&quot;group B&quot;</td><td>&quot;associate&#x27;s de…</td><td>&quot;free/reduced&quot;</td><td>&quot;none&quot;</td><td>54</td><td>65</td><td>65</td></tr><tr><td>945</td><td>&quot;female&quot;</td><td>&quot;group B&quot;</td><td>&quot;high school&quot;</td><td>&quot;standard&quot;</td><td>&quot;none&quot;</td><td>58</td><td>68</td><td>61</td></tr><tr><td>970</td><td>&quot;female&quot;</td><td>&quot;group B&quot;</td><td>&quot;bachelor&#x27;s deg…</td><td>&quot;standard&quot;</td><td>&quot;none&quot;</td><td>75</td><td>84</td><td>80</td></tr><tr><td>981</td><td>&quot;female&quot;</td><td>&quot;group B&quot;</td><td>&quot;high school&quot;</td><td>&quot;free/reduced&quot;</td><td>&quot;none&quot;</td><td>8</td><td>24</td><td>23</td></tr><tr><td>992</td><td>&quot;female&quot;</td><td>&quot;group B&quot;</td><td>&quot;some high scho…</td><td>&quot;standard&quot;</td><td>&quot;completed&quot;</td><td>65</td><td>82</td><td>78</td></tr></tbody></table></div>"
      ]
     },
     "execution_count": 14,
     "metadata": {},
     "output_type": "execute_result"
    }
   ],
   "execution_count": 14
  },
  {
   "cell_type": "code",
   "metadata": {
    "ExecuteTime": {
     "end_time": "2024-09-01T15:47:43.291470Z",
     "start_time": "2024-09-01T15:47:43.279455Z"
    }
   },
   "source": [
    "df.groupby(col(\"race/ethnicity\")).count()"
   ],
   "outputs": [
    {
     "data": {
      "text/plain": [
       "shape: (5, 2)\n",
       "┌────────────────┬───────┐\n",
       "│ race/ethnicity ┆ count │\n",
       "│ ---            ┆ ---   │\n",
       "│ str            ┆ u32   │\n",
       "╞════════════════╪═══════╡\n",
       "│ group D        ┆ 262   │\n",
       "│ group A        ┆ 89    │\n",
       "│ group B        ┆ 190   │\n",
       "│ group E        ┆ 140   │\n",
       "│ group C        ┆ 319   │\n",
       "└────────────────┴───────┘"
      ],
      "text/html": [
       "<div><style>\n",
       ".dataframe > thead > tr > th,\n",
       ".dataframe > tbody > tr > td {\n",
       "  text-align: right;\n",
       "}\n",
       "</style>\n",
       "<small>shape: (5, 2)</small><table border=\"1\" class=\"dataframe\"><thead><tr><th>race/ethnicity</th><th>count</th></tr><tr><td>str</td><td>u32</td></tr></thead><tbody><tr><td>&quot;group D&quot;</td><td>262</td></tr><tr><td>&quot;group A&quot;</td><td>89</td></tr><tr><td>&quot;group B&quot;</td><td>190</td></tr><tr><td>&quot;group E&quot;</td><td>140</td></tr><tr><td>&quot;group C&quot;</td><td>319</td></tr></tbody></table></div>"
      ]
     },
     "execution_count": 15,
     "metadata": {},
     "output_type": "execute_result"
    }
   ],
   "execution_count": 15
  },
  {
   "cell_type": "code",
   "metadata": {
    "ExecuteTime": {
     "end_time": "2024-09-01T15:47:44.200596Z",
     "start_time": "2024-09-01T15:47:44.191991Z"
    }
   },
   "source": [
    "df.groupby(\"race/ethnicity\").agg(pl.sum(\"math score\").alias(\"sum_math_score\")).filter(\n",
    "    col(\"sum_math_score\") > 10000\n",
    ").sort(col(\"sum_math_score\"), descending=True).limit(3)"
   ],
   "outputs": [
    {
     "data": {
      "text/plain": [
       "shape: (3, 2)\n",
       "┌────────────────┬────────────────┐\n",
       "│ race/ethnicity ┆ sum_math_score │\n",
       "│ ---            ┆ ---            │\n",
       "│ str            ┆ i64            │\n",
       "╞════════════════╪════════════════╡\n",
       "│ group C        ┆ 20564          │\n",
       "│ group D        ┆ 17649          │\n",
       "│ group B        ┆ 12056          │\n",
       "└────────────────┴────────────────┘"
      ],
      "text/html": [
       "<div><style>\n",
       ".dataframe > thead > tr > th,\n",
       ".dataframe > tbody > tr > td {\n",
       "  text-align: right;\n",
       "}\n",
       "</style>\n",
       "<small>shape: (3, 2)</small><table border=\"1\" class=\"dataframe\"><thead><tr><th>race/ethnicity</th><th>sum_math_score</th></tr><tr><td>str</td><td>i64</td></tr></thead><tbody><tr><td>&quot;group C&quot;</td><td>20564</td></tr><tr><td>&quot;group D&quot;</td><td>17649</td></tr><tr><td>&quot;group B&quot;</td><td>12056</td></tr></tbody></table></div>"
      ]
     },
     "execution_count": 16,
     "metadata": {},
     "output_type": "execute_result"
    }
   ],
   "execution_count": 16
  },
  {
   "cell_type": "code",
   "metadata": {
    "ExecuteTime": {
     "end_time": "2024-09-01T15:47:44.876195Z",
     "start_time": "2024-09-01T15:47:44.874561Z"
    }
   },
   "source": [],
   "outputs": [],
   "execution_count": 16
  },
  {
   "cell_type": "code",
   "metadata": {
    "ExecuteTime": {
     "end_time": "2024-09-01T15:47:45.071140Z",
     "start_time": "2024-09-01T15:47:45.068157Z"
    }
   },
   "source": [
    "df2 = pl.read_csv(\"data/LanguageScore.csv\")"
   ],
   "outputs": [],
   "execution_count": 17
  },
  {
   "cell_type": "code",
   "metadata": {
    "ExecuteTime": {
     "end_time": "2024-09-01T15:47:45.323425Z",
     "start_time": "2024-09-01T15:47:45.319318Z"
    }
   },
   "source": [
    "df2.columns"
   ],
   "outputs": [
    {
     "data": {
      "text/plain": [
       "['id', 'language score']"
      ]
     },
     "execution_count": 18,
     "metadata": {},
     "output_type": "execute_result"
    }
   ],
   "execution_count": 18
  },
  {
   "cell_type": "code",
   "metadata": {
    "ExecuteTime": {
     "end_time": "2024-09-01T15:47:45.474900Z",
     "start_time": "2024-09-01T15:47:45.471775Z"
    }
   },
   "source": [
    "df2.schema"
   ],
   "outputs": [
    {
     "data": {
      "text/plain": [
       "{'id': Int64, 'language score': Int64}"
      ]
     },
     "execution_count": 19,
     "metadata": {},
     "output_type": "execute_result"
    }
   ],
   "execution_count": 19
  },
  {
   "cell_type": "code",
   "metadata": {
    "ExecuteTime": {
     "end_time": "2024-09-01T15:47:45.674697Z",
     "start_time": "2024-09-01T15:47:45.670549Z"
    }
   },
   "source": [
    "df2.describe()"
   ],
   "outputs": [
    {
     "data": {
      "text/plain": [
       "shape: (9, 3)\n",
       "┌────────────┬───────────┬────────────────┐\n",
       "│ describe   ┆ id        ┆ language score │\n",
       "│ ---        ┆ ---       ┆ ---            │\n",
       "│ str        ┆ f64       ┆ f64            │\n",
       "╞════════════╪═══════════╪════════════════╡\n",
       "│ count      ┆ 100.0     ┆ 100.0          │\n",
       "│ null_count ┆ 0.0       ┆ 0.0            │\n",
       "│ mean       ┆ 50.5      ┆ 65.36          │\n",
       "│ std        ┆ 29.011492 ┆ 21.356294      │\n",
       "│ min        ┆ 1.0       ┆ 30.0           │\n",
       "│ max        ┆ 100.0     ┆ 100.0          │\n",
       "│ median     ┆ 50.5      ┆ 66.5           │\n",
       "│ 25%        ┆ 26.0      ┆ 47.0           │\n",
       "│ 75%        ┆ 76.0      ┆ 84.0           │\n",
       "└────────────┴───────────┴────────────────┘"
      ],
      "text/html": [
       "<div><style>\n",
       ".dataframe > thead > tr > th,\n",
       ".dataframe > tbody > tr > td {\n",
       "  text-align: right;\n",
       "}\n",
       "</style>\n",
       "<small>shape: (9, 3)</small><table border=\"1\" class=\"dataframe\"><thead><tr><th>describe</th><th>id</th><th>language score</th></tr><tr><td>str</td><td>f64</td><td>f64</td></tr></thead><tbody><tr><td>&quot;count&quot;</td><td>100.0</td><td>100.0</td></tr><tr><td>&quot;null_count&quot;</td><td>0.0</td><td>0.0</td></tr><tr><td>&quot;mean&quot;</td><td>50.5</td><td>65.36</td></tr><tr><td>&quot;std&quot;</td><td>29.011492</td><td>21.356294</td></tr><tr><td>&quot;min&quot;</td><td>1.0</td><td>30.0</td></tr><tr><td>&quot;max&quot;</td><td>100.0</td><td>100.0</td></tr><tr><td>&quot;median&quot;</td><td>50.5</td><td>66.5</td></tr><tr><td>&quot;25%&quot;</td><td>26.0</td><td>47.0</td></tr><tr><td>&quot;75%&quot;</td><td>76.0</td><td>84.0</td></tr></tbody></table></div>"
      ]
     },
     "execution_count": 20,
     "metadata": {},
     "output_type": "execute_result"
    }
   ],
   "execution_count": 20
  },
  {
   "cell_type": "code",
   "metadata": {
    "ExecuteTime": {
     "end_time": "2024-09-01T15:47:46.297308Z",
     "start_time": "2024-09-01T15:47:46.292911Z"
    }
   },
   "source": [
    "df2.select(\"*\")"
   ],
   "outputs": [
    {
     "data": {
      "text/plain": [
       "shape: (100, 2)\n",
       "┌─────┬────────────────┐\n",
       "│ id  ┆ language score │\n",
       "│ --- ┆ ---            │\n",
       "│ i64 ┆ i64            │\n",
       "╞═════╪════════════════╡\n",
       "│ 1   ┆ 74             │\n",
       "│ 2   ┆ 67             │\n",
       "│ 3   ┆ 34             │\n",
       "│ 4   ┆ 33             │\n",
       "│ …   ┆ …              │\n",
       "│ 97  ┆ 87             │\n",
       "│ 98  ┆ 66             │\n",
       "│ 99  ┆ 94             │\n",
       "│ 100 ┆ 75             │\n",
       "└─────┴────────────────┘"
      ],
      "text/html": [
       "<div><style>\n",
       ".dataframe > thead > tr > th,\n",
       ".dataframe > tbody > tr > td {\n",
       "  text-align: right;\n",
       "}\n",
       "</style>\n",
       "<small>shape: (100, 2)</small><table border=\"1\" class=\"dataframe\"><thead><tr><th>id</th><th>language score</th></tr><tr><td>i64</td><td>i64</td></tr></thead><tbody><tr><td>1</td><td>74</td></tr><tr><td>2</td><td>67</td></tr><tr><td>3</td><td>34</td></tr><tr><td>4</td><td>33</td></tr><tr><td>5</td><td>75</td></tr><tr><td>6</td><td>51</td></tr><tr><td>7</td><td>95</td></tr><tr><td>8</td><td>92</td></tr><tr><td>9</td><td>56</td></tr><tr><td>10</td><td>60</td></tr><tr><td>11</td><td>76</td></tr><tr><td>12</td><td>41</td></tr><tr><td>&hellip;</td><td>&hellip;</td></tr><tr><td>89</td><td>32</td></tr><tr><td>90</td><td>77</td></tr><tr><td>91</td><td>65</td></tr><tr><td>92</td><td>84</td></tr><tr><td>93</td><td>67</td></tr><tr><td>94</td><td>65</td></tr><tr><td>95</td><td>99</td></tr><tr><td>96</td><td>67</td></tr><tr><td>97</td><td>87</td></tr><tr><td>98</td><td>66</td></tr><tr><td>99</td><td>94</td></tr><tr><td>100</td><td>75</td></tr></tbody></table></div>"
      ]
     },
     "execution_count": 21,
     "metadata": {},
     "output_type": "execute_result"
    }
   ],
   "execution_count": 21
  },
  {
   "cell_type": "code",
   "metadata": {
    "ExecuteTime": {
     "end_time": "2024-09-01T15:47:46.491703Z",
     "start_time": "2024-09-01T15:47:46.484198Z"
    }
   },
   "source": [
    "df.join(df2, on=\"id\", how=\"left\")"
   ],
   "outputs": [
    {
     "data": {
      "text/plain": [
       "shape: (1_000, 10)\n",
       "┌──────┬────────┬────────────┬────────────┬───┬────────────┬────────────┬────────────┬────────────┐\n",
       "│ id   ┆ gender ┆ race/ethni ┆ parental   ┆ … ┆ math score ┆ reading    ┆ writing    ┆ language   │\n",
       "│ ---  ┆ ---    ┆ city       ┆ level of   ┆   ┆ ---        ┆ score      ┆ score      ┆ score      │\n",
       "│ i64  ┆ str    ┆ ---        ┆ education  ┆   ┆ i64        ┆ ---        ┆ ---        ┆ ---        │\n",
       "│      ┆        ┆ str        ┆ ---        ┆   ┆            ┆ i64        ┆ i64        ┆ i64        │\n",
       "│      ┆        ┆            ┆ str        ┆   ┆            ┆            ┆            ┆            │\n",
       "╞══════╪════════╪════════════╪════════════╪═══╪════════════╪════════════╪════════════╪════════════╡\n",
       "│ 1    ┆ female ┆ group B    ┆ bachelor's ┆ … ┆ 72         ┆ 72         ┆ 74         ┆ 74         │\n",
       "│      ┆        ┆            ┆ degree     ┆   ┆            ┆            ┆            ┆            │\n",
       "│ 2    ┆ female ┆ group C    ┆ some       ┆ … ┆ 69         ┆ 90         ┆ 88         ┆ 67         │\n",
       "│      ┆        ┆            ┆ college    ┆   ┆            ┆            ┆            ┆            │\n",
       "│ 3    ┆ female ┆ group B    ┆ master's   ┆ … ┆ 90         ┆ 95         ┆ 93         ┆ 34         │\n",
       "│      ┆        ┆            ┆ degree     ┆   ┆            ┆            ┆            ┆            │\n",
       "│ 4    ┆ male   ┆ group A    ┆ associate' ┆ … ┆ 47         ┆ 57         ┆ 44         ┆ 33         │\n",
       "│      ┆        ┆            ┆ s degree   ┆   ┆            ┆            ┆            ┆            │\n",
       "│ …    ┆ …      ┆ …          ┆ …          ┆ … ┆ …          ┆ …          ┆ …          ┆ …          │\n",
       "│ 997  ┆ male   ┆ group C    ┆ high       ┆ … ┆ 62         ┆ 55         ┆ 55         ┆ null       │\n",
       "│      ┆        ┆            ┆ school     ┆   ┆            ┆            ┆            ┆            │\n",
       "│ 998  ┆ female ┆ group C    ┆ high       ┆ … ┆ 59         ┆ 71         ┆ 65         ┆ null       │\n",
       "│      ┆        ┆            ┆ school     ┆   ┆            ┆            ┆            ┆            │\n",
       "│ 999  ┆ female ┆ group D    ┆ some       ┆ … ┆ 68         ┆ 78         ┆ 77         ┆ null       │\n",
       "│      ┆        ┆            ┆ college    ┆   ┆            ┆            ┆            ┆            │\n",
       "│ 1000 ┆ female ┆ group D    ┆ some       ┆ … ┆ 77         ┆ 86         ┆ 86         ┆ null       │\n",
       "│      ┆        ┆            ┆ college    ┆   ┆            ┆            ┆            ┆            │\n",
       "└──────┴────────┴────────────┴────────────┴───┴────────────┴────────────┴────────────┴────────────┘"
      ],
      "text/html": [
       "<div><style>\n",
       ".dataframe > thead > tr > th,\n",
       ".dataframe > tbody > tr > td {\n",
       "  text-align: right;\n",
       "}\n",
       "</style>\n",
       "<small>shape: (1_000, 10)</small><table border=\"1\" class=\"dataframe\"><thead><tr><th>id</th><th>gender</th><th>race/ethnicity</th><th>parental level of education</th><th>lunch</th><th>test preparation course</th><th>math score</th><th>reading score</th><th>writing score</th><th>language score</th></tr><tr><td>i64</td><td>str</td><td>str</td><td>str</td><td>str</td><td>str</td><td>i64</td><td>i64</td><td>i64</td><td>i64</td></tr></thead><tbody><tr><td>1</td><td>&quot;female&quot;</td><td>&quot;group B&quot;</td><td>&quot;bachelor&#x27;s deg…</td><td>&quot;standard&quot;</td><td>&quot;none&quot;</td><td>72</td><td>72</td><td>74</td><td>74</td></tr><tr><td>2</td><td>&quot;female&quot;</td><td>&quot;group C&quot;</td><td>&quot;some college&quot;</td><td>&quot;standard&quot;</td><td>&quot;completed&quot;</td><td>69</td><td>90</td><td>88</td><td>67</td></tr><tr><td>3</td><td>&quot;female&quot;</td><td>&quot;group B&quot;</td><td>&quot;master&#x27;s degre…</td><td>&quot;standard&quot;</td><td>&quot;none&quot;</td><td>90</td><td>95</td><td>93</td><td>34</td></tr><tr><td>4</td><td>&quot;male&quot;</td><td>&quot;group A&quot;</td><td>&quot;associate&#x27;s de…</td><td>&quot;free/reduced&quot;</td><td>&quot;none&quot;</td><td>47</td><td>57</td><td>44</td><td>33</td></tr><tr><td>5</td><td>&quot;male&quot;</td><td>&quot;group C&quot;</td><td>&quot;some college&quot;</td><td>&quot;standard&quot;</td><td>&quot;none&quot;</td><td>76</td><td>78</td><td>75</td><td>75</td></tr><tr><td>6</td><td>&quot;female&quot;</td><td>&quot;group B&quot;</td><td>&quot;associate&#x27;s de…</td><td>&quot;standard&quot;</td><td>&quot;none&quot;</td><td>71</td><td>83</td><td>78</td><td>51</td></tr><tr><td>7</td><td>&quot;female&quot;</td><td>&quot;group B&quot;</td><td>&quot;some college&quot;</td><td>&quot;standard&quot;</td><td>&quot;completed&quot;</td><td>88</td><td>95</td><td>92</td><td>95</td></tr><tr><td>8</td><td>&quot;male&quot;</td><td>&quot;group B&quot;</td><td>&quot;some college&quot;</td><td>&quot;free/reduced&quot;</td><td>&quot;none&quot;</td><td>40</td><td>43</td><td>39</td><td>92</td></tr><tr><td>9</td><td>&quot;male&quot;</td><td>&quot;group D&quot;</td><td>&quot;high school&quot;</td><td>&quot;free/reduced&quot;</td><td>&quot;completed&quot;</td><td>64</td><td>64</td><td>67</td><td>56</td></tr><tr><td>10</td><td>&quot;female&quot;</td><td>&quot;group B&quot;</td><td>&quot;high school&quot;</td><td>&quot;free/reduced&quot;</td><td>&quot;none&quot;</td><td>38</td><td>60</td><td>50</td><td>60</td></tr><tr><td>11</td><td>&quot;male&quot;</td><td>&quot;group C&quot;</td><td>&quot;associate&#x27;s de…</td><td>&quot;standard&quot;</td><td>&quot;none&quot;</td><td>58</td><td>54</td><td>52</td><td>76</td></tr><tr><td>12</td><td>&quot;male&quot;</td><td>&quot;group D&quot;</td><td>&quot;associate&#x27;s de…</td><td>&quot;standard&quot;</td><td>&quot;none&quot;</td><td>40</td><td>52</td><td>43</td><td>41</td></tr><tr><td>&hellip;</td><td>&hellip;</td><td>&hellip;</td><td>&hellip;</td><td>&hellip;</td><td>&hellip;</td><td>&hellip;</td><td>&hellip;</td><td>&hellip;</td><td>&hellip;</td></tr><tr><td>989</td><td>&quot;female&quot;</td><td>&quot;group A&quot;</td><td>&quot;some high scho…</td><td>&quot;free/reduced&quot;</td><td>&quot;none&quot;</td><td>44</td><td>45</td><td>45</td><td>null</td></tr><tr><td>990</td><td>&quot;female&quot;</td><td>&quot;group D&quot;</td><td>&quot;some college&quot;</td><td>&quot;free/reduced&quot;</td><td>&quot;completed&quot;</td><td>67</td><td>86</td><td>83</td><td>null</td></tr><tr><td>991</td><td>&quot;male&quot;</td><td>&quot;group E&quot;</td><td>&quot;high school&quot;</td><td>&quot;free/reduced&quot;</td><td>&quot;completed&quot;</td><td>86</td><td>81</td><td>75</td><td>null</td></tr><tr><td>992</td><td>&quot;female&quot;</td><td>&quot;group B&quot;</td><td>&quot;some high scho…</td><td>&quot;standard&quot;</td><td>&quot;completed&quot;</td><td>65</td><td>82</td><td>78</td><td>null</td></tr><tr><td>993</td><td>&quot;female&quot;</td><td>&quot;group D&quot;</td><td>&quot;associate&#x27;s de…</td><td>&quot;free/reduced&quot;</td><td>&quot;none&quot;</td><td>55</td><td>76</td><td>76</td><td>null</td></tr><tr><td>994</td><td>&quot;female&quot;</td><td>&quot;group D&quot;</td><td>&quot;bachelor&#x27;s deg…</td><td>&quot;free/reduced&quot;</td><td>&quot;none&quot;</td><td>62</td><td>72</td><td>74</td><td>null</td></tr><tr><td>995</td><td>&quot;male&quot;</td><td>&quot;group A&quot;</td><td>&quot;high school&quot;</td><td>&quot;standard&quot;</td><td>&quot;none&quot;</td><td>63</td><td>63</td><td>62</td><td>null</td></tr><tr><td>996</td><td>&quot;female&quot;</td><td>&quot;group E&quot;</td><td>&quot;master&#x27;s degre…</td><td>&quot;standard&quot;</td><td>&quot;completed&quot;</td><td>88</td><td>99</td><td>95</td><td>null</td></tr><tr><td>997</td><td>&quot;male&quot;</td><td>&quot;group C&quot;</td><td>&quot;high school&quot;</td><td>&quot;free/reduced&quot;</td><td>&quot;none&quot;</td><td>62</td><td>55</td><td>55</td><td>null</td></tr><tr><td>998</td><td>&quot;female&quot;</td><td>&quot;group C&quot;</td><td>&quot;high school&quot;</td><td>&quot;free/reduced&quot;</td><td>&quot;completed&quot;</td><td>59</td><td>71</td><td>65</td><td>null</td></tr><tr><td>999</td><td>&quot;female&quot;</td><td>&quot;group D&quot;</td><td>&quot;some college&quot;</td><td>&quot;standard&quot;</td><td>&quot;completed&quot;</td><td>68</td><td>78</td><td>77</td><td>null</td></tr><tr><td>1000</td><td>&quot;female&quot;</td><td>&quot;group D&quot;</td><td>&quot;some college&quot;</td><td>&quot;free/reduced&quot;</td><td>&quot;none&quot;</td><td>77</td><td>86</td><td>86</td><td>null</td></tr></tbody></table></div>"
      ]
     },
     "execution_count": 22,
     "metadata": {},
     "output_type": "execute_result"
    }
   ],
   "execution_count": 22
  },
  {
   "cell_type": "code",
   "metadata": {
    "ExecuteTime": {
     "end_time": "2024-09-01T15:47:46.684142Z",
     "start_time": "2024-09-01T15:47:46.679718Z"
    }
   },
   "source": [
    "concat([df, df2.drop(\"id\")], how=\"horizontal\")"
   ],
   "outputs": [
    {
     "data": {
      "text/plain": [
       "shape: (1_000, 10)\n",
       "┌──────┬────────┬────────────┬────────────┬───┬────────────┬────────────┬────────────┬────────────┐\n",
       "│ id   ┆ gender ┆ race/ethni ┆ parental   ┆ … ┆ math score ┆ reading    ┆ writing    ┆ language   │\n",
       "│ ---  ┆ ---    ┆ city       ┆ level of   ┆   ┆ ---        ┆ score      ┆ score      ┆ score      │\n",
       "│ i64  ┆ str    ┆ ---        ┆ education  ┆   ┆ i64        ┆ ---        ┆ ---        ┆ ---        │\n",
       "│      ┆        ┆ str        ┆ ---        ┆   ┆            ┆ i64        ┆ i64        ┆ i64        │\n",
       "│      ┆        ┆            ┆ str        ┆   ┆            ┆            ┆            ┆            │\n",
       "╞══════╪════════╪════════════╪════════════╪═══╪════════════╪════════════╪════════════╪════════════╡\n",
       "│ 1    ┆ female ┆ group B    ┆ bachelor's ┆ … ┆ 72         ┆ 72         ┆ 74         ┆ 74         │\n",
       "│      ┆        ┆            ┆ degree     ┆   ┆            ┆            ┆            ┆            │\n",
       "│ 2    ┆ female ┆ group C    ┆ some       ┆ … ┆ 69         ┆ 90         ┆ 88         ┆ 67         │\n",
       "│      ┆        ┆            ┆ college    ┆   ┆            ┆            ┆            ┆            │\n",
       "│ 3    ┆ female ┆ group B    ┆ master's   ┆ … ┆ 90         ┆ 95         ┆ 93         ┆ 34         │\n",
       "│      ┆        ┆            ┆ degree     ┆   ┆            ┆            ┆            ┆            │\n",
       "│ 4    ┆ male   ┆ group A    ┆ associate' ┆ … ┆ 47         ┆ 57         ┆ 44         ┆ 33         │\n",
       "│      ┆        ┆            ┆ s degree   ┆   ┆            ┆            ┆            ┆            │\n",
       "│ …    ┆ …      ┆ …          ┆ …          ┆ … ┆ …          ┆ …          ┆ …          ┆ …          │\n",
       "│ 997  ┆ male   ┆ group C    ┆ high       ┆ … ┆ 62         ┆ 55         ┆ 55         ┆ null       │\n",
       "│      ┆        ┆            ┆ school     ┆   ┆            ┆            ┆            ┆            │\n",
       "│ 998  ┆ female ┆ group C    ┆ high       ┆ … ┆ 59         ┆ 71         ┆ 65         ┆ null       │\n",
       "│      ┆        ┆            ┆ school     ┆   ┆            ┆            ┆            ┆            │\n",
       "│ 999  ┆ female ┆ group D    ┆ some       ┆ … ┆ 68         ┆ 78         ┆ 77         ┆ null       │\n",
       "│      ┆        ┆            ┆ college    ┆   ┆            ┆            ┆            ┆            │\n",
       "│ 1000 ┆ female ┆ group D    ┆ some       ┆ … ┆ 77         ┆ 86         ┆ 86         ┆ null       │\n",
       "│      ┆        ┆            ┆ college    ┆   ┆            ┆            ┆            ┆            │\n",
       "└──────┴────────┴────────────┴────────────┴───┴────────────┴────────────┴────────────┴────────────┘"
      ],
      "text/html": [
       "<div><style>\n",
       ".dataframe > thead > tr > th,\n",
       ".dataframe > tbody > tr > td {\n",
       "  text-align: right;\n",
       "}\n",
       "</style>\n",
       "<small>shape: (1_000, 10)</small><table border=\"1\" class=\"dataframe\"><thead><tr><th>id</th><th>gender</th><th>race/ethnicity</th><th>parental level of education</th><th>lunch</th><th>test preparation course</th><th>math score</th><th>reading score</th><th>writing score</th><th>language score</th></tr><tr><td>i64</td><td>str</td><td>str</td><td>str</td><td>str</td><td>str</td><td>i64</td><td>i64</td><td>i64</td><td>i64</td></tr></thead><tbody><tr><td>1</td><td>&quot;female&quot;</td><td>&quot;group B&quot;</td><td>&quot;bachelor&#x27;s deg…</td><td>&quot;standard&quot;</td><td>&quot;none&quot;</td><td>72</td><td>72</td><td>74</td><td>74</td></tr><tr><td>2</td><td>&quot;female&quot;</td><td>&quot;group C&quot;</td><td>&quot;some college&quot;</td><td>&quot;standard&quot;</td><td>&quot;completed&quot;</td><td>69</td><td>90</td><td>88</td><td>67</td></tr><tr><td>3</td><td>&quot;female&quot;</td><td>&quot;group B&quot;</td><td>&quot;master&#x27;s degre…</td><td>&quot;standard&quot;</td><td>&quot;none&quot;</td><td>90</td><td>95</td><td>93</td><td>34</td></tr><tr><td>4</td><td>&quot;male&quot;</td><td>&quot;group A&quot;</td><td>&quot;associate&#x27;s de…</td><td>&quot;free/reduced&quot;</td><td>&quot;none&quot;</td><td>47</td><td>57</td><td>44</td><td>33</td></tr><tr><td>5</td><td>&quot;male&quot;</td><td>&quot;group C&quot;</td><td>&quot;some college&quot;</td><td>&quot;standard&quot;</td><td>&quot;none&quot;</td><td>76</td><td>78</td><td>75</td><td>75</td></tr><tr><td>6</td><td>&quot;female&quot;</td><td>&quot;group B&quot;</td><td>&quot;associate&#x27;s de…</td><td>&quot;standard&quot;</td><td>&quot;none&quot;</td><td>71</td><td>83</td><td>78</td><td>51</td></tr><tr><td>7</td><td>&quot;female&quot;</td><td>&quot;group B&quot;</td><td>&quot;some college&quot;</td><td>&quot;standard&quot;</td><td>&quot;completed&quot;</td><td>88</td><td>95</td><td>92</td><td>95</td></tr><tr><td>8</td><td>&quot;male&quot;</td><td>&quot;group B&quot;</td><td>&quot;some college&quot;</td><td>&quot;free/reduced&quot;</td><td>&quot;none&quot;</td><td>40</td><td>43</td><td>39</td><td>92</td></tr><tr><td>9</td><td>&quot;male&quot;</td><td>&quot;group D&quot;</td><td>&quot;high school&quot;</td><td>&quot;free/reduced&quot;</td><td>&quot;completed&quot;</td><td>64</td><td>64</td><td>67</td><td>56</td></tr><tr><td>10</td><td>&quot;female&quot;</td><td>&quot;group B&quot;</td><td>&quot;high school&quot;</td><td>&quot;free/reduced&quot;</td><td>&quot;none&quot;</td><td>38</td><td>60</td><td>50</td><td>60</td></tr><tr><td>11</td><td>&quot;male&quot;</td><td>&quot;group C&quot;</td><td>&quot;associate&#x27;s de…</td><td>&quot;standard&quot;</td><td>&quot;none&quot;</td><td>58</td><td>54</td><td>52</td><td>76</td></tr><tr><td>12</td><td>&quot;male&quot;</td><td>&quot;group D&quot;</td><td>&quot;associate&#x27;s de…</td><td>&quot;standard&quot;</td><td>&quot;none&quot;</td><td>40</td><td>52</td><td>43</td><td>41</td></tr><tr><td>&hellip;</td><td>&hellip;</td><td>&hellip;</td><td>&hellip;</td><td>&hellip;</td><td>&hellip;</td><td>&hellip;</td><td>&hellip;</td><td>&hellip;</td><td>&hellip;</td></tr><tr><td>989</td><td>&quot;female&quot;</td><td>&quot;group A&quot;</td><td>&quot;some high scho…</td><td>&quot;free/reduced&quot;</td><td>&quot;none&quot;</td><td>44</td><td>45</td><td>45</td><td>null</td></tr><tr><td>990</td><td>&quot;female&quot;</td><td>&quot;group D&quot;</td><td>&quot;some college&quot;</td><td>&quot;free/reduced&quot;</td><td>&quot;completed&quot;</td><td>67</td><td>86</td><td>83</td><td>null</td></tr><tr><td>991</td><td>&quot;male&quot;</td><td>&quot;group E&quot;</td><td>&quot;high school&quot;</td><td>&quot;free/reduced&quot;</td><td>&quot;completed&quot;</td><td>86</td><td>81</td><td>75</td><td>null</td></tr><tr><td>992</td><td>&quot;female&quot;</td><td>&quot;group B&quot;</td><td>&quot;some high scho…</td><td>&quot;standard&quot;</td><td>&quot;completed&quot;</td><td>65</td><td>82</td><td>78</td><td>null</td></tr><tr><td>993</td><td>&quot;female&quot;</td><td>&quot;group D&quot;</td><td>&quot;associate&#x27;s de…</td><td>&quot;free/reduced&quot;</td><td>&quot;none&quot;</td><td>55</td><td>76</td><td>76</td><td>null</td></tr><tr><td>994</td><td>&quot;female&quot;</td><td>&quot;group D&quot;</td><td>&quot;bachelor&#x27;s deg…</td><td>&quot;free/reduced&quot;</td><td>&quot;none&quot;</td><td>62</td><td>72</td><td>74</td><td>null</td></tr><tr><td>995</td><td>&quot;male&quot;</td><td>&quot;group A&quot;</td><td>&quot;high school&quot;</td><td>&quot;standard&quot;</td><td>&quot;none&quot;</td><td>63</td><td>63</td><td>62</td><td>null</td></tr><tr><td>996</td><td>&quot;female&quot;</td><td>&quot;group E&quot;</td><td>&quot;master&#x27;s degre…</td><td>&quot;standard&quot;</td><td>&quot;completed&quot;</td><td>88</td><td>99</td><td>95</td><td>null</td></tr><tr><td>997</td><td>&quot;male&quot;</td><td>&quot;group C&quot;</td><td>&quot;high school&quot;</td><td>&quot;free/reduced&quot;</td><td>&quot;none&quot;</td><td>62</td><td>55</td><td>55</td><td>null</td></tr><tr><td>998</td><td>&quot;female&quot;</td><td>&quot;group C&quot;</td><td>&quot;high school&quot;</td><td>&quot;free/reduced&quot;</td><td>&quot;completed&quot;</td><td>59</td><td>71</td><td>65</td><td>null</td></tr><tr><td>999</td><td>&quot;female&quot;</td><td>&quot;group D&quot;</td><td>&quot;some college&quot;</td><td>&quot;standard&quot;</td><td>&quot;completed&quot;</td><td>68</td><td>78</td><td>77</td><td>null</td></tr><tr><td>1000</td><td>&quot;female&quot;</td><td>&quot;group D&quot;</td><td>&quot;some college&quot;</td><td>&quot;free/reduced&quot;</td><td>&quot;none&quot;</td><td>77</td><td>86</td><td>86</td><td>null</td></tr></tbody></table></div>"
      ]
     },
     "execution_count": 23,
     "metadata": {},
     "output_type": "execute_result"
    }
   ],
   "execution_count": 23
  },
  {
   "cell_type": "code",
   "metadata": {
    "ExecuteTime": {
     "end_time": "2024-09-01T15:47:47.165557Z",
     "start_time": "2024-09-01T15:47:47.161443Z"
    }
   },
   "source": [
    "df.filter(col(\"lunch\") == \"standard\")"
   ],
   "outputs": [
    {
     "data": {
      "text/plain": [
       "shape: (645, 9)\n",
       "┌─────┬────────┬────────────┬────────────┬───┬────────────┬────────────┬────────────┬─────────┐\n",
       "│ id  ┆ gender ┆ race/ethni ┆ parental   ┆ … ┆ test prepa ┆ math score ┆ reading    ┆ writing │\n",
       "│ --- ┆ ---    ┆ city       ┆ level of   ┆   ┆ ration     ┆ ---        ┆ score      ┆ score   │\n",
       "│ i64 ┆ str    ┆ ---        ┆ education  ┆   ┆ course     ┆ i64        ┆ ---        ┆ ---     │\n",
       "│     ┆        ┆ str        ┆ ---        ┆   ┆ ---        ┆            ┆ i64        ┆ i64     │\n",
       "│     ┆        ┆            ┆ str        ┆   ┆ str        ┆            ┆            ┆         │\n",
       "╞═════╪════════╪════════════╪════════════╪═══╪════════════╪════════════╪════════════╪═════════╡\n",
       "│ 1   ┆ female ┆ group B    ┆ bachelor's ┆ … ┆ none       ┆ 72         ┆ 72         ┆ 74      │\n",
       "│     ┆        ┆            ┆ degree     ┆   ┆            ┆            ┆            ┆         │\n",
       "│ 2   ┆ female ┆ group C    ┆ some       ┆ … ┆ completed  ┆ 69         ┆ 90         ┆ 88      │\n",
       "│     ┆        ┆            ┆ college    ┆   ┆            ┆            ┆            ┆         │\n",
       "│ 3   ┆ female ┆ group B    ┆ master's   ┆ … ┆ none       ┆ 90         ┆ 95         ┆ 93      │\n",
       "│     ┆        ┆            ┆ degree     ┆   ┆            ┆            ┆            ┆         │\n",
       "│ 5   ┆ male   ┆ group C    ┆ some       ┆ … ┆ none       ┆ 76         ┆ 78         ┆ 75      │\n",
       "│     ┆        ┆            ┆ college    ┆   ┆            ┆            ┆            ┆         │\n",
       "│ …   ┆ …      ┆ …          ┆ …          ┆ … ┆ …          ┆ …          ┆ …          ┆ …       │\n",
       "│ 992 ┆ female ┆ group B    ┆ some high  ┆ … ┆ completed  ┆ 65         ┆ 82         ┆ 78      │\n",
       "│     ┆        ┆            ┆ school     ┆   ┆            ┆            ┆            ┆         │\n",
       "│ 995 ┆ male   ┆ group A    ┆ high       ┆ … ┆ none       ┆ 63         ┆ 63         ┆ 62      │\n",
       "│     ┆        ┆            ┆ school     ┆   ┆            ┆            ┆            ┆         │\n",
       "│ 996 ┆ female ┆ group E    ┆ master's   ┆ … ┆ completed  ┆ 88         ┆ 99         ┆ 95      │\n",
       "│     ┆        ┆            ┆ degree     ┆   ┆            ┆            ┆            ┆         │\n",
       "│ 999 ┆ female ┆ group D    ┆ some       ┆ … ┆ completed  ┆ 68         ┆ 78         ┆ 77      │\n",
       "│     ┆        ┆            ┆ college    ┆   ┆            ┆            ┆            ┆         │\n",
       "└─────┴────────┴────────────┴────────────┴───┴────────────┴────────────┴────────────┴─────────┘"
      ],
      "text/html": [
       "<div><style>\n",
       ".dataframe > thead > tr > th,\n",
       ".dataframe > tbody > tr > td {\n",
       "  text-align: right;\n",
       "}\n",
       "</style>\n",
       "<small>shape: (645, 9)</small><table border=\"1\" class=\"dataframe\"><thead><tr><th>id</th><th>gender</th><th>race/ethnicity</th><th>parental level of education</th><th>lunch</th><th>test preparation course</th><th>math score</th><th>reading score</th><th>writing score</th></tr><tr><td>i64</td><td>str</td><td>str</td><td>str</td><td>str</td><td>str</td><td>i64</td><td>i64</td><td>i64</td></tr></thead><tbody><tr><td>1</td><td>&quot;female&quot;</td><td>&quot;group B&quot;</td><td>&quot;bachelor&#x27;s deg…</td><td>&quot;standard&quot;</td><td>&quot;none&quot;</td><td>72</td><td>72</td><td>74</td></tr><tr><td>2</td><td>&quot;female&quot;</td><td>&quot;group C&quot;</td><td>&quot;some college&quot;</td><td>&quot;standard&quot;</td><td>&quot;completed&quot;</td><td>69</td><td>90</td><td>88</td></tr><tr><td>3</td><td>&quot;female&quot;</td><td>&quot;group B&quot;</td><td>&quot;master&#x27;s degre…</td><td>&quot;standard&quot;</td><td>&quot;none&quot;</td><td>90</td><td>95</td><td>93</td></tr><tr><td>5</td><td>&quot;male&quot;</td><td>&quot;group C&quot;</td><td>&quot;some college&quot;</td><td>&quot;standard&quot;</td><td>&quot;none&quot;</td><td>76</td><td>78</td><td>75</td></tr><tr><td>6</td><td>&quot;female&quot;</td><td>&quot;group B&quot;</td><td>&quot;associate&#x27;s de…</td><td>&quot;standard&quot;</td><td>&quot;none&quot;</td><td>71</td><td>83</td><td>78</td></tr><tr><td>7</td><td>&quot;female&quot;</td><td>&quot;group B&quot;</td><td>&quot;some college&quot;</td><td>&quot;standard&quot;</td><td>&quot;completed&quot;</td><td>88</td><td>95</td><td>92</td></tr><tr><td>11</td><td>&quot;male&quot;</td><td>&quot;group C&quot;</td><td>&quot;associate&#x27;s de…</td><td>&quot;standard&quot;</td><td>&quot;none&quot;</td><td>58</td><td>54</td><td>52</td></tr><tr><td>12</td><td>&quot;male&quot;</td><td>&quot;group D&quot;</td><td>&quot;associate&#x27;s de…</td><td>&quot;standard&quot;</td><td>&quot;none&quot;</td><td>40</td><td>52</td><td>43</td></tr><tr><td>13</td><td>&quot;female&quot;</td><td>&quot;group B&quot;</td><td>&quot;high school&quot;</td><td>&quot;standard&quot;</td><td>&quot;none&quot;</td><td>65</td><td>81</td><td>73</td></tr><tr><td>14</td><td>&quot;male&quot;</td><td>&quot;group A&quot;</td><td>&quot;some college&quot;</td><td>&quot;standard&quot;</td><td>&quot;completed&quot;</td><td>78</td><td>72</td><td>70</td></tr><tr><td>15</td><td>&quot;female&quot;</td><td>&quot;group A&quot;</td><td>&quot;master&#x27;s degre…</td><td>&quot;standard&quot;</td><td>&quot;none&quot;</td><td>50</td><td>53</td><td>58</td></tr><tr><td>16</td><td>&quot;female&quot;</td><td>&quot;group C&quot;</td><td>&quot;some high scho…</td><td>&quot;standard&quot;</td><td>&quot;none&quot;</td><td>69</td><td>75</td><td>78</td></tr><tr><td>&hellip;</td><td>&hellip;</td><td>&hellip;</td><td>&hellip;</td><td>&hellip;</td><td>&hellip;</td><td>&hellip;</td><td>&hellip;</td><td>&hellip;</td></tr><tr><td>980</td><td>&quot;female&quot;</td><td>&quot;group C&quot;</td><td>&quot;associate&#x27;s de…</td><td>&quot;standard&quot;</td><td>&quot;none&quot;</td><td>91</td><td>95</td><td>94</td></tr><tr><td>982</td><td>&quot;male&quot;</td><td>&quot;group D&quot;</td><td>&quot;some high scho…</td><td>&quot;standard&quot;</td><td>&quot;none&quot;</td><td>81</td><td>78</td><td>78</td></tr><tr><td>983</td><td>&quot;male&quot;</td><td>&quot;group B&quot;</td><td>&quot;some high scho…</td><td>&quot;standard&quot;</td><td>&quot;completed&quot;</td><td>79</td><td>85</td><td>86</td></tr><tr><td>984</td><td>&quot;female&quot;</td><td>&quot;group A&quot;</td><td>&quot;some college&quot;</td><td>&quot;standard&quot;</td><td>&quot;completed&quot;</td><td>78</td><td>87</td><td>91</td></tr><tr><td>985</td><td>&quot;female&quot;</td><td>&quot;group C&quot;</td><td>&quot;some high scho…</td><td>&quot;standard&quot;</td><td>&quot;none&quot;</td><td>74</td><td>75</td><td>82</td></tr><tr><td>986</td><td>&quot;male&quot;</td><td>&quot;group A&quot;</td><td>&quot;high school&quot;</td><td>&quot;standard&quot;</td><td>&quot;none&quot;</td><td>57</td><td>51</td><td>54</td></tr><tr><td>987</td><td>&quot;female&quot;</td><td>&quot;group C&quot;</td><td>&quot;associate&#x27;s de…</td><td>&quot;standard&quot;</td><td>&quot;none&quot;</td><td>40</td><td>59</td><td>51</td></tr><tr><td>988</td><td>&quot;male&quot;</td><td>&quot;group E&quot;</td><td>&quot;some high scho…</td><td>&quot;standard&quot;</td><td>&quot;completed&quot;</td><td>81</td><td>75</td><td>76</td></tr><tr><td>992</td><td>&quot;female&quot;</td><td>&quot;group B&quot;</td><td>&quot;some high scho…</td><td>&quot;standard&quot;</td><td>&quot;completed&quot;</td><td>65</td><td>82</td><td>78</td></tr><tr><td>995</td><td>&quot;male&quot;</td><td>&quot;group A&quot;</td><td>&quot;high school&quot;</td><td>&quot;standard&quot;</td><td>&quot;none&quot;</td><td>63</td><td>63</td><td>62</td></tr><tr><td>996</td><td>&quot;female&quot;</td><td>&quot;group E&quot;</td><td>&quot;master&#x27;s degre…</td><td>&quot;standard&quot;</td><td>&quot;completed&quot;</td><td>88</td><td>99</td><td>95</td></tr><tr><td>999</td><td>&quot;female&quot;</td><td>&quot;group D&quot;</td><td>&quot;some college&quot;</td><td>&quot;standard&quot;</td><td>&quot;completed&quot;</td><td>68</td><td>78</td><td>77</td></tr></tbody></table></div>"
      ]
     },
     "execution_count": 24,
     "metadata": {},
     "output_type": "execute_result"
    }
   ],
   "execution_count": 24
  },
  {
   "metadata": {},
   "cell_type": "markdown",
   "source": "# Salesforce"
  },
  {
   "metadata": {
    "ExecuteTime": {
     "end_time": "2024-09-02T08:48:47.469420Z",
     "start_time": "2024-09-02T08:48:47.453209Z"
    }
   },
   "cell_type": "code",
   "source": "account_df = pl.read_csv(\"data/salesforce/Accounts.csv\", eol_char='\\r')",
   "outputs": [],
   "execution_count": 4
  },
  {
   "metadata": {
    "ExecuteTime": {
     "end_time": "2024-09-02T08:48:48.681001Z",
     "start_time": "2024-09-02T08:48:48.659345Z"
    }
   },
   "cell_type": "code",
   "source": "account_df.describe()",
   "outputs": [
    {
     "data": {
      "text/plain": [
       "shape: (9, 5)\n",
       "┌────────────┬──────────────┬──────────────┬─────────────┬─────────┐\n",
       "│ describe   ┆ CompanyEXTID ┆ Company Name ┆ City        ┆ State   │\n",
       "│ ---        ┆ ---          ┆ ---          ┆ ---         ┆ ---     │\n",
       "│ str        ┆ f64          ┆ str          ┆ str         ┆ str     │\n",
       "╞════════════╪══════════════╪══════════════╪═════════════╪═════════╡\n",
       "│ count      ┆ 100.0        ┆ 100          ┆ 100         ┆ 100     │\n",
       "│ null_count ┆ 0.0          ┆ 0            ┆ 0           ┆ 0       │\n",
       "│ mean       ┆ 50.5         ┆ null         ┆ null        ┆ null    │\n",
       "│ std        ┆ 29.011492    ┆ null         ┆ null        ┆ null    │\n",
       "│ min        ┆ 1.0          ┆ Abata        ┆ Albuquerque ┆ Alabama │\n",
       "│ max        ┆ 100.0        ┆ Zoomzone     ┆ Woburn      ┆ Wyoming │\n",
       "│ median     ┆ 50.5         ┆ null         ┆ null        ┆ null    │\n",
       "│ 25%        ┆ 26.0         ┆ null         ┆ null        ┆ null    │\n",
       "│ 75%        ┆ 76.0         ┆ null         ┆ null        ┆ null    │\n",
       "└────────────┴──────────────┴──────────────┴─────────────┴─────────┘"
      ],
      "text/html": [
       "<div><style>\n",
       ".dataframe > thead > tr > th,\n",
       ".dataframe > tbody > tr > td {\n",
       "  text-align: right;\n",
       "}\n",
       "</style>\n",
       "<small>shape: (9, 5)</small><table border=\"1\" class=\"dataframe\"><thead><tr><th>describe</th><th>CompanyEXTID</th><th>Company Name</th><th>City</th><th>State</th></tr><tr><td>str</td><td>f64</td><td>str</td><td>str</td><td>str</td></tr></thead><tbody><tr><td>&quot;count&quot;</td><td>100.0</td><td>&quot;100&quot;</td><td>&quot;100&quot;</td><td>&quot;100&quot;</td></tr><tr><td>&quot;null_count&quot;</td><td>0.0</td><td>&quot;0&quot;</td><td>&quot;0&quot;</td><td>&quot;0&quot;</td></tr><tr><td>&quot;mean&quot;</td><td>50.5</td><td>null</td><td>null</td><td>null</td></tr><tr><td>&quot;std&quot;</td><td>29.011492</td><td>null</td><td>null</td><td>null</td></tr><tr><td>&quot;min&quot;</td><td>1.0</td><td>&quot;Abata&quot;</td><td>&quot;Albuquerque&quot;</td><td>&quot;Alabama&quot;</td></tr><tr><td>&quot;max&quot;</td><td>100.0</td><td>&quot;Zoomzone&quot;</td><td>&quot;Woburn&quot;</td><td>&quot;Wyoming&quot;</td></tr><tr><td>&quot;median&quot;</td><td>50.5</td><td>null</td><td>null</td><td>null</td></tr><tr><td>&quot;25%&quot;</td><td>26.0</td><td>null</td><td>null</td><td>null</td></tr><tr><td>&quot;75%&quot;</td><td>76.0</td><td>null</td><td>null</td><td>null</td></tr></tbody></table></div>"
      ]
     },
     "execution_count": 5,
     "metadata": {},
     "output_type": "execute_result"
    }
   ],
   "execution_count": 5
  },
  {
   "metadata": {
    "ExecuteTime": {
     "end_time": "2024-09-02T08:48:52.318421Z",
     "start_time": "2024-09-02T08:48:52.314169Z"
    }
   },
   "cell_type": "code",
   "source": "account_df.columns",
   "outputs": [
    {
     "data": {
      "text/plain": [
       "['CompanyEXTID', 'Company Name', 'City', 'State']"
      ]
     },
     "execution_count": 6,
     "metadata": {},
     "output_type": "execute_result"
    }
   ],
   "execution_count": 6
  },
  {
   "metadata": {
    "ExecuteTime": {
     "end_time": "2024-09-02T08:48:53.528432Z",
     "start_time": "2024-09-02T08:48:53.524305Z"
    }
   },
   "cell_type": "code",
   "source": "account_df.schema",
   "outputs": [
    {
     "data": {
      "text/plain": [
       "{'CompanyEXTID': Int64, 'Company Name': Utf8, 'City': Utf8, 'State': Utf8}"
      ]
     },
     "execution_count": 7,
     "metadata": {},
     "output_type": "execute_result"
    }
   ],
   "execution_count": 7
  },
  {
   "metadata": {
    "ExecuteTime": {
     "end_time": "2024-09-02T08:48:54.461503Z",
     "start_time": "2024-09-02T08:48:54.457794Z"
    }
   },
   "cell_type": "code",
   "source": "account_df.select(\"*\")",
   "outputs": [
    {
     "data": {
      "text/plain": [
       "shape: (100, 4)\n",
       "┌──────────────┬──────────────┬─────────────┬─────────────┐\n",
       "│ CompanyEXTID ┆ Company Name ┆ City        ┆ State       │\n",
       "│ ---          ┆ ---          ┆ ---         ┆ ---         │\n",
       "│ i64          ┆ str          ┆ str         ┆ str         │\n",
       "╞══════════════╪══════════════╪═════════════╪═════════════╡\n",
       "│ 1            ┆ Yadel        ┆ Cheyenne    ┆ Wyoming     │\n",
       "│ 2            ┆ Camido       ┆ Stamford    ┆ Connecticut │\n",
       "│ 3            ┆ Trudeo       ┆ Seattle     ┆ Washington  │\n",
       "│ 4            ┆ Gigaclub     ┆ Anchorage   ┆ Alaska      │\n",
       "│ …            ┆ …            ┆ …           ┆ …           │\n",
       "│ 97           ┆ Realbridge   ┆ Peoria      ┆ Illinois    │\n",
       "│ 98           ┆ Talane       ┆ Chicago     ┆ Illinois    │\n",
       "│ 99           ┆ Midel        ┆ Evanston    ┆ Illinois    │\n",
       "│ 100          ┆ Trilith      ┆ Springfield ┆ Virginia    │\n",
       "└──────────────┴──────────────┴─────────────┴─────────────┘"
      ],
      "text/html": [
       "<div><style>\n",
       ".dataframe > thead > tr > th,\n",
       ".dataframe > tbody > tr > td {\n",
       "  text-align: right;\n",
       "}\n",
       "</style>\n",
       "<small>shape: (100, 4)</small><table border=\"1\" class=\"dataframe\"><thead><tr><th>CompanyEXTID</th><th>Company Name</th><th>City</th><th>State</th></tr><tr><td>i64</td><td>str</td><td>str</td><td>str</td></tr></thead><tbody><tr><td>1</td><td>&quot;Yadel&quot;</td><td>&quot;Cheyenne&quot;</td><td>&quot;Wyoming&quot;</td></tr><tr><td>2</td><td>&quot;Camido&quot;</td><td>&quot;Stamford&quot;</td><td>&quot;Connecticut&quot;</td></tr><tr><td>3</td><td>&quot;Trudeo&quot;</td><td>&quot;Seattle&quot;</td><td>&quot;Washington&quot;</td></tr><tr><td>4</td><td>&quot;Gigaclub&quot;</td><td>&quot;Anchorage&quot;</td><td>&quot;Alaska&quot;</td></tr><tr><td>5</td><td>&quot;Brainverse&quot;</td><td>&quot;Troy&quot;</td><td>&quot;Michigan&quot;</td></tr><tr><td>6</td><td>&quot;Riffpedia&quot;</td><td>&quot;San Jose&quot;</td><td>&quot;California&quot;</td></tr><tr><td>7</td><td>&quot;Tagtune&quot;</td><td>&quot;Miami&quot;</td><td>&quot;Florida&quot;</td></tr><tr><td>8</td><td>&quot;LiveZ&quot;</td><td>&quot;Athens&quot;</td><td>&quot;Georgia&quot;</td></tr><tr><td>9</td><td>&quot;Edgeblab&quot;</td><td>&quot;Austin&quot;</td><td>&quot;Texas&quot;</td></tr><tr><td>10</td><td>&quot;Aibox&quot;</td><td>&quot;Joliet&quot;</td><td>&quot;Illinois&quot;</td></tr><tr><td>11</td><td>&quot;Zoomzone&quot;</td><td>&quot;Charleston&quot;</td><td>&quot;South Carolina…</td></tr><tr><td>12</td><td>&quot;Flipbug&quot;</td><td>&quot;Fort Wayne&quot;</td><td>&quot;Indiana&quot;</td></tr><tr><td>&hellip;</td><td>&hellip;</td><td>&hellip;</td><td>&hellip;</td></tr><tr><td>89</td><td>&quot;Thoughtworks&quot;</td><td>&quot;Tulsa&quot;</td><td>&quot;Oklahoma&quot;</td></tr><tr><td>90</td><td>&quot;Lajo&quot;</td><td>&quot;Biloxi&quot;</td><td>&quot;Mississippi&quot;</td></tr><tr><td>91</td><td>&quot;Roomm&quot;</td><td>&quot;Bronx&quot;</td><td>&quot;New York&quot;</td></tr><tr><td>92</td><td>&quot;Twitterwire&quot;</td><td>&quot;Oklahoma City&quot;</td><td>&quot;Oklahoma&quot;</td></tr><tr><td>93</td><td>&quot;Mudo&quot;</td><td>&quot;Baton Rouge&quot;</td><td>&quot;Louisiana&quot;</td></tr><tr><td>94</td><td>&quot;Rhycero&quot;</td><td>&quot;Chicago&quot;</td><td>&quot;Illinois&quot;</td></tr><tr><td>95</td><td>&quot;Meemm&quot;</td><td>&quot;Milwaukee&quot;</td><td>&quot;Wisconsin&quot;</td></tr><tr><td>96</td><td>&quot;Kayveo&quot;</td><td>&quot;Madison&quot;</td><td>&quot;Wisconsin&quot;</td></tr><tr><td>97</td><td>&quot;Realbridge&quot;</td><td>&quot;Peoria&quot;</td><td>&quot;Illinois&quot;</td></tr><tr><td>98</td><td>&quot;Talane&quot;</td><td>&quot;Chicago&quot;</td><td>&quot;Illinois&quot;</td></tr><tr><td>99</td><td>&quot;Midel&quot;</td><td>&quot;Evanston&quot;</td><td>&quot;Illinois&quot;</td></tr><tr><td>100</td><td>&quot;Trilith&quot;</td><td>&quot;Springfield&quot;</td><td>&quot;Virginia&quot;</td></tr></tbody></table></div>"
      ]
     },
     "execution_count": 8,
     "metadata": {},
     "output_type": "execute_result"
    }
   ],
   "execution_count": 8
  },
  {
   "metadata": {
    "ExecuteTime": {
     "end_time": "2024-09-02T08:52:23.444799Z",
     "start_time": "2024-09-02T08:52:23.437237Z"
    }
   },
   "cell_type": "code",
   "source": "account_df.select(pl.count(\"CompanyEXTID\"))",
   "outputs": [
    {
     "data": {
      "text/plain": [
       "shape: (1, 1)\n",
       "┌──────────────┐\n",
       "│ CompanyEXTID │\n",
       "│ ---          │\n",
       "│ u32          │\n",
       "╞══════════════╡\n",
       "│ 100          │\n",
       "└──────────────┘"
      ],
      "text/html": [
       "<div><style>\n",
       ".dataframe > thead > tr > th,\n",
       ".dataframe > tbody > tr > td {\n",
       "  text-align: right;\n",
       "}\n",
       "</style>\n",
       "<small>shape: (1, 1)</small><table border=\"1\" class=\"dataframe\"><thead><tr><th>CompanyEXTID</th></tr><tr><td>u32</td></tr></thead><tbody><tr><td>100</td></tr></tbody></table></div>"
      ]
     },
     "execution_count": 17,
     "metadata": {},
     "output_type": "execute_result"
    }
   ],
   "execution_count": 17
  },
  {
   "metadata": {
    "ExecuteTime": {
     "end_time": "2024-09-02T08:49:50.872136Z",
     "start_time": "2024-09-02T08:49:50.869549Z"
    }
   },
   "cell_type": "code",
   "source": "contact_df = pl.read_csv(\"data/salesforce/Contacts.csv\", eol_char='\\r')",
   "outputs": [],
   "execution_count": 9
  },
  {
   "metadata": {
    "ExecuteTime": {
     "end_time": "2024-09-02T08:50:02.182718Z",
     "start_time": "2024-09-02T08:50:02.179224Z"
    }
   },
   "cell_type": "code",
   "source": "contact_df.select(\"*\")",
   "outputs": [
    {
     "data": {
      "text/plain": [
       "shape: (100, 5)\n",
       "┌──────────────┬────────────┬───────────┬─────────────────────────────┬───────────────┐\n",
       "│ companyEXTID ┆ first_name ┆ last_name ┆ email                       ┆ country       │\n",
       "│ ---          ┆ ---        ┆ ---       ┆ ---                         ┆ ---           │\n",
       "│ i64          ┆ str        ┆ str       ┆ str                         ┆ str           │\n",
       "╞══════════════╪════════════╪═══════════╪═════════════════════════════╪═══════════════╡\n",
       "│ 1            ┆ Phillip    ┆ Barnes    ┆ pbarnes0@about.com          ┆ United States │\n",
       "│ 2            ┆ Kathryn    ┆ Hansen    ┆ khansen1@ustream.tv         ┆ United States │\n",
       "│ 3            ┆ Roy        ┆ Edwards   ┆ redwards2@bravesites.com    ┆ United States │\n",
       "│ 4            ┆ George     ┆ Morris    ┆ gmorris3@symantec.com       ┆ United States │\n",
       "│ …            ┆ …          ┆ …         ┆ …                           ┆ …             │\n",
       "│ 97           ┆ Wanda      ┆ Mendoza   ┆ wmendoza2o@123-reg.co.uk    ┆ United States │\n",
       "│ 98           ┆ Bruce      ┆ Bowman    ┆ bbowman2p@hud.gov           ┆ United States │\n",
       "│ 99           ┆ Mary       ┆ Ferguson  ┆ mferguson2q@studiopress.com ┆ United States │\n",
       "│ 100          ┆ Billy      ┆ Wallace   ┆ bwallace2r@comsenz.com      ┆ United States │\n",
       "└──────────────┴────────────┴───────────┴─────────────────────────────┴───────────────┘"
      ],
      "text/html": [
       "<div><style>\n",
       ".dataframe > thead > tr > th,\n",
       ".dataframe > tbody > tr > td {\n",
       "  text-align: right;\n",
       "}\n",
       "</style>\n",
       "<small>shape: (100, 5)</small><table border=\"1\" class=\"dataframe\"><thead><tr><th>companyEXTID</th><th>first_name</th><th>last_name</th><th>email</th><th>country</th></tr><tr><td>i64</td><td>str</td><td>str</td><td>str</td><td>str</td></tr></thead><tbody><tr><td>1</td><td>&quot;Phillip&quot;</td><td>&quot;Barnes&quot;</td><td>&quot;pbarnes0@about…</td><td>&quot;United States&quot;</td></tr><tr><td>2</td><td>&quot;Kathryn&quot;</td><td>&quot;Hansen&quot;</td><td>&quot;khansen1@ustre…</td><td>&quot;United States&quot;</td></tr><tr><td>3</td><td>&quot;Roy&quot;</td><td>&quot;Edwards&quot;</td><td>&quot;redwards2@brav…</td><td>&quot;United States&quot;</td></tr><tr><td>4</td><td>&quot;George&quot;</td><td>&quot;Morris&quot;</td><td>&quot;gmorris3@syman…</td><td>&quot;United States&quot;</td></tr><tr><td>5</td><td>&quot;Donald&quot;</td><td>&quot;Clark&quot;</td><td>&quot;dclark4@square…</td><td>&quot;United States&quot;</td></tr><tr><td>6</td><td>&quot;Martha&quot;</td><td>&quot;Ray&quot;</td><td>&quot;mray5@archive.…</td><td>&quot;United States&quot;</td></tr><tr><td>7</td><td>&quot;Bobby&quot;</td><td>&quot;Wilson&quot;</td><td>&quot;bwilson6@reute…</td><td>&quot;United States&quot;</td></tr><tr><td>8</td><td>&quot;Jerry&quot;</td><td>&quot;Ray&quot;</td><td>&quot;jray7@comcast.…</td><td>&quot;United States&quot;</td></tr><tr><td>9</td><td>&quot;Jonathan&quot;</td><td>&quot;Thompson&quot;</td><td>&quot;jthompson8@hat…</td><td>&quot;United States&quot;</td></tr><tr><td>10</td><td>&quot;Kimberly&quot;</td><td>&quot;Rogers&quot;</td><td>&quot;krogers9@un.or…</td><td>&quot;United States&quot;</td></tr><tr><td>11</td><td>&quot;Betty&quot;</td><td>&quot;Ryan&quot;</td><td>&quot;bryana@taobao.…</td><td>&quot;United States&quot;</td></tr><tr><td>12</td><td>&quot;Kathleen&quot;</td><td>&quot;Harris&quot;</td><td>&quot;kharrisb@netwo…</td><td>&quot;United States&quot;</td></tr><tr><td>&hellip;</td><td>&hellip;</td><td>&hellip;</td><td>&hellip;</td><td>&hellip;</td></tr><tr><td>89</td><td>&quot;Anne&quot;</td><td>&quot;Fernandez&quot;</td><td>&quot;afernandez2g@b…</td><td>&quot;United States&quot;</td></tr><tr><td>90</td><td>&quot;Jack&quot;</td><td>&quot;Reynolds&quot;</td><td>&quot;jreynolds2h@na…</td><td>&quot;United States&quot;</td></tr><tr><td>91</td><td>&quot;Jean&quot;</td><td>&quot;Henry&quot;</td><td>&quot;jhenry2i@newyo…</td><td>&quot;United States&quot;</td></tr><tr><td>92</td><td>&quot;Willie&quot;</td><td>&quot;Ramirez&quot;</td><td>&quot;wramirez2j@fre…</td><td>&quot;United States&quot;</td></tr><tr><td>93</td><td>&quot;Fred&quot;</td><td>&quot;Allen&quot;</td><td>&quot;fallen2k@irs.g…</td><td>&quot;United States&quot;</td></tr><tr><td>94</td><td>&quot;Kenneth&quot;</td><td>&quot;Gonzales&quot;</td><td>&quot;kgonzales2l@da…</td><td>&quot;United States&quot;</td></tr><tr><td>95</td><td>&quot;Earl&quot;</td><td>&quot;Reynolds&quot;</td><td>&quot;ereynolds2m@ab…</td><td>&quot;United States&quot;</td></tr><tr><td>96</td><td>&quot;Raymond&quot;</td><td>&quot;Berry&quot;</td><td>&quot;rberry2n@redif…</td><td>&quot;United States&quot;</td></tr><tr><td>97</td><td>&quot;Wanda&quot;</td><td>&quot;Mendoza&quot;</td><td>&quot;wmendoza2o@123…</td><td>&quot;United States&quot;</td></tr><tr><td>98</td><td>&quot;Bruce&quot;</td><td>&quot;Bowman&quot;</td><td>&quot;bbowman2p@hud.…</td><td>&quot;United States&quot;</td></tr><tr><td>99</td><td>&quot;Mary&quot;</td><td>&quot;Ferguson&quot;</td><td>&quot;mferguson2q@st…</td><td>&quot;United States&quot;</td></tr><tr><td>100</td><td>&quot;Billy&quot;</td><td>&quot;Wallace&quot;</td><td>&quot;bwallace2r@com…</td><td>&quot;United States&quot;</td></tr></tbody></table></div>"
      ]
     },
     "execution_count": 11,
     "metadata": {},
     "output_type": "execute_result"
    }
   ],
   "execution_count": 11
  },
  {
   "metadata": {
    "ExecuteTime": {
     "end_time": "2024-09-02T08:52:42.541765Z",
     "start_time": "2024-09-02T08:52:42.538227Z"
    }
   },
   "cell_type": "code",
   "source": "contact_df.select(pl.count(\"companyEXTID\"))",
   "outputs": [
    {
     "data": {
      "text/plain": [
       "shape: (1, 1)\n",
       "┌──────────────┐\n",
       "│ companyEXTID │\n",
       "│ ---          │\n",
       "│ u32          │\n",
       "╞══════════════╡\n",
       "│ 100          │\n",
       "└──────────────┘"
      ],
      "text/html": [
       "<div><style>\n",
       ".dataframe > thead > tr > th,\n",
       ".dataframe > tbody > tr > td {\n",
       "  text-align: right;\n",
       "}\n",
       "</style>\n",
       "<small>shape: (1, 1)</small><table border=\"1\" class=\"dataframe\"><thead><tr><th>companyEXTID</th></tr><tr><td>u32</td></tr></thead><tbody><tr><td>100</td></tr></tbody></table></div>"
      ]
     },
     "execution_count": 19,
     "metadata": {},
     "output_type": "execute_result"
    }
   ],
   "execution_count": 19
  },
  {
   "metadata": {
    "ExecuteTime": {
     "end_time": "2024-09-02T08:57:24.607015Z",
     "start_time": "2024-09-02T08:57:24.603054Z"
    }
   },
   "cell_type": "code",
   "source": [
    "# join account_df and contact_df by CompanyEXTID and companyEXTID\n",
    "account_contact_df = account_df.join(contact_df, left_on=\"CompanyEXTID\", right_on=\"companyEXTID\", how=\"left\")\n",
    "account_contact_df.select(\"*\")"
   ],
   "outputs": [
    {
     "data": {
      "text/plain": [
       "shape: (100, 8)\n",
       "┌────────────┬────────────┬────────────┬────────────┬──────────┬───────────┬───────────┬───────────┐\n",
       "│ CompanyEXT ┆ Company    ┆ City       ┆ State      ┆ first_na ┆ last_name ┆ email     ┆ country   │\n",
       "│ ID         ┆ Name       ┆ ---        ┆ ---        ┆ me       ┆ ---       ┆ ---       ┆ ---       │\n",
       "│ ---        ┆ ---        ┆ str        ┆ str        ┆ ---      ┆ str       ┆ str       ┆ str       │\n",
       "│ i64        ┆ str        ┆            ┆            ┆ str      ┆           ┆           ┆           │\n",
       "╞════════════╪════════════╪════════════╪════════════╪══════════╪═══════════╪═══════════╪═══════════╡\n",
       "│ 1          ┆ Yadel      ┆ Cheyenne   ┆ Wyoming    ┆ Phillip  ┆ Barnes    ┆ pbarnes0@ ┆ United    │\n",
       "│            ┆            ┆            ┆            ┆          ┆           ┆ about.com ┆ States    │\n",
       "│ 2          ┆ Camido     ┆ Stamford   ┆ Connecticu ┆ Kathryn  ┆ Hansen    ┆ khansen1@ ┆ United    │\n",
       "│            ┆            ┆            ┆ t          ┆          ┆           ┆ ustream.t ┆ States    │\n",
       "│            ┆            ┆            ┆            ┆          ┆           ┆ v         ┆           │\n",
       "│ 3          ┆ Trudeo     ┆ Seattle    ┆ Washington ┆ Roy      ┆ Edwards   ┆ redwards2 ┆ United    │\n",
       "│            ┆            ┆            ┆            ┆          ┆           ┆ @bravesit ┆ States    │\n",
       "│            ┆            ┆            ┆            ┆          ┆           ┆ es.com    ┆           │\n",
       "│ 4          ┆ Gigaclub   ┆ Anchorage  ┆ Alaska     ┆ George   ┆ Morris    ┆ gmorris3@ ┆ United    │\n",
       "│            ┆            ┆            ┆            ┆          ┆           ┆ symantec. ┆ States    │\n",
       "│            ┆            ┆            ┆            ┆          ┆           ┆ com       ┆           │\n",
       "│ …          ┆ …          ┆ …          ┆ …          ┆ …        ┆ …         ┆ …         ┆ …         │\n",
       "│ 97         ┆ Realbridge ┆ Peoria     ┆ Illinois   ┆ Wanda    ┆ Mendoza   ┆ wmendoza2 ┆ United    │\n",
       "│            ┆            ┆            ┆            ┆          ┆           ┆ o@123-reg ┆ States    │\n",
       "│            ┆            ┆            ┆            ┆          ┆           ┆ .co.uk    ┆           │\n",
       "│ 98         ┆ Talane     ┆ Chicago    ┆ Illinois   ┆ Bruce    ┆ Bowman    ┆ bbowman2p ┆ United    │\n",
       "│            ┆            ┆            ┆            ┆          ┆           ┆ @hud.gov  ┆ States    │\n",
       "│ 99         ┆ Midel      ┆ Evanston   ┆ Illinois   ┆ Mary     ┆ Ferguson  ┆ mferguson ┆ United    │\n",
       "│            ┆            ┆            ┆            ┆          ┆           ┆ 2q@studio ┆ States    │\n",
       "│            ┆            ┆            ┆            ┆          ┆           ┆ press.com ┆           │\n",
       "│ 100        ┆ Trilith    ┆ Springfiel ┆ Virginia   ┆ Billy    ┆ Wallace   ┆ bwallace2 ┆ United    │\n",
       "│            ┆            ┆ d          ┆            ┆          ┆           ┆ r@comsenz ┆ States    │\n",
       "│            ┆            ┆            ┆            ┆          ┆           ┆ .com      ┆           │\n",
       "└────────────┴────────────┴────────────┴────────────┴──────────┴───────────┴───────────┴───────────┘"
      ],
      "text/html": [
       "<div><style>\n",
       ".dataframe > thead > tr > th,\n",
       ".dataframe > tbody > tr > td {\n",
       "  text-align: right;\n",
       "}\n",
       "</style>\n",
       "<small>shape: (100, 8)</small><table border=\"1\" class=\"dataframe\"><thead><tr><th>CompanyEXTID</th><th>Company Name</th><th>City</th><th>State</th><th>first_name</th><th>last_name</th><th>email</th><th>country</th></tr><tr><td>i64</td><td>str</td><td>str</td><td>str</td><td>str</td><td>str</td><td>str</td><td>str</td></tr></thead><tbody><tr><td>1</td><td>&quot;Yadel&quot;</td><td>&quot;Cheyenne&quot;</td><td>&quot;Wyoming&quot;</td><td>&quot;Phillip&quot;</td><td>&quot;Barnes&quot;</td><td>&quot;pbarnes0@about…</td><td>&quot;United States&quot;</td></tr><tr><td>2</td><td>&quot;Camido&quot;</td><td>&quot;Stamford&quot;</td><td>&quot;Connecticut&quot;</td><td>&quot;Kathryn&quot;</td><td>&quot;Hansen&quot;</td><td>&quot;khansen1@ustre…</td><td>&quot;United States&quot;</td></tr><tr><td>3</td><td>&quot;Trudeo&quot;</td><td>&quot;Seattle&quot;</td><td>&quot;Washington&quot;</td><td>&quot;Roy&quot;</td><td>&quot;Edwards&quot;</td><td>&quot;redwards2@brav…</td><td>&quot;United States&quot;</td></tr><tr><td>4</td><td>&quot;Gigaclub&quot;</td><td>&quot;Anchorage&quot;</td><td>&quot;Alaska&quot;</td><td>&quot;George&quot;</td><td>&quot;Morris&quot;</td><td>&quot;gmorris3@syman…</td><td>&quot;United States&quot;</td></tr><tr><td>5</td><td>&quot;Brainverse&quot;</td><td>&quot;Troy&quot;</td><td>&quot;Michigan&quot;</td><td>&quot;Donald&quot;</td><td>&quot;Clark&quot;</td><td>&quot;dclark4@square…</td><td>&quot;United States&quot;</td></tr><tr><td>6</td><td>&quot;Riffpedia&quot;</td><td>&quot;San Jose&quot;</td><td>&quot;California&quot;</td><td>&quot;Martha&quot;</td><td>&quot;Ray&quot;</td><td>&quot;mray5@archive.…</td><td>&quot;United States&quot;</td></tr><tr><td>7</td><td>&quot;Tagtune&quot;</td><td>&quot;Miami&quot;</td><td>&quot;Florida&quot;</td><td>&quot;Bobby&quot;</td><td>&quot;Wilson&quot;</td><td>&quot;bwilson6@reute…</td><td>&quot;United States&quot;</td></tr><tr><td>8</td><td>&quot;LiveZ&quot;</td><td>&quot;Athens&quot;</td><td>&quot;Georgia&quot;</td><td>&quot;Jerry&quot;</td><td>&quot;Ray&quot;</td><td>&quot;jray7@comcast.…</td><td>&quot;United States&quot;</td></tr><tr><td>9</td><td>&quot;Edgeblab&quot;</td><td>&quot;Austin&quot;</td><td>&quot;Texas&quot;</td><td>&quot;Jonathan&quot;</td><td>&quot;Thompson&quot;</td><td>&quot;jthompson8@hat…</td><td>&quot;United States&quot;</td></tr><tr><td>10</td><td>&quot;Aibox&quot;</td><td>&quot;Joliet&quot;</td><td>&quot;Illinois&quot;</td><td>&quot;Kimberly&quot;</td><td>&quot;Rogers&quot;</td><td>&quot;krogers9@un.or…</td><td>&quot;United States&quot;</td></tr><tr><td>11</td><td>&quot;Zoomzone&quot;</td><td>&quot;Charleston&quot;</td><td>&quot;South Carolina…</td><td>&quot;Betty&quot;</td><td>&quot;Ryan&quot;</td><td>&quot;bryana@taobao.…</td><td>&quot;United States&quot;</td></tr><tr><td>12</td><td>&quot;Flipbug&quot;</td><td>&quot;Fort Wayne&quot;</td><td>&quot;Indiana&quot;</td><td>&quot;Kathleen&quot;</td><td>&quot;Harris&quot;</td><td>&quot;kharrisb@netwo…</td><td>&quot;United States&quot;</td></tr><tr><td>&hellip;</td><td>&hellip;</td><td>&hellip;</td><td>&hellip;</td><td>&hellip;</td><td>&hellip;</td><td>&hellip;</td><td>&hellip;</td></tr><tr><td>89</td><td>&quot;Thoughtworks&quot;</td><td>&quot;Tulsa&quot;</td><td>&quot;Oklahoma&quot;</td><td>&quot;Anne&quot;</td><td>&quot;Fernandez&quot;</td><td>&quot;afernandez2g@b…</td><td>&quot;United States&quot;</td></tr><tr><td>90</td><td>&quot;Lajo&quot;</td><td>&quot;Biloxi&quot;</td><td>&quot;Mississippi&quot;</td><td>&quot;Jack&quot;</td><td>&quot;Reynolds&quot;</td><td>&quot;jreynolds2h@na…</td><td>&quot;United States&quot;</td></tr><tr><td>91</td><td>&quot;Roomm&quot;</td><td>&quot;Bronx&quot;</td><td>&quot;New York&quot;</td><td>&quot;Jean&quot;</td><td>&quot;Henry&quot;</td><td>&quot;jhenry2i@newyo…</td><td>&quot;United States&quot;</td></tr><tr><td>92</td><td>&quot;Twitterwire&quot;</td><td>&quot;Oklahoma City&quot;</td><td>&quot;Oklahoma&quot;</td><td>&quot;Willie&quot;</td><td>&quot;Ramirez&quot;</td><td>&quot;wramirez2j@fre…</td><td>&quot;United States&quot;</td></tr><tr><td>93</td><td>&quot;Mudo&quot;</td><td>&quot;Baton Rouge&quot;</td><td>&quot;Louisiana&quot;</td><td>&quot;Fred&quot;</td><td>&quot;Allen&quot;</td><td>&quot;fallen2k@irs.g…</td><td>&quot;United States&quot;</td></tr><tr><td>94</td><td>&quot;Rhycero&quot;</td><td>&quot;Chicago&quot;</td><td>&quot;Illinois&quot;</td><td>&quot;Kenneth&quot;</td><td>&quot;Gonzales&quot;</td><td>&quot;kgonzales2l@da…</td><td>&quot;United States&quot;</td></tr><tr><td>95</td><td>&quot;Meemm&quot;</td><td>&quot;Milwaukee&quot;</td><td>&quot;Wisconsin&quot;</td><td>&quot;Earl&quot;</td><td>&quot;Reynolds&quot;</td><td>&quot;ereynolds2m@ab…</td><td>&quot;United States&quot;</td></tr><tr><td>96</td><td>&quot;Kayveo&quot;</td><td>&quot;Madison&quot;</td><td>&quot;Wisconsin&quot;</td><td>&quot;Raymond&quot;</td><td>&quot;Berry&quot;</td><td>&quot;rberry2n@redif…</td><td>&quot;United States&quot;</td></tr><tr><td>97</td><td>&quot;Realbridge&quot;</td><td>&quot;Peoria&quot;</td><td>&quot;Illinois&quot;</td><td>&quot;Wanda&quot;</td><td>&quot;Mendoza&quot;</td><td>&quot;wmendoza2o@123…</td><td>&quot;United States&quot;</td></tr><tr><td>98</td><td>&quot;Talane&quot;</td><td>&quot;Chicago&quot;</td><td>&quot;Illinois&quot;</td><td>&quot;Bruce&quot;</td><td>&quot;Bowman&quot;</td><td>&quot;bbowman2p@hud.…</td><td>&quot;United States&quot;</td></tr><tr><td>99</td><td>&quot;Midel&quot;</td><td>&quot;Evanston&quot;</td><td>&quot;Illinois&quot;</td><td>&quot;Mary&quot;</td><td>&quot;Ferguson&quot;</td><td>&quot;mferguson2q@st…</td><td>&quot;United States&quot;</td></tr><tr><td>100</td><td>&quot;Trilith&quot;</td><td>&quot;Springfield&quot;</td><td>&quot;Virginia&quot;</td><td>&quot;Billy&quot;</td><td>&quot;Wallace&quot;</td><td>&quot;bwallace2r@com…</td><td>&quot;United States&quot;</td></tr></tbody></table></div>"
      ]
     },
     "execution_count": 26,
     "metadata": {},
     "output_type": "execute_result"
    }
   ],
   "execution_count": 26
  },
  {
   "metadata": {
    "ExecuteTime": {
     "end_time": "2024-09-02T08:58:28.624922Z",
     "start_time": "2024-09-02T08:58:28.620975Z"
    }
   },
   "cell_type": "code",
   "source": "account_contact_df.describe()",
   "outputs": [
    {
     "data": {
      "text/plain": [
       "shape: (9, 9)\n",
       "┌───────────┬────────────┬────────────┬───────────┬───┬──────────┬─────────┬───────────┬───────────┐\n",
       "│ describe  ┆ CompanyEXT ┆ Company    ┆ City      ┆ … ┆ first_na ┆ last_na ┆ email     ┆ country   │\n",
       "│ ---       ┆ ID         ┆ Name       ┆ ---       ┆   ┆ me       ┆ me      ┆ ---       ┆ ---       │\n",
       "│ str       ┆ ---        ┆ ---        ┆ str       ┆   ┆ ---      ┆ ---     ┆ str       ┆ str       │\n",
       "│           ┆ f64        ┆ str        ┆           ┆   ┆ str      ┆ str     ┆           ┆           │\n",
       "╞═══════════╪════════════╪════════════╪═══════════╪═══╪══════════╪═════════╪═══════════╪═══════════╡\n",
       "│ count     ┆ 100.0      ┆ 100        ┆ 100       ┆ … ┆ 100      ┆ 100     ┆ 100       ┆ 100       │\n",
       "│ null_coun ┆ 0.0        ┆ 0          ┆ 0         ┆ … ┆ 0        ┆ 0       ┆ 0         ┆ 0         │\n",
       "│ t         ┆            ┆            ┆           ┆   ┆          ┆         ┆           ┆           │\n",
       "│ mean      ┆ 50.5       ┆ null       ┆ null      ┆ … ┆ null     ┆ null    ┆ null      ┆ null      │\n",
       "│ std       ┆ 29.011492  ┆ null       ┆ null      ┆ … ┆ null     ┆ null    ┆ null      ┆ null      │\n",
       "│ min       ┆ 1.0        ┆ Abata      ┆ Albuquerq ┆ … ┆ Adam     ┆ Alexand ┆ abishop1c ┆ United    │\n",
       "│           ┆            ┆            ┆ ue        ┆   ┆          ┆ er      ┆ @t.co     ┆ States    │\n",
       "│ max       ┆ 100.0      ┆ Zoomzone   ┆ Woburn    ┆ … ┆ Willie   ┆ Wilson  ┆ wwatson1i ┆ United    │\n",
       "│           ┆            ┆            ┆           ┆   ┆          ┆         ┆ @bizjourn ┆ States    │\n",
       "│           ┆            ┆            ┆           ┆   ┆          ┆         ┆ als.com   ┆           │\n",
       "│ median    ┆ 50.5       ┆ null       ┆ null      ┆ … ┆ null     ┆ null    ┆ null      ┆ null      │\n",
       "│ 25%       ┆ 26.0       ┆ null       ┆ null      ┆ … ┆ null     ┆ null    ┆ null      ┆ null      │\n",
       "│ 75%       ┆ 76.0       ┆ null       ┆ null      ┆ … ┆ null     ┆ null    ┆ null      ┆ null      │\n",
       "└───────────┴────────────┴────────────┴───────────┴───┴──────────┴─────────┴───────────┴───────────┘"
      ],
      "text/html": [
       "<div><style>\n",
       ".dataframe > thead > tr > th,\n",
       ".dataframe > tbody > tr > td {\n",
       "  text-align: right;\n",
       "}\n",
       "</style>\n",
       "<small>shape: (9, 9)</small><table border=\"1\" class=\"dataframe\"><thead><tr><th>describe</th><th>CompanyEXTID</th><th>Company Name</th><th>City</th><th>State</th><th>first_name</th><th>last_name</th><th>email</th><th>country</th></tr><tr><td>str</td><td>f64</td><td>str</td><td>str</td><td>str</td><td>str</td><td>str</td><td>str</td><td>str</td></tr></thead><tbody><tr><td>&quot;count&quot;</td><td>100.0</td><td>&quot;100&quot;</td><td>&quot;100&quot;</td><td>&quot;100&quot;</td><td>&quot;100&quot;</td><td>&quot;100&quot;</td><td>&quot;100&quot;</td><td>&quot;100&quot;</td></tr><tr><td>&quot;null_count&quot;</td><td>0.0</td><td>&quot;0&quot;</td><td>&quot;0&quot;</td><td>&quot;0&quot;</td><td>&quot;0&quot;</td><td>&quot;0&quot;</td><td>&quot;0&quot;</td><td>&quot;0&quot;</td></tr><tr><td>&quot;mean&quot;</td><td>50.5</td><td>null</td><td>null</td><td>null</td><td>null</td><td>null</td><td>null</td><td>null</td></tr><tr><td>&quot;std&quot;</td><td>29.011492</td><td>null</td><td>null</td><td>null</td><td>null</td><td>null</td><td>null</td><td>null</td></tr><tr><td>&quot;min&quot;</td><td>1.0</td><td>&quot;Abata&quot;</td><td>&quot;Albuquerque&quot;</td><td>&quot;Alabama&quot;</td><td>&quot;Adam&quot;</td><td>&quot;Alexander&quot;</td><td>&quot;abishop1c@t.co…</td><td>&quot;United States&quot;</td></tr><tr><td>&quot;max&quot;</td><td>100.0</td><td>&quot;Zoomzone&quot;</td><td>&quot;Woburn&quot;</td><td>&quot;Wyoming&quot;</td><td>&quot;Willie&quot;</td><td>&quot;Wilson&quot;</td><td>&quot;wwatson1i@bizj…</td><td>&quot;United States&quot;</td></tr><tr><td>&quot;median&quot;</td><td>50.5</td><td>null</td><td>null</td><td>null</td><td>null</td><td>null</td><td>null</td><td>null</td></tr><tr><td>&quot;25%&quot;</td><td>26.0</td><td>null</td><td>null</td><td>null</td><td>null</td><td>null</td><td>null</td><td>null</td></tr><tr><td>&quot;75%&quot;</td><td>76.0</td><td>null</td><td>null</td><td>null</td><td>null</td><td>null</td><td>null</td><td>null</td></tr></tbody></table></div>"
      ]
     },
     "execution_count": 28,
     "metadata": {},
     "output_type": "execute_result"
    }
   ],
   "execution_count": 28
  },
  {
   "metadata": {
    "ExecuteTime": {
     "end_time": "2024-09-02T08:52:59.381805Z",
     "start_time": "2024-09-02T08:52:59.378596Z"
    }
   },
   "cell_type": "code",
   "source": "lead_df = pl.read_csv(\"data/salesforce/Leads.csv\", eol_char='\\r')",
   "outputs": [],
   "execution_count": 20
  },
  {
   "metadata": {
    "ExecuteTime": {
     "end_time": "2024-09-02T08:53:04.476503Z",
     "start_time": "2024-09-02T08:53:04.472245Z"
    }
   },
   "cell_type": "code",
   "source": "lead_df.select(\"*\")",
   "outputs": [
    {
     "data": {
      "text/plain": [
       "shape: (100, 5)\n",
       "┌────────────┬───────────┬──────────────────────────────────┬────────────┬─────────────┐\n",
       "│ First Name ┆ Last Name ┆ Email                            ┆ Company    ┆ Lead Status │\n",
       "│ ---        ┆ ---       ┆ ---                              ┆ ---        ┆ ---         │\n",
       "│ str        ┆ str       ┆ str                              ┆ str        ┆ str         │\n",
       "╞════════════╪═══════════╪══════════════════════════════════╪════════════╪═════════════╡\n",
       "│ Kathryn    ┆ Garza     ┆ kgarza0@desdev.cn                ┆ Oyonder    ┆ New         │\n",
       "│ Jesse      ┆ Lewis     ┆ jlewis1@arstechnica.com          ┆ Divanoodle ┆ New         │\n",
       "│ Linda      ┆ Moreno    ┆ lmoreno2@clickbank.net           ┆ Skiba      ┆ New         │\n",
       "│ Charles    ┆ Carroll   ┆ ccarroll3@gnu.org                ┆ Dabfeed    ┆ New         │\n",
       "│ …          ┆ …         ┆ …                                ┆ …          ┆ …           │\n",
       "│ Shawn      ┆ Harris    ┆ sharris2o@businessinsider.com    ┆ Lajo       ┆ Working     │\n",
       "│ Brian      ┆ Rivera    ┆ brivera2p@pinterest.com          ┆ Aimbu      ┆ Working     │\n",
       "│ Joyce      ┆ Hanson    ┆ jhanson2q@dyndns.org             ┆ Kwilith    ┆ Working     │\n",
       "│ George     ┆ Hansen    ┆ ghansen2r@networkadvertising.org ┆ Tekfly     ┆ Working     │\n",
       "└────────────┴───────────┴──────────────────────────────────┴────────────┴─────────────┘"
      ],
      "text/html": [
       "<div><style>\n",
       ".dataframe > thead > tr > th,\n",
       ".dataframe > tbody > tr > td {\n",
       "  text-align: right;\n",
       "}\n",
       "</style>\n",
       "<small>shape: (100, 5)</small><table border=\"1\" class=\"dataframe\"><thead><tr><th>First Name</th><th>Last Name</th><th>Email</th><th>Company</th><th>Lead Status</th></tr><tr><td>str</td><td>str</td><td>str</td><td>str</td><td>str</td></tr></thead><tbody><tr><td>&quot;Kathryn&quot;</td><td>&quot;Garza&quot;</td><td>&quot;kgarza0@desdev…</td><td>&quot;Oyonder&quot;</td><td>&quot;New&quot;</td></tr><tr><td>&quot;Jesse&quot;</td><td>&quot;Lewis&quot;</td><td>&quot;jlewis1@arstec…</td><td>&quot;Divanoodle&quot;</td><td>&quot;New&quot;</td></tr><tr><td>&quot;Linda&quot;</td><td>&quot;Moreno&quot;</td><td>&quot;lmoreno2@click…</td><td>&quot;Skiba&quot;</td><td>&quot;New&quot;</td></tr><tr><td>&quot;Charles&quot;</td><td>&quot;Carroll&quot;</td><td>&quot;ccarroll3@gnu.…</td><td>&quot;Dabfeed&quot;</td><td>&quot;New&quot;</td></tr><tr><td>&quot;Betty&quot;</td><td>&quot;Moore&quot;</td><td>&quot;bmoore4@jimdo.…</td><td>&quot;Zooveo&quot;</td><td>&quot;New&quot;</td></tr><tr><td>&quot;Alan&quot;</td><td>&quot;Bryant&quot;</td><td>&quot;abryant5@addto…</td><td>&quot;Edgewire&quot;</td><td>&quot;New&quot;</td></tr><tr><td>&quot;Julia&quot;</td><td>&quot;Nguyen&quot;</td><td>&quot;jnguyen6@simpl…</td><td>&quot;Vimbo&quot;</td><td>&quot;New&quot;</td></tr><tr><td>&quot;Peter&quot;</td><td>&quot;Romero&quot;</td><td>&quot;promero7@intel…</td><td>&quot;Skidoo&quot;</td><td>&quot;New&quot;</td></tr><tr><td>&quot;Carolyn&quot;</td><td>&quot;Snyder&quot;</td><td>&quot;csnyder8@poste…</td><td>&quot;Tagfeed&quot;</td><td>&quot;New&quot;</td></tr><tr><td>&quot;Jimmy&quot;</td><td>&quot;Andrews&quot;</td><td>&quot;jandrews9@ning…</td><td>&quot;Layo&quot;</td><td>&quot;New&quot;</td></tr><tr><td>&quot;Bruce&quot;</td><td>&quot;Cooper&quot;</td><td>&quot;bcoopera@furl.…</td><td>&quot;Brainsphere&quot;</td><td>&quot;New&quot;</td></tr><tr><td>&quot;Wanda&quot;</td><td>&quot;Andrews&quot;</td><td>&quot;wandrewsb@prin…</td><td>&quot;Skipstorm&quot;</td><td>&quot;New&quot;</td></tr><tr><td>&hellip;</td><td>&hellip;</td><td>&hellip;</td><td>&hellip;</td><td>&hellip;</td></tr><tr><td>&quot;Jason&quot;</td><td>&quot;Butler&quot;</td><td>&quot;jbutler2g@fotk…</td><td>&quot;Feedfire&quot;</td><td>&quot;Working&quot;</td></tr><tr><td>&quot;Nicole&quot;</td><td>&quot;Hall&quot;</td><td>&quot;nhall2h@skyroc…</td><td>&quot;Topicshots&quot;</td><td>&quot;Working&quot;</td></tr><tr><td>&quot;Marilyn&quot;</td><td>&quot;Simpson&quot;</td><td>&quot;msimpson2i@abc…</td><td>&quot;Pixonyx&quot;</td><td>&quot;Working&quot;</td></tr><tr><td>&quot;Antonio&quot;</td><td>&quot;Carr&quot;</td><td>&quot;acarr2j@blogs.…</td><td>&quot;Youbridge&quot;</td><td>&quot;Working&quot;</td></tr><tr><td>&quot;Stephen&quot;</td><td>&quot;Murphy&quot;</td><td>&quot;smurphy2k@vina…</td><td>&quot;Oba&quot;</td><td>&quot;Working&quot;</td></tr><tr><td>&quot;Martin&quot;</td><td>&quot;Flores&quot;</td><td>&quot;mflores2l@wiki…</td><td>&quot;Brightdog&quot;</td><td>&quot;Working&quot;</td></tr><tr><td>&quot;Rachel&quot;</td><td>&quot;Schmidt&quot;</td><td>&quot;rschmidt2m@top…</td><td>&quot;Riffpedia&quot;</td><td>&quot;Working&quot;</td></tr><tr><td>&quot;Justin&quot;</td><td>&quot;Davis&quot;</td><td>&quot;jdavis2n@weibo…</td><td>&quot;Meedoo&quot;</td><td>&quot;Working&quot;</td></tr><tr><td>&quot;Shawn&quot;</td><td>&quot;Harris&quot;</td><td>&quot;sharris2o@busi…</td><td>&quot;Lajo&quot;</td><td>&quot;Working&quot;</td></tr><tr><td>&quot;Brian&quot;</td><td>&quot;Rivera&quot;</td><td>&quot;brivera2p@pint…</td><td>&quot;Aimbu&quot;</td><td>&quot;Working&quot;</td></tr><tr><td>&quot;Joyce&quot;</td><td>&quot;Hanson&quot;</td><td>&quot;jhanson2q@dynd…</td><td>&quot;Kwilith&quot;</td><td>&quot;Working&quot;</td></tr><tr><td>&quot;George&quot;</td><td>&quot;Hansen&quot;</td><td>&quot;ghansen2r@netw…</td><td>&quot;Tekfly&quot;</td><td>&quot;Working&quot;</td></tr></tbody></table></div>"
      ]
     },
     "execution_count": 21,
     "metadata": {},
     "output_type": "execute_result"
    }
   ],
   "execution_count": 21
  },
  {
   "metadata": {
    "ExecuteTime": {
     "end_time": "2024-09-02T08:53:07.829929Z",
     "start_time": "2024-09-02T08:53:07.783495Z"
    }
   },
   "cell_type": "code",
   "source": "lead_df.describe()",
   "outputs": [
    {
     "data": {
      "text/plain": [
       "shape: (9, 6)\n",
       "┌────────────┬────────────┬───────────┬───────────────────────┬─────────┬─────────────┐\n",
       "│ describe   ┆ First Name ┆ Last Name ┆ Email                 ┆ Company ┆ Lead Status │\n",
       "│ ---        ┆ ---        ┆ ---       ┆ ---                   ┆ ---     ┆ ---         │\n",
       "│ str        ┆ str        ┆ str       ┆ str                   ┆ str     ┆ str         │\n",
       "╞════════════╪════════════╪═══════════╪═══════════════════════╪═════════╪═════════════╡\n",
       "│ count      ┆ 100        ┆ 100       ┆ 100                   ┆ 100     ┆ 100         │\n",
       "│ null_count ┆ 0          ┆ 0         ┆ 0                     ┆ 0       ┆ 0           │\n",
       "│ mean       ┆ null       ┆ null      ┆ null                  ┆ null    ┆ null        │\n",
       "│ std        ┆ null       ┆ null      ┆ null                  ┆ null    ┆ null        │\n",
       "│ min        ┆ Aaron      ┆ Alvarez   ┆ abowman29@reuters.com ┆ Aibox   ┆ New         │\n",
       "│ max        ┆ William    ┆ Wood      ┆ wwilliams1y@adobe.com ┆ Zooveo  ┆ working     │\n",
       "│ median     ┆ null       ┆ null      ┆ null                  ┆ null    ┆ null        │\n",
       "│ 25%        ┆ null       ┆ null      ┆ null                  ┆ null    ┆ null        │\n",
       "│ 75%        ┆ null       ┆ null      ┆ null                  ┆ null    ┆ null        │\n",
       "└────────────┴────────────┴───────────┴───────────────────────┴─────────┴─────────────┘"
      ],
      "text/html": [
       "<div><style>\n",
       ".dataframe > thead > tr > th,\n",
       ".dataframe > tbody > tr > td {\n",
       "  text-align: right;\n",
       "}\n",
       "</style>\n",
       "<small>shape: (9, 6)</small><table border=\"1\" class=\"dataframe\"><thead><tr><th>describe</th><th>First Name</th><th>Last Name</th><th>Email</th><th>Company</th><th>Lead Status</th></tr><tr><td>str</td><td>str</td><td>str</td><td>str</td><td>str</td><td>str</td></tr></thead><tbody><tr><td>&quot;count&quot;</td><td>&quot;100&quot;</td><td>&quot;100&quot;</td><td>&quot;100&quot;</td><td>&quot;100&quot;</td><td>&quot;100&quot;</td></tr><tr><td>&quot;null_count&quot;</td><td>&quot;0&quot;</td><td>&quot;0&quot;</td><td>&quot;0&quot;</td><td>&quot;0&quot;</td><td>&quot;0&quot;</td></tr><tr><td>&quot;mean&quot;</td><td>null</td><td>null</td><td>null</td><td>null</td><td>null</td></tr><tr><td>&quot;std&quot;</td><td>null</td><td>null</td><td>null</td><td>null</td><td>null</td></tr><tr><td>&quot;min&quot;</td><td>&quot;Aaron&quot;</td><td>&quot;Alvarez&quot;</td><td>&quot;abowman29@reut…</td><td>&quot;Aibox&quot;</td><td>&quot;New&quot;</td></tr><tr><td>&quot;max&quot;</td><td>&quot;William&quot;</td><td>&quot;Wood&quot;</td><td>&quot;wwilliams1y@ad…</td><td>&quot;Zooveo&quot;</td><td>&quot;working&quot;</td></tr><tr><td>&quot;median&quot;</td><td>null</td><td>null</td><td>null</td><td>null</td><td>null</td></tr><tr><td>&quot;25%&quot;</td><td>null</td><td>null</td><td>null</td><td>null</td><td>null</td></tr><tr><td>&quot;75%&quot;</td><td>null</td><td>null</td><td>null</td><td>null</td><td>null</td></tr></tbody></table></div>"
      ]
     },
     "execution_count": 22,
     "metadata": {},
     "output_type": "execute_result"
    }
   ],
   "execution_count": 22
  },
  {
   "metadata": {
    "ExecuteTime": {
     "end_time": "2024-09-02T09:06:04.488260Z",
     "start_time": "2024-09-02T09:06:04.484709Z"
    }
   },
   "cell_type": "code",
   "source": [
    "# count lead_df group by Lead Status\n",
    "lead_df.groupby(\"Lead Status\").count()"
   ],
   "outputs": [
    {
     "data": {
      "text/plain": [
       "shape: (3, 2)\n",
       "┌─────────────┬───────┐\n",
       "│ Lead Status ┆ count │\n",
       "│ ---         ┆ ---   │\n",
       "│ str         ┆ u32   │\n",
       "╞═════════════╪═══════╡\n",
       "│ New         ┆ 48    │\n",
       "│ Working     ┆ 51    │\n",
       "│ working     ┆ 1     │\n",
       "└─────────────┴───────┘"
      ],
      "text/html": [
       "<div><style>\n",
       ".dataframe > thead > tr > th,\n",
       ".dataframe > tbody > tr > td {\n",
       "  text-align: right;\n",
       "}\n",
       "</style>\n",
       "<small>shape: (3, 2)</small><table border=\"1\" class=\"dataframe\"><thead><tr><th>Lead Status</th><th>count</th></tr><tr><td>str</td><td>u32</td></tr></thead><tbody><tr><td>&quot;New&quot;</td><td>48</td></tr><tr><td>&quot;Working&quot;</td><td>51</td></tr><tr><td>&quot;working&quot;</td><td>1</td></tr></tbody></table></div>"
      ]
     },
     "execution_count": 45,
     "metadata": {},
     "output_type": "execute_result"
    }
   ],
   "execution_count": 45
  },
  {
   "metadata": {
    "ExecuteTime": {
     "end_time": "2024-09-02T09:01:11.088008Z",
     "start_time": "2024-09-02T09:01:11.082066Z"
    }
   },
   "cell_type": "code",
   "source": [
    "account_contact_lead_df = account_contact_df.join(lead_df, left_on=\"Company Name\", right_on=\"Company\", how=\"inner\")\n",
    "account_contact_lead_df"
   ],
   "outputs": [
    {
     "data": {
      "text/plain": [
       "shape: (24, 12)\n",
       "┌────────────┬────────────┬───────────┬───────────┬───┬──────────┬─────────┬───────────┬───────────┐\n",
       "│ CompanyEXT ┆ Company    ┆ City      ┆ State     ┆ … ┆ First    ┆ Last    ┆ Email     ┆ Lead      │\n",
       "│ ID         ┆ Name       ┆ ---       ┆ ---       ┆   ┆ Name     ┆ Name    ┆ ---       ┆ Status    │\n",
       "│ ---        ┆ ---        ┆ str       ┆ str       ┆   ┆ ---      ┆ ---     ┆ str       ┆ ---       │\n",
       "│ i64        ┆ str        ┆           ┆           ┆   ┆ str      ┆ str     ┆           ┆ str       │\n",
       "╞════════════╪════════════╪═══════════╪═══════════╪═══╪══════════╪═════════╪═══════════╪═══════════╡\n",
       "│ 15         ┆ Skidoo     ┆ Cincinnat ┆ Ohio      ┆ … ┆ Peter    ┆ Romero  ┆ promero7@ ┆ New       │\n",
       "│            ┆            ┆ i         ┆           ┆   ┆          ┆         ┆ intel.com ┆           │\n",
       "│ 83         ┆ Cogilith   ┆ Anaheim   ┆ Californi ┆ … ┆ Diana    ┆ Castill ┆ dcastillo ┆ New       │\n",
       "│            ┆            ┆           ┆ a         ┆   ┆          ┆ o       ┆ d@youku.c ┆           │\n",
       "│            ┆            ┆           ┆           ┆   ┆          ┆         ┆ om        ┆           │\n",
       "│ 83         ┆ Cogilith   ┆ Anaheim   ┆ Californi ┆ … ┆ Nancy    ┆ Campbel ┆ ncampbell ┆ New       │\n",
       "│            ┆            ┆           ┆ a         ┆   ┆          ┆ l       ┆ i@busines ┆           │\n",
       "│            ┆            ┆           ┆           ┆   ┆          ┆         ┆ sinsider. ┆           │\n",
       "│            ┆            ┆           ┆           ┆   ┆          ┆         ┆ com       ┆           │\n",
       "│ 30         ┆ Youopia    ┆ Independe ┆ Missouri  ┆ … ┆ Donna    ┆ Evans   ┆ devanst@w ┆ New       │\n",
       "│            ┆            ┆ nce       ┆           ┆   ┆          ┆         ┆ ebmd.com  ┆           │\n",
       "│ …          ┆ …          ┆ …         ┆ …         ┆ … ┆ …        ┆ …       ┆ …         ┆ …         │\n",
       "│ 26         ┆ Aibox      ┆ Albuquerq ┆ New       ┆ … ┆ William  ┆ William ┆ wwilliams ┆ Working   │\n",
       "│            ┆            ┆ ue        ┆ Mexico    ┆   ┆          ┆ s       ┆ 1y@adobe. ┆           │\n",
       "│            ┆            ┆           ┆           ┆   ┆          ┆         ┆ com       ┆           │\n",
       "│ 6          ┆ Riffpedia  ┆ San Jose  ┆ Californi ┆ … ┆ Rachel   ┆ Schmidt ┆ rschmidt2 ┆ Working   │\n",
       "│            ┆            ┆           ┆ a         ┆   ┆          ┆         ┆ m@toplist ┆           │\n",
       "│            ┆            ┆           ┆           ┆   ┆          ┆         ┆ .cz       ┆           │\n",
       "│ 90         ┆ Lajo       ┆ Biloxi    ┆ Mississip ┆ … ┆ Shawn    ┆ Harris  ┆ sharris2o ┆ Working   │\n",
       "│            ┆            ┆           ┆ pi        ┆   ┆          ┆         ┆ @business ┆           │\n",
       "│            ┆            ┆           ┆           ┆   ┆          ┆         ┆ insider.c ┆           │\n",
       "│            ┆            ┆           ┆           ┆   ┆          ┆         ┆ om        ┆           │\n",
       "│ 56         ┆ Kwilith    ┆ Duluth    ┆ Georgia   ┆ … ┆ Joyce    ┆ Hanson  ┆ jhanson2q ┆ Working   │\n",
       "│            ┆            ┆           ┆           ┆   ┆          ┆         ┆ @dyndns.o ┆           │\n",
       "│            ┆            ┆           ┆           ┆   ┆          ┆         ┆ rg        ┆           │\n",
       "└────────────┴────────────┴───────────┴───────────┴───┴──────────┴─────────┴───────────┴───────────┘"
      ],
      "text/html": [
       "<div><style>\n",
       ".dataframe > thead > tr > th,\n",
       ".dataframe > tbody > tr > td {\n",
       "  text-align: right;\n",
       "}\n",
       "</style>\n",
       "<small>shape: (24, 12)</small><table border=\"1\" class=\"dataframe\"><thead><tr><th>CompanyEXTID</th><th>Company Name</th><th>City</th><th>State</th><th>first_name</th><th>last_name</th><th>email</th><th>country</th><th>First Name</th><th>Last Name</th><th>Email</th><th>Lead Status</th></tr><tr><td>i64</td><td>str</td><td>str</td><td>str</td><td>str</td><td>str</td><td>str</td><td>str</td><td>str</td><td>str</td><td>str</td><td>str</td></tr></thead><tbody><tr><td>15</td><td>&quot;Skidoo&quot;</td><td>&quot;Cincinnati&quot;</td><td>&quot;Ohio&quot;</td><td>&quot;Roy&quot;</td><td>&quot;Parker&quot;</td><td>&quot;rparkere@apach…</td><td>&quot;United States&quot;</td><td>&quot;Peter&quot;</td><td>&quot;Romero&quot;</td><td>&quot;promero7@intel…</td><td>&quot;New&quot;</td></tr><tr><td>83</td><td>&quot;Cogilith&quot;</td><td>&quot;Anaheim&quot;</td><td>&quot;California&quot;</td><td>&quot;Johnny&quot;</td><td>&quot;Payne&quot;</td><td>&quot;jpayne2a@nba.c…</td><td>&quot;United States&quot;</td><td>&quot;Diana&quot;</td><td>&quot;Castillo&quot;</td><td>&quot;dcastillod@you…</td><td>&quot;New&quot;</td></tr><tr><td>83</td><td>&quot;Cogilith&quot;</td><td>&quot;Anaheim&quot;</td><td>&quot;California&quot;</td><td>&quot;Johnny&quot;</td><td>&quot;Payne&quot;</td><td>&quot;jpayne2a@nba.c…</td><td>&quot;United States&quot;</td><td>&quot;Nancy&quot;</td><td>&quot;Campbell&quot;</td><td>&quot;ncampbelli@bus…</td><td>&quot;New&quot;</td></tr><tr><td>30</td><td>&quot;Youopia&quot;</td><td>&quot;Independence&quot;</td><td>&quot;Missouri&quot;</td><td>&quot;Tammy&quot;</td><td>&quot;Warren&quot;</td><td>&quot;twarrent@weebl…</td><td>&quot;United States&quot;</td><td>&quot;Donna&quot;</td><td>&quot;Evans&quot;</td><td>&quot;devanst@webmd.…</td><td>&quot;New&quot;</td></tr><tr><td>98</td><td>&quot;Talane&quot;</td><td>&quot;Chicago&quot;</td><td>&quot;Illinois&quot;</td><td>&quot;Bruce&quot;</td><td>&quot;Bowman&quot;</td><td>&quot;bbowman2p@hud.…</td><td>&quot;United States&quot;</td><td>&quot;Bonnie&quot;</td><td>&quot;Reyes&quot;</td><td>&quot;breyesx@csmoni…</td><td>&quot;New&quot;</td></tr><tr><td>34</td><td>&quot;Voomm&quot;</td><td>&quot;Topeka&quot;</td><td>&quot;Kansas&quot;</td><td>&quot;Jeffrey&quot;</td><td>&quot;Jones&quot;</td><td>&quot;jjonesx@issuu.…</td><td>&quot;United States&quot;</td><td>&quot;Benjamin&quot;</td><td>&quot;Harvey&quot;</td><td>&quot;bharveyz@slash…</td><td>&quot;New&quot;</td></tr><tr><td>61</td><td>&quot;Blogtags&quot;</td><td>&quot;Birmingham&quot;</td><td>&quot;Alabama&quot;</td><td>&quot;Rebecca&quot;</td><td>&quot;Peters&quot;</td><td>&quot;rpeters1o@diig…</td><td>&quot;United States&quot;</td><td>&quot;Peter&quot;</td><td>&quot;Rogers&quot;</td><td>&quot;progers11@bigc…</td><td>&quot;New&quot;</td></tr><tr><td>92</td><td>&quot;Twitterwire&quot;</td><td>&quot;Oklahoma City&quot;</td><td>&quot;Oklahoma&quot;</td><td>&quot;Willie&quot;</td><td>&quot;Ramirez&quot;</td><td>&quot;wramirez2j@fre…</td><td>&quot;United States&quot;</td><td>&quot;Randy&quot;</td><td>&quot;Perry&quot;</td><td>&quot;rperry15@usato…</td><td>&quot;New&quot;</td></tr><tr><td>88</td><td>&quot;Tagchat&quot;</td><td>&quot;Little Rock&quot;</td><td>&quot;Arkansas&quot;</td><td>&quot;Sara&quot;</td><td>&quot;Welch&quot;</td><td>&quot;swelch2f@vinao…</td><td>&quot;United States&quot;</td><td>&quot;George&quot;</td><td>&quot;Morrison&quot;</td><td>&quot;gmorrison1a@mt…</td><td>&quot;New&quot;</td></tr><tr><td>57</td><td>&quot;Kaymbo&quot;</td><td>&quot;Richmond&quot;</td><td>&quot;Virginia&quot;</td><td>&quot;Diana&quot;</td><td>&quot;Morales&quot;</td><td>&quot;dmorales1k@fda…</td><td>&quot;United States&quot;</td><td>&quot;Joseph&quot;</td><td>&quot;Morgan&quot;</td><td>&quot;jmorgan1f@indi…</td><td>&quot;Working&quot;</td></tr><tr><td>27</td><td>&quot;Livepath&quot;</td><td>&quot;Richmond&quot;</td><td>&quot;Virginia&quot;</td><td>&quot;Timothy&quot;</td><td>&quot;Ellis&quot;</td><td>&quot;tellisq@washin…</td><td>&quot;United States&quot;</td><td>&quot;Diana&quot;</td><td>&quot;Rodriguez&quot;</td><td>&quot;drodriguez1i@g…</td><td>&quot;Working&quot;</td></tr><tr><td>4</td><td>&quot;Gigaclub&quot;</td><td>&quot;Anchorage&quot;</td><td>&quot;Alaska&quot;</td><td>&quot;George&quot;</td><td>&quot;Morris&quot;</td><td>&quot;gmorris3@syman…</td><td>&quot;United States&quot;</td><td>&quot;Roy&quot;</td><td>&quot;Ruiz&quot;</td><td>&quot;rruiz1m@behanc…</td><td>&quot;Working&quot;</td></tr><tr><td>85</td><td>&quot;Ntag&quot;</td><td>&quot;Mobile&quot;</td><td>&quot;Alabama&quot;</td><td>&quot;Marie&quot;</td><td>&quot;Cooper&quot;</td><td>&quot;mcooper2c@yaho…</td><td>&quot;United States&quot;</td><td>&quot;Heather&quot;</td><td>&quot;Wilson&quot;</td><td>&quot;hwilson1n@ezin…</td><td>&quot;Working&quot;</td></tr><tr><td>86</td><td>&quot;Ntag&quot;</td><td>&quot;Seattle&quot;</td><td>&quot;Washington&quot;</td><td>&quot;Adam&quot;</td><td>&quot;Long&quot;</td><td>&quot;along2d@econom…</td><td>&quot;United States&quot;</td><td>&quot;Heather&quot;</td><td>&quot;Wilson&quot;</td><td>&quot;hwilson1n@ezin…</td><td>&quot;Working&quot;</td></tr><tr><td>63</td><td>&quot;Photobug&quot;</td><td>&quot;Birmingham&quot;</td><td>&quot;Alabama&quot;</td><td>&quot;Ruby&quot;</td><td>&quot;Alexander&quot;</td><td>&quot;ralexander1q@t…</td><td>&quot;United States&quot;</td><td>&quot;Susan&quot;</td><td>&quot;Burton&quot;</td><td>&quot;sburton1o@netl…</td><td>&quot;Working&quot;</td></tr><tr><td>41</td><td>&quot;BlogXS&quot;</td><td>&quot;Woburn&quot;</td><td>&quot;Massachusetts&quot;</td><td>&quot;Bruce&quot;</td><td>&quot;Cole&quot;</td><td>&quot;bcole14@mysql.…</td><td>&quot;United States&quot;</td><td>&quot;Alice&quot;</td><td>&quot;Gardner&quot;</td><td>&quot;agardner1r@fee…</td><td>&quot;Working&quot;</td></tr><tr><td>80</td><td>&quot;BlogXS&quot;</td><td>&quot;Philadelphia&quot;</td><td>&quot;Pennsylvania&quot;</td><td>&quot;Earl&quot;</td><td>&quot;Garza&quot;</td><td>&quot;egarza27@ucsd.…</td><td>&quot;United States&quot;</td><td>&quot;Alice&quot;</td><td>&quot;Gardner&quot;</td><td>&quot;agardner1r@fee…</td><td>&quot;Working&quot;</td></tr><tr><td>8</td><td>&quot;LiveZ&quot;</td><td>&quot;Athens&quot;</td><td>&quot;Georgia&quot;</td><td>&quot;Jerry&quot;</td><td>&quot;Ray&quot;</td><td>&quot;jray7@comcast.…</td><td>&quot;United States&quot;</td><td>&quot;Lois&quot;</td><td>&quot;Bailey&quot;</td><td>&quot;lbailey1t@twit…</td><td>&quot;Working&quot;</td></tr><tr><td>63</td><td>&quot;Photobug&quot;</td><td>&quot;Birmingham&quot;</td><td>&quot;Alabama&quot;</td><td>&quot;Ruby&quot;</td><td>&quot;Alexander&quot;</td><td>&quot;ralexander1q@t…</td><td>&quot;United States&quot;</td><td>&quot;Donna&quot;</td><td>&quot;Payne&quot;</td><td>&quot;dpayne1x@delic…</td><td>&quot;Working&quot;</td></tr><tr><td>10</td><td>&quot;Aibox&quot;</td><td>&quot;Joliet&quot;</td><td>&quot;Illinois&quot;</td><td>&quot;Kimberly&quot;</td><td>&quot;Rogers&quot;</td><td>&quot;krogers9@un.or…</td><td>&quot;United States&quot;</td><td>&quot;William&quot;</td><td>&quot;Williams&quot;</td><td>&quot;wwilliams1y@ad…</td><td>&quot;Working&quot;</td></tr><tr><td>26</td><td>&quot;Aibox&quot;</td><td>&quot;Albuquerque&quot;</td><td>&quot;New Mexico&quot;</td><td>&quot;Anna&quot;</td><td>&quot;Johnson&quot;</td><td>&quot;ajohnsonp@prin…</td><td>&quot;United States&quot;</td><td>&quot;William&quot;</td><td>&quot;Williams&quot;</td><td>&quot;wwilliams1y@ad…</td><td>&quot;Working&quot;</td></tr><tr><td>6</td><td>&quot;Riffpedia&quot;</td><td>&quot;San Jose&quot;</td><td>&quot;California&quot;</td><td>&quot;Martha&quot;</td><td>&quot;Ray&quot;</td><td>&quot;mray5@archive.…</td><td>&quot;United States&quot;</td><td>&quot;Rachel&quot;</td><td>&quot;Schmidt&quot;</td><td>&quot;rschmidt2m@top…</td><td>&quot;Working&quot;</td></tr><tr><td>90</td><td>&quot;Lajo&quot;</td><td>&quot;Biloxi&quot;</td><td>&quot;Mississippi&quot;</td><td>&quot;Jack&quot;</td><td>&quot;Reynolds&quot;</td><td>&quot;jreynolds2h@na…</td><td>&quot;United States&quot;</td><td>&quot;Shawn&quot;</td><td>&quot;Harris&quot;</td><td>&quot;sharris2o@busi…</td><td>&quot;Working&quot;</td></tr><tr><td>56</td><td>&quot;Kwilith&quot;</td><td>&quot;Duluth&quot;</td><td>&quot;Georgia&quot;</td><td>&quot;Juan&quot;</td><td>&quot;Perez&quot;</td><td>&quot;jperez1j@myspa…</td><td>&quot;United States&quot;</td><td>&quot;Joyce&quot;</td><td>&quot;Hanson&quot;</td><td>&quot;jhanson2q@dynd…</td><td>&quot;Working&quot;</td></tr></tbody></table></div>"
      ]
     },
     "execution_count": 38,
     "metadata": {},
     "output_type": "execute_result"
    }
   ],
   "execution_count": 38
  },
  {
   "metadata": {
    "ExecuteTime": {
     "end_time": "2024-09-02T09:01:12.001024Z",
     "start_time": "2024-09-02T09:01:11.996085Z"
    }
   },
   "cell_type": "code",
   "source": "account_contact_lead_df.describe()",
   "outputs": [
    {
     "data": {
      "text/plain": [
       "shape: (9, 13)\n",
       "┌───────────┬────────────┬────────────┬───────────┬───┬──────────┬─────────┬───────────┬───────────┐\n",
       "│ describe  ┆ CompanyEXT ┆ Company    ┆ City      ┆ … ┆ First    ┆ Last    ┆ Email     ┆ Lead      │\n",
       "│ ---       ┆ ID         ┆ Name       ┆ ---       ┆   ┆ Name     ┆ Name    ┆ ---       ┆ Status    │\n",
       "│ str       ┆ ---        ┆ ---        ┆ str       ┆   ┆ ---      ┆ ---     ┆ str       ┆ ---       │\n",
       "│           ┆ f64        ┆ str        ┆           ┆   ┆ str      ┆ str     ┆           ┆ str       │\n",
       "╞═══════════╪════════════╪════════════╪═══════════╪═══╪══════════╪═════════╪═══════════╪═══════════╡\n",
       "│ count     ┆ 24.0       ┆ 24         ┆ 24        ┆ … ┆ 24       ┆ 24      ┆ 24        ┆ 24        │\n",
       "│ null_coun ┆ 0.0        ┆ 0          ┆ 0         ┆ … ┆ 0        ┆ 0       ┆ 0         ┆ 0         │\n",
       "│ t         ┆            ┆            ┆           ┆   ┆          ┆         ┆           ┆           │\n",
       "│ mean      ┆ 53.583333  ┆ null       ┆ null      ┆ … ┆ null     ┆ null    ┆ null      ┆ null      │\n",
       "│ std       ┆ 31.916898  ┆ null       ┆ null      ┆ … ┆ null     ┆ null    ┆ null      ┆ null      │\n",
       "│ min       ┆ 4.0        ┆ Aibox      ┆ Albuquerq ┆ … ┆ Alice    ┆ Bailey  ┆ agardner1 ┆ New       │\n",
       "│           ┆            ┆            ┆ ue        ┆   ┆          ┆         ┆ r@feedbur ┆           │\n",
       "│           ┆            ┆            ┆           ┆   ┆          ┆         ┆ ner.com   ┆           │\n",
       "│ max       ┆ 98.0       ┆ Youopia    ┆ Woburn    ┆ … ┆ William  ┆ Wilson  ┆ wwilliams ┆ Working   │\n",
       "│           ┆            ┆            ┆           ┆   ┆          ┆         ┆ 1y@adobe. ┆           │\n",
       "│           ┆            ┆            ┆           ┆   ┆          ┆         ┆ com       ┆           │\n",
       "│ median    ┆ 59.0       ┆ null       ┆ null      ┆ … ┆ null     ┆ null    ┆ null      ┆ null      │\n",
       "│ 25%       ┆ 27.0       ┆ null       ┆ null      ┆ … ┆ null     ┆ null    ┆ null      ┆ null      │\n",
       "│ 75%       ┆ 85.0       ┆ null       ┆ null      ┆ … ┆ null     ┆ null    ┆ null      ┆ null      │\n",
       "└───────────┴────────────┴────────────┴───────────┴───┴──────────┴─────────┴───────────┴───────────┘"
      ],
      "text/html": [
       "<div><style>\n",
       ".dataframe > thead > tr > th,\n",
       ".dataframe > tbody > tr > td {\n",
       "  text-align: right;\n",
       "}\n",
       "</style>\n",
       "<small>shape: (9, 13)</small><table border=\"1\" class=\"dataframe\"><thead><tr><th>describe</th><th>CompanyEXTID</th><th>Company Name</th><th>City</th><th>State</th><th>first_name</th><th>last_name</th><th>email</th><th>country</th><th>First Name</th><th>Last Name</th><th>Email</th><th>Lead Status</th></tr><tr><td>str</td><td>f64</td><td>str</td><td>str</td><td>str</td><td>str</td><td>str</td><td>str</td><td>str</td><td>str</td><td>str</td><td>str</td><td>str</td></tr></thead><tbody><tr><td>&quot;count&quot;</td><td>24.0</td><td>&quot;24&quot;</td><td>&quot;24&quot;</td><td>&quot;24&quot;</td><td>&quot;24&quot;</td><td>&quot;24&quot;</td><td>&quot;24&quot;</td><td>&quot;24&quot;</td><td>&quot;24&quot;</td><td>&quot;24&quot;</td><td>&quot;24&quot;</td><td>&quot;24&quot;</td></tr><tr><td>&quot;null_count&quot;</td><td>0.0</td><td>&quot;0&quot;</td><td>&quot;0&quot;</td><td>&quot;0&quot;</td><td>&quot;0&quot;</td><td>&quot;0&quot;</td><td>&quot;0&quot;</td><td>&quot;0&quot;</td><td>&quot;0&quot;</td><td>&quot;0&quot;</td><td>&quot;0&quot;</td><td>&quot;0&quot;</td></tr><tr><td>&quot;mean&quot;</td><td>53.583333</td><td>null</td><td>null</td><td>null</td><td>null</td><td>null</td><td>null</td><td>null</td><td>null</td><td>null</td><td>null</td><td>null</td></tr><tr><td>&quot;std&quot;</td><td>31.916898</td><td>null</td><td>null</td><td>null</td><td>null</td><td>null</td><td>null</td><td>null</td><td>null</td><td>null</td><td>null</td><td>null</td></tr><tr><td>&quot;min&quot;</td><td>4.0</td><td>&quot;Aibox&quot;</td><td>&quot;Albuquerque&quot;</td><td>&quot;Alabama&quot;</td><td>&quot;Adam&quot;</td><td>&quot;Alexander&quot;</td><td>&quot;ajohnsonp@prin…</td><td>&quot;United States&quot;</td><td>&quot;Alice&quot;</td><td>&quot;Bailey&quot;</td><td>&quot;agardner1r@fee…</td><td>&quot;New&quot;</td></tr><tr><td>&quot;max&quot;</td><td>98.0</td><td>&quot;Youopia&quot;</td><td>&quot;Woburn&quot;</td><td>&quot;Washington&quot;</td><td>&quot;Willie&quot;</td><td>&quot;Welch&quot;</td><td>&quot;wramirez2j@fre…</td><td>&quot;United States&quot;</td><td>&quot;William&quot;</td><td>&quot;Wilson&quot;</td><td>&quot;wwilliams1y@ad…</td><td>&quot;Working&quot;</td></tr><tr><td>&quot;median&quot;</td><td>59.0</td><td>null</td><td>null</td><td>null</td><td>null</td><td>null</td><td>null</td><td>null</td><td>null</td><td>null</td><td>null</td><td>null</td></tr><tr><td>&quot;25%&quot;</td><td>27.0</td><td>null</td><td>null</td><td>null</td><td>null</td><td>null</td><td>null</td><td>null</td><td>null</td><td>null</td><td>null</td><td>null</td></tr><tr><td>&quot;75%&quot;</td><td>85.0</td><td>null</td><td>null</td><td>null</td><td>null</td><td>null</td><td>null</td><td>null</td><td>null</td><td>null</td><td>null</td><td>null</td></tr></tbody></table></div>"
      ]
     },
     "execution_count": 39,
     "metadata": {},
     "output_type": "execute_result"
    }
   ],
   "execution_count": 39
  },
  {
   "metadata": {
    "ExecuteTime": {
     "end_time": "2024-09-02T09:12:22.932726Z",
     "start_time": "2024-09-02T09:12:22.927675Z"
    }
   },
   "cell_type": "code",
   "source": [
    "# count account_contact_lead_df Email group by CompanyEXTID\n",
    "account_contact_lead_df.groupby(\"CompanyEXTID\", \"Company Name\").agg(pl.count(\"Email\").alias(\"email_count\")).sort(\"email_count\", descending=True)"
   ],
   "outputs": [
    {
     "data": {
      "text/plain": [
       "shape: (22, 3)\n",
       "┌──────────────┬──────────────┬─────────────┐\n",
       "│ CompanyEXTID ┆ Company Name ┆ email_count │\n",
       "│ ---          ┆ ---          ┆ ---         │\n",
       "│ i64          ┆ str          ┆ u32         │\n",
       "╞══════════════╪══════════════╪═════════════╡\n",
       "│ 83           ┆ Cogilith     ┆ 2           │\n",
       "│ 63           ┆ Photobug     ┆ 2           │\n",
       "│ 30           ┆ Youopia      ┆ 1           │\n",
       "│ 88           ┆ Tagchat      ┆ 1           │\n",
       "│ …            ┆ …            ┆ …           │\n",
       "│ 92           ┆ Twitterwire  ┆ 1           │\n",
       "│ 61           ┆ Blogtags     ┆ 1           │\n",
       "│ 98           ┆ Talane       ┆ 1           │\n",
       "│ 56           ┆ Kwilith      ┆ 1           │\n",
       "└──────────────┴──────────────┴─────────────┘"
      ],
      "text/html": [
       "<div><style>\n",
       ".dataframe > thead > tr > th,\n",
       ".dataframe > tbody > tr > td {\n",
       "  text-align: right;\n",
       "}\n",
       "</style>\n",
       "<small>shape: (22, 3)</small><table border=\"1\" class=\"dataframe\"><thead><tr><th>CompanyEXTID</th><th>Company Name</th><th>email_count</th></tr><tr><td>i64</td><td>str</td><td>u32</td></tr></thead><tbody><tr><td>83</td><td>&quot;Cogilith&quot;</td><td>2</td></tr><tr><td>63</td><td>&quot;Photobug&quot;</td><td>2</td></tr><tr><td>30</td><td>&quot;Youopia&quot;</td><td>1</td></tr><tr><td>88</td><td>&quot;Tagchat&quot;</td><td>1</td></tr><tr><td>57</td><td>&quot;Kaymbo&quot;</td><td>1</td></tr><tr><td>27</td><td>&quot;Livepath&quot;</td><td>1</td></tr><tr><td>85</td><td>&quot;Ntag&quot;</td><td>1</td></tr><tr><td>41</td><td>&quot;BlogXS&quot;</td><td>1</td></tr><tr><td>6</td><td>&quot;Riffpedia&quot;</td><td>1</td></tr><tr><td>10</td><td>&quot;Aibox&quot;</td><td>1</td></tr><tr><td>26</td><td>&quot;Aibox&quot;</td><td>1</td></tr><tr><td>4</td><td>&quot;Gigaclub&quot;</td><td>1</td></tr><tr><td>90</td><td>&quot;Lajo&quot;</td><td>1</td></tr><tr><td>15</td><td>&quot;Skidoo&quot;</td><td>1</td></tr><tr><td>86</td><td>&quot;Ntag&quot;</td><td>1</td></tr><tr><td>80</td><td>&quot;BlogXS&quot;</td><td>1</td></tr><tr><td>8</td><td>&quot;LiveZ&quot;</td><td>1</td></tr><tr><td>34</td><td>&quot;Voomm&quot;</td><td>1</td></tr><tr><td>92</td><td>&quot;Twitterwire&quot;</td><td>1</td></tr><tr><td>61</td><td>&quot;Blogtags&quot;</td><td>1</td></tr><tr><td>98</td><td>&quot;Talane&quot;</td><td>1</td></tr><tr><td>56</td><td>&quot;Kwilith&quot;</td><td>1</td></tr></tbody></table></div>"
      ]
     },
     "execution_count": 52,
     "metadata": {},
     "output_type": "execute_result"
    }
   ],
   "execution_count": 52
  },
  {
   "metadata": {
    "ExecuteTime": {
     "end_time": "2024-09-02T09:03:20.809732Z",
     "start_time": "2024-09-02T09:03:20.807196Z"
    }
   },
   "cell_type": "code",
   "source": "opportunity_df = pl.read_csv(\"data/salesforce/Opportunites.csv\", eol_char='\\r')",
   "outputs": [],
   "execution_count": 40
  },
  {
   "metadata": {
    "ExecuteTime": {
     "end_time": "2024-09-02T09:03:23.590287Z",
     "start_time": "2024-09-02T09:03:23.586138Z"
    }
   },
   "cell_type": "code",
   "source": "opportunity_df.select(\"*\")",
   "outputs": [
    {
     "data": {
      "text/plain": [
       "shape: (100, 6)\n",
       "┌─────────────┬──────────────┬───────────────────┬───────────────────┬────────────────┬────────────┐\n",
       "│ CompanEXTID ┆ Amount       ┆ Project Name      ┆ Oppurtunity Name  ┆ Stage          ┆ Close Date │\n",
       "│ ---         ┆ ---          ┆ ---               ┆ ---               ┆ ---            ┆ ---        │\n",
       "│ i64         ┆ str          ┆ str               ┆ str               ┆ str            ┆ str        │\n",
       "╞═════════════╪══════════════╪═══════════════════╪═══════════════════╪════════════════╪════════════╡\n",
       "│ 1           ┆ $441,104.45  ┆ healthy accents   ┆ healthy accents   ┆ Closed Lost    ┆ 11/25/15   │\n",
       "│             ┆              ┆ cetirizine hydro… ┆ cetirizine hydro… ┆                ┆            │\n",
       "│ 2           ┆ $15,265.78   ┆ SOFT AND PRECIOUS ┆ SOFT AND PRECIOUS ┆ Closed Lost    ┆ 1/5/15     │\n",
       "│             ┆              ┆ NURSERY           ┆ NURSERY           ┆                ┆            │\n",
       "│ 3           ┆ $890,341.82  ┆ Hydrochlorothiazi ┆ Hydrochlorothiazi ┆ Closed Lost    ┆ 10/24/15   │\n",
       "│             ┆              ┆ de                ┆ de                ┆                ┆            │\n",
       "│ 4           ┆ $250,374.17  ┆ Good Neighbor     ┆ Good Neighbor     ┆ Closed Lost    ┆ 1/31/15    │\n",
       "│             ┆              ┆ Pharmacy          ┆ Pharmacy          ┆                ┆            │\n",
       "│             ┆              ┆ ibuprofen         ┆ ibuprofen         ┆                ┆            │\n",
       "│ …           ┆ …            ┆ …                 ┆ …                 ┆ …              ┆ …          │\n",
       "│ 97          ┆ $699,668.56  ┆ Alcohol Prep      ┆ Alcohol Prep      ┆ Estimate/Quote ┆ 4/1/15     │\n",
       "│ 98          ┆ $370,814.43  ┆ PIROXICAM         ┆ PIROXICAM         ┆ Estimate/Quote ┆ 5/4/15     │\n",
       "│ 99          ┆ $130,500.73  ┆ Ready Foundation  ┆ Ready Foundation  ┆ Estimate/Quote ┆ 2/15/15    │\n",
       "│ 100         ┆ $17,964.15   ┆ Anti-Aging Tinted ┆ Anti-Aging Tinted ┆ Estimate/Quote ┆ 4/5/15     │\n",
       "│             ┆              ┆ Moisturizer Br…   ┆ Moisturizer Br…   ┆                ┆            │\n",
       "└─────────────┴──────────────┴───────────────────┴───────────────────┴────────────────┴────────────┘"
      ],
      "text/html": [
       "<div><style>\n",
       ".dataframe > thead > tr > th,\n",
       ".dataframe > tbody > tr > td {\n",
       "  text-align: right;\n",
       "}\n",
       "</style>\n",
       "<small>shape: (100, 6)</small><table border=\"1\" class=\"dataframe\"><thead><tr><th>CompanEXTID</th><th>Amount</th><th>Project Name</th><th>Oppurtunity Name</th><th>Stage</th><th>Close Date</th></tr><tr><td>i64</td><td>str</td><td>str</td><td>str</td><td>str</td><td>str</td></tr></thead><tbody><tr><td>1</td><td>&quot;$441,104.45 &quot;</td><td>&quot;healthy accent…</td><td>&quot;healthy accent…</td><td>&quot;Closed Lost&quot;</td><td>&quot;11/25/15&quot;</td></tr><tr><td>2</td><td>&quot;$15,265.78 &quot;</td><td>&quot;SOFT AND PRECI…</td><td>&quot;SOFT AND PRECI…</td><td>&quot;Closed Lost&quot;</td><td>&quot;1/5/15&quot;</td></tr><tr><td>3</td><td>&quot;$890,341.82 &quot;</td><td>&quot;Hydrochlorothi…</td><td>&quot;Hydrochlorothi…</td><td>&quot;Closed Lost&quot;</td><td>&quot;10/24/15&quot;</td></tr><tr><td>4</td><td>&quot;$250,374.17 &quot;</td><td>&quot;Good Neighbor …</td><td>&quot;Good Neighbor …</td><td>&quot;Closed Lost&quot;</td><td>&quot;1/31/15&quot;</td></tr><tr><td>5</td><td>&quot;$177,316.97 &quot;</td><td>&quot;Clearskin Prof…</td><td>&quot;Clearskin Prof…</td><td>&quot;Closed Lost&quot;</td><td>&quot;3/20/15&quot;</td></tr><tr><td>6</td><td>&quot;$952,044.35 &quot;</td><td>&quot;Salt Cedar&quot;</td><td>&quot;Salt Cedar&quot;</td><td>&quot;Closed Lost&quot;</td><td>&quot;9/22/15&quot;</td></tr><tr><td>7</td><td>&quot;$74,380.82 &quot;</td><td>&quot;Bupivacaine Hy…</td><td>&quot;Bupivacaine Hy…</td><td>&quot;Closed Won&quot;</td><td>&quot;6/5/15&quot;</td></tr><tr><td>8</td><td>&quot;$745,072.27 &quot;</td><td>&quot;cold and sinus…</td><td>&quot;cold and sinus…</td><td>&quot;Closed Won&quot;</td><td>&quot;8/1/15&quot;</td></tr><tr><td>9</td><td>&quot;$522,411.07 &quot;</td><td>&quot;4 Way&quot;</td><td>&quot;4 Way&quot;</td><td>&quot;Closed Won&quot;</td><td>&quot;1/16/15&quot;</td></tr><tr><td>10</td><td>&quot;$469,643.44 &quot;</td><td>&quot;DEMEROL&quot;</td><td>&quot;DEMEROL&quot;</td><td>&quot;Closed Won&quot;</td><td>&quot;4/8/15&quot;</td></tr><tr><td>11</td><td>&quot;$813,593.75 &quot;</td><td>&quot;sunmark ibupro…</td><td>&quot;sunmark ibupro…</td><td>&quot;Closed Won&quot;</td><td>&quot;6/26/15&quot;</td></tr><tr><td>12</td><td>&quot;$437,226.24 &quot;</td><td>&quot;Pumpkin Spice …</td><td>&quot;Pumpkin Spice …</td><td>&quot;Closed Won&quot;</td><td>&quot;4/5/15&quot;</td></tr><tr><td>&hellip;</td><td>&hellip;</td><td>&hellip;</td><td>&hellip;</td><td>&hellip;</td><td>&hellip;</td></tr><tr><td>89</td><td>&quot;$244,552.44 &quot;</td><td>&quot;Kiehls Since 1…</td><td>&quot;Kiehls Since 1…</td><td>&quot;Estimate/Quote…</td><td>&quot;11/6/15&quot;</td></tr><tr><td>90</td><td>&quot;$639,188.70 &quot;</td><td>&quot;good sense itc…</td><td>&quot;good sense itc…</td><td>&quot;Estimate/Quote…</td><td>&quot;1/4/15&quot;</td></tr><tr><td>91</td><td>&quot;$405,874.97 &quot;</td><td>&quot;Biting Insect …</td><td>&quot;Biting Insect …</td><td>&quot;Estimate/Quote…</td><td>&quot;7/11/15&quot;</td></tr><tr><td>92</td><td>&quot;$572,861.95 &quot;</td><td>&quot;Tussnex FM Col…</td><td>&quot;Tussnex FM Col…</td><td>&quot;Estimate/Quote…</td><td>&quot;1/22/15&quot;</td></tr><tr><td>93</td><td>&quot;$700,678.62 &quot;</td><td>&quot;Onion&quot;</td><td>&quot;Onion&quot;</td><td>&quot;Estimate/Quote…</td><td>&quot;1/3/15&quot;</td></tr><tr><td>94</td><td>&quot;$502,201.28 &quot;</td><td>&quot;Sunmark Nasal&quot;</td><td>&quot;Sunmark Nasal&quot;</td><td>&quot;Estimate/Quote…</td><td>&quot;8/9/15&quot;</td></tr><tr><td>95</td><td>&quot;$747,303.22 &quot;</td><td>&quot;Zicam&quot;</td><td>&quot;Zicam&quot;</td><td>&quot;Estimate/Quote…</td><td>&quot;4/25/15&quot;</td></tr><tr><td>96</td><td>&quot;$866,797.59 &quot;</td><td>&quot;Poly Antibioti…</td><td>&quot;Poly Antibioti…</td><td>&quot;Estimate/Quote…</td><td>&quot;1/12/15&quot;</td></tr><tr><td>97</td><td>&quot;$699,668.56 &quot;</td><td>&quot;Alcohol Prep&quot;</td><td>&quot;Alcohol Prep&quot;</td><td>&quot;Estimate/Quote…</td><td>&quot;4/1/15&quot;</td></tr><tr><td>98</td><td>&quot;$370,814.43 &quot;</td><td>&quot;PIROXICAM&quot;</td><td>&quot;PIROXICAM&quot;</td><td>&quot;Estimate/Quote…</td><td>&quot;5/4/15&quot;</td></tr><tr><td>99</td><td>&quot;$130,500.73 &quot;</td><td>&quot;Ready Foundati…</td><td>&quot;Ready Foundati…</td><td>&quot;Estimate/Quote…</td><td>&quot;2/15/15&quot;</td></tr><tr><td>100</td><td>&quot;$17,964.15 &quot;</td><td>&quot;Anti-Aging Tin…</td><td>&quot;Anti-Aging Tin…</td><td>&quot;Estimate/Quote…</td><td>&quot;4/5/15&quot;</td></tr></tbody></table></div>"
      ]
     },
     "execution_count": 41,
     "metadata": {},
     "output_type": "execute_result"
    }
   ],
   "execution_count": 41
  },
  {
   "metadata": {
    "ExecuteTime": {
     "end_time": "2024-09-02T09:03:25.485376Z",
     "start_time": "2024-09-02T09:03:25.482247Z"
    }
   },
   "cell_type": "code",
   "source": "opportunity_df.describe()",
   "outputs": [
    {
     "data": {
      "text/plain": [
       "shape: (9, 7)\n",
       "┌────────────┬─────────────┬───────────────┬────────────┬──────────────┬──────────────┬────────────┐\n",
       "│ describe   ┆ CompanEXTID ┆ Amount        ┆ Project    ┆ Oppurtunity  ┆ Stage        ┆ Close Date │\n",
       "│ ---        ┆ ---         ┆ ---           ┆ Name       ┆ Name         ┆ ---          ┆ ---        │\n",
       "│ str        ┆ f64         ┆ str           ┆ ---        ┆ ---          ┆ str          ┆ str        │\n",
       "│            ┆             ┆               ┆ str        ┆ str          ┆              ┆            │\n",
       "╞════════════╪═════════════╪═══════════════╪════════════╪══════════════╪══════════════╪════════════╡\n",
       "│ count      ┆ 100.0       ┆ 100           ┆ 100        ┆ 100          ┆ 100          ┆ 100        │\n",
       "│ null_count ┆ 0.0         ┆ 0             ┆ 0          ┆ 0            ┆ 0            ┆ 0          │\n",
       "│ mean       ┆ 50.5        ┆ null          ┆ null       ┆ null         ┆ null         ┆ null       │\n",
       "│ std        ┆ 29.011492   ┆ null          ┆ null       ┆ null         ┆ null         ┆ null       │\n",
       "│ min        ┆ 1.0         ┆ $117,316.44   ┆ 4 Way      ┆ 4 Way        ┆ Closed Lost  ┆ 1/12/15    │\n",
       "│ max        ┆ 100.0       ┆ $986,478.04   ┆ sunmark    ┆ sunmark      ┆ Specificatio ┆ 9/9/15     │\n",
       "│            ┆             ┆               ┆ ibuprofen  ┆ ibuprofen    ┆ n            ┆            │\n",
       "│ median     ┆ 50.5        ┆ null          ┆ null       ┆ null         ┆ null         ┆ null       │\n",
       "│ 25%        ┆ 26.0        ┆ null          ┆ null       ┆ null         ┆ null         ┆ null       │\n",
       "│ 75%        ┆ 76.0        ┆ null          ┆ null       ┆ null         ┆ null         ┆ null       │\n",
       "└────────────┴─────────────┴───────────────┴────────────┴──────────────┴──────────────┴────────────┘"
      ],
      "text/html": [
       "<div><style>\n",
       ".dataframe > thead > tr > th,\n",
       ".dataframe > tbody > tr > td {\n",
       "  text-align: right;\n",
       "}\n",
       "</style>\n",
       "<small>shape: (9, 7)</small><table border=\"1\" class=\"dataframe\"><thead><tr><th>describe</th><th>CompanEXTID</th><th>Amount</th><th>Project Name</th><th>Oppurtunity Name</th><th>Stage</th><th>Close Date</th></tr><tr><td>str</td><td>f64</td><td>str</td><td>str</td><td>str</td><td>str</td><td>str</td></tr></thead><tbody><tr><td>&quot;count&quot;</td><td>100.0</td><td>&quot;100&quot;</td><td>&quot;100&quot;</td><td>&quot;100&quot;</td><td>&quot;100&quot;</td><td>&quot;100&quot;</td></tr><tr><td>&quot;null_count&quot;</td><td>0.0</td><td>&quot;0&quot;</td><td>&quot;0&quot;</td><td>&quot;0&quot;</td><td>&quot;0&quot;</td><td>&quot;0&quot;</td></tr><tr><td>&quot;mean&quot;</td><td>50.5</td><td>null</td><td>null</td><td>null</td><td>null</td><td>null</td></tr><tr><td>&quot;std&quot;</td><td>29.011492</td><td>null</td><td>null</td><td>null</td><td>null</td><td>null</td></tr><tr><td>&quot;min&quot;</td><td>1.0</td><td>&quot;$117,316.44 &quot;</td><td>&quot;4 Way&quot;</td><td>&quot;4 Way&quot;</td><td>&quot;Closed Lost&quot;</td><td>&quot;1/12/15&quot;</td></tr><tr><td>&quot;max&quot;</td><td>100.0</td><td>&quot;$986,478.04 &quot;</td><td>&quot;sunmark ibupro…</td><td>&quot;sunmark ibupro…</td><td>&quot;Specification&quot;</td><td>&quot;9/9/15&quot;</td></tr><tr><td>&quot;median&quot;</td><td>50.5</td><td>null</td><td>null</td><td>null</td><td>null</td><td>null</td></tr><tr><td>&quot;25%&quot;</td><td>26.0</td><td>null</td><td>null</td><td>null</td><td>null</td><td>null</td></tr><tr><td>&quot;75%&quot;</td><td>76.0</td><td>null</td><td>null</td><td>null</td><td>null</td><td>null</td></tr></tbody></table></div>"
      ]
     },
     "execution_count": 42,
     "metadata": {},
     "output_type": "execute_result"
    }
   ],
   "execution_count": 42
  },
  {
   "metadata": {
    "ExecuteTime": {
     "end_time": "2024-09-02T09:06:54.292189Z",
     "start_time": "2024-09-02T09:06:54.288871Z"
    }
   },
   "cell_type": "code",
   "source": [
    "# count opportunity_df group by Stage\n",
    "opportunity_df.groupby(\"Stage\").count()"
   ],
   "outputs": [
    {
     "data": {
      "text/plain": [
       "shape: (7, 2)\n",
       "┌────────────────────┬───────┐\n",
       "│ Stage              ┆ count │\n",
       "│ ---                ┆ ---   │\n",
       "│ str                ┆ u32   │\n",
       "╞════════════════════╪═══════╡\n",
       "│ Closed Won         ┆ 9     │\n",
       "│ Estimate/Quote     ┆ 22    │\n",
       "│ Specification      ┆ 17    │\n",
       "│ Closed Lost        ┆ 6     │\n",
       "│ Introduction       ┆ 12    │\n",
       "│ Finalize/Negotiate ┆ 13    │\n",
       "│ Discovery          ┆ 21    │\n",
       "└────────────────────┴───────┘"
      ],
      "text/html": [
       "<div><style>\n",
       ".dataframe > thead > tr > th,\n",
       ".dataframe > tbody > tr > td {\n",
       "  text-align: right;\n",
       "}\n",
       "</style>\n",
       "<small>shape: (7, 2)</small><table border=\"1\" class=\"dataframe\"><thead><tr><th>Stage</th><th>count</th></tr><tr><td>str</td><td>u32</td></tr></thead><tbody><tr><td>&quot;Closed Won&quot;</td><td>9</td></tr><tr><td>&quot;Estimate/Quote…</td><td>22</td></tr><tr><td>&quot;Specification&quot;</td><td>17</td></tr><tr><td>&quot;Closed Lost&quot;</td><td>6</td></tr><tr><td>&quot;Introduction&quot;</td><td>12</td></tr><tr><td>&quot;Finalize/Negot…</td><td>13</td></tr><tr><td>&quot;Discovery&quot;</td><td>21</td></tr></tbody></table></div>"
      ]
     },
     "execution_count": 46,
     "metadata": {},
     "output_type": "execute_result"
    }
   ],
   "execution_count": 46
  },
  {
   "metadata": {
    "ExecuteTime": {
     "end_time": "2024-09-02T09:04:53.799717Z",
     "start_time": "2024-09-02T09:04:53.792590Z"
    }
   },
   "cell_type": "code",
   "source": [
    "account_contact_opportunity_df = account_contact_df.join(opportunity_df, left_on=\"CompanyEXTID\", right_on=\"CompanEXTID\", how=\"left\")\n",
    "account_contact_opportunity_df"
   ],
   "outputs": [
    {
     "data": {
      "text/plain": [
       "shape: (100, 13)\n",
       "┌────────────┬────────────┬──────────┬──────────┬───┬────────────┬────────────┬─────────┬──────────┐\n",
       "│ CompanyEXT ┆ Company    ┆ City     ┆ State    ┆ … ┆ Project    ┆ Oppurtunit ┆ Stage   ┆ Close    │\n",
       "│ ID         ┆ Name       ┆ ---      ┆ ---      ┆   ┆ Name       ┆ y Name     ┆ ---     ┆ Date     │\n",
       "│ ---        ┆ ---        ┆ str      ┆ str      ┆   ┆ ---        ┆ ---        ┆ str     ┆ ---      │\n",
       "│ i64        ┆ str        ┆          ┆          ┆   ┆ str        ┆ str        ┆         ┆ str      │\n",
       "╞════════════╪════════════╪══════════╪══════════╪═══╪════════════╪════════════╪═════════╪══════════╡\n",
       "│ 1          ┆ Yadel      ┆ Cheyenne ┆ Wyoming  ┆ … ┆ healthy    ┆ healthy    ┆ Closed  ┆ 11/25/15 │\n",
       "│            ┆            ┆          ┆          ┆   ┆ accents    ┆ accents    ┆ Lost    ┆          │\n",
       "│            ┆            ┆          ┆          ┆   ┆ cetirizine ┆ cetirizine ┆         ┆          │\n",
       "│            ┆            ┆          ┆          ┆   ┆ hydro…     ┆ hydro…     ┆         ┆          │\n",
       "│ 2          ┆ Camido     ┆ Stamford ┆ Connecti ┆ … ┆ SOFT AND   ┆ SOFT AND   ┆ Closed  ┆ 1/5/15   │\n",
       "│            ┆            ┆          ┆ cut      ┆   ┆ PRECIOUS   ┆ PRECIOUS   ┆ Lost    ┆          │\n",
       "│            ┆            ┆          ┆          ┆   ┆ NURSERY    ┆ NURSERY    ┆         ┆          │\n",
       "│ 3          ┆ Trudeo     ┆ Seattle  ┆ Washingt ┆ … ┆ Hydrochlor ┆ Hydrochlor ┆ Closed  ┆ 10/24/15 │\n",
       "│            ┆            ┆          ┆ on       ┆   ┆ othiazide  ┆ othiazide  ┆ Lost    ┆          │\n",
       "│ 4          ┆ Gigaclub   ┆ Anchorag ┆ Alaska   ┆ … ┆ Good       ┆ Good       ┆ Closed  ┆ 1/31/15  │\n",
       "│            ┆            ┆ e        ┆          ┆   ┆ Neighbor   ┆ Neighbor   ┆ Lost    ┆          │\n",
       "│            ┆            ┆          ┆          ┆   ┆ Pharmacy   ┆ Pharmacy   ┆         ┆          │\n",
       "│            ┆            ┆          ┆          ┆   ┆ ibuprofen  ┆ ibuprofen  ┆         ┆          │\n",
       "│ …          ┆ …          ┆ …        ┆ …        ┆ … ┆ …          ┆ …          ┆ …       ┆ …        │\n",
       "│ 97         ┆ Realbridge ┆ Peoria   ┆ Illinois ┆ … ┆ Alcohol    ┆ Alcohol    ┆ Estimat ┆ 4/1/15   │\n",
       "│            ┆            ┆          ┆          ┆   ┆ Prep       ┆ Prep       ┆ e/Quote ┆          │\n",
       "│ 98         ┆ Talane     ┆ Chicago  ┆ Illinois ┆ … ┆ PIROXICAM  ┆ PIROXICAM  ┆ Estimat ┆ 5/4/15   │\n",
       "│            ┆            ┆          ┆          ┆   ┆            ┆            ┆ e/Quote ┆          │\n",
       "│ 99         ┆ Midel      ┆ Evanston ┆ Illinois ┆ … ┆ Ready      ┆ Ready      ┆ Estimat ┆ 2/15/15  │\n",
       "│            ┆            ┆          ┆          ┆   ┆ Foundation ┆ Foundation ┆ e/Quote ┆          │\n",
       "│ 100        ┆ Trilith    ┆ Springfi ┆ Virginia ┆ … ┆ Anti-Aging ┆ Anti-Aging ┆ Estimat ┆ 4/5/15   │\n",
       "│            ┆            ┆ eld      ┆          ┆   ┆ Tinted Moi ┆ Tinted Moi ┆ e/Quote ┆          │\n",
       "│            ┆            ┆          ┆          ┆   ┆ sturizer   ┆ sturizer   ┆         ┆          │\n",
       "│            ┆            ┆          ┆          ┆   ┆ Br…        ┆ Br…        ┆         ┆          │\n",
       "└────────────┴────────────┴──────────┴──────────┴───┴────────────┴────────────┴─────────┴──────────┘"
      ],
      "text/html": [
       "<div><style>\n",
       ".dataframe > thead > tr > th,\n",
       ".dataframe > tbody > tr > td {\n",
       "  text-align: right;\n",
       "}\n",
       "</style>\n",
       "<small>shape: (100, 13)</small><table border=\"1\" class=\"dataframe\"><thead><tr><th>CompanyEXTID</th><th>Company Name</th><th>City</th><th>State</th><th>first_name</th><th>last_name</th><th>email</th><th>country</th><th>Amount</th><th>Project Name</th><th>Oppurtunity Name</th><th>Stage</th><th>Close Date</th></tr><tr><td>i64</td><td>str</td><td>str</td><td>str</td><td>str</td><td>str</td><td>str</td><td>str</td><td>str</td><td>str</td><td>str</td><td>str</td><td>str</td></tr></thead><tbody><tr><td>1</td><td>&quot;Yadel&quot;</td><td>&quot;Cheyenne&quot;</td><td>&quot;Wyoming&quot;</td><td>&quot;Phillip&quot;</td><td>&quot;Barnes&quot;</td><td>&quot;pbarnes0@about…</td><td>&quot;United States&quot;</td><td>&quot;$441,104.45 &quot;</td><td>&quot;healthy accent…</td><td>&quot;healthy accent…</td><td>&quot;Closed Lost&quot;</td><td>&quot;11/25/15&quot;</td></tr><tr><td>2</td><td>&quot;Camido&quot;</td><td>&quot;Stamford&quot;</td><td>&quot;Connecticut&quot;</td><td>&quot;Kathryn&quot;</td><td>&quot;Hansen&quot;</td><td>&quot;khansen1@ustre…</td><td>&quot;United States&quot;</td><td>&quot;$15,265.78 &quot;</td><td>&quot;SOFT AND PRECI…</td><td>&quot;SOFT AND PRECI…</td><td>&quot;Closed Lost&quot;</td><td>&quot;1/5/15&quot;</td></tr><tr><td>3</td><td>&quot;Trudeo&quot;</td><td>&quot;Seattle&quot;</td><td>&quot;Washington&quot;</td><td>&quot;Roy&quot;</td><td>&quot;Edwards&quot;</td><td>&quot;redwards2@brav…</td><td>&quot;United States&quot;</td><td>&quot;$890,341.82 &quot;</td><td>&quot;Hydrochlorothi…</td><td>&quot;Hydrochlorothi…</td><td>&quot;Closed Lost&quot;</td><td>&quot;10/24/15&quot;</td></tr><tr><td>4</td><td>&quot;Gigaclub&quot;</td><td>&quot;Anchorage&quot;</td><td>&quot;Alaska&quot;</td><td>&quot;George&quot;</td><td>&quot;Morris&quot;</td><td>&quot;gmorris3@syman…</td><td>&quot;United States&quot;</td><td>&quot;$250,374.17 &quot;</td><td>&quot;Good Neighbor …</td><td>&quot;Good Neighbor …</td><td>&quot;Closed Lost&quot;</td><td>&quot;1/31/15&quot;</td></tr><tr><td>5</td><td>&quot;Brainverse&quot;</td><td>&quot;Troy&quot;</td><td>&quot;Michigan&quot;</td><td>&quot;Donald&quot;</td><td>&quot;Clark&quot;</td><td>&quot;dclark4@square…</td><td>&quot;United States&quot;</td><td>&quot;$177,316.97 &quot;</td><td>&quot;Clearskin Prof…</td><td>&quot;Clearskin Prof…</td><td>&quot;Closed Lost&quot;</td><td>&quot;3/20/15&quot;</td></tr><tr><td>6</td><td>&quot;Riffpedia&quot;</td><td>&quot;San Jose&quot;</td><td>&quot;California&quot;</td><td>&quot;Martha&quot;</td><td>&quot;Ray&quot;</td><td>&quot;mray5@archive.…</td><td>&quot;United States&quot;</td><td>&quot;$952,044.35 &quot;</td><td>&quot;Salt Cedar&quot;</td><td>&quot;Salt Cedar&quot;</td><td>&quot;Closed Lost&quot;</td><td>&quot;9/22/15&quot;</td></tr><tr><td>7</td><td>&quot;Tagtune&quot;</td><td>&quot;Miami&quot;</td><td>&quot;Florida&quot;</td><td>&quot;Bobby&quot;</td><td>&quot;Wilson&quot;</td><td>&quot;bwilson6@reute…</td><td>&quot;United States&quot;</td><td>&quot;$74,380.82 &quot;</td><td>&quot;Bupivacaine Hy…</td><td>&quot;Bupivacaine Hy…</td><td>&quot;Closed Won&quot;</td><td>&quot;6/5/15&quot;</td></tr><tr><td>8</td><td>&quot;LiveZ&quot;</td><td>&quot;Athens&quot;</td><td>&quot;Georgia&quot;</td><td>&quot;Jerry&quot;</td><td>&quot;Ray&quot;</td><td>&quot;jray7@comcast.…</td><td>&quot;United States&quot;</td><td>&quot;$745,072.27 &quot;</td><td>&quot;cold and sinus…</td><td>&quot;cold and sinus…</td><td>&quot;Closed Won&quot;</td><td>&quot;8/1/15&quot;</td></tr><tr><td>9</td><td>&quot;Edgeblab&quot;</td><td>&quot;Austin&quot;</td><td>&quot;Texas&quot;</td><td>&quot;Jonathan&quot;</td><td>&quot;Thompson&quot;</td><td>&quot;jthompson8@hat…</td><td>&quot;United States&quot;</td><td>&quot;$522,411.07 &quot;</td><td>&quot;4 Way&quot;</td><td>&quot;4 Way&quot;</td><td>&quot;Closed Won&quot;</td><td>&quot;1/16/15&quot;</td></tr><tr><td>10</td><td>&quot;Aibox&quot;</td><td>&quot;Joliet&quot;</td><td>&quot;Illinois&quot;</td><td>&quot;Kimberly&quot;</td><td>&quot;Rogers&quot;</td><td>&quot;krogers9@un.or…</td><td>&quot;United States&quot;</td><td>&quot;$469,643.44 &quot;</td><td>&quot;DEMEROL&quot;</td><td>&quot;DEMEROL&quot;</td><td>&quot;Closed Won&quot;</td><td>&quot;4/8/15&quot;</td></tr><tr><td>11</td><td>&quot;Zoomzone&quot;</td><td>&quot;Charleston&quot;</td><td>&quot;South Carolina…</td><td>&quot;Betty&quot;</td><td>&quot;Ryan&quot;</td><td>&quot;bryana@taobao.…</td><td>&quot;United States&quot;</td><td>&quot;$813,593.75 &quot;</td><td>&quot;sunmark ibupro…</td><td>&quot;sunmark ibupro…</td><td>&quot;Closed Won&quot;</td><td>&quot;6/26/15&quot;</td></tr><tr><td>12</td><td>&quot;Flipbug&quot;</td><td>&quot;Fort Wayne&quot;</td><td>&quot;Indiana&quot;</td><td>&quot;Kathleen&quot;</td><td>&quot;Harris&quot;</td><td>&quot;kharrisb@netwo…</td><td>&quot;United States&quot;</td><td>&quot;$437,226.24 &quot;</td><td>&quot;Pumpkin Spice …</td><td>&quot;Pumpkin Spice …</td><td>&quot;Closed Won&quot;</td><td>&quot;4/5/15&quot;</td></tr><tr><td>&hellip;</td><td>&hellip;</td><td>&hellip;</td><td>&hellip;</td><td>&hellip;</td><td>&hellip;</td><td>&hellip;</td><td>&hellip;</td><td>&hellip;</td><td>&hellip;</td><td>&hellip;</td><td>&hellip;</td><td>&hellip;</td></tr><tr><td>89</td><td>&quot;Thoughtworks&quot;</td><td>&quot;Tulsa&quot;</td><td>&quot;Oklahoma&quot;</td><td>&quot;Anne&quot;</td><td>&quot;Fernandez&quot;</td><td>&quot;afernandez2g@b…</td><td>&quot;United States&quot;</td><td>&quot;$244,552.44 &quot;</td><td>&quot;Kiehls Since 1…</td><td>&quot;Kiehls Since 1…</td><td>&quot;Estimate/Quote…</td><td>&quot;11/6/15&quot;</td></tr><tr><td>90</td><td>&quot;Lajo&quot;</td><td>&quot;Biloxi&quot;</td><td>&quot;Mississippi&quot;</td><td>&quot;Jack&quot;</td><td>&quot;Reynolds&quot;</td><td>&quot;jreynolds2h@na…</td><td>&quot;United States&quot;</td><td>&quot;$639,188.70 &quot;</td><td>&quot;good sense itc…</td><td>&quot;good sense itc…</td><td>&quot;Estimate/Quote…</td><td>&quot;1/4/15&quot;</td></tr><tr><td>91</td><td>&quot;Roomm&quot;</td><td>&quot;Bronx&quot;</td><td>&quot;New York&quot;</td><td>&quot;Jean&quot;</td><td>&quot;Henry&quot;</td><td>&quot;jhenry2i@newyo…</td><td>&quot;United States&quot;</td><td>&quot;$405,874.97 &quot;</td><td>&quot;Biting Insect …</td><td>&quot;Biting Insect …</td><td>&quot;Estimate/Quote…</td><td>&quot;7/11/15&quot;</td></tr><tr><td>92</td><td>&quot;Twitterwire&quot;</td><td>&quot;Oklahoma City&quot;</td><td>&quot;Oklahoma&quot;</td><td>&quot;Willie&quot;</td><td>&quot;Ramirez&quot;</td><td>&quot;wramirez2j@fre…</td><td>&quot;United States&quot;</td><td>&quot;$572,861.95 &quot;</td><td>&quot;Tussnex FM Col…</td><td>&quot;Tussnex FM Col…</td><td>&quot;Estimate/Quote…</td><td>&quot;1/22/15&quot;</td></tr><tr><td>93</td><td>&quot;Mudo&quot;</td><td>&quot;Baton Rouge&quot;</td><td>&quot;Louisiana&quot;</td><td>&quot;Fred&quot;</td><td>&quot;Allen&quot;</td><td>&quot;fallen2k@irs.g…</td><td>&quot;United States&quot;</td><td>&quot;$700,678.62 &quot;</td><td>&quot;Onion&quot;</td><td>&quot;Onion&quot;</td><td>&quot;Estimate/Quote…</td><td>&quot;1/3/15&quot;</td></tr><tr><td>94</td><td>&quot;Rhycero&quot;</td><td>&quot;Chicago&quot;</td><td>&quot;Illinois&quot;</td><td>&quot;Kenneth&quot;</td><td>&quot;Gonzales&quot;</td><td>&quot;kgonzales2l@da…</td><td>&quot;United States&quot;</td><td>&quot;$502,201.28 &quot;</td><td>&quot;Sunmark Nasal&quot;</td><td>&quot;Sunmark Nasal&quot;</td><td>&quot;Estimate/Quote…</td><td>&quot;8/9/15&quot;</td></tr><tr><td>95</td><td>&quot;Meemm&quot;</td><td>&quot;Milwaukee&quot;</td><td>&quot;Wisconsin&quot;</td><td>&quot;Earl&quot;</td><td>&quot;Reynolds&quot;</td><td>&quot;ereynolds2m@ab…</td><td>&quot;United States&quot;</td><td>&quot;$747,303.22 &quot;</td><td>&quot;Zicam&quot;</td><td>&quot;Zicam&quot;</td><td>&quot;Estimate/Quote…</td><td>&quot;4/25/15&quot;</td></tr><tr><td>96</td><td>&quot;Kayveo&quot;</td><td>&quot;Madison&quot;</td><td>&quot;Wisconsin&quot;</td><td>&quot;Raymond&quot;</td><td>&quot;Berry&quot;</td><td>&quot;rberry2n@redif…</td><td>&quot;United States&quot;</td><td>&quot;$866,797.59 &quot;</td><td>&quot;Poly Antibioti…</td><td>&quot;Poly Antibioti…</td><td>&quot;Estimate/Quote…</td><td>&quot;1/12/15&quot;</td></tr><tr><td>97</td><td>&quot;Realbridge&quot;</td><td>&quot;Peoria&quot;</td><td>&quot;Illinois&quot;</td><td>&quot;Wanda&quot;</td><td>&quot;Mendoza&quot;</td><td>&quot;wmendoza2o@123…</td><td>&quot;United States&quot;</td><td>&quot;$699,668.56 &quot;</td><td>&quot;Alcohol Prep&quot;</td><td>&quot;Alcohol Prep&quot;</td><td>&quot;Estimate/Quote…</td><td>&quot;4/1/15&quot;</td></tr><tr><td>98</td><td>&quot;Talane&quot;</td><td>&quot;Chicago&quot;</td><td>&quot;Illinois&quot;</td><td>&quot;Bruce&quot;</td><td>&quot;Bowman&quot;</td><td>&quot;bbowman2p@hud.…</td><td>&quot;United States&quot;</td><td>&quot;$370,814.43 &quot;</td><td>&quot;PIROXICAM&quot;</td><td>&quot;PIROXICAM&quot;</td><td>&quot;Estimate/Quote…</td><td>&quot;5/4/15&quot;</td></tr><tr><td>99</td><td>&quot;Midel&quot;</td><td>&quot;Evanston&quot;</td><td>&quot;Illinois&quot;</td><td>&quot;Mary&quot;</td><td>&quot;Ferguson&quot;</td><td>&quot;mferguson2q@st…</td><td>&quot;United States&quot;</td><td>&quot;$130,500.73 &quot;</td><td>&quot;Ready Foundati…</td><td>&quot;Ready Foundati…</td><td>&quot;Estimate/Quote…</td><td>&quot;2/15/15&quot;</td></tr><tr><td>100</td><td>&quot;Trilith&quot;</td><td>&quot;Springfield&quot;</td><td>&quot;Virginia&quot;</td><td>&quot;Billy&quot;</td><td>&quot;Wallace&quot;</td><td>&quot;bwallace2r@com…</td><td>&quot;United States&quot;</td><td>&quot;$17,964.15 &quot;</td><td>&quot;Anti-Aging Tin…</td><td>&quot;Anti-Aging Tin…</td><td>&quot;Estimate/Quote…</td><td>&quot;4/5/15&quot;</td></tr></tbody></table></div>"
      ]
     },
     "execution_count": 43,
     "metadata": {},
     "output_type": "execute_result"
    }
   ],
   "execution_count": 43
  },
  {
   "metadata": {
    "ExecuteTime": {
     "end_time": "2024-09-02T09:04:56.336316Z",
     "start_time": "2024-09-02T09:04:56.332777Z"
    }
   },
   "cell_type": "code",
   "source": "account_contact_opportunity_df.describe()",
   "outputs": [
    {
     "data": {
      "text/plain": [
       "shape: (9, 14)\n",
       "┌──────────┬────────────┬────────────┬──────────┬───┬────────────┬────────────┬─────────┬──────────┐\n",
       "│ describe ┆ CompanyEXT ┆ Company    ┆ City     ┆ … ┆ Project    ┆ Oppurtunit ┆ Stage   ┆ Close    │\n",
       "│ ---      ┆ ID         ┆ Name       ┆ ---      ┆   ┆ Name       ┆ y Name     ┆ ---     ┆ Date     │\n",
       "│ str      ┆ ---        ┆ ---        ┆ str      ┆   ┆ ---        ┆ ---        ┆ str     ┆ ---      │\n",
       "│          ┆ f64        ┆ str        ┆          ┆   ┆ str        ┆ str        ┆         ┆ str      │\n",
       "╞══════════╪════════════╪════════════╪══════════╪═══╪════════════╪════════════╪═════════╪══════════╡\n",
       "│ count    ┆ 100.0      ┆ 100        ┆ 100      ┆ … ┆ 100        ┆ 100        ┆ 100     ┆ 100      │\n",
       "│ null_cou ┆ 0.0        ┆ 0          ┆ 0        ┆ … ┆ 0          ┆ 0          ┆ 0       ┆ 0        │\n",
       "│ nt       ┆            ┆            ┆          ┆   ┆            ┆            ┆         ┆          │\n",
       "│ mean     ┆ 50.5       ┆ null       ┆ null     ┆ … ┆ null       ┆ null       ┆ null    ┆ null     │\n",
       "│ std      ┆ 29.011492  ┆ null       ┆ null     ┆ … ┆ null       ┆ null       ┆ null    ┆ null     │\n",
       "│ min      ┆ 1.0        ┆ Abata      ┆ Albuquer ┆ … ┆ 4 Way      ┆ 4 Way      ┆ Closed  ┆ 1/12/15  │\n",
       "│          ┆            ┆            ┆ que      ┆   ┆            ┆            ┆ Lost    ┆          │\n",
       "│ max      ┆ 100.0      ┆ Zoomzone   ┆ Woburn   ┆ … ┆ sunmark    ┆ sunmark    ┆ Specifi ┆ 9/9/15   │\n",
       "│          ┆            ┆            ┆          ┆   ┆ ibuprofen  ┆ ibuprofen  ┆ cation  ┆          │\n",
       "│ median   ┆ 50.5       ┆ null       ┆ null     ┆ … ┆ null       ┆ null       ┆ null    ┆ null     │\n",
       "│ 25%      ┆ 26.0       ┆ null       ┆ null     ┆ … ┆ null       ┆ null       ┆ null    ┆ null     │\n",
       "│ 75%      ┆ 76.0       ┆ null       ┆ null     ┆ … ┆ null       ┆ null       ┆ null    ┆ null     │\n",
       "└──────────┴────────────┴────────────┴──────────┴───┴────────────┴────────────┴─────────┴──────────┘"
      ],
      "text/html": [
       "<div><style>\n",
       ".dataframe > thead > tr > th,\n",
       ".dataframe > tbody > tr > td {\n",
       "  text-align: right;\n",
       "}\n",
       "</style>\n",
       "<small>shape: (9, 14)</small><table border=\"1\" class=\"dataframe\"><thead><tr><th>describe</th><th>CompanyEXTID</th><th>Company Name</th><th>City</th><th>State</th><th>first_name</th><th>last_name</th><th>email</th><th>country</th><th>Amount</th><th>Project Name</th><th>Oppurtunity Name</th><th>Stage</th><th>Close Date</th></tr><tr><td>str</td><td>f64</td><td>str</td><td>str</td><td>str</td><td>str</td><td>str</td><td>str</td><td>str</td><td>str</td><td>str</td><td>str</td><td>str</td><td>str</td></tr></thead><tbody><tr><td>&quot;count&quot;</td><td>100.0</td><td>&quot;100&quot;</td><td>&quot;100&quot;</td><td>&quot;100&quot;</td><td>&quot;100&quot;</td><td>&quot;100&quot;</td><td>&quot;100&quot;</td><td>&quot;100&quot;</td><td>&quot;100&quot;</td><td>&quot;100&quot;</td><td>&quot;100&quot;</td><td>&quot;100&quot;</td><td>&quot;100&quot;</td></tr><tr><td>&quot;null_count&quot;</td><td>0.0</td><td>&quot;0&quot;</td><td>&quot;0&quot;</td><td>&quot;0&quot;</td><td>&quot;0&quot;</td><td>&quot;0&quot;</td><td>&quot;0&quot;</td><td>&quot;0&quot;</td><td>&quot;0&quot;</td><td>&quot;0&quot;</td><td>&quot;0&quot;</td><td>&quot;0&quot;</td><td>&quot;0&quot;</td></tr><tr><td>&quot;mean&quot;</td><td>50.5</td><td>null</td><td>null</td><td>null</td><td>null</td><td>null</td><td>null</td><td>null</td><td>null</td><td>null</td><td>null</td><td>null</td><td>null</td></tr><tr><td>&quot;std&quot;</td><td>29.011492</td><td>null</td><td>null</td><td>null</td><td>null</td><td>null</td><td>null</td><td>null</td><td>null</td><td>null</td><td>null</td><td>null</td><td>null</td></tr><tr><td>&quot;min&quot;</td><td>1.0</td><td>&quot;Abata&quot;</td><td>&quot;Albuquerque&quot;</td><td>&quot;Alabama&quot;</td><td>&quot;Adam&quot;</td><td>&quot;Alexander&quot;</td><td>&quot;abishop1c@t.co…</td><td>&quot;United States&quot;</td><td>&quot;$117,316.44 &quot;</td><td>&quot;4 Way&quot;</td><td>&quot;4 Way&quot;</td><td>&quot;Closed Lost&quot;</td><td>&quot;1/12/15&quot;</td></tr><tr><td>&quot;max&quot;</td><td>100.0</td><td>&quot;Zoomzone&quot;</td><td>&quot;Woburn&quot;</td><td>&quot;Wyoming&quot;</td><td>&quot;Willie&quot;</td><td>&quot;Wilson&quot;</td><td>&quot;wwatson1i@bizj…</td><td>&quot;United States&quot;</td><td>&quot;$986,478.04 &quot;</td><td>&quot;sunmark ibupro…</td><td>&quot;sunmark ibupro…</td><td>&quot;Specification&quot;</td><td>&quot;9/9/15&quot;</td></tr><tr><td>&quot;median&quot;</td><td>50.5</td><td>null</td><td>null</td><td>null</td><td>null</td><td>null</td><td>null</td><td>null</td><td>null</td><td>null</td><td>null</td><td>null</td><td>null</td></tr><tr><td>&quot;25%&quot;</td><td>26.0</td><td>null</td><td>null</td><td>null</td><td>null</td><td>null</td><td>null</td><td>null</td><td>null</td><td>null</td><td>null</td><td>null</td><td>null</td></tr><tr><td>&quot;75%&quot;</td><td>76.0</td><td>null</td><td>null</td><td>null</td><td>null</td><td>null</td><td>null</td><td>null</td><td>null</td><td>null</td><td>null</td><td>null</td><td>null</td></tr></tbody></table></div>"
      ]
     },
     "execution_count": 44,
     "metadata": {},
     "output_type": "execute_result"
    }
   ],
   "execution_count": 44
  },
  {
   "metadata": {
    "ExecuteTime": {
     "end_time": "2024-09-02T09:15:23.294330Z",
     "start_time": "2024-09-02T09:15:23.288883Z"
    }
   },
   "cell_type": "code",
   "source": [
    "account_contact_opportunity_lead_df = account_contact_opportunity_df.join(lead_df, left_on=\"Company Name\", right_on=\"Company\", how=\"inner\")\n",
    "account_contact_opportunity_lead_df"
   ],
   "outputs": [
    {
     "data": {
      "text/plain": [
       "shape: (24, 17)\n",
       "┌────────────┬────────────┬───────────┬───────────┬───┬──────────┬─────────┬───────────┬───────────┐\n",
       "│ CompanyEXT ┆ Company    ┆ City      ┆ State     ┆ … ┆ First    ┆ Last    ┆ Email     ┆ Lead      │\n",
       "│ ID         ┆ Name       ┆ ---       ┆ ---       ┆   ┆ Name     ┆ Name    ┆ ---       ┆ Status    │\n",
       "│ ---        ┆ ---        ┆ str       ┆ str       ┆   ┆ ---      ┆ ---     ┆ str       ┆ ---       │\n",
       "│ i64        ┆ str        ┆           ┆           ┆   ┆ str      ┆ str     ┆           ┆ str       │\n",
       "╞════════════╪════════════╪═══════════╪═══════════╪═══╪══════════╪═════════╪═══════════╪═══════════╡\n",
       "│ 15         ┆ Skidoo     ┆ Cincinnat ┆ Ohio      ┆ … ┆ Peter    ┆ Romero  ┆ promero7@ ┆ New       │\n",
       "│            ┆            ┆ i         ┆           ┆   ┆          ┆         ┆ intel.com ┆           │\n",
       "│ 83         ┆ Cogilith   ┆ Anaheim   ┆ Californi ┆ … ┆ Diana    ┆ Castill ┆ dcastillo ┆ New       │\n",
       "│            ┆            ┆           ┆ a         ┆   ┆          ┆ o       ┆ d@youku.c ┆           │\n",
       "│            ┆            ┆           ┆           ┆   ┆          ┆         ┆ om        ┆           │\n",
       "│ 83         ┆ Cogilith   ┆ Anaheim   ┆ Californi ┆ … ┆ Nancy    ┆ Campbel ┆ ncampbell ┆ New       │\n",
       "│            ┆            ┆           ┆ a         ┆   ┆          ┆ l       ┆ i@busines ┆           │\n",
       "│            ┆            ┆           ┆           ┆   ┆          ┆         ┆ sinsider. ┆           │\n",
       "│            ┆            ┆           ┆           ┆   ┆          ┆         ┆ com       ┆           │\n",
       "│ 30         ┆ Youopia    ┆ Independe ┆ Missouri  ┆ … ┆ Donna    ┆ Evans   ┆ devanst@w ┆ New       │\n",
       "│            ┆            ┆ nce       ┆           ┆   ┆          ┆         ┆ ebmd.com  ┆           │\n",
       "│ …          ┆ …          ┆ …         ┆ …         ┆ … ┆ …        ┆ …       ┆ …         ┆ …         │\n",
       "│ 26         ┆ Aibox      ┆ Albuquerq ┆ New       ┆ … ┆ William  ┆ William ┆ wwilliams ┆ Working   │\n",
       "│            ┆            ┆ ue        ┆ Mexico    ┆   ┆          ┆ s       ┆ 1y@adobe. ┆           │\n",
       "│            ┆            ┆           ┆           ┆   ┆          ┆         ┆ com       ┆           │\n",
       "│ 6          ┆ Riffpedia  ┆ San Jose  ┆ Californi ┆ … ┆ Rachel   ┆ Schmidt ┆ rschmidt2 ┆ Working   │\n",
       "│            ┆            ┆           ┆ a         ┆   ┆          ┆         ┆ m@toplist ┆           │\n",
       "│            ┆            ┆           ┆           ┆   ┆          ┆         ┆ .cz       ┆           │\n",
       "│ 90         ┆ Lajo       ┆ Biloxi    ┆ Mississip ┆ … ┆ Shawn    ┆ Harris  ┆ sharris2o ┆ Working   │\n",
       "│            ┆            ┆           ┆ pi        ┆   ┆          ┆         ┆ @business ┆           │\n",
       "│            ┆            ┆           ┆           ┆   ┆          ┆         ┆ insider.c ┆           │\n",
       "│            ┆            ┆           ┆           ┆   ┆          ┆         ┆ om        ┆           │\n",
       "│ 56         ┆ Kwilith    ┆ Duluth    ┆ Georgia   ┆ … ┆ Joyce    ┆ Hanson  ┆ jhanson2q ┆ Working   │\n",
       "│            ┆            ┆           ┆           ┆   ┆          ┆         ┆ @dyndns.o ┆           │\n",
       "│            ┆            ┆           ┆           ┆   ┆          ┆         ┆ rg        ┆           │\n",
       "└────────────┴────────────┴───────────┴───────────┴───┴──────────┴─────────┴───────────┴───────────┘"
      ],
      "text/html": [
       "<div><style>\n",
       ".dataframe > thead > tr > th,\n",
       ".dataframe > tbody > tr > td {\n",
       "  text-align: right;\n",
       "}\n",
       "</style>\n",
       "<small>shape: (24, 17)</small><table border=\"1\" class=\"dataframe\"><thead><tr><th>CompanyEXTID</th><th>Company Name</th><th>City</th><th>State</th><th>first_name</th><th>last_name</th><th>email</th><th>country</th><th>Amount</th><th>Project Name</th><th>Oppurtunity Name</th><th>Stage</th><th>Close Date</th><th>First Name</th><th>Last Name</th><th>Email</th><th>Lead Status</th></tr><tr><td>i64</td><td>str</td><td>str</td><td>str</td><td>str</td><td>str</td><td>str</td><td>str</td><td>str</td><td>str</td><td>str</td><td>str</td><td>str</td><td>str</td><td>str</td><td>str</td><td>str</td></tr></thead><tbody><tr><td>15</td><td>&quot;Skidoo&quot;</td><td>&quot;Cincinnati&quot;</td><td>&quot;Ohio&quot;</td><td>&quot;Roy&quot;</td><td>&quot;Parker&quot;</td><td>&quot;rparkere@apach…</td><td>&quot;United States&quot;</td><td>&quot;$563,933.37 &quot;</td><td>&quot;Wheat Stem Rus…</td><td>&quot;Wheat Stem Rus…</td><td>&quot;Closed Won&quot;</td><td>&quot;4/5/15&quot;</td><td>&quot;Peter&quot;</td><td>&quot;Romero&quot;</td><td>&quot;promero7@intel…</td><td>&quot;New&quot;</td></tr><tr><td>83</td><td>&quot;Cogilith&quot;</td><td>&quot;Anaheim&quot;</td><td>&quot;California&quot;</td><td>&quot;Johnny&quot;</td><td>&quot;Payne&quot;</td><td>&quot;jpayne2a@nba.c…</td><td>&quot;United States&quot;</td><td>&quot;$364,094.29 &quot;</td><td>&quot;Anorectal&quot;</td><td>&quot;Anorectal&quot;</td><td>&quot;Introduction&quot;</td><td>&quot;6/12/15&quot;</td><td>&quot;Diana&quot;</td><td>&quot;Castillo&quot;</td><td>&quot;dcastillod@you…</td><td>&quot;New&quot;</td></tr><tr><td>83</td><td>&quot;Cogilith&quot;</td><td>&quot;Anaheim&quot;</td><td>&quot;California&quot;</td><td>&quot;Johnny&quot;</td><td>&quot;Payne&quot;</td><td>&quot;jpayne2a@nba.c…</td><td>&quot;United States&quot;</td><td>&quot;$364,094.29 &quot;</td><td>&quot;Anorectal&quot;</td><td>&quot;Anorectal&quot;</td><td>&quot;Introduction&quot;</td><td>&quot;6/12/15&quot;</td><td>&quot;Nancy&quot;</td><td>&quot;Campbell&quot;</td><td>&quot;ncampbelli@bus…</td><td>&quot;New&quot;</td></tr><tr><td>30</td><td>&quot;Youopia&quot;</td><td>&quot;Independence&quot;</td><td>&quot;Missouri&quot;</td><td>&quot;Tammy&quot;</td><td>&quot;Warren&quot;</td><td>&quot;twarrent@weebl…</td><td>&quot;United States&quot;</td><td>&quot;$472,619.56 &quot;</td><td>&quot;Sertraline Hyd…</td><td>&quot;Sertraline Hyd…</td><td>&quot;Specification&quot;</td><td>&quot;8/31/15&quot;</td><td>&quot;Donna&quot;</td><td>&quot;Evans&quot;</td><td>&quot;devanst@webmd.…</td><td>&quot;New&quot;</td></tr><tr><td>98</td><td>&quot;Talane&quot;</td><td>&quot;Chicago&quot;</td><td>&quot;Illinois&quot;</td><td>&quot;Bruce&quot;</td><td>&quot;Bowman&quot;</td><td>&quot;bbowman2p@hud.…</td><td>&quot;United States&quot;</td><td>&quot;$370,814.43 &quot;</td><td>&quot;PIROXICAM&quot;</td><td>&quot;PIROXICAM&quot;</td><td>&quot;Estimate/Quote…</td><td>&quot;5/4/15&quot;</td><td>&quot;Bonnie&quot;</td><td>&quot;Reyes&quot;</td><td>&quot;breyesx@csmoni…</td><td>&quot;New&quot;</td></tr><tr><td>34</td><td>&quot;Voomm&quot;</td><td>&quot;Topeka&quot;</td><td>&quot;Kansas&quot;</td><td>&quot;Jeffrey&quot;</td><td>&quot;Jones&quot;</td><td>&quot;jjonesx@issuu.…</td><td>&quot;United States&quot;</td><td>&quot;$65,761.89 &quot;</td><td>&quot;Abstral&quot;</td><td>&quot;Abstral&quot;</td><td>&quot;Specification&quot;</td><td>&quot;2/22/15&quot;</td><td>&quot;Benjamin&quot;</td><td>&quot;Harvey&quot;</td><td>&quot;bharveyz@slash…</td><td>&quot;New&quot;</td></tr><tr><td>61</td><td>&quot;Blogtags&quot;</td><td>&quot;Birmingham&quot;</td><td>&quot;Alabama&quot;</td><td>&quot;Rebecca&quot;</td><td>&quot;Peters&quot;</td><td>&quot;rpeters1o@diig…</td><td>&quot;United States&quot;</td><td>&quot;$583,877.02 &quot;</td><td>&quot;Irbesartan and…</td><td>&quot;Irbesartan and…</td><td>&quot;Discovery&quot;</td><td>&quot;10/10/15&quot;</td><td>&quot;Peter&quot;</td><td>&quot;Rogers&quot;</td><td>&quot;progers11@bigc…</td><td>&quot;New&quot;</td></tr><tr><td>92</td><td>&quot;Twitterwire&quot;</td><td>&quot;Oklahoma City&quot;</td><td>&quot;Oklahoma&quot;</td><td>&quot;Willie&quot;</td><td>&quot;Ramirez&quot;</td><td>&quot;wramirez2j@fre…</td><td>&quot;United States&quot;</td><td>&quot;$572,861.95 &quot;</td><td>&quot;Tussnex FM Col…</td><td>&quot;Tussnex FM Col…</td><td>&quot;Estimate/Quote…</td><td>&quot;1/22/15&quot;</td><td>&quot;Randy&quot;</td><td>&quot;Perry&quot;</td><td>&quot;rperry15@usato…</td><td>&quot;New&quot;</td></tr><tr><td>88</td><td>&quot;Tagchat&quot;</td><td>&quot;Little Rock&quot;</td><td>&quot;Arkansas&quot;</td><td>&quot;Sara&quot;</td><td>&quot;Welch&quot;</td><td>&quot;swelch2f@vinao…</td><td>&quot;United States&quot;</td><td>&quot;$182,025.06 &quot;</td><td>&quot;METOPROLOL TAR…</td><td>&quot;METOPROLOL TAR…</td><td>&quot;Estimate/Quote…</td><td>&quot;10/30/15&quot;</td><td>&quot;George&quot;</td><td>&quot;Morrison&quot;</td><td>&quot;gmorrison1a@mt…</td><td>&quot;New&quot;</td></tr><tr><td>57</td><td>&quot;Kaymbo&quot;</td><td>&quot;Richmond&quot;</td><td>&quot;Virginia&quot;</td><td>&quot;Diana&quot;</td><td>&quot;Morales&quot;</td><td>&quot;dmorales1k@fda…</td><td>&quot;United States&quot;</td><td>&quot;$480,966.42 &quot;</td><td>&quot;morphine sulfa…</td><td>&quot;morphine sulfa…</td><td>&quot;Discovery&quot;</td><td>&quot;7/31/15&quot;</td><td>&quot;Joseph&quot;</td><td>&quot;Morgan&quot;</td><td>&quot;jmorgan1f@indi…</td><td>&quot;Working&quot;</td></tr><tr><td>27</td><td>&quot;Livepath&quot;</td><td>&quot;Richmond&quot;</td><td>&quot;Virginia&quot;</td><td>&quot;Timothy&quot;</td><td>&quot;Ellis&quot;</td><td>&quot;tellisq@washin…</td><td>&quot;United States&quot;</td><td>&quot;$610,079.51 &quot;</td><td>&quot;Quetiapine Fum…</td><td>&quot;Quetiapine Fum…</td><td>&quot;Finalize/Negot…</td><td>&quot;3/4/15&quot;</td><td>&quot;Diana&quot;</td><td>&quot;Rodriguez&quot;</td><td>&quot;drodriguez1i@g…</td><td>&quot;Working&quot;</td></tr><tr><td>4</td><td>&quot;Gigaclub&quot;</td><td>&quot;Anchorage&quot;</td><td>&quot;Alaska&quot;</td><td>&quot;George&quot;</td><td>&quot;Morris&quot;</td><td>&quot;gmorris3@syman…</td><td>&quot;United States&quot;</td><td>&quot;$250,374.17 &quot;</td><td>&quot;Good Neighbor …</td><td>&quot;Good Neighbor …</td><td>&quot;Closed Lost&quot;</td><td>&quot;1/31/15&quot;</td><td>&quot;Roy&quot;</td><td>&quot;Ruiz&quot;</td><td>&quot;rruiz1m@behanc…</td><td>&quot;Working&quot;</td></tr><tr><td>85</td><td>&quot;Ntag&quot;</td><td>&quot;Mobile&quot;</td><td>&quot;Alabama&quot;</td><td>&quot;Marie&quot;</td><td>&quot;Cooper&quot;</td><td>&quot;mcooper2c@yaho…</td><td>&quot;United States&quot;</td><td>&quot;$430,949.87 &quot;</td><td>&quot;Velvet Grass&quot;</td><td>&quot;Velvet Grass&quot;</td><td>&quot;Estimate/Quote…</td><td>&quot;2/17/15&quot;</td><td>&quot;Heather&quot;</td><td>&quot;Wilson&quot;</td><td>&quot;hwilson1n@ezin…</td><td>&quot;Working&quot;</td></tr><tr><td>86</td><td>&quot;Ntag&quot;</td><td>&quot;Seattle&quot;</td><td>&quot;Washington&quot;</td><td>&quot;Adam&quot;</td><td>&quot;Long&quot;</td><td>&quot;along2d@econom…</td><td>&quot;United States&quot;</td><td>&quot;$652,018.44 &quot;</td><td>&quot;G-TUSICOF&quot;</td><td>&quot;G-TUSICOF&quot;</td><td>&quot;Estimate/Quote…</td><td>&quot;9/13/15&quot;</td><td>&quot;Heather&quot;</td><td>&quot;Wilson&quot;</td><td>&quot;hwilson1n@ezin…</td><td>&quot;Working&quot;</td></tr><tr><td>63</td><td>&quot;Photobug&quot;</td><td>&quot;Birmingham&quot;</td><td>&quot;Alabama&quot;</td><td>&quot;Ruby&quot;</td><td>&quot;Alexander&quot;</td><td>&quot;ralexander1q@t…</td><td>&quot;United States&quot;</td><td>&quot;$616,593.06 &quot;</td><td>&quot;Nerve Z&quot;</td><td>&quot;Nerve Z&quot;</td><td>&quot;Discovery&quot;</td><td>&quot;8/14/15&quot;</td><td>&quot;Susan&quot;</td><td>&quot;Burton&quot;</td><td>&quot;sburton1o@netl…</td><td>&quot;Working&quot;</td></tr><tr><td>41</td><td>&quot;BlogXS&quot;</td><td>&quot;Woburn&quot;</td><td>&quot;Massachusetts&quot;</td><td>&quot;Bruce&quot;</td><td>&quot;Cole&quot;</td><td>&quot;bcole14@mysql.…</td><td>&quot;United States&quot;</td><td>&quot;$378,923.73 &quot;</td><td>&quot;Acyclovir&quot;</td><td>&quot;Acyclovir&quot;</td><td>&quot;Specification&quot;</td><td>&quot;9/5/15&quot;</td><td>&quot;Alice&quot;</td><td>&quot;Gardner&quot;</td><td>&quot;agardner1r@fee…</td><td>&quot;Working&quot;</td></tr><tr><td>80</td><td>&quot;BlogXS&quot;</td><td>&quot;Philadelphia&quot;</td><td>&quot;Pennsylvania&quot;</td><td>&quot;Earl&quot;</td><td>&quot;Garza&quot;</td><td>&quot;egarza27@ucsd.…</td><td>&quot;United States&quot;</td><td>&quot;$416,819.11 &quot;</td><td>&quot;NARS PURE RADI…</td><td>&quot;NARS PURE RADI…</td><td>&quot;Introduction&quot;</td><td>&quot;1/7/15&quot;</td><td>&quot;Alice&quot;</td><td>&quot;Gardner&quot;</td><td>&quot;agardner1r@fee…</td><td>&quot;Working&quot;</td></tr><tr><td>8</td><td>&quot;LiveZ&quot;</td><td>&quot;Athens&quot;</td><td>&quot;Georgia&quot;</td><td>&quot;Jerry&quot;</td><td>&quot;Ray&quot;</td><td>&quot;jray7@comcast.…</td><td>&quot;United States&quot;</td><td>&quot;$745,072.27 &quot;</td><td>&quot;cold and sinus…</td><td>&quot;cold and sinus…</td><td>&quot;Closed Won&quot;</td><td>&quot;8/1/15&quot;</td><td>&quot;Lois&quot;</td><td>&quot;Bailey&quot;</td><td>&quot;lbailey1t@twit…</td><td>&quot;Working&quot;</td></tr><tr><td>63</td><td>&quot;Photobug&quot;</td><td>&quot;Birmingham&quot;</td><td>&quot;Alabama&quot;</td><td>&quot;Ruby&quot;</td><td>&quot;Alexander&quot;</td><td>&quot;ralexander1q@t…</td><td>&quot;United States&quot;</td><td>&quot;$616,593.06 &quot;</td><td>&quot;Nerve Z&quot;</td><td>&quot;Nerve Z&quot;</td><td>&quot;Discovery&quot;</td><td>&quot;8/14/15&quot;</td><td>&quot;Donna&quot;</td><td>&quot;Payne&quot;</td><td>&quot;dpayne1x@delic…</td><td>&quot;Working&quot;</td></tr><tr><td>10</td><td>&quot;Aibox&quot;</td><td>&quot;Joliet&quot;</td><td>&quot;Illinois&quot;</td><td>&quot;Kimberly&quot;</td><td>&quot;Rogers&quot;</td><td>&quot;krogers9@un.or…</td><td>&quot;United States&quot;</td><td>&quot;$469,643.44 &quot;</td><td>&quot;DEMEROL&quot;</td><td>&quot;DEMEROL&quot;</td><td>&quot;Closed Won&quot;</td><td>&quot;4/8/15&quot;</td><td>&quot;William&quot;</td><td>&quot;Williams&quot;</td><td>&quot;wwilliams1y@ad…</td><td>&quot;Working&quot;</td></tr><tr><td>26</td><td>&quot;Aibox&quot;</td><td>&quot;Albuquerque&quot;</td><td>&quot;New Mexico&quot;</td><td>&quot;Anna&quot;</td><td>&quot;Johnson&quot;</td><td>&quot;ajohnsonp@prin…</td><td>&quot;United States&quot;</td><td>&quot;$178,326.86 &quot;</td><td>&quot;RELNATE DHA&quot;</td><td>&quot;RELNATE DHA&quot;</td><td>&quot;Finalize/Negot…</td><td>&quot;5/30/15&quot;</td><td>&quot;William&quot;</td><td>&quot;Williams&quot;</td><td>&quot;wwilliams1y@ad…</td><td>&quot;Working&quot;</td></tr><tr><td>6</td><td>&quot;Riffpedia&quot;</td><td>&quot;San Jose&quot;</td><td>&quot;California&quot;</td><td>&quot;Martha&quot;</td><td>&quot;Ray&quot;</td><td>&quot;mray5@archive.…</td><td>&quot;United States&quot;</td><td>&quot;$952,044.35 &quot;</td><td>&quot;Salt Cedar&quot;</td><td>&quot;Salt Cedar&quot;</td><td>&quot;Closed Lost&quot;</td><td>&quot;9/22/15&quot;</td><td>&quot;Rachel&quot;</td><td>&quot;Schmidt&quot;</td><td>&quot;rschmidt2m@top…</td><td>&quot;Working&quot;</td></tr><tr><td>90</td><td>&quot;Lajo&quot;</td><td>&quot;Biloxi&quot;</td><td>&quot;Mississippi&quot;</td><td>&quot;Jack&quot;</td><td>&quot;Reynolds&quot;</td><td>&quot;jreynolds2h@na…</td><td>&quot;United States&quot;</td><td>&quot;$639,188.70 &quot;</td><td>&quot;good sense itc…</td><td>&quot;good sense itc…</td><td>&quot;Estimate/Quote…</td><td>&quot;1/4/15&quot;</td><td>&quot;Shawn&quot;</td><td>&quot;Harris&quot;</td><td>&quot;sharris2o@busi…</td><td>&quot;Working&quot;</td></tr><tr><td>56</td><td>&quot;Kwilith&quot;</td><td>&quot;Duluth&quot;</td><td>&quot;Georgia&quot;</td><td>&quot;Juan&quot;</td><td>&quot;Perez&quot;</td><td>&quot;jperez1j@myspa…</td><td>&quot;United States&quot;</td><td>&quot;$16,411.38 &quot;</td><td>&quot;Sodium Bicarbo…</td><td>&quot;Sodium Bicarbo…</td><td>&quot;Discovery&quot;</td><td>&quot;3/8/15&quot;</td><td>&quot;Joyce&quot;</td><td>&quot;Hanson&quot;</td><td>&quot;jhanson2q@dynd…</td><td>&quot;Working&quot;</td></tr></tbody></table></div>"
      ]
     },
     "execution_count": 53,
     "metadata": {},
     "output_type": "execute_result"
    }
   ],
   "execution_count": 53
  },
  {
   "metadata": {
    "ExecuteTime": {
     "end_time": "2024-09-02T09:15:25.165839Z",
     "start_time": "2024-09-02T09:15:25.162069Z"
    }
   },
   "cell_type": "code",
   "source": "account_contact_opportunity_lead_df.describe()",
   "outputs": [
    {
     "data": {
      "text/plain": [
       "shape: (9, 18)\n",
       "┌───────────┬────────────┬────────────┬───────────┬───┬──────────┬─────────┬───────────┬───────────┐\n",
       "│ describe  ┆ CompanyEXT ┆ Company    ┆ City      ┆ … ┆ First    ┆ Last    ┆ Email     ┆ Lead      │\n",
       "│ ---       ┆ ID         ┆ Name       ┆ ---       ┆   ┆ Name     ┆ Name    ┆ ---       ┆ Status    │\n",
       "│ str       ┆ ---        ┆ ---        ┆ str       ┆   ┆ ---      ┆ ---     ┆ str       ┆ ---       │\n",
       "│           ┆ f64        ┆ str        ┆           ┆   ┆ str      ┆ str     ┆           ┆ str       │\n",
       "╞═══════════╪════════════╪════════════╪═══════════╪═══╪══════════╪═════════╪═══════════╪═══════════╡\n",
       "│ count     ┆ 24.0       ┆ 24         ┆ 24        ┆ … ┆ 24       ┆ 24      ┆ 24        ┆ 24        │\n",
       "│ null_coun ┆ 0.0        ┆ 0          ┆ 0         ┆ … ┆ 0        ┆ 0       ┆ 0         ┆ 0         │\n",
       "│ t         ┆            ┆            ┆           ┆   ┆          ┆         ┆           ┆           │\n",
       "│ mean      ┆ 53.583333  ┆ null       ┆ null      ┆ … ┆ null     ┆ null    ┆ null      ┆ null      │\n",
       "│ std       ┆ 31.916898  ┆ null       ┆ null      ┆ … ┆ null     ┆ null    ┆ null      ┆ null      │\n",
       "│ min       ┆ 4.0        ┆ Aibox      ┆ Albuquerq ┆ … ┆ Alice    ┆ Bailey  ┆ agardner1 ┆ New       │\n",
       "│           ┆            ┆            ┆ ue        ┆   ┆          ┆         ┆ r@feedbur ┆           │\n",
       "│           ┆            ┆            ┆           ┆   ┆          ┆         ┆ ner.com   ┆           │\n",
       "│ max       ┆ 98.0       ┆ Youopia    ┆ Woburn    ┆ … ┆ William  ┆ Wilson  ┆ wwilliams ┆ Working   │\n",
       "│           ┆            ┆            ┆           ┆   ┆          ┆         ┆ 1y@adobe. ┆           │\n",
       "│           ┆            ┆            ┆           ┆   ┆          ┆         ┆ com       ┆           │\n",
       "│ median    ┆ 59.0       ┆ null       ┆ null      ┆ … ┆ null     ┆ null    ┆ null      ┆ null      │\n",
       "│ 25%       ┆ 27.0       ┆ null       ┆ null      ┆ … ┆ null     ┆ null    ┆ null      ┆ null      │\n",
       "│ 75%       ┆ 85.0       ┆ null       ┆ null      ┆ … ┆ null     ┆ null    ┆ null      ┆ null      │\n",
       "└───────────┴────────────┴────────────┴───────────┴───┴──────────┴─────────┴───────────┴───────────┘"
      ],
      "text/html": [
       "<div><style>\n",
       ".dataframe > thead > tr > th,\n",
       ".dataframe > tbody > tr > td {\n",
       "  text-align: right;\n",
       "}\n",
       "</style>\n",
       "<small>shape: (9, 18)</small><table border=\"1\" class=\"dataframe\"><thead><tr><th>describe</th><th>CompanyEXTID</th><th>Company Name</th><th>City</th><th>State</th><th>first_name</th><th>last_name</th><th>email</th><th>country</th><th>Amount</th><th>Project Name</th><th>Oppurtunity Name</th><th>Stage</th><th>Close Date</th><th>First Name</th><th>Last Name</th><th>Email</th><th>Lead Status</th></tr><tr><td>str</td><td>f64</td><td>str</td><td>str</td><td>str</td><td>str</td><td>str</td><td>str</td><td>str</td><td>str</td><td>str</td><td>str</td><td>str</td><td>str</td><td>str</td><td>str</td><td>str</td><td>str</td></tr></thead><tbody><tr><td>&quot;count&quot;</td><td>24.0</td><td>&quot;24&quot;</td><td>&quot;24&quot;</td><td>&quot;24&quot;</td><td>&quot;24&quot;</td><td>&quot;24&quot;</td><td>&quot;24&quot;</td><td>&quot;24&quot;</td><td>&quot;24&quot;</td><td>&quot;24&quot;</td><td>&quot;24&quot;</td><td>&quot;24&quot;</td><td>&quot;24&quot;</td><td>&quot;24&quot;</td><td>&quot;24&quot;</td><td>&quot;24&quot;</td><td>&quot;24&quot;</td></tr><tr><td>&quot;null_count&quot;</td><td>0.0</td><td>&quot;0&quot;</td><td>&quot;0&quot;</td><td>&quot;0&quot;</td><td>&quot;0&quot;</td><td>&quot;0&quot;</td><td>&quot;0&quot;</td><td>&quot;0&quot;</td><td>&quot;0&quot;</td><td>&quot;0&quot;</td><td>&quot;0&quot;</td><td>&quot;0&quot;</td><td>&quot;0&quot;</td><td>&quot;0&quot;</td><td>&quot;0&quot;</td><td>&quot;0&quot;</td><td>&quot;0&quot;</td></tr><tr><td>&quot;mean&quot;</td><td>53.583333</td><td>null</td><td>null</td><td>null</td><td>null</td><td>null</td><td>null</td><td>null</td><td>null</td><td>null</td><td>null</td><td>null</td><td>null</td><td>null</td><td>null</td><td>null</td><td>null</td></tr><tr><td>&quot;std&quot;</td><td>31.916898</td><td>null</td><td>null</td><td>null</td><td>null</td><td>null</td><td>null</td><td>null</td><td>null</td><td>null</td><td>null</td><td>null</td><td>null</td><td>null</td><td>null</td><td>null</td><td>null</td></tr><tr><td>&quot;min&quot;</td><td>4.0</td><td>&quot;Aibox&quot;</td><td>&quot;Albuquerque&quot;</td><td>&quot;Alabama&quot;</td><td>&quot;Adam&quot;</td><td>&quot;Alexander&quot;</td><td>&quot;ajohnsonp@prin…</td><td>&quot;United States&quot;</td><td>&quot;$16,411.38 &quot;</td><td>&quot;Abstral&quot;</td><td>&quot;Abstral&quot;</td><td>&quot;Closed Lost&quot;</td><td>&quot;1/22/15&quot;</td><td>&quot;Alice&quot;</td><td>&quot;Bailey&quot;</td><td>&quot;agardner1r@fee…</td><td>&quot;New&quot;</td></tr><tr><td>&quot;max&quot;</td><td>98.0</td><td>&quot;Youopia&quot;</td><td>&quot;Woburn&quot;</td><td>&quot;Washington&quot;</td><td>&quot;Willie&quot;</td><td>&quot;Welch&quot;</td><td>&quot;wramirez2j@fre…</td><td>&quot;United States&quot;</td><td>&quot;$952,044.35 &quot;</td><td>&quot;morphine sulfa…</td><td>&quot;morphine sulfa…</td><td>&quot;Specification&quot;</td><td>&quot;9/5/15&quot;</td><td>&quot;William&quot;</td><td>&quot;Wilson&quot;</td><td>&quot;wwilliams1y@ad…</td><td>&quot;Working&quot;</td></tr><tr><td>&quot;median&quot;</td><td>59.0</td><td>null</td><td>null</td><td>null</td><td>null</td><td>null</td><td>null</td><td>null</td><td>null</td><td>null</td><td>null</td><td>null</td><td>null</td><td>null</td><td>null</td><td>null</td><td>null</td></tr><tr><td>&quot;25%&quot;</td><td>27.0</td><td>null</td><td>null</td><td>null</td><td>null</td><td>null</td><td>null</td><td>null</td><td>null</td><td>null</td><td>null</td><td>null</td><td>null</td><td>null</td><td>null</td><td>null</td><td>null</td></tr><tr><td>&quot;75%&quot;</td><td>85.0</td><td>null</td><td>null</td><td>null</td><td>null</td><td>null</td><td>null</td><td>null</td><td>null</td><td>null</td><td>null</td><td>null</td><td>null</td><td>null</td><td>null</td><td>null</td><td>null</td></tr></tbody></table></div>"
      ]
     },
     "execution_count": 54,
     "metadata": {},
     "output_type": "execute_result"
    }
   ],
   "execution_count": 54
  },
  {
   "metadata": {},
   "cell_type": "code",
   "outputs": [],
   "execution_count": null,
   "source": ""
  }
 ],
 "metadata": {
  "kernelspec": {
   "display_name": "Python 3 (ipykernel)",
   "language": "python",
   "name": "python3"
  },
  "language_info": {
   "codemirror_mode": {
    "name": "ipython",
    "version": 3
   },
   "file_extension": ".py",
   "mimetype": "text/x-python",
   "name": "python",
   "nbconvert_exporter": "python",
   "pygments_lexer": "ipython3",
   "version": "3.11.4"
  }
 },
 "nbformat": 4,
 "nbformat_minor": 1
}
